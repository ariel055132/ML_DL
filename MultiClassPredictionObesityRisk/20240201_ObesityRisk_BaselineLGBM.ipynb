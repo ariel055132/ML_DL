{
 "cells": [
  {
   "cell_type": "markdown",
   "id": "74d3a8a1",
   "metadata": {},
   "source": [
    "# LightGBM Baseline and fine-tuned model"
   ]
  },
  {
   "cell_type": "code",
   "execution_count": null,
   "id": "initial_id",
   "metadata": {
    "ExecuteTime": {
     "end_time": "2024-02-01T23:47:42.968901Z",
     "start_time": "2024-02-01T23:47:42.787220Z"
    },
    "collapsed": true
   },
   "outputs": [],
   "source": [
    "import pandas as pd\n",
    "import numpy as np\n",
    "import seaborn as sns\n",
    "import matplotlib.pyplot as plt\n",
    "%matplotlib inline\n",
    "\n",
    "from sklearn.preprocessing import LabelEncoder\n",
    "from sklearn.model_selection import train_test_split\n",
    "from lightgbm import LGBMClassifier\n",
    "from sklearn.metrics import accuracy_score"
   ]
  },
  {
   "cell_type": "code",
   "execution_count": 2,
   "id": "26d945095cd25555",
   "metadata": {
    "ExecuteTime": {
     "end_time": "2024-02-01T23:47:43.019263Z",
     "start_time": "2024-02-01T23:47:42.969406Z"
    },
    "collapsed": false
   },
   "outputs": [
    {
     "data": {
      "text/plain": [
       "((20758, 18), (13840, 17))"
      ]
     },
     "execution_count": 2,
     "metadata": {},
     "output_type": "execute_result"
    }
   ],
   "source": [
    "train_df = pd.read_csv(r\"Dataset/MultiClassPredictionObesityRisk/train.csv\")\n",
    "test_df = pd.read_csv(r\"Dataset/MultiClassPredictionObesityRisk/test.csv\")\n",
    "sample_submission_df = pd.read_csv(r\"Dataset/MultiClassPredictionObesityRisk/sample_submission.csv\")\n",
    "train_df.shape, test_df.shape"
   ]
  },
  {
   "cell_type": "code",
   "execution_count": 3,
   "id": "5b4ca5e54b3637cc",
   "metadata": {
    "ExecuteTime": {
     "end_time": "2024-02-01T23:47:43.025918Z",
     "start_time": "2024-02-01T23:47:43.023401Z"
    },
    "collapsed": false
   },
   "outputs": [],
   "source": [
    "X = train_df.drop(['id', 'NObeyesdad'], axis=1)\n",
    "y = train_df['NObeyesdad']"
   ]
  },
  {
   "cell_type": "code",
   "execution_count": 4,
   "id": "27609d453ff41095",
   "metadata": {
    "ExecuteTime": {
     "end_time": "2024-02-01T23:47:43.056947Z",
     "start_time": "2024-02-01T23:47:43.029441Z"
    },
    "collapsed": false
   },
   "outputs": [
    {
     "data": {
      "text/html": [
       "<div>\n",
       "<style scoped>\n",
       "    .dataframe tbody tr th:only-of-type {\n",
       "        vertical-align: middle;\n",
       "    }\n",
       "\n",
       "    .dataframe tbody tr th {\n",
       "        vertical-align: top;\n",
       "    }\n",
       "\n",
       "    .dataframe thead th {\n",
       "        text-align: right;\n",
       "    }\n",
       "</style>\n",
       "<table border=\"1\" class=\"dataframe\">\n",
       "  <thead>\n",
       "    <tr style=\"text-align: right;\">\n",
       "      <th></th>\n",
       "      <th>Age</th>\n",
       "      <th>Height</th>\n",
       "      <th>Weight</th>\n",
       "      <th>FCVC</th>\n",
       "      <th>NCP</th>\n",
       "      <th>CH2O</th>\n",
       "      <th>FAF</th>\n",
       "      <th>TUE</th>\n",
       "      <th>CALC</th>\n",
       "      <th>MTRANS_Automobile</th>\n",
       "      <th>...</th>\n",
       "      <th>CAEC_Always</th>\n",
       "      <th>CAEC_Frequently</th>\n",
       "      <th>CAEC_Sometimes</th>\n",
       "      <th>CAEC_no</th>\n",
       "      <th>FAVC_no</th>\n",
       "      <th>FAVC_yes</th>\n",
       "      <th>family_history_with_overweight_no</th>\n",
       "      <th>family_history_with_overweight_yes</th>\n",
       "      <th>Gender_Female</th>\n",
       "      <th>Gender_Male</th>\n",
       "    </tr>\n",
       "  </thead>\n",
       "  <tbody>\n",
       "    <tr>\n",
       "      <th>0</th>\n",
       "      <td>24.443011</td>\n",
       "      <td>1.699998</td>\n",
       "      <td>81.669950</td>\n",
       "      <td>2.000000</td>\n",
       "      <td>2.983297</td>\n",
       "      <td>2.763573</td>\n",
       "      <td>0.000000</td>\n",
       "      <td>0.976473</td>\n",
       "      <td>Sometimes</td>\n",
       "      <td>False</td>\n",
       "      <td>...</td>\n",
       "      <td>False</td>\n",
       "      <td>False</td>\n",
       "      <td>True</td>\n",
       "      <td>False</td>\n",
       "      <td>False</td>\n",
       "      <td>True</td>\n",
       "      <td>False</td>\n",
       "      <td>True</td>\n",
       "      <td>False</td>\n",
       "      <td>True</td>\n",
       "    </tr>\n",
       "    <tr>\n",
       "      <th>1</th>\n",
       "      <td>18.000000</td>\n",
       "      <td>1.560000</td>\n",
       "      <td>57.000000</td>\n",
       "      <td>2.000000</td>\n",
       "      <td>3.000000</td>\n",
       "      <td>2.000000</td>\n",
       "      <td>1.000000</td>\n",
       "      <td>1.000000</td>\n",
       "      <td>no</td>\n",
       "      <td>True</td>\n",
       "      <td>...</td>\n",
       "      <td>False</td>\n",
       "      <td>True</td>\n",
       "      <td>False</td>\n",
       "      <td>False</td>\n",
       "      <td>False</td>\n",
       "      <td>True</td>\n",
       "      <td>False</td>\n",
       "      <td>True</td>\n",
       "      <td>True</td>\n",
       "      <td>False</td>\n",
       "    </tr>\n",
       "    <tr>\n",
       "      <th>2</th>\n",
       "      <td>18.000000</td>\n",
       "      <td>1.711460</td>\n",
       "      <td>50.165754</td>\n",
       "      <td>1.880534</td>\n",
       "      <td>1.411685</td>\n",
       "      <td>1.910378</td>\n",
       "      <td>0.866045</td>\n",
       "      <td>1.673584</td>\n",
       "      <td>no</td>\n",
       "      <td>False</td>\n",
       "      <td>...</td>\n",
       "      <td>False</td>\n",
       "      <td>False</td>\n",
       "      <td>True</td>\n",
       "      <td>False</td>\n",
       "      <td>False</td>\n",
       "      <td>True</td>\n",
       "      <td>False</td>\n",
       "      <td>True</td>\n",
       "      <td>True</td>\n",
       "      <td>False</td>\n",
       "    </tr>\n",
       "    <tr>\n",
       "      <th>3</th>\n",
       "      <td>20.952737</td>\n",
       "      <td>1.710730</td>\n",
       "      <td>131.274851</td>\n",
       "      <td>3.000000</td>\n",
       "      <td>3.000000</td>\n",
       "      <td>1.674061</td>\n",
       "      <td>1.467863</td>\n",
       "      <td>0.780199</td>\n",
       "      <td>Sometimes</td>\n",
       "      <td>False</td>\n",
       "      <td>...</td>\n",
       "      <td>False</td>\n",
       "      <td>False</td>\n",
       "      <td>True</td>\n",
       "      <td>False</td>\n",
       "      <td>False</td>\n",
       "      <td>True</td>\n",
       "      <td>False</td>\n",
       "      <td>True</td>\n",
       "      <td>True</td>\n",
       "      <td>False</td>\n",
       "    </tr>\n",
       "    <tr>\n",
       "      <th>4</th>\n",
       "      <td>31.641081</td>\n",
       "      <td>1.914186</td>\n",
       "      <td>93.798055</td>\n",
       "      <td>2.679664</td>\n",
       "      <td>1.971472</td>\n",
       "      <td>1.979848</td>\n",
       "      <td>1.967973</td>\n",
       "      <td>0.931721</td>\n",
       "      <td>Sometimes</td>\n",
       "      <td>False</td>\n",
       "      <td>...</td>\n",
       "      <td>False</td>\n",
       "      <td>False</td>\n",
       "      <td>True</td>\n",
       "      <td>False</td>\n",
       "      <td>False</td>\n",
       "      <td>True</td>\n",
       "      <td>False</td>\n",
       "      <td>True</td>\n",
       "      <td>False</td>\n",
       "      <td>True</td>\n",
       "    </tr>\n",
       "  </tbody>\n",
       "</table>\n",
       "<p>5 rows × 28 columns</p>\n",
       "</div>"
      ],
      "text/plain": [
       "         Age    Height      Weight      FCVC       NCP      CH2O       FAF  \\\n",
       "0  24.443011  1.699998   81.669950  2.000000  2.983297  2.763573  0.000000   \n",
       "1  18.000000  1.560000   57.000000  2.000000  3.000000  2.000000  1.000000   \n",
       "2  18.000000  1.711460   50.165754  1.880534  1.411685  1.910378  0.866045   \n",
       "3  20.952737  1.710730  131.274851  3.000000  3.000000  1.674061  1.467863   \n",
       "4  31.641081  1.914186   93.798055  2.679664  1.971472  1.979848  1.967973   \n",
       "\n",
       "        TUE       CALC  MTRANS_Automobile  ...  CAEC_Always  CAEC_Frequently  \\\n",
       "0  0.976473  Sometimes              False  ...        False            False   \n",
       "1  1.000000         no               True  ...        False             True   \n",
       "2  1.673584         no              False  ...        False            False   \n",
       "3  0.780199  Sometimes              False  ...        False            False   \n",
       "4  0.931721  Sometimes              False  ...        False            False   \n",
       "\n",
       "   CAEC_Sometimes  CAEC_no  FAVC_no  FAVC_yes  \\\n",
       "0            True    False    False      True   \n",
       "1           False    False    False      True   \n",
       "2            True    False    False      True   \n",
       "3            True    False    False      True   \n",
       "4            True    False    False      True   \n",
       "\n",
       "   family_history_with_overweight_no  family_history_with_overweight_yes  \\\n",
       "0                              False                                True   \n",
       "1                              False                                True   \n",
       "2                              False                                True   \n",
       "3                              False                                True   \n",
       "4                              False                                True   \n",
       "\n",
       "   Gender_Female  Gender_Male  \n",
       "0          False         True  \n",
       "1           True        False  \n",
       "2           True        False  \n",
       "3           True        False  \n",
       "4          False         True  \n",
       "\n",
       "[5 rows x 28 columns]"
      ]
     },
     "execution_count": 4,
     "metadata": {},
     "output_type": "execute_result"
    }
   ],
   "source": [
    "# one-hot encoding for categorical features\n",
    "X_encoded = pd.get_dummies(X, columns=['MTRANS',\n",
    "                                       'SCC',\n",
    "                                       'SMOKE',\n",
    "                                       'CAEC',\n",
    "                                       'FAVC',\n",
    "                                       'family_history_with_overweight',\n",
    "                                       'Gender'])\n",
    "\n",
    "X_encoded.head()"
   ]
  },
  {
   "cell_type": "code",
   "execution_count": 5,
   "id": "9060178d7a4fd450",
   "metadata": {
    "ExecuteTime": {
     "end_time": "2024-02-01T23:47:43.074393Z",
     "start_time": "2024-02-01T23:47:43.054530Z"
    },
    "collapsed": false
   },
   "outputs": [
    {
     "data": {
      "text/html": [
       "<div>\n",
       "<style scoped>\n",
       "    .dataframe tbody tr th:only-of-type {\n",
       "        vertical-align: middle;\n",
       "    }\n",
       "\n",
       "    .dataframe tbody tr th {\n",
       "        vertical-align: top;\n",
       "    }\n",
       "\n",
       "    .dataframe thead th {\n",
       "        text-align: right;\n",
       "    }\n",
       "</style>\n",
       "<table border=\"1\" class=\"dataframe\">\n",
       "  <thead>\n",
       "    <tr style=\"text-align: right;\">\n",
       "      <th></th>\n",
       "      <th>Age</th>\n",
       "      <th>Height</th>\n",
       "      <th>Weight</th>\n",
       "      <th>FCVC</th>\n",
       "      <th>NCP</th>\n",
       "      <th>CH2O</th>\n",
       "      <th>FAF</th>\n",
       "      <th>TUE</th>\n",
       "      <th>CALC</th>\n",
       "      <th>MTRANS_Automobile</th>\n",
       "      <th>...</th>\n",
       "      <th>CAEC_Always</th>\n",
       "      <th>CAEC_Frequently</th>\n",
       "      <th>CAEC_Sometimes</th>\n",
       "      <th>CAEC_no</th>\n",
       "      <th>FAVC_no</th>\n",
       "      <th>FAVC_yes</th>\n",
       "      <th>family_history_with_overweight_no</th>\n",
       "      <th>family_history_with_overweight_yes</th>\n",
       "      <th>Gender_Female</th>\n",
       "      <th>Gender_Male</th>\n",
       "    </tr>\n",
       "  </thead>\n",
       "  <tbody>\n",
       "    <tr>\n",
       "      <th>0</th>\n",
       "      <td>26.899886</td>\n",
       "      <td>1.848294</td>\n",
       "      <td>120.644178</td>\n",
       "      <td>2.938616</td>\n",
       "      <td>3.000000</td>\n",
       "      <td>2.825629</td>\n",
       "      <td>0.855400</td>\n",
       "      <td>0.000000</td>\n",
       "      <td>Sometimes</td>\n",
       "      <td>False</td>\n",
       "      <td>...</td>\n",
       "      <td>False</td>\n",
       "      <td>False</td>\n",
       "      <td>True</td>\n",
       "      <td>False</td>\n",
       "      <td>False</td>\n",
       "      <td>True</td>\n",
       "      <td>False</td>\n",
       "      <td>True</td>\n",
       "      <td>False</td>\n",
       "      <td>True</td>\n",
       "    </tr>\n",
       "    <tr>\n",
       "      <th>1</th>\n",
       "      <td>21.000000</td>\n",
       "      <td>1.600000</td>\n",
       "      <td>66.000000</td>\n",
       "      <td>2.000000</td>\n",
       "      <td>1.000000</td>\n",
       "      <td>3.000000</td>\n",
       "      <td>1.000000</td>\n",
       "      <td>0.000000</td>\n",
       "      <td>Sometimes</td>\n",
       "      <td>False</td>\n",
       "      <td>...</td>\n",
       "      <td>False</td>\n",
       "      <td>False</td>\n",
       "      <td>True</td>\n",
       "      <td>False</td>\n",
       "      <td>False</td>\n",
       "      <td>True</td>\n",
       "      <td>False</td>\n",
       "      <td>True</td>\n",
       "      <td>True</td>\n",
       "      <td>False</td>\n",
       "    </tr>\n",
       "    <tr>\n",
       "      <th>2</th>\n",
       "      <td>26.000000</td>\n",
       "      <td>1.643355</td>\n",
       "      <td>111.600553</td>\n",
       "      <td>3.000000</td>\n",
       "      <td>3.000000</td>\n",
       "      <td>2.621877</td>\n",
       "      <td>0.000000</td>\n",
       "      <td>0.250502</td>\n",
       "      <td>Sometimes</td>\n",
       "      <td>False</td>\n",
       "      <td>...</td>\n",
       "      <td>False</td>\n",
       "      <td>False</td>\n",
       "      <td>True</td>\n",
       "      <td>False</td>\n",
       "      <td>False</td>\n",
       "      <td>True</td>\n",
       "      <td>False</td>\n",
       "      <td>True</td>\n",
       "      <td>True</td>\n",
       "      <td>False</td>\n",
       "    </tr>\n",
       "    <tr>\n",
       "      <th>3</th>\n",
       "      <td>20.979254</td>\n",
       "      <td>1.553127</td>\n",
       "      <td>103.669116</td>\n",
       "      <td>2.000000</td>\n",
       "      <td>2.977909</td>\n",
       "      <td>2.786417</td>\n",
       "      <td>0.094851</td>\n",
       "      <td>0.000000</td>\n",
       "      <td>Sometimes</td>\n",
       "      <td>False</td>\n",
       "      <td>...</td>\n",
       "      <td>False</td>\n",
       "      <td>False</td>\n",
       "      <td>True</td>\n",
       "      <td>False</td>\n",
       "      <td>False</td>\n",
       "      <td>True</td>\n",
       "      <td>False</td>\n",
       "      <td>True</td>\n",
       "      <td>False</td>\n",
       "      <td>True</td>\n",
       "    </tr>\n",
       "    <tr>\n",
       "      <th>4</th>\n",
       "      <td>26.000000</td>\n",
       "      <td>1.627396</td>\n",
       "      <td>104.835346</td>\n",
       "      <td>3.000000</td>\n",
       "      <td>3.000000</td>\n",
       "      <td>2.653531</td>\n",
       "      <td>0.000000</td>\n",
       "      <td>0.741069</td>\n",
       "      <td>Sometimes</td>\n",
       "      <td>False</td>\n",
       "      <td>...</td>\n",
       "      <td>False</td>\n",
       "      <td>False</td>\n",
       "      <td>True</td>\n",
       "      <td>False</td>\n",
       "      <td>False</td>\n",
       "      <td>True</td>\n",
       "      <td>False</td>\n",
       "      <td>True</td>\n",
       "      <td>True</td>\n",
       "      <td>False</td>\n",
       "    </tr>\n",
       "  </tbody>\n",
       "</table>\n",
       "<p>5 rows × 28 columns</p>\n",
       "</div>"
      ],
      "text/plain": [
       "         Age    Height      Weight      FCVC       NCP      CH2O       FAF  \\\n",
       "0  26.899886  1.848294  120.644178  2.938616  3.000000  2.825629  0.855400   \n",
       "1  21.000000  1.600000   66.000000  2.000000  1.000000  3.000000  1.000000   \n",
       "2  26.000000  1.643355  111.600553  3.000000  3.000000  2.621877  0.000000   \n",
       "3  20.979254  1.553127  103.669116  2.000000  2.977909  2.786417  0.094851   \n",
       "4  26.000000  1.627396  104.835346  3.000000  3.000000  2.653531  0.000000   \n",
       "\n",
       "        TUE       CALC  MTRANS_Automobile  ...  CAEC_Always  CAEC_Frequently  \\\n",
       "0  0.000000  Sometimes              False  ...        False            False   \n",
       "1  0.000000  Sometimes              False  ...        False            False   \n",
       "2  0.250502  Sometimes              False  ...        False            False   \n",
       "3  0.000000  Sometimes              False  ...        False            False   \n",
       "4  0.741069  Sometimes              False  ...        False            False   \n",
       "\n",
       "   CAEC_Sometimes  CAEC_no  FAVC_no  FAVC_yes  \\\n",
       "0            True    False    False      True   \n",
       "1            True    False    False      True   \n",
       "2            True    False    False      True   \n",
       "3            True    False    False      True   \n",
       "4            True    False    False      True   \n",
       "\n",
       "   family_history_with_overweight_no  family_history_with_overweight_yes  \\\n",
       "0                              False                                True   \n",
       "1                              False                                True   \n",
       "2                              False                                True   \n",
       "3                              False                                True   \n",
       "4                              False                                True   \n",
       "\n",
       "   Gender_Female  Gender_Male  \n",
       "0          False         True  \n",
       "1           True        False  \n",
       "2           True        False  \n",
       "3          False         True  \n",
       "4           True        False  \n",
       "\n",
       "[5 rows x 28 columns]"
      ]
     },
     "execution_count": 5,
     "metadata": {},
     "output_type": "execute_result"
    }
   ],
   "source": [
    "X_encoded.head()\n",
    "test_df = test_df.drop(['id'], axis=1)\n",
    "\n",
    "X_test_encoded = pd.get_dummies(test_df, columns=['MTRANS',\n",
    "                                                  'SCC',\n",
    "                                                  'SMOKE',\n",
    "                                                  'CAEC',\n",
    "                                                  'FAVC',\n",
    "                                                  'family_history_with_overweight',\n",
    "                                                  'Gender'])\n",
    "\n",
    "X_test_encoded.head()"
   ]
  },
  {
   "cell_type": "code",
   "execution_count": 6,
   "id": "533556027f4b4226",
   "metadata": {
    "ExecuteTime": {
     "end_time": "2024-02-01T23:47:43.106215Z",
     "start_time": "2024-02-01T23:47:43.077843Z"
    },
    "collapsed": false
   },
   "outputs": [],
   "source": [
    "le = LabelEncoder()\n",
    "\n",
    "X_encoded.CALC = le.fit_transform(X_encoded.CALC)\n",
    "X_test_encoded.CALC = le.fit_transform(X_test_encoded.CALC)"
   ]
  },
  {
   "cell_type": "code",
   "execution_count": 7,
   "id": "c0346506d28f8d1a",
   "metadata": {
    "ExecuteTime": {
     "end_time": "2024-02-01T23:47:43.141356Z",
     "start_time": "2024-02-01T23:47:43.090440Z"
    },
    "collapsed": false
   },
   "outputs": [],
   "source": [
    "X_train, X_test, y_train, y_test = train_test_split(X_encoded,\n",
    "                                                    y,\n",
    "                                                    random_state=42,\n",
    "                                                    stratify=y)"
   ]
  },
  {
   "cell_type": "code",
   "execution_count": 8,
   "id": "d5c71badfcd1fb48",
   "metadata": {
    "ExecuteTime": {
     "end_time": "2024-02-01T23:47:45.629786Z",
     "start_time": "2024-02-01T23:47:43.108919Z"
    },
    "collapsed": false
   },
   "outputs": [
    {
     "name": "stdout",
     "output_type": "stream",
     "text": [
      "[LightGBM] [Info] Auto-choosing row-wise multi-threading, the overhead of testing was 0.003396 seconds.\n",
      "You can set `force_row_wise=true` to remove the overhead.\n",
      "And if memory is not enough, you can set `force_col_wise=true`.\n",
      "[LightGBM] [Info] Total Bins 2063\n",
      "[LightGBM] [Info] Number of data points in the train set: 15568, number of used features: 28\n",
      "[LightGBM] [Info] Start training from score -2.107583\n",
      "[LightGBM] [Info] Start training from score -1.907537\n",
      "[LightGBM] [Info] Start training from score -1.964517\n",
      "[LightGBM] [Info] Start training from score -1.854860\n",
      "[LightGBM] [Info] Start training from score -1.635336\n",
      "[LightGBM] [Info] Start training from score -2.146381\n",
      "[LightGBM] [Info] Start training from score -2.107583\n"
     ]
    }
   ],
   "source": [
    "base_model = LGBMClassifier()\n",
    "base_model.fit(X_train, y_train)\n",
    "\n",
    "y_pred = base_model.predict(X_test)"
   ]
  },
  {
   "cell_type": "code",
   "execution_count": 9,
   "id": "5a5d688c9a152c50",
   "metadata": {
    "ExecuteTime": {
     "end_time": "2024-02-01T23:47:45.635130Z",
     "start_time": "2024-02-01T23:47:45.633236Z"
    },
    "collapsed": false
   },
   "outputs": [
    {
     "data": {
      "text/plain": [
       "0.9090558766859345"
      ]
     },
     "execution_count": 9,
     "metadata": {},
     "output_type": "execute_result"
    }
   ],
   "source": [
    "accuracy_score(y_test, y_pred)"
   ]
  },
  {
   "cell_type": "code",
   "execution_count": 10,
   "id": "21ec49f06eae3da2",
   "metadata": {
    "ExecuteTime": {
     "end_time": "2024-02-01T23:47:45.731729Z",
     "start_time": "2024-02-01T23:47:45.637686Z"
    },
    "collapsed": false
   },
   "outputs": [
    {
     "data": {
      "text/plain": [
       "array(['Obesity_Type_II', 'Overweight_Level_I', 'Obesity_Type_III', ...,\n",
       "       'Insufficient_Weight', 'Normal_Weight', 'Obesity_Type_II'],\n",
       "      dtype=object)"
      ]
     },
     "execution_count": 10,
     "metadata": {},
     "output_type": "execute_result"
    }
   ],
   "source": [
    "y_pred = base_model.predict(X_test_encoded)\n",
    "y_pred"
   ]
  },
  {
   "cell_type": "code",
   "execution_count": 11,
   "id": "1ab9b159fe88dadb",
   "metadata": {
    "ExecuteTime": {
     "end_time": "2024-02-01T23:47:45.736769Z",
     "start_time": "2024-02-01T23:47:45.732323Z"
    },
    "collapsed": false
   },
   "outputs": [
    {
     "data": {
      "text/html": [
       "<div>\n",
       "<style scoped>\n",
       "    .dataframe tbody tr th:only-of-type {\n",
       "        vertical-align: middle;\n",
       "    }\n",
       "\n",
       "    .dataframe tbody tr th {\n",
       "        vertical-align: top;\n",
       "    }\n",
       "\n",
       "    .dataframe thead th {\n",
       "        text-align: right;\n",
       "    }\n",
       "</style>\n",
       "<table border=\"1\" class=\"dataframe\">\n",
       "  <thead>\n",
       "    <tr style=\"text-align: right;\">\n",
       "      <th></th>\n",
       "      <th>id</th>\n",
       "      <th>NObeyesdad</th>\n",
       "    </tr>\n",
       "  </thead>\n",
       "  <tbody>\n",
       "    <tr>\n",
       "      <th>0</th>\n",
       "      <td>20758</td>\n",
       "      <td>Obesity_Type_II</td>\n",
       "    </tr>\n",
       "    <tr>\n",
       "      <th>1</th>\n",
       "      <td>20759</td>\n",
       "      <td>Overweight_Level_I</td>\n",
       "    </tr>\n",
       "    <tr>\n",
       "      <th>2</th>\n",
       "      <td>20760</td>\n",
       "      <td>Obesity_Type_III</td>\n",
       "    </tr>\n",
       "    <tr>\n",
       "      <th>3</th>\n",
       "      <td>20761</td>\n",
       "      <td>Obesity_Type_I</td>\n",
       "    </tr>\n",
       "    <tr>\n",
       "      <th>4</th>\n",
       "      <td>20762</td>\n",
       "      <td>Obesity_Type_III</td>\n",
       "    </tr>\n",
       "    <tr>\n",
       "      <th>...</th>\n",
       "      <td>...</td>\n",
       "      <td>...</td>\n",
       "    </tr>\n",
       "    <tr>\n",
       "      <th>13835</th>\n",
       "      <td>34593</td>\n",
       "      <td>Overweight_Level_II</td>\n",
       "    </tr>\n",
       "    <tr>\n",
       "      <th>13836</th>\n",
       "      <td>34594</td>\n",
       "      <td>Normal_Weight</td>\n",
       "    </tr>\n",
       "    <tr>\n",
       "      <th>13837</th>\n",
       "      <td>34595</td>\n",
       "      <td>Insufficient_Weight</td>\n",
       "    </tr>\n",
       "    <tr>\n",
       "      <th>13838</th>\n",
       "      <td>34596</td>\n",
       "      <td>Normal_Weight</td>\n",
       "    </tr>\n",
       "    <tr>\n",
       "      <th>13839</th>\n",
       "      <td>34597</td>\n",
       "      <td>Obesity_Type_II</td>\n",
       "    </tr>\n",
       "  </tbody>\n",
       "</table>\n",
       "<p>13840 rows × 2 columns</p>\n",
       "</div>"
      ],
      "text/plain": [
       "          id           NObeyesdad\n",
       "0      20758      Obesity_Type_II\n",
       "1      20759   Overweight_Level_I\n",
       "2      20760     Obesity_Type_III\n",
       "3      20761       Obesity_Type_I\n",
       "4      20762     Obesity_Type_III\n",
       "...      ...                  ...\n",
       "13835  34593  Overweight_Level_II\n",
       "13836  34594        Normal_Weight\n",
       "13837  34595  Insufficient_Weight\n",
       "13838  34596        Normal_Weight\n",
       "13839  34597      Obesity_Type_II\n",
       "\n",
       "[13840 rows x 2 columns]"
      ]
     },
     "execution_count": 11,
     "metadata": {},
     "output_type": "execute_result"
    }
   ],
   "source": [
    "sample_submission_df['NObeyesdad'] = y_pred\n",
    "sample_submission_df"
   ]
  },
  {
   "cell_type": "markdown",
   "id": "180c03b9",
   "metadata": {},
   "source": [
    "# Hyperparameter tuning"
   ]
  },
  {
   "cell_type": "code",
   "execution_count": 11,
   "id": "981a842bd647ea12",
   "metadata": {
    "ExecuteTime": {
     "end_time": "2024-02-01T23:47:45.738150Z",
     "start_time": "2024-02-01T23:47:45.736876Z"
    },
    "collapsed": false
   },
   "outputs": [],
   "source": [
    "def objective(trial):\n",
    "    \"\"\"\n",
    "    Objective function to be minimized.\n",
    "    \"\"\"\n",
    "    param = {\n",
    "        \"objective\": \"multiclass\",\n",
    "        \"metric\": \"multi_logloss\",\n",
    "        \"verbosity\": -1,\n",
    "        \"boosting_type\": \"gbdt\",\n",
    "        \"num_class\": 7,\n",
    "        \"lambda_l1\": trial.suggest_float(\"lambda_l1\", 1e-8, 10.0, log=True),\n",
    "        \"lambda_l2\": trial.suggest_float(\"lambda_l2\", 1e-8, 10.0, log=True),\n",
    "        \"num_leaves\": trial.suggest_int(\"num_leaves\", 2, 256),\n",
    "        \"feature_fraction\": trial.suggest_float(\"feature_fraction\", 0.4, 1.0),\n",
    "        \"bagging_fraction\": trial.suggest_float(\"bagging_fraction\", 0.4, 1.0),\n",
    "        \"bagging_freq\": trial.suggest_int(\"bagging_freq\", 1, 7),\n",
    "        \"min_child_samples\": trial.suggest_int(\"min_child_samples\", 5, 100),\n",
    "    }\n",
    "\n",
    "    gbm = LGBMClassifier(**param)\n",
    "    gbm.fit(X_train, y_train)\n",
    "    preds = gbm.predict(X_test)\n",
    "    accuracy = accuracy_score(y_test, preds)\n",
    "    return accuracy"
   ]
  },
  {
   "cell_type": "code",
   "execution_count": null,
   "id": "d85f1a53",
   "metadata": {},
   "outputs": [],
   "source": [
    "import optuna\n",
    "from optuna.samplers import TPESampler\n",
    "sampler = TPESampler(seed=1)\n",
    "study = optuna.create_study(study_name=\"lightgbm\", direction=\"maximize\", sampler=sampler)\n",
    "study.optimize(objective, n_trials=200)"
   ]
  },
  {
   "cell_type": "code",
   "execution_count": null,
   "id": "4b2b6e9f",
   "metadata": {},
   "outputs": [],
   "source": [
    "# Get the best parameters\n",
    "print('Best parameters: ', study.best_params)\n",
    "'''\n",
    "Best parameters:  {'lambda_l1': 1.2783107769804225e-07, 'lambda_l2': 4.68831195101335, 'num_leaves': 23, 'feature_fraction': 0.9494806730670128, 'bagging_fraction': 0.8552888263673606, 'bagging_freq': 7, 'min_child_samples': 10}\n",
    "'''"
   ]
  },
  {
   "cell_type": "code",
   "execution_count": null,
   "id": "433c0931",
   "metadata": {},
   "outputs": [],
   "source": [
    "print('Best value: ', study.best_value)\n",
    "# Best value:  0.9140655105973025"
   ]
  },
  {
   "cell_type": "code",
   "execution_count": null,
   "id": "14538f56",
   "metadata": {},
   "outputs": [],
   "source": [
    "fine_tuned_model = LGBMClassifier(**study.best_params)\n",
    "fine_tuned_model.fit(X_train, y_train)"
   ]
  },
  {
   "cell_type": "code",
   "execution_count": null,
   "id": "2d3dcf8f",
   "metadata": {},
   "outputs": [],
   "source": [
    "y_pred = fine_tuned_model.predict(X_test_encoded)"
   ]
  },
  {
   "cell_type": "code",
   "execution_count": null,
   "id": "44edb959",
   "metadata": {},
   "outputs": [],
   "source": [
    "sample_submission_df['NObeyesdad'] = y_pred\n",
    "sample_submission_df.to_csv('Dataset/MultiClassPredictionObesityRisk/Prediction/20240204_FineTuned_LGB_submission.csv', index=False)"
   ]
  }
 ],
 "metadata": {
  "kernelspec": {
   "display_name": "Python 3",
   "language": "python",
   "name": "python3"
  },
  "language_info": {
   "codemirror_mode": {
    "name": "ipython",
    "version": 2
   },
   "file_extension": ".py",
   "mimetype": "text/x-python",
   "name": "python",
   "nbconvert_exporter": "python",
   "pygments_lexer": "ipython2",
   "version": "2.7.6"
  }
 },
 "nbformat": 4,
 "nbformat_minor": 5
}
