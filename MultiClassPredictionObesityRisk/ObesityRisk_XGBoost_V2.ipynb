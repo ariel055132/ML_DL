{
 "cells": [
  {
   "cell_type": "code",
   "execution_count": 37,
   "id": "initial_id",
   "metadata": {
    "collapsed": true,
    "ExecuteTime": {
     "end_time": "2024-02-05T15:18:56.761699Z",
     "start_time": "2024-02-05T15:18:56.753578Z"
    }
   },
   "outputs": [],
   "source": [
    "import numpy as np\n",
    "import pandas as pd\n",
    "\n",
    "from sklearn.compose import ColumnTransformer, make_column_selector\n",
    "from sklearn.preprocessing import StandardScaler, LabelEncoder, OneHotEncoder\n",
    "from sklearn.model_selection import train_test_split, cross_val_score\n",
    "from xgboost import XGBClassifier\n",
    "from tqdm import tqdm\n",
    "\n",
    "import optuna"
   ]
  },
  {
   "cell_type": "code",
   "outputs": [],
   "source": [
    "train_df = pd.read_csv('Dataset/MultiClassPredictionObesityRisk/train.csv')\n",
    "test_df = pd.read_csv('Dataset/MultiClassPredictionObesityRisk/test.csv')\n",
    "original_df = pd.read_csv('Dataset/MultiClassPredictionObesityRisk/ObesityDataSet.csv')"
   ],
   "metadata": {
    "collapsed": false,
    "ExecuteTime": {
     "end_time": "2024-02-05T15:18:56.868971Z",
     "start_time": "2024-02-05T15:18:56.765856Z"
    }
   },
   "id": "9fb996369bfb763f",
   "execution_count": 38
  },
  {
   "cell_type": "code",
   "outputs": [],
   "source": [
    "train_df = pd.concat([train_df, original_df], axis=0)\n",
    "train_df.drop_duplicates(inplace=True)"
   ],
   "metadata": {
    "collapsed": false,
    "ExecuteTime": {
     "end_time": "2024-02-05T15:18:56.869609Z",
     "start_time": "2024-02-05T15:18:56.823477Z"
    }
   },
   "id": "73c3b1777dc2fd43",
   "execution_count": 39
  },
  {
   "cell_type": "code",
   "outputs": [
    {
     "data": {
      "text/plain": "(22845, 18)"
     },
     "execution_count": 40,
     "metadata": {},
     "output_type": "execute_result"
    }
   ],
   "source": [
    "train_df.shape"
   ],
   "metadata": {
    "collapsed": false,
    "ExecuteTime": {
     "end_time": "2024-02-05T15:18:56.869942Z",
     "start_time": "2024-02-05T15:18:56.841313Z"
    }
   },
   "id": "7e6b48a8e580a132",
   "execution_count": 40
  },
  {
   "cell_type": "code",
   "outputs": [
    {
     "data": {
      "text/plain": "    id  Gender        Age    Height      Weight  \\\n0  0.0    Male  24.443011  1.699998   81.669950   \n1  1.0  Female  18.000000  1.560000   57.000000   \n2  2.0  Female  18.000000  1.711460   50.165754   \n3  3.0  Female  20.952737  1.710730  131.274851   \n4  4.0    Male  31.641081  1.914186   93.798055   \n\n  family_history_with_overweight FAVC      FCVC       NCP        CAEC SMOKE  \\\n0                            yes  yes  2.000000  2.983297   Sometimes    no   \n1                            yes  yes  2.000000  3.000000  Frequently    no   \n2                            yes  yes  1.880534  1.411685   Sometimes    no   \n3                            yes  yes  3.000000  3.000000   Sometimes    no   \n4                            yes  yes  2.679664  1.971472   Sometimes    no   \n\n       CH2O SCC       FAF       TUE       CALC                 MTRANS  \\\n0  2.763573  no  0.000000  0.976473  Sometimes  Public_Transportation   \n1  2.000000  no  1.000000  1.000000         no             Automobile   \n2  1.910378  no  0.866045  1.673584         no  Public_Transportation   \n3  1.674061  no  1.467863  0.780199  Sometimes  Public_Transportation   \n4  1.979848  no  1.967973  0.931721  Sometimes  Public_Transportation   \n\n            NObeyesdad  \n0  Overweight_Level_II  \n1        Normal_Weight  \n2  Insufficient_Weight  \n3     Obesity_Type_III  \n4  Overweight_Level_II  ",
      "text/html": "<div>\n<style scoped>\n    .dataframe tbody tr th:only-of-type {\n        vertical-align: middle;\n    }\n\n    .dataframe tbody tr th {\n        vertical-align: top;\n    }\n\n    .dataframe thead th {\n        text-align: right;\n    }\n</style>\n<table border=\"1\" class=\"dataframe\">\n  <thead>\n    <tr style=\"text-align: right;\">\n      <th></th>\n      <th>id</th>\n      <th>Gender</th>\n      <th>Age</th>\n      <th>Height</th>\n      <th>Weight</th>\n      <th>family_history_with_overweight</th>\n      <th>FAVC</th>\n      <th>FCVC</th>\n      <th>NCP</th>\n      <th>CAEC</th>\n      <th>SMOKE</th>\n      <th>CH2O</th>\n      <th>SCC</th>\n      <th>FAF</th>\n      <th>TUE</th>\n      <th>CALC</th>\n      <th>MTRANS</th>\n      <th>NObeyesdad</th>\n    </tr>\n  </thead>\n  <tbody>\n    <tr>\n      <th>0</th>\n      <td>0.0</td>\n      <td>Male</td>\n      <td>24.443011</td>\n      <td>1.699998</td>\n      <td>81.669950</td>\n      <td>yes</td>\n      <td>yes</td>\n      <td>2.000000</td>\n      <td>2.983297</td>\n      <td>Sometimes</td>\n      <td>no</td>\n      <td>2.763573</td>\n      <td>no</td>\n      <td>0.000000</td>\n      <td>0.976473</td>\n      <td>Sometimes</td>\n      <td>Public_Transportation</td>\n      <td>Overweight_Level_II</td>\n    </tr>\n    <tr>\n      <th>1</th>\n      <td>1.0</td>\n      <td>Female</td>\n      <td>18.000000</td>\n      <td>1.560000</td>\n      <td>57.000000</td>\n      <td>yes</td>\n      <td>yes</td>\n      <td>2.000000</td>\n      <td>3.000000</td>\n      <td>Frequently</td>\n      <td>no</td>\n      <td>2.000000</td>\n      <td>no</td>\n      <td>1.000000</td>\n      <td>1.000000</td>\n      <td>no</td>\n      <td>Automobile</td>\n      <td>Normal_Weight</td>\n    </tr>\n    <tr>\n      <th>2</th>\n      <td>2.0</td>\n      <td>Female</td>\n      <td>18.000000</td>\n      <td>1.711460</td>\n      <td>50.165754</td>\n      <td>yes</td>\n      <td>yes</td>\n      <td>1.880534</td>\n      <td>1.411685</td>\n      <td>Sometimes</td>\n      <td>no</td>\n      <td>1.910378</td>\n      <td>no</td>\n      <td>0.866045</td>\n      <td>1.673584</td>\n      <td>no</td>\n      <td>Public_Transportation</td>\n      <td>Insufficient_Weight</td>\n    </tr>\n    <tr>\n      <th>3</th>\n      <td>3.0</td>\n      <td>Female</td>\n      <td>20.952737</td>\n      <td>1.710730</td>\n      <td>131.274851</td>\n      <td>yes</td>\n      <td>yes</td>\n      <td>3.000000</td>\n      <td>3.000000</td>\n      <td>Sometimes</td>\n      <td>no</td>\n      <td>1.674061</td>\n      <td>no</td>\n      <td>1.467863</td>\n      <td>0.780199</td>\n      <td>Sometimes</td>\n      <td>Public_Transportation</td>\n      <td>Obesity_Type_III</td>\n    </tr>\n    <tr>\n      <th>4</th>\n      <td>4.0</td>\n      <td>Male</td>\n      <td>31.641081</td>\n      <td>1.914186</td>\n      <td>93.798055</td>\n      <td>yes</td>\n      <td>yes</td>\n      <td>2.679664</td>\n      <td>1.971472</td>\n      <td>Sometimes</td>\n      <td>no</td>\n      <td>1.979848</td>\n      <td>no</td>\n      <td>1.967973</td>\n      <td>0.931721</td>\n      <td>Sometimes</td>\n      <td>Public_Transportation</td>\n      <td>Overweight_Level_II</td>\n    </tr>\n  </tbody>\n</table>\n</div>"
     },
     "execution_count": 41,
     "metadata": {},
     "output_type": "execute_result"
    }
   ],
   "source": [
    "train_df.head(5)"
   ],
   "metadata": {
    "collapsed": false,
    "ExecuteTime": {
     "end_time": "2024-02-05T15:18:56.870490Z",
     "start_time": "2024-02-05T15:18:56.850864Z"
    }
   },
   "id": "6cc0cefef7a3fa72",
   "execution_count": 41
  },
  {
   "cell_type": "code",
   "outputs": [
    {
     "data": {
      "text/plain": "                id           Age        Height        Weight          FCVC  \\\ncount  20758.00000  22845.000000  22845.000000  22845.000000  22845.000000   \nmean   10378.50000     23.888513      1.700467     87.793761      2.443675   \nstd     5992.46278      5.755338      0.087865     26.363367      0.533392   \nmin        0.00000     14.000000      1.450000     39.000000      1.000000   \n25%     5189.25000     20.000000      1.631856     66.000000      2.000000   \n50%    10378.50000     22.815416      1.700000     84.000000      2.393837   \n75%    15567.75000     26.000000      1.763029    111.531208      3.000000   \nmax    20757.00000     61.000000      1.980000    173.000000      3.000000   \n\n                NCP          CH2O           FAF           TUE  \ncount  22845.000000  22845.000000  22845.000000  22845.000000  \nmean       2.755837      2.027165      0.984585      0.620984  \nstd        0.711185      0.608479      0.839728      0.602802  \nmin        1.000000      1.000000      0.000000      0.000000  \n25%        3.000000      1.755907      0.015860      0.000000  \n50%        3.000000      2.000000      1.000000      0.582840  \n75%        3.000000      2.531984      1.600431      1.000000  \nmax        4.000000      3.000000      3.000000      2.000000  ",
      "text/html": "<div>\n<style scoped>\n    .dataframe tbody tr th:only-of-type {\n        vertical-align: middle;\n    }\n\n    .dataframe tbody tr th {\n        vertical-align: top;\n    }\n\n    .dataframe thead th {\n        text-align: right;\n    }\n</style>\n<table border=\"1\" class=\"dataframe\">\n  <thead>\n    <tr style=\"text-align: right;\">\n      <th></th>\n      <th>id</th>\n      <th>Age</th>\n      <th>Height</th>\n      <th>Weight</th>\n      <th>FCVC</th>\n      <th>NCP</th>\n      <th>CH2O</th>\n      <th>FAF</th>\n      <th>TUE</th>\n    </tr>\n  </thead>\n  <tbody>\n    <tr>\n      <th>count</th>\n      <td>20758.00000</td>\n      <td>22845.000000</td>\n      <td>22845.000000</td>\n      <td>22845.000000</td>\n      <td>22845.000000</td>\n      <td>22845.000000</td>\n      <td>22845.000000</td>\n      <td>22845.000000</td>\n      <td>22845.000000</td>\n    </tr>\n    <tr>\n      <th>mean</th>\n      <td>10378.50000</td>\n      <td>23.888513</td>\n      <td>1.700467</td>\n      <td>87.793761</td>\n      <td>2.443675</td>\n      <td>2.755837</td>\n      <td>2.027165</td>\n      <td>0.984585</td>\n      <td>0.620984</td>\n    </tr>\n    <tr>\n      <th>std</th>\n      <td>5992.46278</td>\n      <td>5.755338</td>\n      <td>0.087865</td>\n      <td>26.363367</td>\n      <td>0.533392</td>\n      <td>0.711185</td>\n      <td>0.608479</td>\n      <td>0.839728</td>\n      <td>0.602802</td>\n    </tr>\n    <tr>\n      <th>min</th>\n      <td>0.00000</td>\n      <td>14.000000</td>\n      <td>1.450000</td>\n      <td>39.000000</td>\n      <td>1.000000</td>\n      <td>1.000000</td>\n      <td>1.000000</td>\n      <td>0.000000</td>\n      <td>0.000000</td>\n    </tr>\n    <tr>\n      <th>25%</th>\n      <td>5189.25000</td>\n      <td>20.000000</td>\n      <td>1.631856</td>\n      <td>66.000000</td>\n      <td>2.000000</td>\n      <td>3.000000</td>\n      <td>1.755907</td>\n      <td>0.015860</td>\n      <td>0.000000</td>\n    </tr>\n    <tr>\n      <th>50%</th>\n      <td>10378.50000</td>\n      <td>22.815416</td>\n      <td>1.700000</td>\n      <td>84.000000</td>\n      <td>2.393837</td>\n      <td>3.000000</td>\n      <td>2.000000</td>\n      <td>1.000000</td>\n      <td>0.582840</td>\n    </tr>\n    <tr>\n      <th>75%</th>\n      <td>15567.75000</td>\n      <td>26.000000</td>\n      <td>1.763029</td>\n      <td>111.531208</td>\n      <td>3.000000</td>\n      <td>3.000000</td>\n      <td>2.531984</td>\n      <td>1.600431</td>\n      <td>1.000000</td>\n    </tr>\n    <tr>\n      <th>max</th>\n      <td>20757.00000</td>\n      <td>61.000000</td>\n      <td>1.980000</td>\n      <td>173.000000</td>\n      <td>3.000000</td>\n      <td>4.000000</td>\n      <td>3.000000</td>\n      <td>3.000000</td>\n      <td>2.000000</td>\n    </tr>\n  </tbody>\n</table>\n</div>"
     },
     "execution_count": 42,
     "metadata": {},
     "output_type": "execute_result"
    }
   ],
   "source": [
    "train_df.describe()"
   ],
   "metadata": {
    "collapsed": false,
    "ExecuteTime": {
     "end_time": "2024-02-05T15:18:56.914277Z",
     "start_time": "2024-02-05T15:18:56.856436Z"
    }
   },
   "id": "748b7b8544c5b985",
   "execution_count": 42
  },
  {
   "cell_type": "code",
   "outputs": [
    {
     "data": {
      "text/plain": "        Gender family_history_with_overweight   FAVC       CAEC  SMOKE    SCC  \\\ncount    22845                          22845  22845      22845  22845  22845   \nunique       2                              2      2          4      2      2   \ntop     Female                            yes    yes  Sometimes     no     no   \nfreq     11457                          18736  20826      19290  22556  22062   \n\n             CALC                 MTRANS        NObeyesdad  \ncount       22845                  22845             22845  \nunique          4                      5                 7  \ntop     Sometimes  Public_Transportation  Obesity_Type_III  \nfreq        16446                  18245              4370  ",
      "text/html": "<div>\n<style scoped>\n    .dataframe tbody tr th:only-of-type {\n        vertical-align: middle;\n    }\n\n    .dataframe tbody tr th {\n        vertical-align: top;\n    }\n\n    .dataframe thead th {\n        text-align: right;\n    }\n</style>\n<table border=\"1\" class=\"dataframe\">\n  <thead>\n    <tr style=\"text-align: right;\">\n      <th></th>\n      <th>Gender</th>\n      <th>family_history_with_overweight</th>\n      <th>FAVC</th>\n      <th>CAEC</th>\n      <th>SMOKE</th>\n      <th>SCC</th>\n      <th>CALC</th>\n      <th>MTRANS</th>\n      <th>NObeyesdad</th>\n    </tr>\n  </thead>\n  <tbody>\n    <tr>\n      <th>count</th>\n      <td>22845</td>\n      <td>22845</td>\n      <td>22845</td>\n      <td>22845</td>\n      <td>22845</td>\n      <td>22845</td>\n      <td>22845</td>\n      <td>22845</td>\n      <td>22845</td>\n    </tr>\n    <tr>\n      <th>unique</th>\n      <td>2</td>\n      <td>2</td>\n      <td>2</td>\n      <td>4</td>\n      <td>2</td>\n      <td>2</td>\n      <td>4</td>\n      <td>5</td>\n      <td>7</td>\n    </tr>\n    <tr>\n      <th>top</th>\n      <td>Female</td>\n      <td>yes</td>\n      <td>yes</td>\n      <td>Sometimes</td>\n      <td>no</td>\n      <td>no</td>\n      <td>Sometimes</td>\n      <td>Public_Transportation</td>\n      <td>Obesity_Type_III</td>\n    </tr>\n    <tr>\n      <th>freq</th>\n      <td>11457</td>\n      <td>18736</td>\n      <td>20826</td>\n      <td>19290</td>\n      <td>22556</td>\n      <td>22062</td>\n      <td>16446</td>\n      <td>18245</td>\n      <td>4370</td>\n    </tr>\n  </tbody>\n</table>\n</div>"
     },
     "execution_count": 43,
     "metadata": {},
     "output_type": "execute_result"
    }
   ],
   "source": [
    "train_df.describe(include=[object])"
   ],
   "metadata": {
    "collapsed": false,
    "ExecuteTime": {
     "end_time": "2024-02-05T15:18:56.938025Z",
     "start_time": "2024-02-05T15:18:56.878113Z"
    }
   },
   "id": "a4d330dda710bd76",
   "execution_count": 43
  },
  {
   "cell_type": "code",
   "outputs": [
    {
     "data": {
      "text/plain": "id                                2087\nGender                               0\nAge                                  0\nHeight                               0\nWeight                               0\nfamily_history_with_overweight       0\nFAVC                                 0\nFCVC                                 0\nNCP                                  0\nCAEC                                 0\nSMOKE                                0\nCH2O                                 0\nSCC                                  0\nFAF                                  0\nTUE                                  0\nCALC                                 0\nMTRANS                               0\nNObeyesdad                           0\ndtype: int64"
     },
     "execution_count": 44,
     "metadata": {},
     "output_type": "execute_result"
    }
   ],
   "source": [
    "train_df.isnull().sum()"
   ],
   "metadata": {
    "collapsed": false,
    "ExecuteTime": {
     "end_time": "2024-02-05T15:18:56.939676Z",
     "start_time": "2024-02-05T15:18:56.907057Z"
    }
   },
   "id": "29190580d743bc25",
   "execution_count": 44
  },
  {
   "cell_type": "code",
   "outputs": [
    {
     "data": {
      "text/plain": "id                                2087\nGender                               0\nAge                                  0\nHeight                               0\nWeight                               0\nfamily_history_with_overweight       0\nFAVC                                 0\nFCVC                                 0\nNCP                                  0\nCAEC                                 0\nSMOKE                                0\nCH2O                                 0\nSCC                                  0\nFAF                                  0\nTUE                                  0\nCALC                                 0\nMTRANS                               0\nNObeyesdad                           0\ndtype: int64"
     },
     "execution_count": 45,
     "metadata": {},
     "output_type": "execute_result"
    }
   ],
   "source": [
    "train_df.isna().sum()"
   ],
   "metadata": {
    "collapsed": false,
    "ExecuteTime": {
     "end_time": "2024-02-05T15:18:56.963008Z",
     "start_time": "2024-02-05T15:18:56.922414Z"
    }
   },
   "id": "806750a3c152686a",
   "execution_count": 45
  },
  {
   "cell_type": "code",
   "outputs": [],
   "source": [
    "# Data Preprocessing\n",
    "# Standard Scaler -> Numerical features\n",
    "# One hot encoder -> Categorical features\n",
    "# Label encoder -> Target feature\n",
    "preprocessor = ColumnTransformer(\n",
    "    transformers=[\n",
    "        ('num', StandardScaler(), make_column_selector(dtype_include=np.number)),\n",
    "        ('cat', OneHotEncoder(handle_unknown=\"ignore\"), make_column_selector(dtype_include=object))\n",
    "    ])\n",
    "\n",
    "X_train, y_train = train_df.drop('NObeyesdad', axis=1), train_df['NObeyesdad']\n",
    "\n",
    "preprocessor.fit(pd.concat([X_train, test_df]))\n",
    "X_train = preprocessor.transform(X_train)\n",
    "X_test = preprocessor.transform(test_df)\n",
    "\n",
    "label_encoder = LabelEncoder()\n",
    "y_train = label_encoder.fit_transform(y_train)"
   ],
   "metadata": {
    "collapsed": false,
    "ExecuteTime": {
     "end_time": "2024-02-05T15:18:57.095310Z",
     "start_time": "2024-02-05T15:18:56.935417Z"
    }
   },
   "id": "ac7022344c62693f",
   "execution_count": 46
  },
  {
   "cell_type": "code",
   "outputs": [],
   "source": [
    "# Optuna Hyperparameter Tuning\n",
    "from sklearn.model_selection import cross_validate\n",
    "def objective(trial):\n",
    "    max_depth = trial.suggest_int('max_depth', 4, 10)\n",
    "    n_estimators = trial.suggest_int('n_estimators', 500, 2000)\n",
    "    gamma = trial.suggest_float('gamma', 0, 1)\n",
    "    reg_alpha = trial.suggest_float('reg_alpha', 0, 1)\n",
    "    reg_lambda = trial.suggest_float('reg_lambda', 0, 1)\n",
    "    min_child_weight = trial.suggest_int('min_child_weight', 0, 10)\n",
    "    subsample = trial.suggest_float('subsample', 0, 1)\n",
    "    colsample_bytree = trial.suggest_float('colsample_bytree', 0, 1)\n",
    "    learning_rate = trial.suggest_float('learning_rate', 0, 1)\n",
    "\n",
    "    print('Training the model with', X_train.shape[1], 'features')\n",
    "\n",
    "    params = {'n_estimators': n_estimators,\n",
    "              'learning_rate': learning_rate,\n",
    "              'gamma': gamma,\n",
    "              'reg_alpha': reg_alpha,\n",
    "              'reg_lambda': reg_lambda,\n",
    "              'max_depth': max_depth,\n",
    "              'min_child_weight': min_child_weight,\n",
    "              'subsample': subsample,\n",
    "              'colsample_bytree': colsample_bytree,\n",
    "              'eval_metric':'mlogloss'}\n",
    "\n",
    "    clf = XGBClassifier(**params)\n",
    "\n",
    "    cv_results = cross_validate(clf, X_train, y_train, cv=5, scoring='accuracy')\n",
    "\n",
    "    validation_score = np.mean(cv_results['test_score'])\n",
    "\n",
    "    return validation_score"
   ],
   "metadata": {
    "collapsed": false
   },
   "id": "1b21953ec683bb92"
  },
  {
   "cell_type": "code",
   "outputs": [
    {
     "name": "stderr",
     "output_type": "stream",
     "text": [
      "Training XGBoost:   0%|          | 0/5 [00:00<?, ?it/s]"
     ]
    },
    {
     "name": "stdout",
     "output_type": "stream",
     "text": [
      "Accuracy:  0.8949441891004597\n"
     ]
    },
    {
     "name": "stderr",
     "output_type": "stream",
     "text": [
      "Training XGBoost:  20%|██        | 1/5 [00:23<01:33, 23.39s/it]"
     ]
    },
    {
     "name": "stdout",
     "output_type": "stream",
     "text": [
      "Accuracy:  0.8949441891004597\n"
     ]
    },
    {
     "name": "stderr",
     "output_type": "stream",
     "text": [
      "Training XGBoost:  40%|████      | 2/5 [00:47<01:10, 23.65s/it]"
     ]
    },
    {
     "name": "stdout",
     "output_type": "stream",
     "text": [
      "Accuracy:  0.8949441891004597\n"
     ]
    },
    {
     "name": "stderr",
     "output_type": "stream",
     "text": [
      "Training XGBoost:  60%|██████    | 3/5 [01:11<00:47, 23.88s/it]"
     ]
    },
    {
     "name": "stdout",
     "output_type": "stream",
     "text": [
      "Accuracy:  0.8949441891004597\n"
     ]
    },
    {
     "name": "stderr",
     "output_type": "stream",
     "text": [
      "Training XGBoost:  80%|████████  | 4/5 [01:36<00:24, 24.47s/it]"
     ]
    },
    {
     "name": "stdout",
     "output_type": "stream",
     "text": [
      "Accuracy:  0.8949441891004597\n"
     ]
    },
    {
     "name": "stderr",
     "output_type": "stream",
     "text": [
      "Training XGBoost: 100%|██████████| 5/5 [02:05<00:00, 25.15s/it]\n"
     ]
    }
   ],
   "source": [
    "params = {\n",
    "    'n_estimators': 1312,\n",
    "    'learning_rate': 0.018279520260162645,\n",
    "    'gamma': 0.0024196354156454324,\n",
    "    'reg_alpha': 0.9025931173755949,\n",
    "    'reg_lambda': 0.06835667255875388,\n",
    "    'max_depth': 5,\n",
    "    'min_child_weight': 5,\n",
    "    'subsample': 0.883274050086088,\n",
    "    'colsample_bytree': 0.6579828557036317\n",
    "}\n",
    "\n",
    "xgb = XGBClassifier(random_state=42, **params)\n",
    "\n",
    "# Wrap the training loop with tqdm for progress bar\n",
    "for i in tqdm(range(5), desc=\"Training XGBoost\"):\n",
    "    score = cross_val_score(xgb, np.array(X_train), y_train, scoring='accuracy', cv=5, n_jobs=-1).mean()\n",
    "    print(\"Accuracy: \", score)\n",
    "\n",
    "    # Optionally fit the model at each iteration\n",
    "    xgb.fit(np.array(X_train), y_train)"
   ],
   "metadata": {
    "collapsed": false,
    "ExecuteTime": {
     "end_time": "2024-02-05T15:21:02.815269Z",
     "start_time": "2024-02-05T15:18:57.041102Z"
    }
   },
   "id": "d8df80005a329069",
   "execution_count": 47
  },
  {
   "cell_type": "code",
   "outputs": [
    {
     "data": {
      "text/plain": "array(['Obesity_Type_II', 'Overweight_Level_I', 'Obesity_Type_III', ...,\n       'Insufficient_Weight', 'Normal_Weight', 'Obesity_Type_II'],\n      dtype=object)"
     },
     "execution_count": 48,
     "metadata": {},
     "output_type": "execute_result"
    }
   ],
   "source": [
    "y_pred = xgb.predict(np.array(X_test))\n",
    "y_pred = label_encoder.inverse_transform(y_pred)\n",
    "y_pred"
   ],
   "metadata": {
    "collapsed": false,
    "ExecuteTime": {
     "end_time": "2024-02-05T15:21:03.146119Z",
     "start_time": "2024-02-05T15:21:02.816664Z"
    }
   },
   "id": "d9e8254d95a29271",
   "execution_count": 48
  },
  {
   "cell_type": "code",
   "outputs": [
    {
     "data": {
      "text/plain": "RangeIndex(start=0, stop=13840, step=1)"
     },
     "execution_count": 52,
     "metadata": {},
     "output_type": "execute_result"
    }
   ],
   "source": [
    "test_df.index"
   ],
   "metadata": {
    "collapsed": false,
    "ExecuteTime": {
     "end_time": "2024-02-05T15:25:34.716368Z",
     "start_time": "2024-02-05T15:25:34.712223Z"
    }
   },
   "id": "dd03005627bd8ba2",
   "execution_count": 52
  },
  {
   "cell_type": "code",
   "outputs": [
    {
     "data": {
      "text/plain": "          id           NObeyesdad\n0      20758      Obesity_Type_II\n1      20759   Overweight_Level_I\n2      20760     Obesity_Type_III\n3      20761       Obesity_Type_I\n4      20762     Obesity_Type_III\n...      ...                  ...\n13835  34593  Overweight_Level_II\n13836  34594   Overweight_Level_I\n13837  34595  Insufficient_Weight\n13838  34596        Normal_Weight\n13839  34597      Obesity_Type_II\n\n[13840 rows x 2 columns]",
      "text/html": "<div>\n<style scoped>\n    .dataframe tbody tr th:only-of-type {\n        vertical-align: middle;\n    }\n\n    .dataframe tbody tr th {\n        vertical-align: top;\n    }\n\n    .dataframe thead th {\n        text-align: right;\n    }\n</style>\n<table border=\"1\" class=\"dataframe\">\n  <thead>\n    <tr style=\"text-align: right;\">\n      <th></th>\n      <th>id</th>\n      <th>NObeyesdad</th>\n    </tr>\n  </thead>\n  <tbody>\n    <tr>\n      <th>0</th>\n      <td>20758</td>\n      <td>Obesity_Type_II</td>\n    </tr>\n    <tr>\n      <th>1</th>\n      <td>20759</td>\n      <td>Overweight_Level_I</td>\n    </tr>\n    <tr>\n      <th>2</th>\n      <td>20760</td>\n      <td>Obesity_Type_III</td>\n    </tr>\n    <tr>\n      <th>3</th>\n      <td>20761</td>\n      <td>Obesity_Type_I</td>\n    </tr>\n    <tr>\n      <th>4</th>\n      <td>20762</td>\n      <td>Obesity_Type_III</td>\n    </tr>\n    <tr>\n      <th>...</th>\n      <td>...</td>\n      <td>...</td>\n    </tr>\n    <tr>\n      <th>13835</th>\n      <td>34593</td>\n      <td>Overweight_Level_II</td>\n    </tr>\n    <tr>\n      <th>13836</th>\n      <td>34594</td>\n      <td>Overweight_Level_I</td>\n    </tr>\n    <tr>\n      <th>13837</th>\n      <td>34595</td>\n      <td>Insufficient_Weight</td>\n    </tr>\n    <tr>\n      <th>13838</th>\n      <td>34596</td>\n      <td>Normal_Weight</td>\n    </tr>\n    <tr>\n      <th>13839</th>\n      <td>34597</td>\n      <td>Obesity_Type_II</td>\n    </tr>\n  </tbody>\n</table>\n<p>13840 rows × 2 columns</p>\n</div>"
     },
     "execution_count": 54,
     "metadata": {},
     "output_type": "execute_result"
    }
   ],
   "source": [
    "submission_df = pd.DataFrame({'id': test_df.id, \"NObeyesdad\": y_pred})\n",
    "submission_df"
   ],
   "metadata": {
    "collapsed": false,
    "ExecuteTime": {
     "end_time": "2024-02-05T15:26:21.944175Z",
     "start_time": "2024-02-05T15:26:21.933979Z"
    }
   },
   "id": "602afc70459d75ac",
   "execution_count": 54
  },
  {
   "cell_type": "code",
   "outputs": [],
   "source": [
    "submission_df.to_csv('Dataset/MultiClassPredictionObesityRisk/Prediction/20240205_FineTuned_XGBoost.csv', index=False)"
   ],
   "metadata": {
    "collapsed": false,
    "ExecuteTime": {
     "end_time": "2024-02-05T15:26:28.740997Z",
     "start_time": "2024-02-05T15:26:28.723974Z"
    }
   },
   "id": "a012c47b3fbcb85b",
   "execution_count": 55
  },
  {
   "cell_type": "code",
   "outputs": [],
   "source": [],
   "metadata": {
    "collapsed": false
   },
   "id": "bdc11ee9120f62f7"
  }
 ],
 "metadata": {
  "kernelspec": {
   "display_name": "Python 3",
   "language": "python",
   "name": "python3"
  },
  "language_info": {
   "codemirror_mode": {
    "name": "ipython",
    "version": 2
   },
   "file_extension": ".py",
   "mimetype": "text/x-python",
   "name": "python",
   "nbconvert_exporter": "python",
   "pygments_lexer": "ipython2",
   "version": "2.7.6"
  }
 },
 "nbformat": 4,
 "nbformat_minor": 5
}
