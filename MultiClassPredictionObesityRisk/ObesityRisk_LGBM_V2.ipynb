{
 "cells": [
  {
   "cell_type": "code",
   "execution_count": 11,
   "id": "initial_id",
   "metadata": {
    "collapsed": true,
    "ExecuteTime": {
     "end_time": "2024-02-06T12:00:03.725228Z",
     "start_time": "2024-02-06T12:00:03.720942Z"
    }
   },
   "outputs": [],
   "source": [
    "import pandas as pd\n",
    "import seaborn as sns\n",
    "import matplotlib.pyplot as plt\n",
    "import numpy as np\n",
    "\n",
    "from sklearn.preprocessing import LabelEncoder, StandardScaler\n",
    "from sklearn.model_selection import train_test_split\n",
    "from sklearn.metrics import confusion_matrix, accuracy_score, classification_report\n",
    "\n",
    "from lightgbm import LGBMClassifier\n",
    "\n",
    "from optuna.samplers import TPESampler\n",
    "import optuna\n",
    "\n",
    "import warnings\n",
    "warnings.filterwarnings(\"ignore\")"
   ]
  },
  {
   "cell_type": "code",
   "outputs": [],
   "source": [
    "# Loading the dataset   \n",
    "train_df = pd.read_csv('Dataset/MultiClassPredictionObesityRisk/train.csv')\n",
    "test_df = pd.read_csv('Dataset/MultiClassPredictionObesityRisk/test.csv')\n",
    "submission_df = pd.read_csv('Dataset/MultiClassPredictionObesityRisk/sample_submission.csv')\n",
    "original_df = pd.read_csv('Dataset/MultiClassPredictionObesityRisk/ObesityDataSet.csv')"
   ],
   "metadata": {
    "collapsed": false,
    "ExecuteTime": {
     "end_time": "2024-02-06T12:00:03.811327Z",
     "start_time": "2024-02-06T12:00:03.727298Z"
    }
   },
   "id": "e45de64d63a3b5c5",
   "execution_count": 12
  },
  {
   "cell_type": "code",
   "outputs": [
    {
     "name": "stdout",
     "output_type": "stream",
     "text": [
      "Continuous Variables: ['Age', 'Height', 'Weight', 'FCVC', 'NCP', 'CH2O', 'FAF', 'TUE']\n",
      "Categorical Variables: ['Gender', 'family_history_with_overweight', 'FAVC', 'CAEC', 'SMOKE', 'SCC', 'CALC', 'MTRANS']\n"
     ]
    }
   ],
   "source": [
    "def get_variable_types(dataframe):\n",
    "    continuous_vars = []\n",
    "    categorical_vars = []\n",
    "\n",
    "    for column in dataframe.columns:\n",
    "        if dataframe[column].dtype == 'object':\n",
    "            categorical_vars.append(column)\n",
    "        else:\n",
    "            continuous_vars.append(column)\n",
    "\n",
    "    return continuous_vars, categorical_vars\n",
    "\n",
    "continuous_vars, categorical_vars = get_variable_types(train_df)\n",
    "continuous_vars.remove('id'), categorical_vars.remove('NObeyesdad')\n",
    "\n",
    "print(\"Continuous Variables:\", continuous_vars)\n",
    "print(\"Categorical Variables:\", categorical_vars)"
   ],
   "metadata": {
    "collapsed": false,
    "ExecuteTime": {
     "end_time": "2024-02-06T12:00:03.850219Z",
     "start_time": "2024-02-06T12:00:03.813728Z"
    }
   },
   "id": "10ef0bf55ba83670",
   "execution_count": 13
  },
  {
   "cell_type": "code",
   "outputs": [
    {
     "data": {
      "text/plain": "      Gender        Age    Height      Weight family_history_with_overweight  \\\n0       Male  24.443011  1.699998   81.669950                            yes   \n1     Female  18.000000  1.560000   57.000000                            yes   \n2     Female  18.000000  1.711460   50.165754                            yes   \n3     Female  20.952737  1.710730  131.274851                            yes   \n4       Male  31.641081  1.914186   93.798055                            yes   \n...      ...        ...       ...         ...                            ...   \n2106  Female  20.976842  1.710730  131.408528                            yes   \n2107  Female  21.982942  1.748584  133.742943                            yes   \n2108  Female  22.524036  1.752206  133.689352                            yes   \n2109  Female  24.361936  1.739450  133.346641                            yes   \n2110  Female  23.664709  1.738836  133.472641                            yes   \n\n     FAVC      FCVC       NCP        CAEC SMOKE      CH2O SCC       FAF  \\\n0     yes  2.000000  2.983297   Sometimes    no  2.763573  no  0.000000   \n1     yes  2.000000  3.000000  Frequently    no  2.000000  no  1.000000   \n2     yes  1.880534  1.411685   Sometimes    no  1.910378  no  0.866045   \n3     yes  3.000000  3.000000   Sometimes    no  1.674061  no  1.467863   \n4     yes  2.679664  1.971472   Sometimes    no  1.979848  no  1.967973   \n...   ...       ...       ...         ...   ...       ...  ..       ...   \n2106  yes  3.000000  3.000000   Sometimes    no  1.728139  no  1.676269   \n2107  yes  3.000000  3.000000   Sometimes    no  2.005130  no  1.341390   \n2108  yes  3.000000  3.000000   Sometimes    no  2.054193  no  1.414209   \n2109  yes  3.000000  3.000000   Sometimes    no  2.852339  no  1.139107   \n2110  yes  3.000000  3.000000   Sometimes    no  2.863513  no  1.026452   \n\n           TUE       CALC                 MTRANS           NObeyesdad  \n0     0.976473  Sometimes  Public_Transportation  Overweight_Level_II  \n1     1.000000         no             Automobile        Normal_Weight  \n2     1.673584         no  Public_Transportation  Insufficient_Weight  \n3     0.780199  Sometimes  Public_Transportation     Obesity_Type_III  \n4     0.931721  Sometimes  Public_Transportation  Overweight_Level_II  \n...        ...        ...                    ...                  ...  \n2106  0.906247  Sometimes  Public_Transportation     Obesity_Type_III  \n2107  0.599270  Sometimes  Public_Transportation     Obesity_Type_III  \n2108  0.646288  Sometimes  Public_Transportation     Obesity_Type_III  \n2109  0.586035  Sometimes  Public_Transportation     Obesity_Type_III  \n2110  0.714137  Sometimes  Public_Transportation     Obesity_Type_III  \n\n[22845 rows x 17 columns]",
      "text/html": "<div>\n<style scoped>\n    .dataframe tbody tr th:only-of-type {\n        vertical-align: middle;\n    }\n\n    .dataframe tbody tr th {\n        vertical-align: top;\n    }\n\n    .dataframe thead th {\n        text-align: right;\n    }\n</style>\n<table border=\"1\" class=\"dataframe\">\n  <thead>\n    <tr style=\"text-align: right;\">\n      <th></th>\n      <th>Gender</th>\n      <th>Age</th>\n      <th>Height</th>\n      <th>Weight</th>\n      <th>family_history_with_overweight</th>\n      <th>FAVC</th>\n      <th>FCVC</th>\n      <th>NCP</th>\n      <th>CAEC</th>\n      <th>SMOKE</th>\n      <th>CH2O</th>\n      <th>SCC</th>\n      <th>FAF</th>\n      <th>TUE</th>\n      <th>CALC</th>\n      <th>MTRANS</th>\n      <th>NObeyesdad</th>\n    </tr>\n  </thead>\n  <tbody>\n    <tr>\n      <th>0</th>\n      <td>Male</td>\n      <td>24.443011</td>\n      <td>1.699998</td>\n      <td>81.669950</td>\n      <td>yes</td>\n      <td>yes</td>\n      <td>2.000000</td>\n      <td>2.983297</td>\n      <td>Sometimes</td>\n      <td>no</td>\n      <td>2.763573</td>\n      <td>no</td>\n      <td>0.000000</td>\n      <td>0.976473</td>\n      <td>Sometimes</td>\n      <td>Public_Transportation</td>\n      <td>Overweight_Level_II</td>\n    </tr>\n    <tr>\n      <th>1</th>\n      <td>Female</td>\n      <td>18.000000</td>\n      <td>1.560000</td>\n      <td>57.000000</td>\n      <td>yes</td>\n      <td>yes</td>\n      <td>2.000000</td>\n      <td>3.000000</td>\n      <td>Frequently</td>\n      <td>no</td>\n      <td>2.000000</td>\n      <td>no</td>\n      <td>1.000000</td>\n      <td>1.000000</td>\n      <td>no</td>\n      <td>Automobile</td>\n      <td>Normal_Weight</td>\n    </tr>\n    <tr>\n      <th>2</th>\n      <td>Female</td>\n      <td>18.000000</td>\n      <td>1.711460</td>\n      <td>50.165754</td>\n      <td>yes</td>\n      <td>yes</td>\n      <td>1.880534</td>\n      <td>1.411685</td>\n      <td>Sometimes</td>\n      <td>no</td>\n      <td>1.910378</td>\n      <td>no</td>\n      <td>0.866045</td>\n      <td>1.673584</td>\n      <td>no</td>\n      <td>Public_Transportation</td>\n      <td>Insufficient_Weight</td>\n    </tr>\n    <tr>\n      <th>3</th>\n      <td>Female</td>\n      <td>20.952737</td>\n      <td>1.710730</td>\n      <td>131.274851</td>\n      <td>yes</td>\n      <td>yes</td>\n      <td>3.000000</td>\n      <td>3.000000</td>\n      <td>Sometimes</td>\n      <td>no</td>\n      <td>1.674061</td>\n      <td>no</td>\n      <td>1.467863</td>\n      <td>0.780199</td>\n      <td>Sometimes</td>\n      <td>Public_Transportation</td>\n      <td>Obesity_Type_III</td>\n    </tr>\n    <tr>\n      <th>4</th>\n      <td>Male</td>\n      <td>31.641081</td>\n      <td>1.914186</td>\n      <td>93.798055</td>\n      <td>yes</td>\n      <td>yes</td>\n      <td>2.679664</td>\n      <td>1.971472</td>\n      <td>Sometimes</td>\n      <td>no</td>\n      <td>1.979848</td>\n      <td>no</td>\n      <td>1.967973</td>\n      <td>0.931721</td>\n      <td>Sometimes</td>\n      <td>Public_Transportation</td>\n      <td>Overweight_Level_II</td>\n    </tr>\n    <tr>\n      <th>...</th>\n      <td>...</td>\n      <td>...</td>\n      <td>...</td>\n      <td>...</td>\n      <td>...</td>\n      <td>...</td>\n      <td>...</td>\n      <td>...</td>\n      <td>...</td>\n      <td>...</td>\n      <td>...</td>\n      <td>...</td>\n      <td>...</td>\n      <td>...</td>\n      <td>...</td>\n      <td>...</td>\n      <td>...</td>\n    </tr>\n    <tr>\n      <th>2106</th>\n      <td>Female</td>\n      <td>20.976842</td>\n      <td>1.710730</td>\n      <td>131.408528</td>\n      <td>yes</td>\n      <td>yes</td>\n      <td>3.000000</td>\n      <td>3.000000</td>\n      <td>Sometimes</td>\n      <td>no</td>\n      <td>1.728139</td>\n      <td>no</td>\n      <td>1.676269</td>\n      <td>0.906247</td>\n      <td>Sometimes</td>\n      <td>Public_Transportation</td>\n      <td>Obesity_Type_III</td>\n    </tr>\n    <tr>\n      <th>2107</th>\n      <td>Female</td>\n      <td>21.982942</td>\n      <td>1.748584</td>\n      <td>133.742943</td>\n      <td>yes</td>\n      <td>yes</td>\n      <td>3.000000</td>\n      <td>3.000000</td>\n      <td>Sometimes</td>\n      <td>no</td>\n      <td>2.005130</td>\n      <td>no</td>\n      <td>1.341390</td>\n      <td>0.599270</td>\n      <td>Sometimes</td>\n      <td>Public_Transportation</td>\n      <td>Obesity_Type_III</td>\n    </tr>\n    <tr>\n      <th>2108</th>\n      <td>Female</td>\n      <td>22.524036</td>\n      <td>1.752206</td>\n      <td>133.689352</td>\n      <td>yes</td>\n      <td>yes</td>\n      <td>3.000000</td>\n      <td>3.000000</td>\n      <td>Sometimes</td>\n      <td>no</td>\n      <td>2.054193</td>\n      <td>no</td>\n      <td>1.414209</td>\n      <td>0.646288</td>\n      <td>Sometimes</td>\n      <td>Public_Transportation</td>\n      <td>Obesity_Type_III</td>\n    </tr>\n    <tr>\n      <th>2109</th>\n      <td>Female</td>\n      <td>24.361936</td>\n      <td>1.739450</td>\n      <td>133.346641</td>\n      <td>yes</td>\n      <td>yes</td>\n      <td>3.000000</td>\n      <td>3.000000</td>\n      <td>Sometimes</td>\n      <td>no</td>\n      <td>2.852339</td>\n      <td>no</td>\n      <td>1.139107</td>\n      <td>0.586035</td>\n      <td>Sometimes</td>\n      <td>Public_Transportation</td>\n      <td>Obesity_Type_III</td>\n    </tr>\n    <tr>\n      <th>2110</th>\n      <td>Female</td>\n      <td>23.664709</td>\n      <td>1.738836</td>\n      <td>133.472641</td>\n      <td>yes</td>\n      <td>yes</td>\n      <td>3.000000</td>\n      <td>3.000000</td>\n      <td>Sometimes</td>\n      <td>no</td>\n      <td>2.863513</td>\n      <td>no</td>\n      <td>1.026452</td>\n      <td>0.714137</td>\n      <td>Sometimes</td>\n      <td>Public_Transportation</td>\n      <td>Obesity_Type_III</td>\n    </tr>\n  </tbody>\n</table>\n<p>22845 rows × 17 columns</p>\n</div>"
     },
     "execution_count": 14,
     "metadata": {},
     "output_type": "execute_result"
    }
   ],
   "source": [
    "train = pd.concat([train_df, original_df]).drop(['id'], axis=1).drop_duplicates()\n",
    "test = test_df.drop(['id'], axis=1)\n",
    "train"
   ],
   "metadata": {
    "collapsed": false,
    "ExecuteTime": {
     "end_time": "2024-02-06T12:00:03.933540Z",
     "start_time": "2024-02-06T12:00:03.823836Z"
    }
   },
   "id": "fe8850f949707f",
   "execution_count": 14
  },
  {
   "cell_type": "code",
   "outputs": [],
   "source": [
    "# One-Hot encoding the categorical variables\n",
    "train = pd.get_dummies(train, columns=categorical_vars)\n",
    "test = pd.get_dummies(test, columns=categorical_vars)"
   ],
   "metadata": {
    "collapsed": false,
    "ExecuteTime": {
     "end_time": "2024-02-06T12:00:04.005073Z",
     "start_time": "2024-02-06T12:00:03.926108Z"
    }
   },
   "id": "bfbdcbc2c2eea676",
   "execution_count": 15
  },
  {
   "cell_type": "code",
   "outputs": [
    {
     "data": {
      "text/plain": "            Age    Height      Weight      FCVC       NCP      CH2O       FAF  \\\n0     24.443011  1.699998   81.669950  2.000000  2.983297  2.763573  0.000000   \n1     18.000000  1.560000   57.000000  2.000000  3.000000  2.000000  1.000000   \n2     18.000000  1.711460   50.165754  1.880534  1.411685  1.910378  0.866045   \n3     20.952737  1.710730  131.274851  3.000000  3.000000  1.674061  1.467863   \n4     31.641081  1.914186   93.798055  2.679664  1.971472  1.979848  1.967973   \n...         ...       ...         ...       ...       ...       ...       ...   \n2106  20.976842  1.710730  131.408528  3.000000  3.000000  1.728139  1.676269   \n2107  21.982942  1.748584  133.742943  3.000000  3.000000  2.005130  1.341390   \n2108  22.524036  1.752206  133.689352  3.000000  3.000000  2.054193  1.414209   \n2109  24.361936  1.739450  133.346641  3.000000  3.000000  2.852339  1.139107   \n2110  23.664709  1.738836  133.472641  3.000000  3.000000  2.863513  1.026452   \n\n           TUE           NObeyesdad  Gender_Female  ...  SCC_yes  CALC_Always  \\\n0     0.976473  Overweight_Level_II          False  ...    False        False   \n1     1.000000        Normal_Weight           True  ...    False        False   \n2     1.673584  Insufficient_Weight           True  ...    False        False   \n3     0.780199     Obesity_Type_III           True  ...    False        False   \n4     0.931721  Overweight_Level_II          False  ...    False        False   \n...        ...                  ...            ...  ...      ...          ...   \n2106  0.906247     Obesity_Type_III           True  ...    False        False   \n2107  0.599270     Obesity_Type_III           True  ...    False        False   \n2108  0.646288     Obesity_Type_III           True  ...    False        False   \n2109  0.586035     Obesity_Type_III           True  ...    False        False   \n2110  0.714137     Obesity_Type_III           True  ...    False        False   \n\n      CALC_Frequently  CALC_Sometimes  CALC_no  MTRANS_Automobile  \\\n0               False            True    False              False   \n1               False           False     True               True   \n2               False           False     True              False   \n3               False            True    False              False   \n4               False            True    False              False   \n...               ...             ...      ...                ...   \n2106            False            True    False              False   \n2107            False            True    False              False   \n2108            False            True    False              False   \n2109            False            True    False              False   \n2110            False            True    False              False   \n\n      MTRANS_Bike  MTRANS_Motorbike  MTRANS_Public_Transportation  \\\n0           False             False                          True   \n1           False             False                         False   \n2           False             False                          True   \n3           False             False                          True   \n4           False             False                          True   \n...           ...               ...                           ...   \n2106        False             False                          True   \n2107        False             False                          True   \n2108        False             False                          True   \n2109        False             False                          True   \n2110        False             False                          True   \n\n      MTRANS_Walking  \n0              False  \n1              False  \n2              False  \n3              False  \n4              False  \n...              ...  \n2106           False  \n2107           False  \n2108           False  \n2109           False  \n2110           False  \n\n[22845 rows x 32 columns]",
      "text/html": "<div>\n<style scoped>\n    .dataframe tbody tr th:only-of-type {\n        vertical-align: middle;\n    }\n\n    .dataframe tbody tr th {\n        vertical-align: top;\n    }\n\n    .dataframe thead th {\n        text-align: right;\n    }\n</style>\n<table border=\"1\" class=\"dataframe\">\n  <thead>\n    <tr style=\"text-align: right;\">\n      <th></th>\n      <th>Age</th>\n      <th>Height</th>\n      <th>Weight</th>\n      <th>FCVC</th>\n      <th>NCP</th>\n      <th>CH2O</th>\n      <th>FAF</th>\n      <th>TUE</th>\n      <th>NObeyesdad</th>\n      <th>Gender_Female</th>\n      <th>...</th>\n      <th>SCC_yes</th>\n      <th>CALC_Always</th>\n      <th>CALC_Frequently</th>\n      <th>CALC_Sometimes</th>\n      <th>CALC_no</th>\n      <th>MTRANS_Automobile</th>\n      <th>MTRANS_Bike</th>\n      <th>MTRANS_Motorbike</th>\n      <th>MTRANS_Public_Transportation</th>\n      <th>MTRANS_Walking</th>\n    </tr>\n  </thead>\n  <tbody>\n    <tr>\n      <th>0</th>\n      <td>24.443011</td>\n      <td>1.699998</td>\n      <td>81.669950</td>\n      <td>2.000000</td>\n      <td>2.983297</td>\n      <td>2.763573</td>\n      <td>0.000000</td>\n      <td>0.976473</td>\n      <td>Overweight_Level_II</td>\n      <td>False</td>\n      <td>...</td>\n      <td>False</td>\n      <td>False</td>\n      <td>False</td>\n      <td>True</td>\n      <td>False</td>\n      <td>False</td>\n      <td>False</td>\n      <td>False</td>\n      <td>True</td>\n      <td>False</td>\n    </tr>\n    <tr>\n      <th>1</th>\n      <td>18.000000</td>\n      <td>1.560000</td>\n      <td>57.000000</td>\n      <td>2.000000</td>\n      <td>3.000000</td>\n      <td>2.000000</td>\n      <td>1.000000</td>\n      <td>1.000000</td>\n      <td>Normal_Weight</td>\n      <td>True</td>\n      <td>...</td>\n      <td>False</td>\n      <td>False</td>\n      <td>False</td>\n      <td>False</td>\n      <td>True</td>\n      <td>True</td>\n      <td>False</td>\n      <td>False</td>\n      <td>False</td>\n      <td>False</td>\n    </tr>\n    <tr>\n      <th>2</th>\n      <td>18.000000</td>\n      <td>1.711460</td>\n      <td>50.165754</td>\n      <td>1.880534</td>\n      <td>1.411685</td>\n      <td>1.910378</td>\n      <td>0.866045</td>\n      <td>1.673584</td>\n      <td>Insufficient_Weight</td>\n      <td>True</td>\n      <td>...</td>\n      <td>False</td>\n      <td>False</td>\n      <td>False</td>\n      <td>False</td>\n      <td>True</td>\n      <td>False</td>\n      <td>False</td>\n      <td>False</td>\n      <td>True</td>\n      <td>False</td>\n    </tr>\n    <tr>\n      <th>3</th>\n      <td>20.952737</td>\n      <td>1.710730</td>\n      <td>131.274851</td>\n      <td>3.000000</td>\n      <td>3.000000</td>\n      <td>1.674061</td>\n      <td>1.467863</td>\n      <td>0.780199</td>\n      <td>Obesity_Type_III</td>\n      <td>True</td>\n      <td>...</td>\n      <td>False</td>\n      <td>False</td>\n      <td>False</td>\n      <td>True</td>\n      <td>False</td>\n      <td>False</td>\n      <td>False</td>\n      <td>False</td>\n      <td>True</td>\n      <td>False</td>\n    </tr>\n    <tr>\n      <th>4</th>\n      <td>31.641081</td>\n      <td>1.914186</td>\n      <td>93.798055</td>\n      <td>2.679664</td>\n      <td>1.971472</td>\n      <td>1.979848</td>\n      <td>1.967973</td>\n      <td>0.931721</td>\n      <td>Overweight_Level_II</td>\n      <td>False</td>\n      <td>...</td>\n      <td>False</td>\n      <td>False</td>\n      <td>False</td>\n      <td>True</td>\n      <td>False</td>\n      <td>False</td>\n      <td>False</td>\n      <td>False</td>\n      <td>True</td>\n      <td>False</td>\n    </tr>\n    <tr>\n      <th>...</th>\n      <td>...</td>\n      <td>...</td>\n      <td>...</td>\n      <td>...</td>\n      <td>...</td>\n      <td>...</td>\n      <td>...</td>\n      <td>...</td>\n      <td>...</td>\n      <td>...</td>\n      <td>...</td>\n      <td>...</td>\n      <td>...</td>\n      <td>...</td>\n      <td>...</td>\n      <td>...</td>\n      <td>...</td>\n      <td>...</td>\n      <td>...</td>\n      <td>...</td>\n      <td>...</td>\n    </tr>\n    <tr>\n      <th>2106</th>\n      <td>20.976842</td>\n      <td>1.710730</td>\n      <td>131.408528</td>\n      <td>3.000000</td>\n      <td>3.000000</td>\n      <td>1.728139</td>\n      <td>1.676269</td>\n      <td>0.906247</td>\n      <td>Obesity_Type_III</td>\n      <td>True</td>\n      <td>...</td>\n      <td>False</td>\n      <td>False</td>\n      <td>False</td>\n      <td>True</td>\n      <td>False</td>\n      <td>False</td>\n      <td>False</td>\n      <td>False</td>\n      <td>True</td>\n      <td>False</td>\n    </tr>\n    <tr>\n      <th>2107</th>\n      <td>21.982942</td>\n      <td>1.748584</td>\n      <td>133.742943</td>\n      <td>3.000000</td>\n      <td>3.000000</td>\n      <td>2.005130</td>\n      <td>1.341390</td>\n      <td>0.599270</td>\n      <td>Obesity_Type_III</td>\n      <td>True</td>\n      <td>...</td>\n      <td>False</td>\n      <td>False</td>\n      <td>False</td>\n      <td>True</td>\n      <td>False</td>\n      <td>False</td>\n      <td>False</td>\n      <td>False</td>\n      <td>True</td>\n      <td>False</td>\n    </tr>\n    <tr>\n      <th>2108</th>\n      <td>22.524036</td>\n      <td>1.752206</td>\n      <td>133.689352</td>\n      <td>3.000000</td>\n      <td>3.000000</td>\n      <td>2.054193</td>\n      <td>1.414209</td>\n      <td>0.646288</td>\n      <td>Obesity_Type_III</td>\n      <td>True</td>\n      <td>...</td>\n      <td>False</td>\n      <td>False</td>\n      <td>False</td>\n      <td>True</td>\n      <td>False</td>\n      <td>False</td>\n      <td>False</td>\n      <td>False</td>\n      <td>True</td>\n      <td>False</td>\n    </tr>\n    <tr>\n      <th>2109</th>\n      <td>24.361936</td>\n      <td>1.739450</td>\n      <td>133.346641</td>\n      <td>3.000000</td>\n      <td>3.000000</td>\n      <td>2.852339</td>\n      <td>1.139107</td>\n      <td>0.586035</td>\n      <td>Obesity_Type_III</td>\n      <td>True</td>\n      <td>...</td>\n      <td>False</td>\n      <td>False</td>\n      <td>False</td>\n      <td>True</td>\n      <td>False</td>\n      <td>False</td>\n      <td>False</td>\n      <td>False</td>\n      <td>True</td>\n      <td>False</td>\n    </tr>\n    <tr>\n      <th>2110</th>\n      <td>23.664709</td>\n      <td>1.738836</td>\n      <td>133.472641</td>\n      <td>3.000000</td>\n      <td>3.000000</td>\n      <td>2.863513</td>\n      <td>1.026452</td>\n      <td>0.714137</td>\n      <td>Obesity_Type_III</td>\n      <td>True</td>\n      <td>...</td>\n      <td>False</td>\n      <td>False</td>\n      <td>False</td>\n      <td>True</td>\n      <td>False</td>\n      <td>False</td>\n      <td>False</td>\n      <td>False</td>\n      <td>True</td>\n      <td>False</td>\n    </tr>\n  </tbody>\n</table>\n<p>22845 rows × 32 columns</p>\n</div>"
     },
     "execution_count": 16,
     "metadata": {},
     "output_type": "execute_result"
    }
   ],
   "source": [
    "train"
   ],
   "metadata": {
    "collapsed": false,
    "ExecuteTime": {
     "end_time": "2024-02-06T12:00:20.654357Z",
     "start_time": "2024-02-06T12:00:20.634360Z"
    }
   },
   "id": "b14c8f313c0cce04",
   "execution_count": 16
  },
  {
   "cell_type": "code",
   "outputs": [
    {
     "data": {
      "text/plain": "             Age    Height      Weight      FCVC       NCP      CH2O  \\\n0      26.899886  1.848294  120.644178  2.938616  3.000000  2.825629   \n1      21.000000  1.600000   66.000000  2.000000  1.000000  3.000000   \n2      26.000000  1.643355  111.600553  3.000000  3.000000  2.621877   \n3      20.979254  1.553127  103.669116  2.000000  2.977909  2.786417   \n4      26.000000  1.627396  104.835346  3.000000  3.000000  2.653531   \n...          ...       ...         ...       ...       ...       ...   \n13835  23.327836  1.721384   78.030383  2.813234  3.000000  1.000000   \n13836  29.000000  1.590000   62.000000  3.000000  3.000000  2.000000   \n13837  22.935612  1.585547   44.376637  3.000000  2.273740  2.000000   \n13838  21.000000  1.620000   53.000000  2.000000  3.000000  2.000000   \n13839  26.490926  1.812259  120.980508  2.744994  3.000000  2.205977   \n\n            FAF       TUE  Gender_Female  Gender_Male  ...  SCC_yes  \\\n0      0.855400  0.000000          False         True  ...    False   \n1      1.000000  0.000000           True        False  ...    False   \n2      0.000000  0.250502           True        False  ...    False   \n3      0.094851  0.000000          False         True  ...    False   \n4      0.000000  0.741069           True        False  ...    False   \n...         ...       ...            ...          ...  ...      ...   \n13835  0.807076  0.778632          False         True  ...    False   \n13836  0.000000  0.000000           True        False  ...    False   \n13837  1.949840  1.000000           True        False  ...    False   \n13838  3.000000  2.000000          False         True  ...    False   \n13839  1.304291  0.630866          False         True  ...    False   \n\n       CALC_Always  CALC_Frequently  CALC_Sometimes  CALC_no  \\\n0            False            False            True    False   \n1            False            False            True    False   \n2            False            False            True    False   \n3            False            False            True    False   \n4            False            False            True    False   \n...            ...              ...             ...      ...   \n13835        False            False            True    False   \n13836        False            False            True    False   \n13837        False            False            True    False   \n13838        False            False           False     True   \n13839        False            False            True    False   \n\n       MTRANS_Automobile  MTRANS_Bike  MTRANS_Motorbike  \\\n0                  False        False             False   \n1                  False        False             False   \n2                  False        False             False   \n3                  False        False             False   \n4                  False        False             False   \n...                  ...          ...               ...   \n13835              False        False             False   \n13836              False        False             False   \n13837              False        False             False   \n13838              False        False             False   \n13839              False        False             False   \n\n       MTRANS_Public_Transportation  MTRANS_Walking  \n0                              True           False  \n1                              True           False  \n2                              True           False  \n3                              True           False  \n4                              True           False  \n...                             ...             ...  \n13835                          True           False  \n13836                          True           False  \n13837                          True           False  \n13838                          True           False  \n13839                          True           False  \n\n[13840 rows x 31 columns]",
      "text/html": "<div>\n<style scoped>\n    .dataframe tbody tr th:only-of-type {\n        vertical-align: middle;\n    }\n\n    .dataframe tbody tr th {\n        vertical-align: top;\n    }\n\n    .dataframe thead th {\n        text-align: right;\n    }\n</style>\n<table border=\"1\" class=\"dataframe\">\n  <thead>\n    <tr style=\"text-align: right;\">\n      <th></th>\n      <th>Age</th>\n      <th>Height</th>\n      <th>Weight</th>\n      <th>FCVC</th>\n      <th>NCP</th>\n      <th>CH2O</th>\n      <th>FAF</th>\n      <th>TUE</th>\n      <th>Gender_Female</th>\n      <th>Gender_Male</th>\n      <th>...</th>\n      <th>SCC_yes</th>\n      <th>CALC_Always</th>\n      <th>CALC_Frequently</th>\n      <th>CALC_Sometimes</th>\n      <th>CALC_no</th>\n      <th>MTRANS_Automobile</th>\n      <th>MTRANS_Bike</th>\n      <th>MTRANS_Motorbike</th>\n      <th>MTRANS_Public_Transportation</th>\n      <th>MTRANS_Walking</th>\n    </tr>\n  </thead>\n  <tbody>\n    <tr>\n      <th>0</th>\n      <td>26.899886</td>\n      <td>1.848294</td>\n      <td>120.644178</td>\n      <td>2.938616</td>\n      <td>3.000000</td>\n      <td>2.825629</td>\n      <td>0.855400</td>\n      <td>0.000000</td>\n      <td>False</td>\n      <td>True</td>\n      <td>...</td>\n      <td>False</td>\n      <td>False</td>\n      <td>False</td>\n      <td>True</td>\n      <td>False</td>\n      <td>False</td>\n      <td>False</td>\n      <td>False</td>\n      <td>True</td>\n      <td>False</td>\n    </tr>\n    <tr>\n      <th>1</th>\n      <td>21.000000</td>\n      <td>1.600000</td>\n      <td>66.000000</td>\n      <td>2.000000</td>\n      <td>1.000000</td>\n      <td>3.000000</td>\n      <td>1.000000</td>\n      <td>0.000000</td>\n      <td>True</td>\n      <td>False</td>\n      <td>...</td>\n      <td>False</td>\n      <td>False</td>\n      <td>False</td>\n      <td>True</td>\n      <td>False</td>\n      <td>False</td>\n      <td>False</td>\n      <td>False</td>\n      <td>True</td>\n      <td>False</td>\n    </tr>\n    <tr>\n      <th>2</th>\n      <td>26.000000</td>\n      <td>1.643355</td>\n      <td>111.600553</td>\n      <td>3.000000</td>\n      <td>3.000000</td>\n      <td>2.621877</td>\n      <td>0.000000</td>\n      <td>0.250502</td>\n      <td>True</td>\n      <td>False</td>\n      <td>...</td>\n      <td>False</td>\n      <td>False</td>\n      <td>False</td>\n      <td>True</td>\n      <td>False</td>\n      <td>False</td>\n      <td>False</td>\n      <td>False</td>\n      <td>True</td>\n      <td>False</td>\n    </tr>\n    <tr>\n      <th>3</th>\n      <td>20.979254</td>\n      <td>1.553127</td>\n      <td>103.669116</td>\n      <td>2.000000</td>\n      <td>2.977909</td>\n      <td>2.786417</td>\n      <td>0.094851</td>\n      <td>0.000000</td>\n      <td>False</td>\n      <td>True</td>\n      <td>...</td>\n      <td>False</td>\n      <td>False</td>\n      <td>False</td>\n      <td>True</td>\n      <td>False</td>\n      <td>False</td>\n      <td>False</td>\n      <td>False</td>\n      <td>True</td>\n      <td>False</td>\n    </tr>\n    <tr>\n      <th>4</th>\n      <td>26.000000</td>\n      <td>1.627396</td>\n      <td>104.835346</td>\n      <td>3.000000</td>\n      <td>3.000000</td>\n      <td>2.653531</td>\n      <td>0.000000</td>\n      <td>0.741069</td>\n      <td>True</td>\n      <td>False</td>\n      <td>...</td>\n      <td>False</td>\n      <td>False</td>\n      <td>False</td>\n      <td>True</td>\n      <td>False</td>\n      <td>False</td>\n      <td>False</td>\n      <td>False</td>\n      <td>True</td>\n      <td>False</td>\n    </tr>\n    <tr>\n      <th>...</th>\n      <td>...</td>\n      <td>...</td>\n      <td>...</td>\n      <td>...</td>\n      <td>...</td>\n      <td>...</td>\n      <td>...</td>\n      <td>...</td>\n      <td>...</td>\n      <td>...</td>\n      <td>...</td>\n      <td>...</td>\n      <td>...</td>\n      <td>...</td>\n      <td>...</td>\n      <td>...</td>\n      <td>...</td>\n      <td>...</td>\n      <td>...</td>\n      <td>...</td>\n      <td>...</td>\n    </tr>\n    <tr>\n      <th>13835</th>\n      <td>23.327836</td>\n      <td>1.721384</td>\n      <td>78.030383</td>\n      <td>2.813234</td>\n      <td>3.000000</td>\n      <td>1.000000</td>\n      <td>0.807076</td>\n      <td>0.778632</td>\n      <td>False</td>\n      <td>True</td>\n      <td>...</td>\n      <td>False</td>\n      <td>False</td>\n      <td>False</td>\n      <td>True</td>\n      <td>False</td>\n      <td>False</td>\n      <td>False</td>\n      <td>False</td>\n      <td>True</td>\n      <td>False</td>\n    </tr>\n    <tr>\n      <th>13836</th>\n      <td>29.000000</td>\n      <td>1.590000</td>\n      <td>62.000000</td>\n      <td>3.000000</td>\n      <td>3.000000</td>\n      <td>2.000000</td>\n      <td>0.000000</td>\n      <td>0.000000</td>\n      <td>True</td>\n      <td>False</td>\n      <td>...</td>\n      <td>False</td>\n      <td>False</td>\n      <td>False</td>\n      <td>True</td>\n      <td>False</td>\n      <td>False</td>\n      <td>False</td>\n      <td>False</td>\n      <td>True</td>\n      <td>False</td>\n    </tr>\n    <tr>\n      <th>13837</th>\n      <td>22.935612</td>\n      <td>1.585547</td>\n      <td>44.376637</td>\n      <td>3.000000</td>\n      <td>2.273740</td>\n      <td>2.000000</td>\n      <td>1.949840</td>\n      <td>1.000000</td>\n      <td>True</td>\n      <td>False</td>\n      <td>...</td>\n      <td>False</td>\n      <td>False</td>\n      <td>False</td>\n      <td>True</td>\n      <td>False</td>\n      <td>False</td>\n      <td>False</td>\n      <td>False</td>\n      <td>True</td>\n      <td>False</td>\n    </tr>\n    <tr>\n      <th>13838</th>\n      <td>21.000000</td>\n      <td>1.620000</td>\n      <td>53.000000</td>\n      <td>2.000000</td>\n      <td>3.000000</td>\n      <td>2.000000</td>\n      <td>3.000000</td>\n      <td>2.000000</td>\n      <td>False</td>\n      <td>True</td>\n      <td>...</td>\n      <td>False</td>\n      <td>False</td>\n      <td>False</td>\n      <td>False</td>\n      <td>True</td>\n      <td>False</td>\n      <td>False</td>\n      <td>False</td>\n      <td>True</td>\n      <td>False</td>\n    </tr>\n    <tr>\n      <th>13839</th>\n      <td>26.490926</td>\n      <td>1.812259</td>\n      <td>120.980508</td>\n      <td>2.744994</td>\n      <td>3.000000</td>\n      <td>2.205977</td>\n      <td>1.304291</td>\n      <td>0.630866</td>\n      <td>False</td>\n      <td>True</td>\n      <td>...</td>\n      <td>False</td>\n      <td>False</td>\n      <td>False</td>\n      <td>True</td>\n      <td>False</td>\n      <td>False</td>\n      <td>False</td>\n      <td>False</td>\n      <td>True</td>\n      <td>False</td>\n    </tr>\n  </tbody>\n</table>\n<p>13840 rows × 31 columns</p>\n</div>"
     },
     "execution_count": 17,
     "metadata": {},
     "output_type": "execute_result"
    }
   ],
   "source": [
    "test"
   ],
   "metadata": {
    "collapsed": false,
    "ExecuteTime": {
     "end_time": "2024-02-06T12:00:33.724701Z",
     "start_time": "2024-02-06T12:00:33.707364Z"
    }
   },
   "id": "d70d3f5e871355d9",
   "execution_count": 17
  },
  {
   "cell_type": "code",
   "outputs": [
    {
     "data": {
      "text/plain": "            Age    Height      Weight      FCVC       NCP      CH2O       FAF  \\\n0     24.443011  1.699998   81.669950  2.000000  2.983297  2.763573  0.000000   \n1     18.000000  1.560000   57.000000  2.000000  3.000000  2.000000  1.000000   \n2     18.000000  1.711460   50.165754  1.880534  1.411685  1.910378  0.866045   \n3     20.952737  1.710730  131.274851  3.000000  3.000000  1.674061  1.467863   \n4     31.641081  1.914186   93.798055  2.679664  1.971472  1.979848  1.967973   \n...         ...       ...         ...       ...       ...       ...       ...   \n2106  20.976842  1.710730  131.408528  3.000000  3.000000  1.728139  1.676269   \n2107  21.982942  1.748584  133.742943  3.000000  3.000000  2.005130  1.341390   \n2108  22.524036  1.752206  133.689352  3.000000  3.000000  2.054193  1.414209   \n2109  24.361936  1.739450  133.346641  3.000000  3.000000  2.852339  1.139107   \n2110  23.664709  1.738836  133.472641  3.000000  3.000000  2.863513  1.026452   \n\n           TUE  Gender_Female  Gender_Male  ...  SCC_yes  CALC_Always  \\\n0     0.976473          False         True  ...    False        False   \n1     1.000000           True        False  ...    False        False   \n2     1.673584           True        False  ...    False        False   \n3     0.780199           True        False  ...    False        False   \n4     0.931721          False         True  ...    False        False   \n...        ...            ...          ...  ...      ...          ...   \n2106  0.906247           True        False  ...    False        False   \n2107  0.599270           True        False  ...    False        False   \n2108  0.646288           True        False  ...    False        False   \n2109  0.586035           True        False  ...    False        False   \n2110  0.714137           True        False  ...    False        False   \n\n      CALC_Frequently  CALC_Sometimes  CALC_no  MTRANS_Automobile  \\\n0               False            True    False              False   \n1               False           False     True               True   \n2               False           False     True              False   \n3               False            True    False              False   \n4               False            True    False              False   \n...               ...             ...      ...                ...   \n2106            False            True    False              False   \n2107            False            True    False              False   \n2108            False            True    False              False   \n2109            False            True    False              False   \n2110            False            True    False              False   \n\n      MTRANS_Bike  MTRANS_Motorbike  MTRANS_Public_Transportation  \\\n0           False             False                          True   \n1           False             False                         False   \n2           False             False                          True   \n3           False             False                          True   \n4           False             False                          True   \n...           ...               ...                           ...   \n2106        False             False                          True   \n2107        False             False                          True   \n2108        False             False                          True   \n2109        False             False                          True   \n2110        False             False                          True   \n\n      MTRANS_Walking  \n0              False  \n1              False  \n2              False  \n3              False  \n4              False  \n...              ...  \n2106           False  \n2107           False  \n2108           False  \n2109           False  \n2110           False  \n\n[22845 rows x 31 columns]",
      "text/html": "<div>\n<style scoped>\n    .dataframe tbody tr th:only-of-type {\n        vertical-align: middle;\n    }\n\n    .dataframe tbody tr th {\n        vertical-align: top;\n    }\n\n    .dataframe thead th {\n        text-align: right;\n    }\n</style>\n<table border=\"1\" class=\"dataframe\">\n  <thead>\n    <tr style=\"text-align: right;\">\n      <th></th>\n      <th>Age</th>\n      <th>Height</th>\n      <th>Weight</th>\n      <th>FCVC</th>\n      <th>NCP</th>\n      <th>CH2O</th>\n      <th>FAF</th>\n      <th>TUE</th>\n      <th>Gender_Female</th>\n      <th>Gender_Male</th>\n      <th>...</th>\n      <th>SCC_yes</th>\n      <th>CALC_Always</th>\n      <th>CALC_Frequently</th>\n      <th>CALC_Sometimes</th>\n      <th>CALC_no</th>\n      <th>MTRANS_Automobile</th>\n      <th>MTRANS_Bike</th>\n      <th>MTRANS_Motorbike</th>\n      <th>MTRANS_Public_Transportation</th>\n      <th>MTRANS_Walking</th>\n    </tr>\n  </thead>\n  <tbody>\n    <tr>\n      <th>0</th>\n      <td>24.443011</td>\n      <td>1.699998</td>\n      <td>81.669950</td>\n      <td>2.000000</td>\n      <td>2.983297</td>\n      <td>2.763573</td>\n      <td>0.000000</td>\n      <td>0.976473</td>\n      <td>False</td>\n      <td>True</td>\n      <td>...</td>\n      <td>False</td>\n      <td>False</td>\n      <td>False</td>\n      <td>True</td>\n      <td>False</td>\n      <td>False</td>\n      <td>False</td>\n      <td>False</td>\n      <td>True</td>\n      <td>False</td>\n    </tr>\n    <tr>\n      <th>1</th>\n      <td>18.000000</td>\n      <td>1.560000</td>\n      <td>57.000000</td>\n      <td>2.000000</td>\n      <td>3.000000</td>\n      <td>2.000000</td>\n      <td>1.000000</td>\n      <td>1.000000</td>\n      <td>True</td>\n      <td>False</td>\n      <td>...</td>\n      <td>False</td>\n      <td>False</td>\n      <td>False</td>\n      <td>False</td>\n      <td>True</td>\n      <td>True</td>\n      <td>False</td>\n      <td>False</td>\n      <td>False</td>\n      <td>False</td>\n    </tr>\n    <tr>\n      <th>2</th>\n      <td>18.000000</td>\n      <td>1.711460</td>\n      <td>50.165754</td>\n      <td>1.880534</td>\n      <td>1.411685</td>\n      <td>1.910378</td>\n      <td>0.866045</td>\n      <td>1.673584</td>\n      <td>True</td>\n      <td>False</td>\n      <td>...</td>\n      <td>False</td>\n      <td>False</td>\n      <td>False</td>\n      <td>False</td>\n      <td>True</td>\n      <td>False</td>\n      <td>False</td>\n      <td>False</td>\n      <td>True</td>\n      <td>False</td>\n    </tr>\n    <tr>\n      <th>3</th>\n      <td>20.952737</td>\n      <td>1.710730</td>\n      <td>131.274851</td>\n      <td>3.000000</td>\n      <td>3.000000</td>\n      <td>1.674061</td>\n      <td>1.467863</td>\n      <td>0.780199</td>\n      <td>True</td>\n      <td>False</td>\n      <td>...</td>\n      <td>False</td>\n      <td>False</td>\n      <td>False</td>\n      <td>True</td>\n      <td>False</td>\n      <td>False</td>\n      <td>False</td>\n      <td>False</td>\n      <td>True</td>\n      <td>False</td>\n    </tr>\n    <tr>\n      <th>4</th>\n      <td>31.641081</td>\n      <td>1.914186</td>\n      <td>93.798055</td>\n      <td>2.679664</td>\n      <td>1.971472</td>\n      <td>1.979848</td>\n      <td>1.967973</td>\n      <td>0.931721</td>\n      <td>False</td>\n      <td>True</td>\n      <td>...</td>\n      <td>False</td>\n      <td>False</td>\n      <td>False</td>\n      <td>True</td>\n      <td>False</td>\n      <td>False</td>\n      <td>False</td>\n      <td>False</td>\n      <td>True</td>\n      <td>False</td>\n    </tr>\n    <tr>\n      <th>...</th>\n      <td>...</td>\n      <td>...</td>\n      <td>...</td>\n      <td>...</td>\n      <td>...</td>\n      <td>...</td>\n      <td>...</td>\n      <td>...</td>\n      <td>...</td>\n      <td>...</td>\n      <td>...</td>\n      <td>...</td>\n      <td>...</td>\n      <td>...</td>\n      <td>...</td>\n      <td>...</td>\n      <td>...</td>\n      <td>...</td>\n      <td>...</td>\n      <td>...</td>\n      <td>...</td>\n    </tr>\n    <tr>\n      <th>2106</th>\n      <td>20.976842</td>\n      <td>1.710730</td>\n      <td>131.408528</td>\n      <td>3.000000</td>\n      <td>3.000000</td>\n      <td>1.728139</td>\n      <td>1.676269</td>\n      <td>0.906247</td>\n      <td>True</td>\n      <td>False</td>\n      <td>...</td>\n      <td>False</td>\n      <td>False</td>\n      <td>False</td>\n      <td>True</td>\n      <td>False</td>\n      <td>False</td>\n      <td>False</td>\n      <td>False</td>\n      <td>True</td>\n      <td>False</td>\n    </tr>\n    <tr>\n      <th>2107</th>\n      <td>21.982942</td>\n      <td>1.748584</td>\n      <td>133.742943</td>\n      <td>3.000000</td>\n      <td>3.000000</td>\n      <td>2.005130</td>\n      <td>1.341390</td>\n      <td>0.599270</td>\n      <td>True</td>\n      <td>False</td>\n      <td>...</td>\n      <td>False</td>\n      <td>False</td>\n      <td>False</td>\n      <td>True</td>\n      <td>False</td>\n      <td>False</td>\n      <td>False</td>\n      <td>False</td>\n      <td>True</td>\n      <td>False</td>\n    </tr>\n    <tr>\n      <th>2108</th>\n      <td>22.524036</td>\n      <td>1.752206</td>\n      <td>133.689352</td>\n      <td>3.000000</td>\n      <td>3.000000</td>\n      <td>2.054193</td>\n      <td>1.414209</td>\n      <td>0.646288</td>\n      <td>True</td>\n      <td>False</td>\n      <td>...</td>\n      <td>False</td>\n      <td>False</td>\n      <td>False</td>\n      <td>True</td>\n      <td>False</td>\n      <td>False</td>\n      <td>False</td>\n      <td>False</td>\n      <td>True</td>\n      <td>False</td>\n    </tr>\n    <tr>\n      <th>2109</th>\n      <td>24.361936</td>\n      <td>1.739450</td>\n      <td>133.346641</td>\n      <td>3.000000</td>\n      <td>3.000000</td>\n      <td>2.852339</td>\n      <td>1.139107</td>\n      <td>0.586035</td>\n      <td>True</td>\n      <td>False</td>\n      <td>...</td>\n      <td>False</td>\n      <td>False</td>\n      <td>False</td>\n      <td>True</td>\n      <td>False</td>\n      <td>False</td>\n      <td>False</td>\n      <td>False</td>\n      <td>True</td>\n      <td>False</td>\n    </tr>\n    <tr>\n      <th>2110</th>\n      <td>23.664709</td>\n      <td>1.738836</td>\n      <td>133.472641</td>\n      <td>3.000000</td>\n      <td>3.000000</td>\n      <td>2.863513</td>\n      <td>1.026452</td>\n      <td>0.714137</td>\n      <td>True</td>\n      <td>False</td>\n      <td>...</td>\n      <td>False</td>\n      <td>False</td>\n      <td>False</td>\n      <td>True</td>\n      <td>False</td>\n      <td>False</td>\n      <td>False</td>\n      <td>False</td>\n      <td>True</td>\n      <td>False</td>\n    </tr>\n  </tbody>\n</table>\n<p>22845 rows × 31 columns</p>\n</div>"
     },
     "execution_count": 18,
     "metadata": {},
     "output_type": "execute_result"
    }
   ],
   "source": [
    "X = train.drop(['NObeyesdad'], axis=1)\n",
    "y = train['NObeyesdad']\n",
    "X"
   ],
   "metadata": {
    "collapsed": false,
    "ExecuteTime": {
     "end_time": "2024-02-06T12:01:28.105927Z",
     "start_time": "2024-02-06T12:01:28.083741Z"
    }
   },
   "id": "277935f95d7a6996",
   "execution_count": 18
  },
  {
   "cell_type": "code",
   "outputs": [
    {
     "data": {
      "text/plain": "0       Overweight_Level_II\n1             Normal_Weight\n2       Insufficient_Weight\n3          Obesity_Type_III\n4       Overweight_Level_II\n               ...         \n2106       Obesity_Type_III\n2107       Obesity_Type_III\n2108       Obesity_Type_III\n2109       Obesity_Type_III\n2110       Obesity_Type_III\nName: NObeyesdad, Length: 22845, dtype: object"
     },
     "execution_count": 19,
     "metadata": {},
     "output_type": "execute_result"
    }
   ],
   "source": [
    "y"
   ],
   "metadata": {
    "collapsed": false,
    "ExecuteTime": {
     "end_time": "2024-02-06T12:01:30.632074Z",
     "start_time": "2024-02-06T12:01:30.624562Z"
    }
   },
   "id": "4854570f10203b9b",
   "execution_count": 19
  },
  {
   "cell_type": "code",
   "outputs": [],
   "source": [
    "X_train, X_test, y_train, y_test = train_test_split(X, y, test_size=0.2, random_state=42)"
   ],
   "metadata": {
    "collapsed": false,
    "ExecuteTime": {
     "end_time": "2024-02-06T12:01:41.703469Z",
     "start_time": "2024-02-06T12:01:41.698228Z"
    }
   },
   "id": "bf95e7d5c2ca4758",
   "execution_count": 20
  },
  {
   "cell_type": "code",
   "outputs": [
    {
     "name": "stderr",
     "output_type": "stream",
     "text": [
      "[I 2024-02-06 20:09:37,741] A new study created in memory with name: no-name-d6e74f84-98d6-4fe3-9033-fb307f7ca219\n",
      "[W 2024-02-06 20:09:37,743] Trial 0 failed with parameters: {} because of the following error: TypeError('objective() takes 1 positional argument but 5 were given').\n",
      "Traceback (most recent call last):\n",
      "  File \"/opt/homebrew/Caskroom/miniforge/base/envs/ml_Kaggle/lib/python3.10/site-packages/optuna/study/_optimize.py\", line 200, in _run_trial\n",
      "    value_or_values = func(trial)\n",
      "  File \"/var/folders/yr/jdlh4xrn67n28zlnljlxr1940000gn/T/ipykernel_13685/3182193668.py\", line 28, in <lambda>\n",
      "    study.optimize(lambda trial: objective(trial, X_train, y_train, X_test, y_test), n_trials=100)\n",
      "TypeError: objective() takes 1 positional argument but 5 were given\n",
      "[W 2024-02-06 20:09:37,745] Trial 0 failed with value None.\n"
     ]
    },
    {
     "ename": "TypeError",
     "evalue": "objective() takes 1 positional argument but 5 were given",
     "output_type": "error",
     "traceback": [
      "\u001B[0;31m---------------------------------------------------------------------------\u001B[0m",
      "\u001B[0;31mTypeError\u001B[0m                                 Traceback (most recent call last)",
      "Cell \u001B[0;32mIn[21], line 28\u001B[0m\n\u001B[1;32m     26\u001B[0m sampler \u001B[38;5;241m=\u001B[39m optuna\u001B[38;5;241m.\u001B[39msamplers\u001B[38;5;241m.\u001B[39mTPESampler(seed\u001B[38;5;241m=\u001B[39m\u001B[38;5;241m42\u001B[39m)\n\u001B[1;32m     27\u001B[0m study \u001B[38;5;241m=\u001B[39m optuna\u001B[38;5;241m.\u001B[39mcreate_study(direction\u001B[38;5;241m=\u001B[39m\u001B[38;5;124m\"\u001B[39m\u001B[38;5;124mmaximize\u001B[39m\u001B[38;5;124m\"\u001B[39m, sampler\u001B[38;5;241m=\u001B[39msampler)\n\u001B[0;32m---> 28\u001B[0m \u001B[43mstudy\u001B[49m\u001B[38;5;241;43m.\u001B[39;49m\u001B[43moptimize\u001B[49m\u001B[43m(\u001B[49m\u001B[38;5;28;43;01mlambda\u001B[39;49;00m\u001B[43m \u001B[49m\u001B[43mtrial\u001B[49m\u001B[43m:\u001B[49m\u001B[43m \u001B[49m\u001B[43mobjective\u001B[49m\u001B[43m(\u001B[49m\u001B[43mtrial\u001B[49m\u001B[43m,\u001B[49m\u001B[43m \u001B[49m\u001B[43mX_train\u001B[49m\u001B[43m,\u001B[49m\u001B[43m \u001B[49m\u001B[43my_train\u001B[49m\u001B[43m,\u001B[49m\u001B[43m \u001B[49m\u001B[43mX_test\u001B[49m\u001B[43m,\u001B[49m\u001B[43m \u001B[49m\u001B[43my_test\u001B[49m\u001B[43m)\u001B[49m\u001B[43m,\u001B[49m\u001B[43m \u001B[49m\u001B[43mn_trials\u001B[49m\u001B[38;5;241;43m=\u001B[39;49m\u001B[38;5;241;43m100\u001B[39;49m\u001B[43m)\u001B[49m\n",
      "File \u001B[0;32m/opt/homebrew/Caskroom/miniforge/base/envs/ml_Kaggle/lib/python3.10/site-packages/optuna/study/study.py:451\u001B[0m, in \u001B[0;36mStudy.optimize\u001B[0;34m(self, func, n_trials, timeout, n_jobs, catch, callbacks, gc_after_trial, show_progress_bar)\u001B[0m\n\u001B[1;32m    348\u001B[0m \u001B[38;5;28;01mdef\u001B[39;00m \u001B[38;5;21moptimize\u001B[39m(\n\u001B[1;32m    349\u001B[0m     \u001B[38;5;28mself\u001B[39m,\n\u001B[1;32m    350\u001B[0m     func: ObjectiveFuncType,\n\u001B[0;32m   (...)\u001B[0m\n\u001B[1;32m    357\u001B[0m     show_progress_bar: \u001B[38;5;28mbool\u001B[39m \u001B[38;5;241m=\u001B[39m \u001B[38;5;28;01mFalse\u001B[39;00m,\n\u001B[1;32m    358\u001B[0m ) \u001B[38;5;241m-\u001B[39m\u001B[38;5;241m>\u001B[39m \u001B[38;5;28;01mNone\u001B[39;00m:\n\u001B[1;32m    359\u001B[0m \u001B[38;5;250m    \u001B[39m\u001B[38;5;124;03m\"\"\"Optimize an objective function.\u001B[39;00m\n\u001B[1;32m    360\u001B[0m \n\u001B[1;32m    361\u001B[0m \u001B[38;5;124;03m    Optimization is done by choosing a suitable set of hyperparameter values from a given\u001B[39;00m\n\u001B[0;32m   (...)\u001B[0m\n\u001B[1;32m    449\u001B[0m \u001B[38;5;124;03m            If nested invocation of this method occurs.\u001B[39;00m\n\u001B[1;32m    450\u001B[0m \u001B[38;5;124;03m    \"\"\"\u001B[39;00m\n\u001B[0;32m--> 451\u001B[0m     \u001B[43m_optimize\u001B[49m\u001B[43m(\u001B[49m\n\u001B[1;32m    452\u001B[0m \u001B[43m        \u001B[49m\u001B[43mstudy\u001B[49m\u001B[38;5;241;43m=\u001B[39;49m\u001B[38;5;28;43mself\u001B[39;49m\u001B[43m,\u001B[49m\n\u001B[1;32m    453\u001B[0m \u001B[43m        \u001B[49m\u001B[43mfunc\u001B[49m\u001B[38;5;241;43m=\u001B[39;49m\u001B[43mfunc\u001B[49m\u001B[43m,\u001B[49m\n\u001B[1;32m    454\u001B[0m \u001B[43m        \u001B[49m\u001B[43mn_trials\u001B[49m\u001B[38;5;241;43m=\u001B[39;49m\u001B[43mn_trials\u001B[49m\u001B[43m,\u001B[49m\n\u001B[1;32m    455\u001B[0m \u001B[43m        \u001B[49m\u001B[43mtimeout\u001B[49m\u001B[38;5;241;43m=\u001B[39;49m\u001B[43mtimeout\u001B[49m\u001B[43m,\u001B[49m\n\u001B[1;32m    456\u001B[0m \u001B[43m        \u001B[49m\u001B[43mn_jobs\u001B[49m\u001B[38;5;241;43m=\u001B[39;49m\u001B[43mn_jobs\u001B[49m\u001B[43m,\u001B[49m\n\u001B[1;32m    457\u001B[0m \u001B[43m        \u001B[49m\u001B[43mcatch\u001B[49m\u001B[38;5;241;43m=\u001B[39;49m\u001B[38;5;28;43mtuple\u001B[39;49m\u001B[43m(\u001B[49m\u001B[43mcatch\u001B[49m\u001B[43m)\u001B[49m\u001B[43m \u001B[49m\u001B[38;5;28;43;01mif\u001B[39;49;00m\u001B[43m \u001B[49m\u001B[38;5;28;43misinstance\u001B[39;49m\u001B[43m(\u001B[49m\u001B[43mcatch\u001B[49m\u001B[43m,\u001B[49m\u001B[43m \u001B[49m\u001B[43mIterable\u001B[49m\u001B[43m)\u001B[49m\u001B[43m \u001B[49m\u001B[38;5;28;43;01melse\u001B[39;49;00m\u001B[43m \u001B[49m\u001B[43m(\u001B[49m\u001B[43mcatch\u001B[49m\u001B[43m,\u001B[49m\u001B[43m)\u001B[49m\u001B[43m,\u001B[49m\n\u001B[1;32m    458\u001B[0m \u001B[43m        \u001B[49m\u001B[43mcallbacks\u001B[49m\u001B[38;5;241;43m=\u001B[39;49m\u001B[43mcallbacks\u001B[49m\u001B[43m,\u001B[49m\n\u001B[1;32m    459\u001B[0m \u001B[43m        \u001B[49m\u001B[43mgc_after_trial\u001B[49m\u001B[38;5;241;43m=\u001B[39;49m\u001B[43mgc_after_trial\u001B[49m\u001B[43m,\u001B[49m\n\u001B[1;32m    460\u001B[0m \u001B[43m        \u001B[49m\u001B[43mshow_progress_bar\u001B[49m\u001B[38;5;241;43m=\u001B[39;49m\u001B[43mshow_progress_bar\u001B[49m\u001B[43m,\u001B[49m\n\u001B[1;32m    461\u001B[0m \u001B[43m    \u001B[49m\u001B[43m)\u001B[49m\n",
      "File \u001B[0;32m/opt/homebrew/Caskroom/miniforge/base/envs/ml_Kaggle/lib/python3.10/site-packages/optuna/study/_optimize.py:66\u001B[0m, in \u001B[0;36m_optimize\u001B[0;34m(study, func, n_trials, timeout, n_jobs, catch, callbacks, gc_after_trial, show_progress_bar)\u001B[0m\n\u001B[1;32m     64\u001B[0m \u001B[38;5;28;01mtry\u001B[39;00m:\n\u001B[1;32m     65\u001B[0m     \u001B[38;5;28;01mif\u001B[39;00m n_jobs \u001B[38;5;241m==\u001B[39m \u001B[38;5;241m1\u001B[39m:\n\u001B[0;32m---> 66\u001B[0m         \u001B[43m_optimize_sequential\u001B[49m\u001B[43m(\u001B[49m\n\u001B[1;32m     67\u001B[0m \u001B[43m            \u001B[49m\u001B[43mstudy\u001B[49m\u001B[43m,\u001B[49m\n\u001B[1;32m     68\u001B[0m \u001B[43m            \u001B[49m\u001B[43mfunc\u001B[49m\u001B[43m,\u001B[49m\n\u001B[1;32m     69\u001B[0m \u001B[43m            \u001B[49m\u001B[43mn_trials\u001B[49m\u001B[43m,\u001B[49m\n\u001B[1;32m     70\u001B[0m \u001B[43m            \u001B[49m\u001B[43mtimeout\u001B[49m\u001B[43m,\u001B[49m\n\u001B[1;32m     71\u001B[0m \u001B[43m            \u001B[49m\u001B[43mcatch\u001B[49m\u001B[43m,\u001B[49m\n\u001B[1;32m     72\u001B[0m \u001B[43m            \u001B[49m\u001B[43mcallbacks\u001B[49m\u001B[43m,\u001B[49m\n\u001B[1;32m     73\u001B[0m \u001B[43m            \u001B[49m\u001B[43mgc_after_trial\u001B[49m\u001B[43m,\u001B[49m\n\u001B[1;32m     74\u001B[0m \u001B[43m            \u001B[49m\u001B[43mreseed_sampler_rng\u001B[49m\u001B[38;5;241;43m=\u001B[39;49m\u001B[38;5;28;43;01mFalse\u001B[39;49;00m\u001B[43m,\u001B[49m\n\u001B[1;32m     75\u001B[0m \u001B[43m            \u001B[49m\u001B[43mtime_start\u001B[49m\u001B[38;5;241;43m=\u001B[39;49m\u001B[38;5;28;43;01mNone\u001B[39;49;00m\u001B[43m,\u001B[49m\n\u001B[1;32m     76\u001B[0m \u001B[43m            \u001B[49m\u001B[43mprogress_bar\u001B[49m\u001B[38;5;241;43m=\u001B[39;49m\u001B[43mprogress_bar\u001B[49m\u001B[43m,\u001B[49m\n\u001B[1;32m     77\u001B[0m \u001B[43m        \u001B[49m\u001B[43m)\u001B[49m\n\u001B[1;32m     78\u001B[0m     \u001B[38;5;28;01melse\u001B[39;00m:\n\u001B[1;32m     79\u001B[0m         \u001B[38;5;28;01mif\u001B[39;00m n_jobs \u001B[38;5;241m==\u001B[39m \u001B[38;5;241m-\u001B[39m\u001B[38;5;241m1\u001B[39m:\n",
      "File \u001B[0;32m/opt/homebrew/Caskroom/miniforge/base/envs/ml_Kaggle/lib/python3.10/site-packages/optuna/study/_optimize.py:163\u001B[0m, in \u001B[0;36m_optimize_sequential\u001B[0;34m(study, func, n_trials, timeout, catch, callbacks, gc_after_trial, reseed_sampler_rng, time_start, progress_bar)\u001B[0m\n\u001B[1;32m    160\u001B[0m         \u001B[38;5;28;01mbreak\u001B[39;00m\n\u001B[1;32m    162\u001B[0m \u001B[38;5;28;01mtry\u001B[39;00m:\n\u001B[0;32m--> 163\u001B[0m     frozen_trial \u001B[38;5;241m=\u001B[39m \u001B[43m_run_trial\u001B[49m\u001B[43m(\u001B[49m\u001B[43mstudy\u001B[49m\u001B[43m,\u001B[49m\u001B[43m \u001B[49m\u001B[43mfunc\u001B[49m\u001B[43m,\u001B[49m\u001B[43m \u001B[49m\u001B[43mcatch\u001B[49m\u001B[43m)\u001B[49m\n\u001B[1;32m    164\u001B[0m \u001B[38;5;28;01mfinally\u001B[39;00m:\n\u001B[1;32m    165\u001B[0m     \u001B[38;5;66;03m# The following line mitigates memory problems that can be occurred in some\u001B[39;00m\n\u001B[1;32m    166\u001B[0m     \u001B[38;5;66;03m# environments (e.g., services that use computing containers such as GitHub Actions).\u001B[39;00m\n\u001B[1;32m    167\u001B[0m     \u001B[38;5;66;03m# Please refer to the following PR for further details:\u001B[39;00m\n\u001B[1;32m    168\u001B[0m     \u001B[38;5;66;03m# https://github.com/optuna/optuna/pull/325.\u001B[39;00m\n\u001B[1;32m    169\u001B[0m     \u001B[38;5;28;01mif\u001B[39;00m gc_after_trial:\n",
      "File \u001B[0;32m/opt/homebrew/Caskroom/miniforge/base/envs/ml_Kaggle/lib/python3.10/site-packages/optuna/study/_optimize.py:251\u001B[0m, in \u001B[0;36m_run_trial\u001B[0;34m(study, func, catch)\u001B[0m\n\u001B[1;32m    244\u001B[0m         \u001B[38;5;28;01massert\u001B[39;00m \u001B[38;5;28;01mFalse\u001B[39;00m, \u001B[38;5;124m\"\u001B[39m\u001B[38;5;124mShould not reach.\u001B[39m\u001B[38;5;124m\"\u001B[39m\n\u001B[1;32m    246\u001B[0m \u001B[38;5;28;01mif\u001B[39;00m (\n\u001B[1;32m    247\u001B[0m     frozen_trial\u001B[38;5;241m.\u001B[39mstate \u001B[38;5;241m==\u001B[39m TrialState\u001B[38;5;241m.\u001B[39mFAIL\n\u001B[1;32m    248\u001B[0m     \u001B[38;5;129;01mand\u001B[39;00m func_err \u001B[38;5;129;01mis\u001B[39;00m \u001B[38;5;129;01mnot\u001B[39;00m \u001B[38;5;28;01mNone\u001B[39;00m\n\u001B[1;32m    249\u001B[0m     \u001B[38;5;129;01mand\u001B[39;00m \u001B[38;5;129;01mnot\u001B[39;00m \u001B[38;5;28misinstance\u001B[39m(func_err, catch)\n\u001B[1;32m    250\u001B[0m ):\n\u001B[0;32m--> 251\u001B[0m     \u001B[38;5;28;01mraise\u001B[39;00m func_err\n\u001B[1;32m    252\u001B[0m \u001B[38;5;28;01mreturn\u001B[39;00m frozen_trial\n",
      "File \u001B[0;32m/opt/homebrew/Caskroom/miniforge/base/envs/ml_Kaggle/lib/python3.10/site-packages/optuna/study/_optimize.py:200\u001B[0m, in \u001B[0;36m_run_trial\u001B[0;34m(study, func, catch)\u001B[0m\n\u001B[1;32m    198\u001B[0m \u001B[38;5;28;01mwith\u001B[39;00m get_heartbeat_thread(trial\u001B[38;5;241m.\u001B[39m_trial_id, study\u001B[38;5;241m.\u001B[39m_storage):\n\u001B[1;32m    199\u001B[0m     \u001B[38;5;28;01mtry\u001B[39;00m:\n\u001B[0;32m--> 200\u001B[0m         value_or_values \u001B[38;5;241m=\u001B[39m \u001B[43mfunc\u001B[49m\u001B[43m(\u001B[49m\u001B[43mtrial\u001B[49m\u001B[43m)\u001B[49m\n\u001B[1;32m    201\u001B[0m     \u001B[38;5;28;01mexcept\u001B[39;00m exceptions\u001B[38;5;241m.\u001B[39mTrialPruned \u001B[38;5;28;01mas\u001B[39;00m e:\n\u001B[1;32m    202\u001B[0m         \u001B[38;5;66;03m# TODO(mamu): Handle multi-objective cases.\u001B[39;00m\n\u001B[1;32m    203\u001B[0m         state \u001B[38;5;241m=\u001B[39m TrialState\u001B[38;5;241m.\u001B[39mPRUNED\n",
      "Cell \u001B[0;32mIn[21], line 28\u001B[0m, in \u001B[0;36m<lambda>\u001B[0;34m(trial)\u001B[0m\n\u001B[1;32m     26\u001B[0m sampler \u001B[38;5;241m=\u001B[39m optuna\u001B[38;5;241m.\u001B[39msamplers\u001B[38;5;241m.\u001B[39mTPESampler(seed\u001B[38;5;241m=\u001B[39m\u001B[38;5;241m42\u001B[39m)\n\u001B[1;32m     27\u001B[0m study \u001B[38;5;241m=\u001B[39m optuna\u001B[38;5;241m.\u001B[39mcreate_study(direction\u001B[38;5;241m=\u001B[39m\u001B[38;5;124m\"\u001B[39m\u001B[38;5;124mmaximize\u001B[39m\u001B[38;5;124m\"\u001B[39m, sampler\u001B[38;5;241m=\u001B[39msampler)\n\u001B[0;32m---> 28\u001B[0m study\u001B[38;5;241m.\u001B[39moptimize(\u001B[38;5;28;01mlambda\u001B[39;00m trial: \u001B[43mobjective\u001B[49m\u001B[43m(\u001B[49m\u001B[43mtrial\u001B[49m\u001B[43m,\u001B[49m\u001B[43m \u001B[49m\u001B[43mX_train\u001B[49m\u001B[43m,\u001B[49m\u001B[43m \u001B[49m\u001B[43my_train\u001B[49m\u001B[43m,\u001B[49m\u001B[43m \u001B[49m\u001B[43mX_test\u001B[49m\u001B[43m,\u001B[49m\u001B[43m \u001B[49m\u001B[43my_test\u001B[49m\u001B[43m)\u001B[49m, n_trials\u001B[38;5;241m=\u001B[39m\u001B[38;5;241m100\u001B[39m)\n",
      "\u001B[0;31mTypeError\u001B[0m: objective() takes 1 positional argument but 5 were given"
     ]
    }
   ],
   "source": [
    "def objective(trial):\n",
    "    param = {\n",
    "        \"objective\": \"multiclass\",\n",
    "        \"metric\": \"multi_logloss\",\n",
    "        \"verbosity\": -1,\n",
    "        \"boosting_type\": \"gbdt\",\n",
    "        \"seed\": 42,\n",
    "        \"num_class\": 7,\n",
    "        \"n_estimators\": trial.suggest_int(\"n_estimators\", 100, 1000),\n",
    "        \"lambda_l1\": trial.suggest_float(\"lambda_l1\", 1e-8, 10.0, log=True),\n",
    "        \"lambda_l2\": trial.suggest_float(\"lambda_l2\", 1e-8, 10.0, log=True),\n",
    "        \"num_leaves\": trial.suggest_int(\"num_leaves\", 2, 256),\n",
    "        \"feature_fraction\": trial.suggest_float(\"feature_fraction\", 0.1, 1.0),\n",
    "        \"bagging_fraction\": trial.suggest_float(\"bagging_fraction\", 0.1, 1.0),\n",
    "        \"bagging_freq\": trial.suggest_int(\"bagging_freq\", 1, 7),\n",
    "        \"min_child_samples\": trial.suggest_int(\"min_child_samples\", 5, 100),\n",
    "    }\n",
    "    # LightGBM Classifier with the suggested parameters\n",
    "    model = LGBMClassifier(**param)\n",
    "    # Fit the classifier on the training data\n",
    "    model.fit(X_train, y_train)\n",
    "    # Evaluate the classifier on the testing data\n",
    "    score = model.score(X_test, y_test)\n",
    "    return score\n",
    "\n",
    "sampler = optuna.samplers.TPESampler(seed=42)\n",
    "study = optuna.create_study(direction=\"maximize\", sampler=sampler)\n",
    "study.optimize(lambda trial: objective(trial, X_train, y_train, X_test, y_test), n_trials=100)"
   ],
   "metadata": {
    "collapsed": false,
    "ExecuteTime": {
     "end_time": "2024-02-06T12:09:37.886693Z",
     "start_time": "2024-02-06T12:09:37.744014Z"
    }
   },
   "id": "787d870ebafa985b",
   "execution_count": 21
  },
  {
   "cell_type": "code",
   "outputs": [
    {
     "name": "stderr",
     "output_type": "stream",
     "text": [
      "[I 2024-02-06 20:10:59,130] A new study created in memory with name: no-name-f3b791be-1a05-4f3d-b0ef-5c173c7e5e7f\n",
      "[I 2024-02-06 20:11:31,726] Trial 0 finished with value: 0.9146421536441235 and parameters: {'learning_rate': 0.0249816047538945, 'n_estimators': 591, 'lambda_l1': 0.01231993941811405, 'lambda_l2': 0.04394633936788146, 'max_depth': 7, 'colsample_bytree': 0.3935967122017216, 'subsample': 0.8116167224336399, 'min_child_samples': 45}. Best is trial 0 with value: 0.9146421536441235.\n",
      "[I 2024-02-06 20:12:05,684] Trial 1 finished with value: 0.9146421536441235 and parameters: {'learning_rate': 0.034044600469728355, 'n_estimators': 542, 'lambda_l1': 0.005205844942958024, 'lambda_l2': 0.05879639408647977, 'max_depth': 13, 'colsample_bytree': 0.4274034664069657, 'subsample': 0.8363649934414201, 'min_child_samples': 17}. Best is trial 0 with value: 0.9146421536441235.\n",
      "[I 2024-02-06 20:12:33,622] Trial 2 finished with value: 0.9150798861895382 and parameters: {'learning_rate': 0.02216968971838151, 'n_estimators': 505, 'lambda_l1': 0.009319450186421156, 'lambda_l2': 0.03164916560792168, 'max_depth': 11, 'colsample_bytree': 0.3836963163912251, 'subsample': 0.8584289297070437, 'min_child_samples': 25}. Best is trial 2 with value: 0.9150798861895382.\n",
      "[I 2024-02-06 20:13:10,577] Trial 3 finished with value: 0.9148610199168308 and parameters: {'learning_rate': 0.02824279936868144, 'n_estimators': 557, 'lambda_l1': 0.006996737821583597, 'lambda_l2': 0.04056937753654446, 'max_depth': 11, 'colsample_bytree': 0.3278702476319986, 'subsample': 0.9215089703802877, 'min_child_samples': 16}. Best is trial 2 with value: 0.9150798861895382.\n",
      "[I 2024-02-06 20:13:38,932] Trial 4 finished with value: 0.9163930838257824 and parameters: {'learning_rate': 0.01260206371941118, 'n_estimators': 590, 'lambda_l1': 0.014656320330745593, 'lambda_l2': 0.05233589392465844, 'max_depth': 8, 'colsample_bytree': 0.35860326840383033, 'subsample': 0.9368466053024314, 'min_child_samples': 28}. Best is trial 4 with value: 0.9163930838257824.\n",
      "[I 2024-02-06 20:13:59,767] Trial 5 finished with value: 0.9157364850076604 and parameters: {'learning_rate': 0.014881529393791153, 'n_estimators': 499, 'lambda_l1': 0.005343885211152184, 'lambda_l2': 0.05637281608315128, 'max_depth': 8, 'colsample_bytree': 0.6975133706123893, 'subsample': 0.8623422152178822, 'min_child_samples': 31}. Best is trial 4 with value: 0.9163930838257824.\n",
      "[I 2024-02-06 20:14:19,370] Trial 6 finished with value: 0.9152987524622456 and parameters: {'learning_rate': 0.03186841117373119, 'n_estimators': 437, 'lambda_l1': 0.014695846277645584, 'lambda_l2': 0.051005312934444574, 'max_depth': 14, 'colsample_bytree': 0.8368964102565893, 'subsample': 0.919579995762217, 'min_child_samples': 47}. Best is trial 4 with value: 0.9163930838257824.\n",
      "[I 2024-02-06 20:14:41,149] Trial 7 finished with value: 0.9163930838257824 and parameters: {'learning_rate': 0.01353970008207678, 'n_estimators': 439, 'lambda_l1': 0.005452272889105381, 'lambda_l2': 0.03301321323053057, 'max_depth': 9, 'colsample_bytree': 0.46280941906433753, 'subsample': 0.9657475018303858, 'min_child_samples': 24}. Best is trial 4 with value: 0.9163930838257824.\n",
      "[I 2024-02-06 20:14:57,813] Trial 8 finished with value: 0.912015758371635 and parameters: {'learning_rate': 0.02123738038749523, 'n_estimators': 509, 'lambda_l1': 0.006409242249747626, 'lambda_l2': 0.05208787923016158, 'max_depth': 6, 'colsample_bytree': 0.8921321619603104, 'subsample': 0.9544489538593315, 'min_child_samples': 18}. Best is trial 4 with value: 0.9163930838257824.\n",
      "[I 2024-02-06 20:15:26,807] Trial 9 finished with value: 0.9152987524622456 and parameters: {'learning_rate': 0.010220884684944096, 'n_estimators': 563, 'lambda_l1': 0.01206857343847617, 'lambda_l2': 0.04916028672163949, 'max_depth': 12, 'colsample_bytree': 0.3444267910404542, 'subsample': 0.8716931457088546, 'min_child_samples': 14}. Best is trial 4 with value: 0.9163930838257824.\n",
      "[I 2024-02-06 20:15:46,243] Trial 10 finished with value: 0.9135478222805865 and parameters: {'learning_rate': 0.04424357970165616, 'n_estimators': 401, 'lambda_l1': 0.014695371107878656, 'lambda_l2': 0.020718475024592783, 'max_depth': 9, 'colsample_bytree': 0.547722691953306, 'subsample': 0.991954149189084, 'min_child_samples': 37}. Best is trial 4 with value: 0.9163930838257824.\n",
      "[I 2024-02-06 20:16:08,587] Trial 11 finished with value: 0.916174217553075 and parameters: {'learning_rate': 0.010890099209842718, 'n_estimators': 462, 'lambda_l1': 0.008817753564518443, 'lambda_l2': 0.03424364893339975, 'max_depth': 9, 'colsample_bytree': 0.5040664742920462, 'subsample': 0.9603919612121176, 'min_child_samples': 26}. Best is trial 4 with value: 0.9163930838257824.\n",
      "[I 2024-02-06 20:16:32,032] Trial 12 finished with value: 0.9152987524622456 and parameters: {'learning_rate': 0.01697382229398861, 'n_estimators': 453, 'lambda_l1': 0.007669910729453694, 'lambda_l2': 0.044915780060822405, 'max_depth': 9, 'colsample_bytree': 0.46262260783929193, 'subsample': 0.9989537432874338, 'min_child_samples': 34}. Best is trial 4 with value: 0.9163930838257824.\n",
      "[I 2024-02-06 20:16:53,764] Trial 13 finished with value: 0.9113591595535128 and parameters: {'learning_rate': 0.015285070930419914, 'n_estimators': 406, 'lambda_l1': 0.01049363542867238, 'lambda_l2': 0.03371197153065265, 'max_depth': 7, 'colsample_bytree': 0.30130453245276867, 'subsample': 0.9461822604606832, 'min_child_samples': 23}. Best is trial 4 with value: 0.9163930838257824.\n",
      "[I 2024-02-06 20:17:30,257] Trial 14 finished with value: 0.9157364850076604 and parameters: {'learning_rate': 0.01863273228273073, 'n_estimators': 600, 'lambda_l1': 0.008122349359221162, 'lambda_l2': 0.03845619357947551, 'max_depth': 10, 'colsample_bytree': 0.5867813008444868, 'subsample': 0.9044619729279001, 'min_child_samples': 39}. Best is trial 4 with value: 0.9163930838257824.\n",
      "[I 2024-02-06 20:17:56,535] Trial 15 finished with value: 0.916174217553075 and parameters: {'learning_rate': 0.011815586935660536, 'n_estimators': 473, 'lambda_l1': 0.010587985830433144, 'lambda_l2': 0.05905160354854096, 'max_depth': 8, 'colsample_bytree': 0.44307298613303026, 'subsample': 0.974435937674885, 'min_child_samples': 10}. Best is trial 4 with value: 0.9163930838257824.\n",
      "[I 2024-02-06 20:18:16,071] Trial 16 finished with value: 0.916174217553075 and parameters: {'learning_rate': 0.018469036796704093, 'n_estimators': 430, 'lambda_l1': 0.006616866108392393, 'lambda_l2': 0.02901787317490538, 'max_depth': 6, 'colsample_bytree': 0.49217278675841253, 'subsample': 0.9353594811115359, 'min_child_samples': 29}. Best is trial 4 with value: 0.9163930838257824.\n",
      "[I 2024-02-06 20:18:45,857] Trial 17 finished with value: 0.9157364850076604 and parameters: {'learning_rate': 0.010032672761482534, 'n_estimators': 530, 'lambda_l1': 0.013303009368379146, 'lambda_l2': 0.04581890863006631, 'max_depth': 10, 'colsample_bytree': 0.3749269001546163, 'subsample': 0.9722955357070925, 'min_child_samples': 21}. Best is trial 4 with value: 0.9163930838257824.\n",
      "[I 2024-02-06 20:19:10,543] Trial 18 finished with value: 0.9148610199168308 and parameters: {'learning_rate': 0.014729022084338432, 'n_estimators': 480, 'lambda_l1': 0.009546374987335023, 'lambda_l2': 0.03909504802335232, 'max_depth': 8, 'colsample_bytree': 0.6575840629170384, 'subsample': 0.9369903159066486, 'min_child_samples': 42}. Best is trial 4 with value: 0.9163930838257824.\n",
      "[I 2024-02-06 20:19:31,855] Trial 19 finished with value: 0.9172685489166119 and parameters: {'learning_rate': 0.021745411331630958, 'n_estimators': 428, 'lambda_l1': 0.011164734059602052, 'lambda_l2': 0.05488064334191071, 'max_depth': 7, 'colsample_bytree': 0.4120502195407925, 'subsample': 0.8986581890457381, 'min_child_samples': 30}. Best is trial 19 with value: 0.9172685489166119.\n",
      "[I 2024-02-06 20:20:09,197] Trial 20 finished with value: 0.9148610199168308 and parameters: {'learning_rate': 0.024510468765032378, 'n_estimators': 573, 'lambda_l1': 0.011340433623826276, 'lambda_l2': 0.054505989596267096, 'max_depth': 7, 'colsample_bytree': 0.32315768705439035, 'subsample': 0.8892644016900073, 'min_child_samples': 31}. Best is trial 19 with value: 0.9172685489166119.\n",
      "[I 2024-02-06 20:20:40,089] Trial 21 finished with value: 0.9159553512803676 and parameters: {'learning_rate': 0.019488429504473426, 'n_estimators': 435, 'lambda_l1': 0.013407896673665183, 'lambda_l2': 0.05305796466869306, 'max_depth': 8, 'colsample_bytree': 0.41709237808910626, 'subsample': 0.906895505278066, 'min_child_samples': 28}. Best is trial 19 with value: 0.9172685489166119.\n",
      "[I 2024-02-06 20:21:04,060] Trial 22 finished with value: 0.9168308163711972 and parameters: {'learning_rate': 0.014620409954554379, 'n_estimators': 421, 'lambda_l1': 0.01012027943781317, 'lambda_l2': 0.04890242876127088, 'max_depth': 7, 'colsample_bytree': 0.4840411280205994, 'subsample': 0.9295159488869797, 'min_child_samples': 34}. Best is trial 19 with value: 0.9172685489166119.\n",
      "[I 2024-02-06 20:21:23,160] Trial 23 finished with value: 0.9142044210987087 and parameters: {'learning_rate': 0.01571703251173633, 'n_estimators': 412, 'lambda_l1': 0.010345175349901765, 'lambda_l2': 0.04864814810854273, 'max_depth': 6, 'colsample_bytree': 0.371063115875504, 'subsample': 0.8892208424161047, 'min_child_samples': 35}. Best is trial 19 with value: 0.9172685489166119.\n",
      "[I 2024-02-06 20:21:45,609] Trial 24 finished with value: 0.915517618734953 and parameters: {'learning_rate': 0.017912046263988436, 'n_estimators': 423, 'lambda_l1': 0.011692449384303263, 'lambda_l2': 0.05480467345032097, 'max_depth': 7, 'colsample_bytree': 0.514327863562593, 'subsample': 0.9225446188680217, 'min_child_samples': 33}. Best is trial 19 with value: 0.9172685489166119.\n",
      "[I 2024-02-06 20:22:07,572] Trial 25 finished with value: 0.9174874151893193 and parameters: {'learning_rate': 0.013283411799810768, 'n_estimators': 451, 'lambda_l1': 0.010977708192792765, 'lambda_l2': 0.05632150136728795, 'max_depth': 7, 'colsample_bytree': 0.4287728514403794, 'subsample': 0.9400217938028025, 'min_child_samples': 40}. Best is trial 25 with value: 0.9174874151893193.\n",
      "[I 2024-02-06 20:22:28,728] Trial 26 finished with value: 0.916174217553075 and parameters: {'learning_rate': 0.020870811235876644, 'n_estimators': 449, 'lambda_l1': 0.01110243699226997, 'lambda_l2': 0.05640827144256943, 'max_depth': 6, 'colsample_bytree': 0.42322513799589917, 'subsample': 0.9127470728749281, 'min_child_samples': 50}. Best is trial 25 with value: 0.9174874151893193.\n",
      "[I 2024-02-06 20:22:49,007] Trial 27 finished with value: 0.9163930838257824 and parameters: {'learning_rate': 0.013264698212660157, 'n_estimators': 419, 'lambda_l1': 0.010010969172485057, 'lambda_l2': 0.0583430060629601, 'max_depth': 7, 'colsample_bytree': 0.5414400386705726, 'subsample': 0.8901770443568148, 'min_child_samples': 40}. Best is trial 25 with value: 0.9174874151893193.\n",
      "[I 2024-02-06 20:23:12,045] Trial 28 finished with value: 0.9163930838257824 and parameters: {'learning_rate': 0.016432653261143355, 'n_estimators': 483, 'lambda_l1': 0.011019142968998667, 'lambda_l2': 0.048942081432436696, 'max_depth': 6, 'colsample_bytree': 0.467865918799041, 'subsample': 0.9304204415182814, 'min_child_samples': 41}. Best is trial 25 with value: 0.9174874151893193.\n",
      "[I 2024-02-06 20:23:36,476] Trial 29 finished with value: 0.9148610199168308 and parameters: {'learning_rate': 0.024310417436136763, 'n_estimators': 451, 'lambda_l1': 0.012580785297599383, 'lambda_l2': 0.0551279084438537, 'max_depth': 7, 'colsample_bytree': 0.3933221473831983, 'subsample': 0.9473601029167654, 'min_child_samples': 44}. Best is trial 25 with value: 0.9174874151893193.\n",
      "[I 2024-02-06 20:24:02,880] Trial 30 finished with value: 0.9146421536441235 and parameters: {'learning_rate': 0.022224832056945854, 'n_estimators': 463, 'lambda_l1': 0.009472891321179296, 'lambda_l2': 0.04746640361101452, 'max_depth': 8, 'colsample_bytree': 0.4194363909801614, 'subsample': 0.8085490360159283, 'min_child_samples': 37}. Best is trial 25 with value: 0.9174874151893193.\n",
      "[I 2024-02-06 20:24:29,809] Trial 31 finished with value: 0.9174874151893193 and parameters: {'learning_rate': 0.012323903836117298, 'n_estimators': 524, 'lambda_l1': 0.012638482067422189, 'lambda_l2': 0.0517903927797868, 'max_depth': 7, 'colsample_bytree': 0.3881777963533637, 'subsample': 0.9375809212840795, 'min_child_samples': 28}. Best is trial 25 with value: 0.9174874151893193.\n",
      "[I 2024-02-06 20:24:57,991] Trial 32 finished with value: 0.9168308163711972 and parameters: {'learning_rate': 0.012744445927220713, 'n_estimators': 531, 'lambda_l1': 0.011690250205254646, 'lambda_l2': 0.0599450815023216, 'max_depth': 7, 'colsample_bytree': 0.40259092698962656, 'subsample': 0.9134214740468076, 'min_child_samples': 32}. Best is trial 25 with value: 0.9174874151893193.\n",
      "[I 2024-02-06 20:25:22,048] Trial 33 finished with value: 0.9174874151893193 and parameters: {'learning_rate': 0.01681198247286969, 'n_estimators': 518, 'lambda_l1': 0.010811153523430211, 'lambda_l2': 0.05125599513537674, 'max_depth': 7, 'colsample_bytree': 0.4284552561462184, 'subsample': 0.9494707458906021, 'min_child_samples': 37}. Best is trial 25 with value: 0.9174874151893193.\n",
      "[I 2024-02-06 20:25:36,085] Trial 34 finished with value: 0.9146421536441235 and parameters: {'learning_rate': 0.026720015233751736, 'n_estimators': 523, 'lambda_l1': 0.012457809977137005, 'lambda_l2': 0.05102562398790046, 'max_depth': 6, 'colsample_bytree': 0.34694811114817586, 'subsample': 0.9519999763692641, 'min_child_samples': 37}. Best is trial 25 with value: 0.9174874151893193.\n",
      "[I 2024-02-06 20:25:50,279] Trial 35 finished with value: 0.9135478222805865 and parameters: {'learning_rate': 0.017866296414415766, 'n_estimators': 493, 'lambda_l1': 0.010835625676622537, 'lambda_l2': 0.0573818444907311, 'max_depth': 11, 'colsample_bytree': 0.3858861648865366, 'subsample': 0.8258721768636805, 'min_child_samples': 44}. Best is trial 25 with value: 0.9174874151893193.\n",
      "[I 2024-02-06 20:26:04,786] Trial 36 finished with value: 0.9152987524622456 and parameters: {'learning_rate': 0.019916633566384408, 'n_estimators': 546, 'lambda_l1': 0.011686512520114666, 'lambda_l2': 0.05372263103206287, 'max_depth': 8, 'colsample_bytree': 0.4428847102318235, 'subsample': 0.9428071536470419, 'min_child_samples': 26}. Best is trial 25 with value: 0.9174874151893193.\n",
      "[I 2024-02-06 20:26:18,977] Trial 37 finished with value: 0.916174217553075 and parameters: {'learning_rate': 0.012986782044054746, 'n_estimators': 513, 'lambda_l1': 0.011014938882851771, 'lambda_l2': 0.05673866716603179, 'max_depth': 9, 'colsample_bytree': 0.36395930140895366, 'subsample': 0.9298267039308363, 'min_child_samples': 30}. Best is trial 25 with value: 0.9174874151893193.\n",
      "[I 2024-02-06 20:26:33,898] Trial 38 finished with value: 0.912672357189757 and parameters: {'learning_rate': 0.022129187248942785, 'n_estimators': 518, 'lambda_l1': 0.012866278038126336, 'lambda_l2': 0.05133044153554166, 'max_depth': 14, 'colsample_bytree': 0.3016007767663687, 'subsample': 0.9231541246172524, 'min_child_samples': 36}. Best is trial 25 with value: 0.9174874151893193.\n",
      "[I 2024-02-06 20:26:50,274] Trial 39 finished with value: 0.9163930838257824 and parameters: {'learning_rate': 0.015670733593559853, 'n_estimators': 545, 'lambda_l1': 0.01195425156821037, 'lambda_l2': 0.05394997167879782, 'max_depth': 12, 'colsample_bytree': 0.402261718104425, 'subsample': 0.9563370973240718, 'min_child_samples': 21}. Best is trial 25 with value: 0.9174874151893193.\n",
      "[I 2024-02-06 20:27:04,736] Trial 40 finished with value: 0.9166119500984898 and parameters: {'learning_rate': 0.011515172338090175, 'n_estimators': 496, 'lambda_l1': 0.01383224760238393, 'lambda_l2': 0.059954993815335554, 'max_depth': 10, 'colsample_bytree': 0.4419296934484175, 'subsample': 0.8973502638102174, 'min_child_samples': 39}. Best is trial 25 with value: 0.9174874151893193.\n",
      "[I 2024-02-06 20:27:15,099] Trial 41 finished with value: 0.9174874151893193 and parameters: {'learning_rate': 0.014258517710092004, 'n_estimators': 421, 'lambda_l1': 0.010276172026478113, 'lambda_l2': 0.050097734742106485, 'max_depth': 7, 'colsample_bytree': 0.4743001243513067, 'subsample': 0.926856437813648, 'min_child_samples': 34}. Best is trial 25 with value: 0.9174874151893193.\n",
      "[I 2024-02-06 20:27:27,646] Trial 42 finished with value: 0.9150798861895382 and parameters: {'learning_rate': 0.016976737881498772, 'n_estimators': 506, 'lambda_l1': 0.011382347205837091, 'lambda_l2': 0.05236727858693085, 'max_depth': 7, 'colsample_bytree': 0.45923470906283637, 'subsample': 0.9445009511396611, 'min_child_samples': 47}. Best is trial 25 with value: 0.9174874151893193.\n",
      "[I 2024-02-06 20:29:59,349] Trial 43 finished with value: 0.9157364850076604 and parameters: {'learning_rate': 0.013220229386270961, 'n_estimators': 533, 'lambda_l1': 0.009964009403766788, 'lambda_l2': 0.05049291962273576, 'max_depth': 6, 'colsample_bytree': 0.42613825175309256, 'subsample': 0.9171286918062013, 'min_child_samples': 27}. Best is trial 25 with value: 0.9174874151893193.\n",
      "[I 2024-02-06 20:30:11,372] Trial 44 finished with value: 0.9137666885532939 and parameters: {'learning_rate': 0.010049574329198369, 'n_estimators': 442, 'lambda_l1': 0.01217729677283866, 'lambda_l2': 0.04672113500722914, 'max_depth': 8, 'colsample_bytree': 0.39431636544353427, 'subsample': 0.9355622686814227, 'min_child_samples': 32}. Best is trial 25 with value: 0.9174874151893193.\n",
      "[I 2024-02-06 20:30:22,083] Trial 45 finished with value: 0.9135478222805865 and parameters: {'learning_rate': 0.014134621096952609, 'n_estimators': 410, 'lambda_l1': 0.010908720025304562, 'lambda_l2': 0.0439284202267856, 'max_depth': 7, 'colsample_bytree': 0.3462568796981882, 'subsample': 0.9629258707383604, 'min_child_samples': 29}. Best is trial 25 with value: 0.9174874151893193.\n",
      "[I 2024-02-06 20:30:36,933] Trial 46 finished with value: 0.9139855548260013 and parameters: {'learning_rate': 0.016486227227306992, 'n_estimators': 558, 'lambda_l1': 0.010554268847944977, 'lambda_l2': 0.05547937585462296, 'max_depth': 8, 'colsample_bytree': 0.47828974104620203, 'subsample': 0.9258253124886913, 'min_child_samples': 38}. Best is trial 25 with value: 0.9174874151893193.\n",
      "[I 2024-02-06 20:46:02,096] Trial 47 finished with value: 0.9179251477347341 and parameters: {'learning_rate': 0.012054059212586784, 'n_estimators': 460, 'lambda_l1': 0.009811018111847463, 'lambda_l2': 0.0577394472782044, 'max_depth': 9, 'colsample_bytree': 0.5132533308618275, 'subsample': 0.9532335850528303, 'min_child_samples': 23}. Best is trial 47 with value: 0.9179251477347341.\n",
      "[I 2024-02-06 20:46:14,623] Trial 48 finished with value: 0.9157364850076604 and parameters: {'learning_rate': 0.012355125702986277, 'n_estimators': 466, 'lambda_l1': 0.008943508150476348, 'lambda_l2': 0.05689644836176828, 'max_depth': 9, 'colsample_bytree': 0.5183714913419848, 'subsample': 0.9569194883961867, 'min_child_samples': 23}. Best is trial 47 with value: 0.9179251477347341.\n",
      "[I 2024-02-06 20:46:28,473] Trial 49 finished with value: 0.9166119500984898 and parameters: {'learning_rate': 0.011615415734279265, 'n_estimators': 488, 'lambda_l1': 0.009541036335991678, 'lambda_l2': 0.05803863081818511, 'max_depth': 11, 'colsample_bytree': 0.5048391992302333, 'subsample': 0.9405205612477993, 'min_child_samples': 18}. Best is trial 47 with value: 0.9179251477347341.\n",
      "[I 2024-02-06 20:46:41,712] Trial 50 finished with value: 0.9159553512803676 and parameters: {'learning_rate': 0.015093123547321534, 'n_estimators': 472, 'lambda_l1': 0.009941809035367202, 'lambda_l2': 0.052749524292081434, 'max_depth': 9, 'colsample_bytree': 0.45692801014183093, 'subsample': 0.9723597681071294, 'min_child_samples': 15}. Best is trial 47 with value: 0.9179251477347341.\n",
      "[I 2024-02-06 20:46:52,751] Trial 51 finished with value: 0.9168308163711972 and parameters: {'learning_rate': 0.013817198266824288, 'n_estimators': 431, 'lambda_l1': 0.010492815933537914, 'lambda_l2': 0.054999162188498964, 'max_depth': 7, 'colsample_bytree': 0.43651366299011807, 'subsample': 0.9482607375764032, 'min_child_samples': 21}. Best is trial 47 with value: 0.9179251477347341.\n",
      "[I 2024-02-06 20:49:36,338] Trial 52 finished with value: 0.9157364850076604 and parameters: {'learning_rate': 0.01719797748245539, 'n_estimators': 444, 'lambda_l1': 0.01140180813365498, 'lambda_l2': 0.050785649209665246, 'max_depth': 8, 'colsample_bytree': 0.47348223463865263, 'subsample': 0.9648568809641971, 'min_child_samples': 24}. Best is trial 47 with value: 0.9179251477347341.\n",
      "[I 2024-02-06 20:49:46,816] Trial 53 finished with value: 0.9150798861895382 and parameters: {'learning_rate': 0.011329509192891846, 'n_estimators': 454, 'lambda_l1': 0.009051131012253306, 'lambda_l2': 0.053187918280766945, 'max_depth': 6, 'colsample_bytree': 0.407865713538896, 'subsample': 0.9544295119659642, 'min_child_samples': 35}. Best is trial 47 with value: 0.9179251477347341.\n",
      "[I 2024-02-06 20:49:57,084] Trial 54 finished with value: 0.9163930838257824 and parameters: {'learning_rate': 0.018959157607241282, 'n_estimators': 402, 'lambda_l1': 0.010224063462082976, 'lambda_l2': 0.05851141327339129, 'max_depth': 7, 'colsample_bytree': 0.37160433305243684, 'subsample': 0.9343324254197588, 'min_child_samples': 30}. Best is trial 47 with value: 0.9179251477347341.\n",
      "[I 2024-02-06 20:50:08,996] Trial 55 finished with value: 0.9150798861895382 and parameters: {'learning_rate': 0.010010858175988797, 'n_estimators': 427, 'lambda_l1': 0.010754136900838337, 'lambda_l2': 0.05693607443911088, 'max_depth': 12, 'colsample_bytree': 0.494796678616232, 'subsample': 0.9401776589714489, 'min_child_samples': 25}. Best is trial 47 with value: 0.9179251477347341.\n",
      "[I 2024-02-06 20:50:20,727] Trial 56 finished with value: 0.9159553512803676 and parameters: {'learning_rate': 0.014297583072958664, 'n_estimators': 438, 'lambda_l1': 0.009795366430285507, 'lambda_l2': 0.05553562717491923, 'max_depth': 8, 'colsample_bytree': 0.44718778338649695, 'subsample': 0.916357799343563, 'min_child_samples': 42}. Best is trial 47 with value: 0.9179251477347341.\n",
      "[I 2024-02-06 20:50:30,586] Trial 57 finished with value: 0.9172685489166119 and parameters: {'learning_rate': 0.016251197748888075, 'n_estimators': 459, 'lambda_l1': 0.008539385846368625, 'lambda_l2': 0.053797413137225136, 'max_depth': 6, 'colsample_bytree': 0.5580096730722387, 'subsample': 0.9820344069794426, 'min_child_samples': 33}. Best is trial 47 with value: 0.9179251477347341.\n",
      "[I 2024-02-06 20:50:40,892] Trial 58 finished with value: 0.9166119500984898 and parameters: {'learning_rate': 0.012482031761774476, 'n_estimators': 415, 'lambda_l1': 0.010298136309045587, 'lambda_l2': 0.0517479028559167, 'max_depth': 7, 'colsample_bytree': 0.4833371520444727, 'subsample': 0.9263695927861666, 'min_child_samples': 28}. Best is trial 47 with value: 0.9179251477347341.\n",
      "[I 2024-02-06 20:50:54,982] Trial 59 finished with value: 0.9157364850076604 and parameters: {'learning_rate': 0.015008614225808774, 'n_estimators': 522, 'lambda_l1': 0.011999777488866558, 'lambda_l2': 0.05009025593333467, 'max_depth': 8, 'colsample_bytree': 0.427926460236849, 'subsample': 0.907489238363525, 'min_child_samples': 35}. Best is trial 47 with value: 0.9179251477347341.\n",
      "[I 2024-02-06 20:51:07,302] Trial 60 finished with value: 0.916174217553075 and parameters: {'learning_rate': 0.018570295391906484, 'n_estimators': 538, 'lambda_l1': 0.010599869304718566, 'lambda_l2': 0.052441574387243305, 'max_depth': 6, 'colsample_bytree': 0.38994302222568145, 'subsample': 0.9503378247507154, 'min_child_samples': 30}. Best is trial 47 with value: 0.9179251477347341.\n",
      "[I 2024-02-06 20:51:17,316] Trial 61 finished with value: 0.9168308163711972 and parameters: {'learning_rate': 0.015569665097049518, 'n_estimators': 457, 'lambda_l1': 0.008480883981107882, 'lambda_l2': 0.054793613317443854, 'max_depth': 6, 'colsample_bytree': 0.5343128329644349, 'subsample': 0.9837125197926726, 'min_child_samples': 32}. Best is trial 47 with value: 0.9179251477347341.\n",
      "[I 2024-02-06 20:51:27,253] Trial 62 finished with value: 0.9152987524622456 and parameters: {'learning_rate': 0.01635960133385064, 'n_estimators': 474, 'lambda_l1': 0.009747779879055557, 'lambda_l2': 0.05369379364940381, 'max_depth': 6, 'colsample_bytree': 0.571325117709583, 'subsample': 0.9797999765923207, 'min_child_samples': 39}. Best is trial 47 with value: 0.9179251477347341.\n",
      "[I 2024-02-06 20:51:39,552] Trial 63 finished with value: 0.9170496826439046 and parameters: {'learning_rate': 0.011671166249975277, 'n_estimators': 501, 'lambda_l1': 0.00915884752983781, 'lambda_l2': 0.055960632294534414, 'max_depth': 7, 'colsample_bytree': 0.530284995283844, 'subsample': 0.9649393724683321, 'min_child_samples': 33}. Best is trial 47 with value: 0.9179251477347341.\n",
      "[I 2024-02-06 20:51:48,566] Trial 64 finished with value: 0.916174217553075 and parameters: {'learning_rate': 0.013787453668962146, 'n_estimators': 432, 'lambda_l1': 0.009351939156318214, 'lambda_l2': 0.0583444193753964, 'max_depth': 7, 'colsample_bytree': 0.5666496749682015, 'subsample': 0.9600602833758628, 'min_child_samples': 34}. Best is trial 47 with value: 0.9179251477347341.\n",
      "[I 2024-02-06 20:51:57,195] Trial 65 finished with value: 0.915517618734953 and parameters: {'learning_rate': 0.019865262653013242, 'n_estimators': 458, 'lambda_l1': 0.008651526155879372, 'lambda_l2': 0.053645227551328965, 'max_depth': 6, 'colsample_bytree': 0.6165052692826601, 'subsample': 0.969980729036588, 'min_child_samples': 27}. Best is trial 47 with value: 0.9179251477347341.\n",
      "[I 2024-02-06 20:52:06,371] Trial 66 finished with value: 0.9166119500984898 and parameters: {'learning_rate': 0.017125602352423788, 'n_estimators': 425, 'lambda_l1': 0.011242021485965122, 'lambda_l2': 0.04984799883178276, 'max_depth': 7, 'colsample_bytree': 0.49812486436380404, 'subsample': 0.9997072931150949, 'min_child_samples': 36}. Best is trial 47 with value: 0.9179251477347341.\n",
      "[I 2024-02-06 21:07:40,976] Trial 67 finished with value: 0.915517618734953 and parameters: {'learning_rate': 0.01113362202863391, 'n_estimators': 467, 'lambda_l1': 0.00786561332186262, 'lambda_l2': 0.051995285270544596, 'max_depth': 6, 'colsample_bytree': 0.4694454105912512, 'subsample': 0.9897626179451916, 'min_child_samples': 41}. Best is trial 47 with value: 0.9179251477347341.\n",
      "[I 2024-02-06 21:07:53,051] Trial 68 finished with value: 0.9142044210987087 and parameters: {'learning_rate': 0.017889945437313363, 'n_estimators': 515, 'lambda_l1': 0.01023212945261733, 'lambda_l2': 0.05611522611868145, 'max_depth': 7, 'colsample_bytree': 0.5185047229275677, 'subsample': 0.9450396703910379, 'min_child_samples': 31}. Best is trial 47 with value: 0.9179251477347341.\n",
      "[I 2024-02-06 21:08:05,316] Trial 69 finished with value: 0.9170496826439046 and parameters: {'learning_rate': 0.014342917011740732, 'n_estimators': 447, 'lambda_l1': 0.010690204351198973, 'lambda_l2': 0.057282659034687385, 'max_depth': 8, 'colsample_bytree': 0.42253819843252993, 'subsample': 0.932569948754585, 'min_child_samples': 11}. Best is trial 47 with value: 0.9179251477347341.\n",
      "[I 2024-02-06 21:08:17,441] Trial 70 finished with value: 0.9179251477347341 and parameters: {'learning_rate': 0.012899270777732902, 'n_estimators': 481, 'lambda_l1': 0.009761009786485308, 'lambda_l2': 0.05456170286409467, 'max_depth': 7, 'colsample_bytree': 0.45302435064517954, 'subsample': 0.9202554570076563, 'min_child_samples': 33}. Best is trial 47 with value: 0.9179251477347341.\n",
      "[I 2024-02-06 21:08:29,562] Trial 71 finished with value: 0.9166119500984898 and parameters: {'learning_rate': 0.012417798262116603, 'n_estimators': 480, 'lambda_l1': 0.009266004548317509, 'lambda_l2': 0.05433275859886246, 'max_depth': 7, 'colsample_bytree': 0.45487815077764926, 'subsample': 0.9206948620380148, 'min_child_samples': 33}. Best is trial 47 with value: 0.9179251477347341.\n",
      "[I 2024-02-06 21:08:42,155] Trial 72 finished with value: 0.9170496826439046 and parameters: {'learning_rate': 0.015758536996253392, 'n_estimators': 489, 'lambda_l1': 0.009729477985108738, 'lambda_l2': 0.059222547022885444, 'max_depth': 7, 'colsample_bytree': 0.3809584842808338, 'subsample': 0.9513109466644402, 'min_child_samples': 38}. Best is trial 47 with value: 0.9179251477347341.\n",
      "[I 2024-02-06 21:08:54,784] Trial 73 finished with value: 0.9159553512803676 and parameters: {'learning_rate': 0.013133591592733859, 'n_estimators': 438, 'lambda_l1': 0.010100306097646424, 'lambda_l2': 0.05293270921658024, 'max_depth': 10, 'colsample_bytree': 0.4102617528082371, 'subsample': 0.9282028236997623, 'min_child_samples': 29}. Best is trial 47 with value: 0.9179251477347341.\n",
      "[I 2024-02-06 21:09:07,585] Trial 74 finished with value: 0.915517618734953 and parameters: {'learning_rate': 0.010841121542879664, 'n_estimators': 471, 'lambda_l1': 0.011060169678975584, 'lambda_l2': 0.055990147702012924, 'max_depth': 8, 'colsample_bytree': 0.4376584886492035, 'subsample': 0.9405180523438417, 'min_child_samples': 19}. Best is trial 47 with value: 0.9179251477347341.\n",
      "[I 2024-02-06 21:09:19,370] Trial 75 finished with value: 0.9157364850076604 and parameters: {'learning_rate': 0.014048661905524205, 'n_estimators': 481, 'lambda_l1': 0.011503898337202542, 'lambda_l2': 0.051466078144870434, 'max_depth': 7, 'colsample_bytree': 0.48818403835740254, 'subsample': 0.9363536577149494, 'min_child_samples': 36}. Best is trial 47 with value: 0.9179251477347341.\n",
      "[I 2024-02-06 21:09:32,297] Trial 76 finished with value: 0.916174217553075 and parameters: {'learning_rate': 0.015528671424412468, 'n_estimators': 578, 'lambda_l1': 0.010376621794232023, 'lambda_l2': 0.04926766010864937, 'max_depth': 6, 'colsample_bytree': 0.46037528966693564, 'subsample': 0.9109857124241497, 'min_child_samples': 31}. Best is trial 47 with value: 0.9179251477347341.\n",
      "[I 2024-02-06 21:09:45,862] Trial 77 finished with value: 0.9139855548260013 and parameters: {'learning_rate': 0.012519783426846714, 'n_estimators': 460, 'lambda_l1': 0.010888711126423891, 'lambda_l2': 0.048032217126289065, 'max_depth': 13, 'colsample_bytree': 0.3533339190248101, 'subsample': 0.9234149078024932, 'min_child_samples': 34}. Best is trial 47 with value: 0.9179251477347341.\n",
      "[I 2024-02-06 21:25:21,515] Trial 78 finished with value: 0.9168308163711972 and parameters: {'learning_rate': 0.02062909784885747, 'n_estimators': 451, 'lambda_l1': 0.009448478173710199, 'lambda_l2': 0.05459844026386109, 'max_depth': 6, 'colsample_bytree': 0.4034667451692022, 'subsample': 0.8997392997478175, 'min_child_samples': 26}. Best is trial 47 with value: 0.9179251477347341.\n",
      "[I 2024-02-06 21:25:32,372] Trial 79 finished with value: 0.9142044210987087 and parameters: {'learning_rate': 0.01736039673069067, 'n_estimators': 419, 'lambda_l1': 0.011170425700467886, 'lambda_l2': 0.05791061216833576, 'max_depth': 8, 'colsample_bytree': 0.5056776523747769, 'subsample': 0.9566282471246759, 'min_child_samples': 38}. Best is trial 47 with value: 0.9179251477347341.\n",
      "[I 2024-02-06 21:25:46,315] Trial 80 finished with value: 0.9168308163711972 and parameters: {'learning_rate': 0.013493583418838266, 'n_estimators': 508, 'lambda_l1': 0.011768685140066931, 'lambda_l2': 0.050376419605804315, 'max_depth': 9, 'colsample_bytree': 0.4779949131097343, 'subsample': 0.9177389356695679, 'min_child_samples': 33}. Best is trial 47 with value: 0.9179251477347341.\n",
      "[I 2024-02-06 21:25:58,231] Trial 81 finished with value: 0.9168308163711972 and parameters: {'learning_rate': 0.012022479031641069, 'n_estimators': 502, 'lambda_l1': 0.009086070917725671, 'lambda_l2': 0.055829055046307044, 'max_depth': 7, 'colsample_bytree': 0.5445663351932482, 'subsample': 0.9675730893036001, 'min_child_samples': 33}. Best is trial 47 with value: 0.9179251477347341.\n",
      "[I 2024-02-06 21:26:10,869] Trial 82 finished with value: 0.9166119500984898 and parameters: {'learning_rate': 0.011101476383403875, 'n_estimators': 520, 'lambda_l1': 0.008770844147796658, 'lambda_l2': 0.05627746498266599, 'max_depth': 7, 'colsample_bytree': 0.5161653689261465, 'subsample': 0.9634706565374035, 'min_child_samples': 35}. Best is trial 47 with value: 0.9179251477347341.\n",
      "[I 2024-02-06 21:26:22,946] Trial 83 finished with value: 0.9157364850076604 and parameters: {'learning_rate': 0.014870766842293492, 'n_estimators': 501, 'lambda_l1': 0.009797294290090497, 'lambda_l2': 0.053810506028777794, 'max_depth': 7, 'colsample_bytree': 0.5326268808438779, 'subsample': 0.9472103590413393, 'min_child_samples': 32}. Best is trial 47 with value: 0.9179251477347341.\n",
      "[I 2024-02-06 21:26:35,775] Trial 84 finished with value: 0.9163930838257824 and parameters: {'learning_rate': 0.016270599102773224, 'n_estimators': 513, 'lambda_l1': 0.009155381629102814, 'lambda_l2': 0.057394214553460145, 'max_depth': 7, 'colsample_bytree': 0.44782375444524974, 'subsample': 0.9307271118545566, 'min_child_samples': 36}. Best is trial 47 with value: 0.9179251477347341.\n",
      "[I 2024-02-06 21:26:48,090] Trial 85 finished with value: 0.9163930838257824 and parameters: {'learning_rate': 0.012046905029313843, 'n_estimators': 527, 'lambda_l1': 0.009585591457830247, 'lambda_l2': 0.0529492929791074, 'max_depth': 6, 'colsample_bytree': 0.4160687036015186, 'subsample': 0.9591405682720509, 'min_child_samples': 28}. Best is trial 47 with value: 0.9179251477347341.\n",
      "[I 2024-02-06 21:27:01,636] Trial 86 finished with value: 0.9139855548260013 and parameters: {'learning_rate': 0.010667993612746871, 'n_estimators': 495, 'lambda_l1': 0.010443221179783541, 'lambda_l2': 0.054728916393103344, 'max_depth': 8, 'colsample_bytree': 0.3648848028356308, 'subsample': 0.9758568006875328, 'min_child_samples': 37}. Best is trial 47 with value: 0.9179251477347341.\n",
      "[I 2024-02-06 21:27:14,118] Trial 87 finished with value: 0.9177062814620267 and parameters: {'learning_rate': 0.012943590690530832, 'n_estimators': 488, 'lambda_l1': 0.01009633740476644, 'lambda_l2': 0.05908785225715725, 'max_depth': 7, 'colsample_bytree': 0.4333428965320366, 'subsample': 0.9415045711565574, 'min_child_samples': 23}. Best is trial 47 with value: 0.9179251477347341.\n",
      "[I 2024-02-06 21:27:26,555] Trial 88 finished with value: 0.9168308163711972 and parameters: {'learning_rate': 0.013305682421270098, 'n_estimators': 486, 'lambda_l1': 0.010736394617542753, 'lambda_l2': 0.059409477864354646, 'max_depth': 7, 'colsample_bytree': 0.43928073831527953, 'subsample': 0.9392267321563229, 'min_child_samples': 22}. Best is trial 47 with value: 0.9179251477347341.\n",
      "[I 2024-02-06 21:42:50,293] Trial 89 finished with value: 0.9168308163711972 and parameters: {'learning_rate': 0.018486023384523896, 'n_estimators': 475, 'lambda_l1': 0.010050851908732958, 'lambda_l2': 0.057299728031508464, 'max_depth': 6, 'colsample_bytree': 0.3918947286013951, 'subsample': 0.9524383673662715, 'min_child_samples': 20}. Best is trial 47 with value: 0.9179251477347341.\n",
      "[I 2024-02-06 21:43:02,838] Trial 90 finished with value: 0.9163930838257824 and parameters: {'learning_rate': 0.014308934773069723, 'n_estimators': 466, 'lambda_l1': 0.010919573003296528, 'lambda_l2': 0.05876578120711006, 'max_depth': 8, 'colsample_bytree': 0.42944127385497916, 'subsample': 0.9439348205439825, 'min_child_samples': 24}. Best is trial 47 with value: 0.9179251477347341.\n",
      "[I 2024-02-06 21:43:15,183] Trial 91 finished with value: 0.915517618734953 and parameters: {'learning_rate': 0.011393198756325277, 'n_estimators': 493, 'lambda_l1': 0.009947779284195971, 'lambda_l2': 0.055536739349458485, 'max_depth': 7, 'colsample_bytree': 0.4660630587602412, 'subsample': 0.9364702956476247, 'min_child_samples': 31}. Best is trial 47 with value: 0.9179251477347341.\n",
      "[I 2024-02-06 21:43:26,210] Trial 92 finished with value: 0.9177062814620267 and parameters: {'learning_rate': 0.013178759955607069, 'n_estimators': 445, 'lambda_l1': 0.009282216762183614, 'lambda_l2': 0.059854376682607055, 'max_depth': 7, 'colsample_bytree': 0.4903224906883563, 'subsample': 0.94744151026945, 'min_child_samples': 23}. Best is trial 47 with value: 0.9179251477347341.\n",
      "[I 2024-02-06 21:43:37,421] Trial 93 finished with value: 0.9179251477347341 and parameters: {'learning_rate': 0.01497351140329851, 'n_estimators': 454, 'lambda_l1': 0.01022336517307705, 'lambda_l2': 0.05952845503734001, 'max_depth': 7, 'colsample_bytree': 0.483979255506597, 'subsample': 0.9475015622477924, 'min_child_samples': 25}. Best is trial 47 with value: 0.9179251477347341.\n",
      "[I 2024-02-06 21:43:48,378] Trial 94 finished with value: 0.9172685489166119 and parameters: {'learning_rate': 0.013035291777691103, 'n_estimators': 441, 'lambda_l1': 0.010228270370507374, 'lambda_l2': 0.05987144262626054, 'max_depth': 7, 'colsample_bytree': 0.4835519774544162, 'subsample': 0.9491898307816425, 'min_child_samples': 23}. Best is trial 47 with value: 0.9179251477347341.\n",
      "[I 2024-02-06 21:43:59,295] Trial 95 finished with value: 0.9163930838257824 and parameters: {'learning_rate': 0.014776812440299224, 'n_estimators': 434, 'lambda_l1': 0.010386884105301418, 'lambda_l2': 0.05799518287441737, 'max_depth': 7, 'colsample_bytree': 0.4532913688550271, 'subsample': 0.9426326960956937, 'min_child_samples': 25}. Best is trial 47 with value: 0.9179251477347341.\n",
      "[I 2024-02-06 21:44:12,236] Trial 96 finished with value: 0.9179251477347341 and parameters: {'learning_rate': 0.013780139389456526, 'n_estimators': 449, 'lambda_l1': 0.009631007703102115, 'lambda_l2': 0.059219397111764986, 'max_depth': 11, 'colsample_bytree': 0.46886534557663595, 'subsample': 0.9337913385469514, 'min_child_samples': 25}. Best is trial 47 with value: 0.9179251477347341.\n",
      "[I 2024-02-06 21:44:25,033] Trial 97 finished with value: 0.9152987524622456 and parameters: {'learning_rate': 0.010774149862916079, 'n_estimators': 449, 'lambda_l1': 0.009584712382780596, 'lambda_l2': 0.058500071518717854, 'max_depth': 12, 'colsample_bytree': 0.49212594868916987, 'subsample': 0.9307098911540398, 'min_child_samples': 22}. Best is trial 47 with value: 0.9179251477347341.\n",
      "[I 2024-02-06 21:44:37,831] Trial 98 finished with value: 0.9168308163711972 and parameters: {'learning_rate': 0.013648968522010339, 'n_estimators': 447, 'lambda_l1': 0.009368488715894898, 'lambda_l2': 0.05923136382034229, 'max_depth': 11, 'colsample_bytree': 0.4696973564958974, 'subsample': 0.9377067464103861, 'min_child_samples': 25}. Best is trial 47 with value: 0.9179251477347341.\n",
      "[I 2024-02-06 21:44:50,816] Trial 99 finished with value: 0.9177062814620267 and parameters: {'learning_rate': 0.012473529560659613, 'n_estimators': 455, 'lambda_l1': 0.009870722425869402, 'lambda_l2': 0.059016513792037296, 'max_depth': 11, 'colsample_bytree': 0.45162841671447984, 'subsample': 0.9330276756871747, 'min_child_samples': 27}. Best is trial 47 with value: 0.9179251477347341.\n"
     ]
    },
    {
     "name": "stdout",
     "output_type": "stream",
     "text": [
      "==================================================\n",
      "{'learning_rate': 0.012054059212586784, 'n_estimators': 460, 'lambda_l1': 0.009811018111847463, 'lambda_l2': 0.0577394472782044, 'max_depth': 9, 'colsample_bytree': 0.5132533308618275, 'subsample': 0.9532335850528303, 'min_child_samples': 23}\n"
     ]
    }
   ],
   "source": [
    "#The tuning process has been commented out due to its time-consuming nature.\n",
    "\n",
    "# Define the objective function for Optuna optimization\n",
    "def objective(trial, X_train, y_train, X_test, y_test):\n",
    "     # Define parameters to be optimized for the LGBMClassifier\n",
    "     param = {\n",
    "         \"objective\": \"multiclass\",\n",
    "         \"metric\": \"multi_logloss\",\n",
    "         \"verbosity\": -1,\n",
    "         \"boosting_type\": \"gbdt\",\n",
    "         \"random_state\": 42,\n",
    "         \"num_class\": 7,\n",
    "         \"learning_rate\": trial.suggest_float(\"learning_rate\", 0.01, 0.05),\n",
    "         \"n_estimators\": trial.suggest_int(\"n_estimators\", 400, 600),\n",
    "         \"lambda_l1\": trial.suggest_float(\"lambda_l1\", 0.005, 0.015),\n",
    "         \"lambda_l2\": trial.suggest_float(\"lambda_l2\", 0.02, 0.06),\n",
    "         \"max_depth\": trial.suggest_int(\"max_depth\", 6, 14),\n",
    "         \"colsample_bytree\": trial.suggest_float(\"colsample_bytree\", 0.3, 0.9),\n",
    "         \"subsample\": trial.suggest_float(\"subsample\", 0.8, 1.0),\n",
    "         \"min_child_samples\": trial.suggest_int(\"min_child_samples\", 10, 50),\n",
    "     }\n",
    "\n",
    "     # Create an instance of LGBMClassifier with the suggested parameters\n",
    "     lgbm_classifier = LGBMClassifier(**param)\n",
    "\n",
    "     # Fit the classifier on the training data\n",
    "     lgbm_classifier.fit(X_train, y_train)\n",
    "\n",
    "     # Evaluate the classifier on the test data\n",
    "     score = lgbm_classifier.score(X_test, y_test)\n",
    "\n",
    "     return score\n",
    "\n",
    "# Split the data into training and test sets\n",
    "X_train, X_test, y_train, y_test = train_test_split(X, y, test_size=0.2, random_state=42)  # Adjust the test_size as needed\n",
    "\n",
    "# Set up the sampler for Optuna optimization\n",
    "sampler = optuna.samplers.TPESampler(seed=42)  # Using Tree-structured Parzen Estimator sampler for optimization\n",
    "\n",
    "# Create a study object for Optuna optimization\n",
    "study = optuna.create_study(direction=\"maximize\", sampler=sampler)\n",
    "\n",
    "# Run the optimization process\n",
    "study.optimize(lambda trial: objective(trial, X_train, y_train, X_test, y_test), n_trials=100)\n",
    "\n",
    "# Get the best parameters after optimization\n",
    "best_params = study.best_params\n",
    "\n",
    "print('='*50)\n",
    "print(best_params)"
   ],
   "metadata": {
    "collapsed": false,
    "ExecuteTime": {
     "end_time": "2024-02-06T13:44:50.821988Z",
     "start_time": "2024-02-06T12:10:59.128183Z"
    }
   },
   "id": "b67fd716590d519b",
   "execution_count": 22
  },
  {
   "cell_type": "code",
   "outputs": [],
   "source": [
    "best_params = {\n",
    "    \"objective\": \"multiclass\",\n",
    "    \"metric\": \"multi_logloss\",\n",
    "    \"verbosity\": -1,\n",
    "    \"boosting_type\": \"gbdt\",\n",
    "    \"random_state\": 42,\n",
    "    \"num_class\": 7,\n",
    "    \"learning_rate\": 0.012054059212586784,\n",
    "    \"n_estimators\": 460,\n",
    "    \"lambda_l1\": 0.009811018111847463,\n",
    "    \"lambda_l2\": 0.0577394472782044,\n",
    "    \"max_depth\": 9,\n",
    "    \"colsample_bytree\": 0.5132533308618275,\n",
    "    \"subsample\": 0.9532335850528303,\n",
    "    \"min_child_samples\": 23,\n",
    "}"
   ],
   "metadata": {
    "collapsed": false,
    "ExecuteTime": {
     "end_time": "2024-02-06T15:07:37.862526Z",
     "start_time": "2024-02-06T15:07:37.854987Z"
    }
   },
   "id": "ce1589b1a1cacae9",
   "execution_count": 23
  },
  {
   "cell_type": "code",
   "outputs": [
    {
     "data": {
      "text/plain": "0.9179251477347341"
     },
     "execution_count": 24,
     "metadata": {},
     "output_type": "execute_result"
    }
   ],
   "source": [
    "lgbm_classifier = LGBMClassifier(**best_params)\n",
    "\n",
    "lgbm_classifier.fit(X_train, y_train)\n",
    "\n",
    "y_pred = lgbm_classifier.predict(X_test)\n",
    "accuracy_score(y_test, y_pred) "
   ],
   "metadata": {
    "collapsed": false,
    "ExecuteTime": {
     "end_time": "2024-02-06T15:08:04.186017Z",
     "start_time": "2024-02-06T15:07:50.237072Z"
    }
   },
   "id": "2071d3e47a02859d",
   "execution_count": 24
  },
  {
   "cell_type": "code",
   "outputs": [
    {
     "data": {
      "text/plain": "          id           NObeyesdad\n0      20758      Obesity_Type_II\n1      20759   Overweight_Level_I\n2      20760     Obesity_Type_III\n3      20761       Obesity_Type_I\n4      20762     Obesity_Type_III\n...      ...                  ...\n13835  34593  Overweight_Level_II\n13836  34594   Overweight_Level_I\n13837  34595  Insufficient_Weight\n13838  34596        Normal_Weight\n13839  34597      Obesity_Type_II\n\n[13840 rows x 2 columns]",
      "text/html": "<div>\n<style scoped>\n    .dataframe tbody tr th:only-of-type {\n        vertical-align: middle;\n    }\n\n    .dataframe tbody tr th {\n        vertical-align: top;\n    }\n\n    .dataframe thead th {\n        text-align: right;\n    }\n</style>\n<table border=\"1\" class=\"dataframe\">\n  <thead>\n    <tr style=\"text-align: right;\">\n      <th></th>\n      <th>id</th>\n      <th>NObeyesdad</th>\n    </tr>\n  </thead>\n  <tbody>\n    <tr>\n      <th>0</th>\n      <td>20758</td>\n      <td>Obesity_Type_II</td>\n    </tr>\n    <tr>\n      <th>1</th>\n      <td>20759</td>\n      <td>Overweight_Level_I</td>\n    </tr>\n    <tr>\n      <th>2</th>\n      <td>20760</td>\n      <td>Obesity_Type_III</td>\n    </tr>\n    <tr>\n      <th>3</th>\n      <td>20761</td>\n      <td>Obesity_Type_I</td>\n    </tr>\n    <tr>\n      <th>4</th>\n      <td>20762</td>\n      <td>Obesity_Type_III</td>\n    </tr>\n    <tr>\n      <th>...</th>\n      <td>...</td>\n      <td>...</td>\n    </tr>\n    <tr>\n      <th>13835</th>\n      <td>34593</td>\n      <td>Overweight_Level_II</td>\n    </tr>\n    <tr>\n      <th>13836</th>\n      <td>34594</td>\n      <td>Overweight_Level_I</td>\n    </tr>\n    <tr>\n      <th>13837</th>\n      <td>34595</td>\n      <td>Insufficient_Weight</td>\n    </tr>\n    <tr>\n      <th>13838</th>\n      <td>34596</td>\n      <td>Normal_Weight</td>\n    </tr>\n    <tr>\n      <th>13839</th>\n      <td>34597</td>\n      <td>Obesity_Type_II</td>\n    </tr>\n  </tbody>\n</table>\n<p>13840 rows × 2 columns</p>\n</div>"
     },
     "execution_count": 25,
     "metadata": {},
     "output_type": "execute_result"
    }
   ],
   "source": [
    "submission_df['NObeyesdad'] = lgbm_classifier.predict(test)\n",
    "submission_df"
   ],
   "metadata": {
    "collapsed": false,
    "ExecuteTime": {
     "end_time": "2024-02-06T15:08:28.345615Z",
     "start_time": "2024-02-06T15:08:27.628943Z"
    }
   },
   "id": "3487bba4b5b43f95",
   "execution_count": 25
  },
  {
   "cell_type": "code",
   "outputs": [],
   "source": [
    "submission_df.to_csv('Dataset/MultiClassPredictionObesityRisk/Prediction/20240206_FineTuned_LGB_submission.csv', index=False)"
   ],
   "metadata": {
    "collapsed": false,
    "ExecuteTime": {
     "end_time": "2024-02-06T15:09:00.044453Z",
     "start_time": "2024-02-06T15:09:00.026771Z"
    }
   },
   "id": "862a33709817f888",
   "execution_count": 26
  },
  {
   "cell_type": "code",
   "outputs": [],
   "source": [],
   "metadata": {
    "collapsed": false
   },
   "id": "35407b0e056d3996"
  }
 ],
 "metadata": {
  "kernelspec": {
   "display_name": "Python 3",
   "language": "python",
   "name": "python3"
  },
  "language_info": {
   "codemirror_mode": {
    "name": "ipython",
    "version": 2
   },
   "file_extension": ".py",
   "mimetype": "text/x-python",
   "name": "python",
   "nbconvert_exporter": "python",
   "pygments_lexer": "ipython2",
   "version": "2.7.6"
  }
 },
 "nbformat": 4,
 "nbformat_minor": 5
}
