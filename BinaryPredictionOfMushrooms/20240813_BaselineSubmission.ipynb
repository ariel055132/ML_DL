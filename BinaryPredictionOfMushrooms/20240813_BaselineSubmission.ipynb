{
 "cells": [
  {
   "cell_type": "code",
   "execution_count": 1,
   "metadata": {
    "collapsed": true,
    "ExecuteTime": {
     "end_time": "2024-08-13T14:53:44.664994100Z",
     "start_time": "2024-08-13T14:53:43.797215700Z"
    }
   },
   "outputs": [],
   "source": [
    "import pandas as pd\n",
    "import numpy as np\n",
    "import matplotlib.pyplot as plt\n",
    "%matplotlib inline\n",
    "\n",
    "import warnings\n",
    "warnings.filterwarnings(\"ignore\")"
   ]
  },
  {
   "cell_type": "raw",
   "source": [
    "# Read Data"
   ],
   "metadata": {
    "collapsed": false
   }
  },
  {
   "cell_type": "code",
   "execution_count": 2,
   "outputs": [],
   "source": [
    "train_df = pd.read_csv('Datasets/train.csv', encoding='utf8')\n",
    "test_df = pd.read_csv('Datasets/test.csv', encoding='utf8')"
   ],
   "metadata": {
    "collapsed": false,
    "ExecuteTime": {
     "end_time": "2024-08-13T14:58:35.563507400Z",
     "start_time": "2024-08-13T14:58:30.244880700Z"
    }
   }
  },
  {
   "cell_type": "code",
   "execution_count": 3,
   "outputs": [
    {
     "data": {
      "text/plain": "   id class  cap-diameter cap-shape cap-surface cap-color  \\\n0   0     e          8.80         f           s         u   \n1   1     p          4.51         x           h         o   \n2   2     e          6.94         f           s         b   \n3   3     e          3.88         f           y         g   \n4   4     e          5.85         x           l         w   \n\n  does-bruise-or-bleed gill-attachment gill-spacing gill-color  ...  \\\n0                    f               a            c          w  ...   \n1                    f               a            c          n  ...   \n2                    f               x            c          w  ...   \n3                    f               s          NaN          g  ...   \n4                    f               d          NaN          w  ...   \n\n   stem-root  stem-surface stem-color veil-type veil-color has-ring ring-type  \\\n0        NaN           NaN          w       NaN        NaN        f         f   \n1        NaN             y          o       NaN        NaN        t         z   \n2        NaN             s          n       NaN        NaN        f         f   \n3        NaN           NaN          w       NaN        NaN        f         f   \n4        NaN           NaN          w       NaN        NaN        f         f   \n\n  spore-print-color habitat season  \n0               NaN       d      a  \n1               NaN       d      w  \n2               NaN       l      w  \n3               NaN       d      u  \n4               NaN       g      a  \n\n[5 rows x 22 columns]",
      "text/html": "<div>\n<style scoped>\n    .dataframe tbody tr th:only-of-type {\n        vertical-align: middle;\n    }\n\n    .dataframe tbody tr th {\n        vertical-align: top;\n    }\n\n    .dataframe thead th {\n        text-align: right;\n    }\n</style>\n<table border=\"1\" class=\"dataframe\">\n  <thead>\n    <tr style=\"text-align: right;\">\n      <th></th>\n      <th>id</th>\n      <th>class</th>\n      <th>cap-diameter</th>\n      <th>cap-shape</th>\n      <th>cap-surface</th>\n      <th>cap-color</th>\n      <th>does-bruise-or-bleed</th>\n      <th>gill-attachment</th>\n      <th>gill-spacing</th>\n      <th>gill-color</th>\n      <th>...</th>\n      <th>stem-root</th>\n      <th>stem-surface</th>\n      <th>stem-color</th>\n      <th>veil-type</th>\n      <th>veil-color</th>\n      <th>has-ring</th>\n      <th>ring-type</th>\n      <th>spore-print-color</th>\n      <th>habitat</th>\n      <th>season</th>\n    </tr>\n  </thead>\n  <tbody>\n    <tr>\n      <th>0</th>\n      <td>0</td>\n      <td>e</td>\n      <td>8.80</td>\n      <td>f</td>\n      <td>s</td>\n      <td>u</td>\n      <td>f</td>\n      <td>a</td>\n      <td>c</td>\n      <td>w</td>\n      <td>...</td>\n      <td>NaN</td>\n      <td>NaN</td>\n      <td>w</td>\n      <td>NaN</td>\n      <td>NaN</td>\n      <td>f</td>\n      <td>f</td>\n      <td>NaN</td>\n      <td>d</td>\n      <td>a</td>\n    </tr>\n    <tr>\n      <th>1</th>\n      <td>1</td>\n      <td>p</td>\n      <td>4.51</td>\n      <td>x</td>\n      <td>h</td>\n      <td>o</td>\n      <td>f</td>\n      <td>a</td>\n      <td>c</td>\n      <td>n</td>\n      <td>...</td>\n      <td>NaN</td>\n      <td>y</td>\n      <td>o</td>\n      <td>NaN</td>\n      <td>NaN</td>\n      <td>t</td>\n      <td>z</td>\n      <td>NaN</td>\n      <td>d</td>\n      <td>w</td>\n    </tr>\n    <tr>\n      <th>2</th>\n      <td>2</td>\n      <td>e</td>\n      <td>6.94</td>\n      <td>f</td>\n      <td>s</td>\n      <td>b</td>\n      <td>f</td>\n      <td>x</td>\n      <td>c</td>\n      <td>w</td>\n      <td>...</td>\n      <td>NaN</td>\n      <td>s</td>\n      <td>n</td>\n      <td>NaN</td>\n      <td>NaN</td>\n      <td>f</td>\n      <td>f</td>\n      <td>NaN</td>\n      <td>l</td>\n      <td>w</td>\n    </tr>\n    <tr>\n      <th>3</th>\n      <td>3</td>\n      <td>e</td>\n      <td>3.88</td>\n      <td>f</td>\n      <td>y</td>\n      <td>g</td>\n      <td>f</td>\n      <td>s</td>\n      <td>NaN</td>\n      <td>g</td>\n      <td>...</td>\n      <td>NaN</td>\n      <td>NaN</td>\n      <td>w</td>\n      <td>NaN</td>\n      <td>NaN</td>\n      <td>f</td>\n      <td>f</td>\n      <td>NaN</td>\n      <td>d</td>\n      <td>u</td>\n    </tr>\n    <tr>\n      <th>4</th>\n      <td>4</td>\n      <td>e</td>\n      <td>5.85</td>\n      <td>x</td>\n      <td>l</td>\n      <td>w</td>\n      <td>f</td>\n      <td>d</td>\n      <td>NaN</td>\n      <td>w</td>\n      <td>...</td>\n      <td>NaN</td>\n      <td>NaN</td>\n      <td>w</td>\n      <td>NaN</td>\n      <td>NaN</td>\n      <td>f</td>\n      <td>f</td>\n      <td>NaN</td>\n      <td>g</td>\n      <td>a</td>\n    </tr>\n  </tbody>\n</table>\n<p>5 rows × 22 columns</p>\n</div>"
     },
     "execution_count": 3,
     "metadata": {},
     "output_type": "execute_result"
    }
   ],
   "source": [
    "train_df.head(5)"
   ],
   "metadata": {
    "collapsed": false,
    "ExecuteTime": {
     "end_time": "2024-08-13T14:58:38.024918700Z",
     "start_time": "2024-08-13T14:58:37.967000200Z"
    }
   }
  },
  {
   "cell_type": "code",
   "execution_count": 5,
   "outputs": [
    {
     "data": {
      "text/plain": "(3116945, 22)"
     },
     "execution_count": 5,
     "metadata": {},
     "output_type": "execute_result"
    }
   ],
   "source": [
    "train_df.shape"
   ],
   "metadata": {
    "collapsed": false,
    "ExecuteTime": {
     "end_time": "2024-08-13T14:59:15.035096800Z",
     "start_time": "2024-08-13T14:59:15.027123600Z"
    }
   }
  },
  {
   "cell_type": "code",
   "execution_count": 6,
   "outputs": [
    {
     "data": {
      "text/plain": "id                        int64\nclass                    object\ncap-diameter            float64\ncap-shape                object\ncap-surface              object\ncap-color                object\ndoes-bruise-or-bleed     object\ngill-attachment          object\ngill-spacing             object\ngill-color               object\nstem-height             float64\nstem-width              float64\nstem-root                object\nstem-surface             object\nstem-color               object\nveil-type                object\nveil-color               object\nhas-ring                 object\nring-type                object\nspore-print-color        object\nhabitat                  object\nseason                   object\ndtype: object"
     },
     "execution_count": 6,
     "metadata": {},
     "output_type": "execute_result"
    }
   ],
   "source": [
    "train_df.dtypes"
   ],
   "metadata": {
    "collapsed": false,
    "ExecuteTime": {
     "end_time": "2024-08-13T14:59:31.104304600Z",
     "start_time": "2024-08-13T14:59:31.074296400Z"
    }
   }
  },
  {
   "cell_type": "code",
   "execution_count": 7,
   "outputs": [
    {
     "data": {
      "text/plain": "0"
     },
     "execution_count": 7,
     "metadata": {},
     "output_type": "execute_result"
    }
   ],
   "source": [
    "# Check whether there are duplicated data in dataset\n",
    "train_df.duplicated().sum()"
   ],
   "metadata": {
    "collapsed": false,
    "ExecuteTime": {
     "end_time": "2024-08-13T15:00:22.575464200Z",
     "start_time": "2024-08-13T15:00:19.091943900Z"
    }
   }
  },
  {
   "cell_type": "code",
   "execution_count": 8,
   "outputs": [
    {
     "data": {
      "text/plain": "id                            0\nclass                         0\ncap-diameter                  4\ncap-shape                    40\ncap-surface              671023\ncap-color                    12\ndoes-bruise-or-bleed          8\ngill-attachment          523936\ngill-spacing            1258435\ngill-color                   57\nstem-height                   0\nstem-width                    0\nstem-root               2757023\nstem-surface            1980861\nstem-color                   38\nveil-type               2957493\nveil-color              2740947\nhas-ring                     24\nring-type                128880\nspore-print-color       2849682\nhabitat                      45\nseason                        0\ndtype: int64"
     },
     "execution_count": 8,
     "metadata": {},
     "output_type": "execute_result"
    }
   ],
   "source": [
    "# Check whether there is missing value in dataset\n",
    "train_df.isnull().sum()"
   ],
   "metadata": {
    "collapsed": false,
    "ExecuteTime": {
     "end_time": "2024-08-13T15:01:31.866595Z",
     "start_time": "2024-08-13T15:01:30.846098600Z"
    }
   }
  },
  {
   "cell_type": "code",
   "execution_count": 9,
   "outputs": [
    {
     "data": {
      "text/plain": "(2077964, 21)"
     },
     "execution_count": 9,
     "metadata": {},
     "output_type": "execute_result"
    }
   ],
   "source": [
    "test_df.shape"
   ],
   "metadata": {
    "collapsed": false,
    "ExecuteTime": {
     "end_time": "2024-08-13T15:03:05.391722600Z",
     "start_time": "2024-08-13T15:03:05.365519900Z"
    }
   }
  },
  {
   "cell_type": "code",
   "execution_count": 10,
   "outputs": [
    {
     "data": {
      "text/plain": "id                        int64\ncap-diameter            float64\ncap-shape                object\ncap-surface              object\ncap-color                object\ndoes-bruise-or-bleed     object\ngill-attachment          object\ngill-spacing             object\ngill-color               object\nstem-height             float64\nstem-width              float64\nstem-root                object\nstem-surface             object\nstem-color               object\nveil-type                object\nveil-color               object\nhas-ring                 object\nring-type                object\nspore-print-color        object\nhabitat                  object\nseason                   object\ndtype: object"
     },
     "execution_count": 10,
     "metadata": {},
     "output_type": "execute_result"
    }
   ],
   "source": [
    "test_df.dtypes"
   ],
   "metadata": {
    "collapsed": false,
    "ExecuteTime": {
     "end_time": "2024-08-13T15:03:46.221819100Z",
     "start_time": "2024-08-13T15:03:46.209754Z"
    }
   }
  },
  {
   "cell_type": "code",
   "execution_count": 11,
   "outputs": [
    {
     "data": {
      "text/plain": "0"
     },
     "execution_count": 11,
     "metadata": {},
     "output_type": "execute_result"
    }
   ],
   "source": [
    "test_df.duplicated().sum()"
   ],
   "metadata": {
    "collapsed": false,
    "ExecuteTime": {
     "end_time": "2024-08-13T15:04:12.439674700Z",
     "start_time": "2024-08-13T15:04:10.166613Z"
    }
   }
  },
  {
   "cell_type": "code",
   "execution_count": 12,
   "outputs": [
    {
     "data": {
      "text/plain": "id                            0\ncap-diameter                  7\ncap-shape                    31\ncap-surface              446904\ncap-color                    13\ndoes-bruise-or-bleed         10\ngill-attachment          349821\ngill-spacing             839595\ngill-color                   49\nstem-height                   1\nstem-width                    0\nstem-root               1838012\nstem-surface            1321488\nstem-color                   21\nveil-type               1971545\nveil-color              1826124\nhas-ring                     19\nring-type                 86195\nspore-print-color       1899617\nhabitat                      25\nseason                        0\ndtype: int64"
     },
     "execution_count": 12,
     "metadata": {},
     "output_type": "execute_result"
    }
   ],
   "source": [
    "test_df.isna().sum()"
   ],
   "metadata": {
    "collapsed": false,
    "ExecuteTime": {
     "end_time": "2024-08-13T15:04:26.284885100Z",
     "start_time": "2024-08-13T15:04:25.631306600Z"
    }
   }
  },
  {
   "cell_type": "raw",
   "source": [
    "# Clean data / Data preprocessing\n",
    "* Drop unnecessary column in dataset\n",
    "* Define the prediction target\n",
    "* Obtain categorical & numerical features\n",
    "* Preprocess categorical & numerical features"
   ],
   "metadata": {
    "collapsed": false
   }
  },
  {
   "cell_type": "code",
   "execution_count": 13,
   "outputs": [],
   "source": [
    "# Create copies of the original training/testing data\n",
    "train_df_cleaned = train_df.copy()\n",
    "test_df_cleaned = test_df.copy()"
   ],
   "metadata": {
    "collapsed": false,
    "ExecuteTime": {
     "end_time": "2024-08-13T15:11:27.858682900Z",
     "start_time": "2024-08-13T15:11:27.560863500Z"
    }
   }
  },
  {
   "cell_type": "code",
   "execution_count": 14,
   "outputs": [],
   "source": [
    "# Drop 'id' column in training dataset\n",
    "train_df_cleaned = train_df_cleaned.drop('id', axis=1)"
   ],
   "metadata": {
    "collapsed": false,
    "ExecuteTime": {
     "end_time": "2024-08-13T15:13:25.402311800Z",
     "start_time": "2024-08-13T15:13:25.130160700Z"
    }
   }
  },
  {
   "cell_type": "code",
   "execution_count": 15,
   "outputs": [],
   "source": [
    "# Define the prediction target\n",
    "target_column = 'class'"
   ],
   "metadata": {
    "collapsed": false,
    "ExecuteTime": {
     "end_time": "2024-08-13T15:13:56.722200Z",
     "start_time": "2024-08-13T15:13:56.717659100Z"
    }
   }
  },
  {
   "cell_type": "code",
   "execution_count": 16,
   "outputs": [
    {
     "name": "stdout",
     "output_type": "stream",
     "text": [
      "Index(['class', 'cap-shape', 'cap-surface', 'cap-color',\n",
      "       'does-bruise-or-bleed', 'gill-attachment', 'gill-spacing', 'gill-color',\n",
      "       'stem-root', 'stem-surface', 'stem-color', 'veil-type', 'veil-color',\n",
      "       'has-ring', 'ring-type', 'spore-print-color', 'habitat', 'season'],\n",
      "      dtype='object')\n",
      "--------------------------------------------------\n",
      "Index(['cap-shape', 'cap-surface', 'cap-color', 'does-bruise-or-bleed',\n",
      "       'gill-attachment', 'gill-spacing', 'gill-color', 'stem-root',\n",
      "       'stem-surface', 'stem-color', 'veil-type', 'veil-color', 'has-ring',\n",
      "       'ring-type', 'spore-print-color', 'habitat', 'season'],\n",
      "      dtype='object')\n"
     ]
    }
   ],
   "source": [
    "# Obtain categorical features / columns while excluding the prediction target\n",
    "categorical_features = train_df_cleaned.select_dtypes(include=['object']).columns\n",
    "print(categorical_features)\n",
    "print(\"-\" * 50)\n",
    "categorical_features = categorical_features.drop(target_column)\n",
    "print(categorical_features)"
   ],
   "metadata": {
    "collapsed": false,
    "ExecuteTime": {
     "end_time": "2024-08-13T15:15:52.403895500Z",
     "start_time": "2024-08-13T15:15:52.176423600Z"
    }
   }
  },
  {
   "cell_type": "code",
   "execution_count": 17,
   "outputs": [
    {
     "name": "stdout",
     "output_type": "stream",
     "text": [
      "Index(['cap-diameter', 'stem-height', 'stem-width'], dtype='object')\n",
      "--------------------------------------------------\n"
     ]
    },
    {
     "ename": "KeyError",
     "evalue": "\"['class'] not found in axis\"",
     "output_type": "error",
     "traceback": [
      "\u001B[1;31m---------------------------------------------------------------------------\u001B[0m",
      "\u001B[1;31mKeyError\u001B[0m                                  Traceback (most recent call last)",
      "Cell \u001B[1;32mIn[17], line 5\u001B[0m\n\u001B[0;32m      3\u001B[0m \u001B[38;5;28mprint\u001B[39m(numerical_features)\n\u001B[0;32m      4\u001B[0m \u001B[38;5;28mprint\u001B[39m(\u001B[38;5;124m\"\u001B[39m\u001B[38;5;124m-\u001B[39m\u001B[38;5;124m\"\u001B[39m \u001B[38;5;241m*\u001B[39m \u001B[38;5;241m50\u001B[39m)\n\u001B[1;32m----> 5\u001B[0m numerical_features \u001B[38;5;241m=\u001B[39m \u001B[43mnumerical_features\u001B[49m\u001B[38;5;241;43m.\u001B[39;49m\u001B[43mdrop\u001B[49m\u001B[43m(\u001B[49m\u001B[43mtarget_column\u001B[49m\u001B[43m)\u001B[49m\n\u001B[0;32m      6\u001B[0m \u001B[38;5;28mprint\u001B[39m(numerical_features)\n",
      "File \u001B[1;32md:\\Github\\ML_DL\\.conda\\lib\\site-packages\\pandas\\core\\indexes\\base.py:6699\u001B[0m, in \u001B[0;36mIndex.drop\u001B[1;34m(self, labels, errors)\u001B[0m\n\u001B[0;32m   6697\u001B[0m \u001B[38;5;28;01mif\u001B[39;00m mask\u001B[38;5;241m.\u001B[39many():\n\u001B[0;32m   6698\u001B[0m     \u001B[38;5;28;01mif\u001B[39;00m errors \u001B[38;5;241m!=\u001B[39m \u001B[38;5;124m\"\u001B[39m\u001B[38;5;124mignore\u001B[39m\u001B[38;5;124m\"\u001B[39m:\n\u001B[1;32m-> 6699\u001B[0m         \u001B[38;5;28;01mraise\u001B[39;00m \u001B[38;5;167;01mKeyError\u001B[39;00m(\u001B[38;5;124mf\u001B[39m\u001B[38;5;124m\"\u001B[39m\u001B[38;5;132;01m{\u001B[39;00m\u001B[38;5;28mlist\u001B[39m(labels[mask])\u001B[38;5;132;01m}\u001B[39;00m\u001B[38;5;124m not found in axis\u001B[39m\u001B[38;5;124m\"\u001B[39m)\n\u001B[0;32m   6700\u001B[0m     indexer \u001B[38;5;241m=\u001B[39m indexer[\u001B[38;5;241m~\u001B[39mmask]\n\u001B[0;32m   6701\u001B[0m \u001B[38;5;28;01mreturn\u001B[39;00m \u001B[38;5;28mself\u001B[39m\u001B[38;5;241m.\u001B[39mdelete(indexer)\n",
      "\u001B[1;31mKeyError\u001B[0m: \"['class'] not found in axis\""
     ]
    }
   ],
   "source": [
    "# Obtain numerical features / columns while excluding the prediction target\n",
    "numerical_features = train_df_cleaned.select_dtypes(exclude=['object']).columns\n",
    "print(numerical_features)\n",
    "print(\"-\" * 50)\n",
    "numerical_features = numerical_features.drop(target_column)\n",
    "print(numerical_features)"
   ],
   "metadata": {
    "collapsed": false,
    "ExecuteTime": {
     "end_time": "2024-08-13T15:21:32.228128500Z",
     "start_time": "2024-08-13T15:21:31.639687300Z"
    }
   }
  },
  {
   "cell_type": "code",
   "execution_count": 20,
   "outputs": [
    {
     "name": "stdout",
     "output_type": "stream",
     "text": [
      "cap-shape 75\n",
      "cap-surface 84\n",
      "cap-color 79\n",
      "does-bruise-or-bleed 27\n",
      "gill-attachment 79\n",
      "gill-spacing 49\n",
      "gill-color 64\n",
      "stem-root 39\n",
      "stem-surface 61\n",
      "stem-color 60\n",
      "veil-type 23\n",
      "veil-color 25\n",
      "has-ring 24\n",
      "ring-type 41\n",
      "spore-print-color 33\n",
      "habitat 53\n",
      "season 4\n"
     ]
    }
   ],
   "source": [
    "# Finding number of categories of categorical features\n",
    "for column in categorical_features:\n",
    "    num_unique = len(train_df_cleaned[column].unique())\n",
    "    print(f\"{column} {num_unique}\")"
   ],
   "metadata": {
    "collapsed": false,
    "ExecuteTime": {
     "end_time": "2024-08-13T15:28:12.520179200Z",
     "start_time": "2024-08-13T15:28:11.354662700Z"
    }
   }
  },
  {
   "cell_type": "code",
   "execution_count": 23,
   "outputs": [
    {
     "name": "stdout",
     "output_type": "stream",
     "text": [
      "cap-shape\n",
      "x    1436026\n",
      "f     676238\n",
      "s     365146\n",
      "b     318646\n",
      "o     108835\n",
      "p     106967\n",
      "c     104520\n",
      "d         65\n",
      "e         60\n",
      "n         41\n",
      "Name: count, dtype: int64\n",
      "--------------------------------------------------\n",
      "cap-surface\n",
      "t    460777\n",
      "s    384970\n",
      "y    327826\n",
      "h    284460\n",
      "g    263729\n",
      "d    206832\n",
      "k    128875\n",
      "e    119712\n",
      "i    113440\n",
      "w    109840\n",
      "Name: count, dtype: int64\n",
      "--------------------------------------------------\n",
      "cap-color\n",
      "n    1359542\n",
      "y     386627\n",
      "w     379442\n",
      "g     210825\n",
      "e     197290\n",
      "o     178847\n",
      "p      91838\n",
      "r      78236\n",
      "u      73172\n",
      "b      61313\n",
      "Name: count, dtype: int64\n",
      "--------------------------------------------------\n",
      "does-bruise-or-bleed\n",
      "f    2569743\n",
      "t     547085\n",
      "w         14\n",
      "c         11\n",
      "h          9\n",
      "a          7\n",
      "b          7\n",
      "x          7\n",
      "y          7\n",
      "k          6\n",
      "Name: count, dtype: int64\n",
      "--------------------------------------------------\n",
      "gill-attachment\n",
      "a    646034\n",
      "d    589236\n",
      "x    360878\n",
      "e    301858\n",
      "s    295439\n",
      "p    279110\n",
      "f    119953\n",
      "c        74\n",
      "u        56\n",
      "w        37\n",
      "Name: count, dtype: int64\n",
      "--------------------------------------------------\n",
      "gill-spacing\n",
      "c    1331054\n",
      "d     407932\n",
      "f     119380\n",
      "e         24\n",
      "a         17\n",
      "s         16\n",
      "b         12\n",
      "x          8\n",
      "t          8\n",
      "p          7\n",
      "Name: count, dtype: int64\n",
      "--------------------------------------------------\n",
      "gill-color\n",
      "w    931538\n",
      "n    543386\n",
      "y    469464\n",
      "p    343626\n",
      "g    212164\n",
      "o    157119\n",
      "k    127970\n",
      "f    119694\n",
      "r     62799\n",
      "e     56047\n",
      "Name: count, dtype: int64\n",
      "--------------------------------------------------\n",
      "stem-root\n",
      "b    165801\n",
      "s    116946\n",
      "r     47803\n",
      "c     28592\n",
      "f       597\n",
      "d        24\n",
      "y        14\n",
      "g        12\n",
      "w        12\n",
      "p        12\n",
      "Name: count, dtype: int64\n",
      "--------------------------------------------------\n",
      "stem-surface\n",
      "s    327610\n",
      "y    255500\n",
      "i    224346\n",
      "t    147974\n",
      "g     78080\n",
      "k     73383\n",
      "h     28283\n",
      "f       512\n",
      "w        49\n",
      "d        48\n",
      "Name: count, dtype: int64\n",
      "--------------------------------------------------\n",
      "stem-color\n",
      "w    1196637\n",
      "n    1003464\n",
      "y     373971\n",
      "g     132019\n",
      "o     111541\n",
      "e     103373\n",
      "u      67017\n",
      "p      54690\n",
      "k      33676\n",
      "r      22329\n",
      "Name: count, dtype: int64\n",
      "--------------------------------------------------\n",
      "veil-type\n",
      "u    159373\n",
      "w        11\n",
      "a         9\n",
      "f         8\n",
      "e         8\n",
      "b         5\n",
      "c         5\n",
      "y         4\n",
      "k         4\n",
      "g         4\n",
      "Name: count, dtype: int64\n",
      "--------------------------------------------------\n",
      "veil-color\n",
      "w    279070\n",
      "y     30473\n",
      "n     30039\n",
      "u     14026\n",
      "k     13080\n",
      "e      9169\n",
      "g        30\n",
      "p        23\n",
      "r        14\n",
      "o        13\n",
      "Name: count, dtype: int64\n",
      "--------------------------------------------------\n",
      "has-ring\n",
      "f    2368820\n",
      "t     747982\n",
      "r         16\n",
      "h         13\n",
      "c         11\n",
      "l         11\n",
      "s         11\n",
      "p         11\n",
      "g          8\n",
      "z          6\n",
      "Name: count, dtype: int64\n",
      "--------------------------------------------------\n",
      "ring-type\n",
      "f    2477170\n",
      "e     120006\n",
      "z     113780\n",
      "l      73443\n",
      "r      67909\n",
      "p      67678\n",
      "g      63687\n",
      "m       3992\n",
      "t         98\n",
      "d         37\n",
      "Name: count, dtype: int64\n",
      "--------------------------------------------------\n",
      "spore-print-color\n",
      "k    107310\n",
      "p     68237\n",
      "w     50173\n",
      "n     22646\n",
      "r      7975\n",
      "u      7256\n",
      "g      3492\n",
      "y        36\n",
      "s        21\n",
      "c        16\n",
      "Name: count, dtype: int64\n",
      "--------------------------------------------------\n",
      "habitat\n",
      "d    2177573\n",
      "g     454908\n",
      "l     171892\n",
      "m     150969\n",
      "h     120137\n",
      "w      18530\n",
      "p      17180\n",
      "u       5264\n",
      "e         55\n",
      "s         52\n",
      "Name: count, dtype: int64\n",
      "--------------------------------------------------\n",
      "season\n",
      "a    1543321\n",
      "u    1153588\n",
      "w     278189\n",
      "s     141847\n",
      "Name: count, dtype: int64\n",
      "--------------------------------------------------\n"
     ]
    }
   ],
   "source": [
    "# Print unique value counts for each categorical features\n",
    "for column in categorical_features:\n",
    "    print(train_df_cleaned[column].value_counts().head(10))\n",
    "    print(\"-\"*50)"
   ],
   "metadata": {
    "collapsed": false,
    "ExecuteTime": {
     "end_time": "2024-08-13T15:30:26.092976900Z",
     "start_time": "2024-08-13T15:30:25.011906600Z"
    }
   }
  },
  {
   "cell_type": "code",
   "execution_count": 24,
   "outputs": [],
   "source": [
    "# Identify Replace infrequent categories\n",
    "# Threshold can be changed\n",
    "def replace_infrequent_categories(df, column, threshold=70):\n",
    "    value_counts = df[column].value_counts()\n",
    "    infrequent = value_counts[value_counts <= threshold].index\n",
    "    df[column] = df[column].apply(lambda x: \"Unknown\" if x in infrequent else x)\n",
    "    return df"
   ],
   "metadata": {
    "collapsed": false,
    "ExecuteTime": {
     "end_time": "2024-08-14T14:38:27.125176800Z",
     "start_time": "2024-08-14T14:38:27.103457300Z"
    }
   }
  },
  {
   "cell_type": "code",
   "execution_count": 25,
   "outputs": [
    {
     "name": "stdout",
     "output_type": "stream",
     "text": [
      "After a replacement:\n",
      "'cap-shape' has 8 unique categories.\n",
      "'cap-surface' has 14 unique categories.\n",
      "'cap-color' has 13 unique categories.\n",
      "'does-bruise-or-bleed' has 3 unique categories.\n",
      "'gill-attachment' has 9 unique categories.\n",
      "'gill-spacing' has 4 unique categories.\n",
      "'gill-color' has 13 unique categories.\n",
      "'stem-root' has 6 unique categories.\n",
      "'stem-surface' has 9 unique categories.\n",
      "'stem-color' has 14 unique categories.\n",
      "'veil-type' has 2 unique categories.\n",
      "'veil-color' has 7 unique categories.\n",
      "'has-ring' has 3 unique categories.\n",
      "'ring-type' has 10 unique categories.\n",
      "'spore-print-color' has 8 unique categories.\n",
      "'habitat' has 9 unique categories.\n",
      "'season' has 4 unique categories.\n"
     ]
    }
   ],
   "source": [
    "# Handle invalid values and infrequent categories for all categorical columns\n",
    "for col in categorical_features:\n",
    "    train_df_cleaned = replace_infrequent_categories(train_df_cleaned, col)\n",
    "    test_df_cleaned = replace_infrequent_categories(test_df_cleaned, col)\n",
    "\n",
    "# Print out number of unique columns after a replacement\n",
    "print(\"After a replacement:\")\n",
    "for column in categorical_features:\n",
    "    num_unique = train_df_cleaned[column].nunique()\n",
    "    print(f\"'{column}' has {num_unique} unique categories.\")"
   ],
   "metadata": {
    "collapsed": false,
    "ExecuteTime": {
     "end_time": "2024-08-14T14:42:02.720993900Z",
     "start_time": "2024-08-14T14:40:42.433394900Z"
    }
   }
  },
  {
   "cell_type": "code",
   "execution_count": 26,
   "outputs": [
    {
     "name": "stdout",
     "output_type": "stream",
     "text": [
      "cap-diameter    3.972609\n",
      "stem-height     1.926682\n",
      "stem-width      1.235427\n",
      "dtype: float64\n"
     ]
    }
   ],
   "source": [
    "# Filling missing values in numerical features\n",
    "# Check out the skewess of numbers in each column\n",
    "print(train_df_cleaned[numerical_features].skew())"
   ],
   "metadata": {
    "collapsed": false,
    "ExecuteTime": {
     "end_time": "2024-08-14T14:44:28.834504800Z",
     "start_time": "2024-08-14T14:44:28.711899400Z"
    }
   }
  },
  {
   "cell_type": "code",
   "execution_count": 27,
   "outputs": [],
   "source": [
    "# Numbers are very unevenly spread out (skewed), use median to fill in any missing / na values.\n",
    "# Numbers are more evenly spread out, use mean to fill in any missing / na values\n",
    "\n",
    "# Compute medians for numerical columns in the training set\n",
    "medians = train_df_cleaned[numerical_features].median()\n",
    "\n",
    "# Fill missing values in the training and testing datasets\n",
    "train_df_cleaned[numerical_features] = train_df_cleaned[numerical_features].fillna(medians)\n",
    "test_df_cleaned[numerical_features] = test_df_cleaned[numerical_features].fillna(medians)"
   ],
   "metadata": {
    "collapsed": false,
    "ExecuteTime": {
     "end_time": "2024-08-14T14:50:44.214322800Z",
     "start_time": "2024-08-14T14:50:43.880885500Z"
    }
   }
  },
  {
   "cell_type": "code",
   "execution_count": 28,
   "outputs": [],
   "source": [
    "# Impute categorical missing values with Unknown\n",
    "train_df_cleaned = train_df_cleaned.fillna(\"Unknown\")\n",
    "test_df_cleaned = test_df_cleaned.fillna(\"Unknown\")"
   ],
   "metadata": {
    "collapsed": false,
    "ExecuteTime": {
     "end_time": "2024-08-14T14:53:13.065490800Z",
     "start_time": "2024-08-14T14:53:10.250788400Z"
    }
   }
  },
  {
   "cell_type": "code",
   "execution_count": 29,
   "outputs": [
    {
     "name": "stdout",
     "output_type": "stream",
     "text": [
      "2\n"
     ]
    }
   ],
   "source": [
    "# Drop any duplicated rows that might have occured.\n",
    "# Check whether duplicated\n",
    "print(train_df_cleaned.duplicated().sum())"
   ],
   "metadata": {
    "collapsed": false,
    "ExecuteTime": {
     "end_time": "2024-08-14T16:06:26.822605100Z",
     "start_time": "2024-08-14T16:06:23.872316300Z"
    }
   }
  },
  {
   "cell_type": "code",
   "execution_count": 30,
   "outputs": [],
   "source": [
    "# Clean duplicated element\n",
    "train_df_cleaned = train_df_cleaned.drop_duplicates()"
   ],
   "metadata": {
    "collapsed": false,
    "ExecuteTime": {
     "end_time": "2024-08-14T16:08:39.795497700Z",
     "start_time": "2024-08-14T16:08:36.700193800Z"
    }
   }
  },
  {
   "cell_type": "code",
   "execution_count": null,
   "outputs": [],
   "source": [],
   "metadata": {
    "collapsed": false
   }
  }
 ],
 "metadata": {
  "kernelspec": {
   "display_name": "Python 3",
   "language": "python",
   "name": "python3"
  },
  "language_info": {
   "codemirror_mode": {
    "name": "ipython",
    "version": 2
   },
   "file_extension": ".py",
   "mimetype": "text/x-python",
   "name": "python",
   "nbconvert_exporter": "python",
   "pygments_lexer": "ipython2",
   "version": "2.7.6"
  }
 },
 "nbformat": 4,
 "nbformat_minor": 0
}
