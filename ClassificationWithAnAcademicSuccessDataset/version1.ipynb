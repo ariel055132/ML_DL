{
 "cells": [
  {
   "cell_type": "code",
   "execution_count": 1,
   "metadata": {
    "ExecuteTime": {
     "end_time": "2024-06-02T08:55:41.429931600Z",
     "start_time": "2024-06-02T08:55:41.417774Z"
    }
   },
   "outputs": [],
   "source": [
    "import pandas as pd\n",
    "import numpy as np\n",
    "import matplotlib.pyplot as plt\n",
    "import seaborn as sns"
   ]
  },
  {
   "cell_type": "code",
   "execution_count": 2,
   "outputs": [
    {
     "data": {
      "text/plain": "((76518, 38), (51012, 37), (51012, 2))"
     },
     "execution_count": 2,
     "metadata": {},
     "output_type": "execute_result"
    }
   ],
   "source": [
    "train_df = pd.read_csv('Dataset/train.csv', encoding='utf8')\n",
    "test_df = pd.read_csv('Dataset/test.csv', encoding='utf8')\n",
    "sample_df = pd.read_csv('Dataset/sample_submission.csv', encoding='utf8')\n",
    "train_df.shape, test_df.shape, sample_df.shape"
   ],
   "metadata": {
    "collapsed": false,
    "ExecuteTime": {
     "end_time": "2024-06-02T08:55:41.639999200Z",
     "start_time": "2024-06-02T08:55:41.429931600Z"
    }
   }
  },
  {
   "cell_type": "code",
   "execution_count": 3,
   "outputs": [
    {
     "data": {
      "text/plain": "   id  Marital status  Application mode  Application order  Course  \\\n0   0               1                 1                  1    9238   \n1   1               1                17                  1    9238   \n2   2               1                17                  2    9254   \n3   3               1                 1                  3    9500   \n4   4               1                 1                  2    9500   \n\n   Daytime/evening attendance  Previous qualification  \\\n0                           1                       1   \n1                           1                       1   \n2                           1                       1   \n3                           1                       1   \n4                           1                       1   \n\n   Previous qualification (grade)  Nacionality  Mother's qualification  ...  \\\n0                           126.0            1                       1  ...   \n1                           125.0            1                      19  ...   \n2                           137.0            1                       3  ...   \n3                           131.0            1                      19  ...   \n4                           132.0            1                      19  ...   \n\n   Curricular units 2nd sem (credited)  Curricular units 2nd sem (enrolled)  \\\n0                                    0                                    6   \n1                                    0                                    6   \n2                                    0                                    6   \n3                                    0                                    8   \n4                                    0                                    7   \n\n   Curricular units 2nd sem (evaluations)  \\\n0                                       7   \n1                                       9   \n2                                       0   \n3                                      11   \n4                                      12   \n\n   Curricular units 2nd sem (approved)  Curricular units 2nd sem (grade)  \\\n0                                    6                         12.428571   \n1                                    0                          0.000000   \n2                                    0                          0.000000   \n3                                    7                         12.820000   \n4                                    6                         12.933333   \n\n   Curricular units 2nd sem (without evaluations)  Unemployment rate  \\\n0                                               0               11.1   \n1                                               0               11.1   \n2                                               0               16.2   \n3                                               0               11.1   \n4                                               0                7.6   \n\n   Inflation rate   GDP    Target  \n0             0.6  2.02  Graduate  \n1             0.6  2.02   Dropout  \n2             0.3 -0.92   Dropout  \n3             0.6  2.02  Enrolled  \n4             2.6  0.32  Graduate  \n\n[5 rows x 38 columns]",
      "text/html": "<div>\n<style scoped>\n    .dataframe tbody tr th:only-of-type {\n        vertical-align: middle;\n    }\n\n    .dataframe tbody tr th {\n        vertical-align: top;\n    }\n\n    .dataframe thead th {\n        text-align: right;\n    }\n</style>\n<table border=\"1\" class=\"dataframe\">\n  <thead>\n    <tr style=\"text-align: right;\">\n      <th></th>\n      <th>id</th>\n      <th>Marital status</th>\n      <th>Application mode</th>\n      <th>Application order</th>\n      <th>Course</th>\n      <th>Daytime/evening attendance</th>\n      <th>Previous qualification</th>\n      <th>Previous qualification (grade)</th>\n      <th>Nacionality</th>\n      <th>Mother's qualification</th>\n      <th>...</th>\n      <th>Curricular units 2nd sem (credited)</th>\n      <th>Curricular units 2nd sem (enrolled)</th>\n      <th>Curricular units 2nd sem (evaluations)</th>\n      <th>Curricular units 2nd sem (approved)</th>\n      <th>Curricular units 2nd sem (grade)</th>\n      <th>Curricular units 2nd sem (without evaluations)</th>\n      <th>Unemployment rate</th>\n      <th>Inflation rate</th>\n      <th>GDP</th>\n      <th>Target</th>\n    </tr>\n  </thead>\n  <tbody>\n    <tr>\n      <th>0</th>\n      <td>0</td>\n      <td>1</td>\n      <td>1</td>\n      <td>1</td>\n      <td>9238</td>\n      <td>1</td>\n      <td>1</td>\n      <td>126.0</td>\n      <td>1</td>\n      <td>1</td>\n      <td>...</td>\n      <td>0</td>\n      <td>6</td>\n      <td>7</td>\n      <td>6</td>\n      <td>12.428571</td>\n      <td>0</td>\n      <td>11.1</td>\n      <td>0.6</td>\n      <td>2.02</td>\n      <td>Graduate</td>\n    </tr>\n    <tr>\n      <th>1</th>\n      <td>1</td>\n      <td>1</td>\n      <td>17</td>\n      <td>1</td>\n      <td>9238</td>\n      <td>1</td>\n      <td>1</td>\n      <td>125.0</td>\n      <td>1</td>\n      <td>19</td>\n      <td>...</td>\n      <td>0</td>\n      <td>6</td>\n      <td>9</td>\n      <td>0</td>\n      <td>0.000000</td>\n      <td>0</td>\n      <td>11.1</td>\n      <td>0.6</td>\n      <td>2.02</td>\n      <td>Dropout</td>\n    </tr>\n    <tr>\n      <th>2</th>\n      <td>2</td>\n      <td>1</td>\n      <td>17</td>\n      <td>2</td>\n      <td>9254</td>\n      <td>1</td>\n      <td>1</td>\n      <td>137.0</td>\n      <td>1</td>\n      <td>3</td>\n      <td>...</td>\n      <td>0</td>\n      <td>6</td>\n      <td>0</td>\n      <td>0</td>\n      <td>0.000000</td>\n      <td>0</td>\n      <td>16.2</td>\n      <td>0.3</td>\n      <td>-0.92</td>\n      <td>Dropout</td>\n    </tr>\n    <tr>\n      <th>3</th>\n      <td>3</td>\n      <td>1</td>\n      <td>1</td>\n      <td>3</td>\n      <td>9500</td>\n      <td>1</td>\n      <td>1</td>\n      <td>131.0</td>\n      <td>1</td>\n      <td>19</td>\n      <td>...</td>\n      <td>0</td>\n      <td>8</td>\n      <td>11</td>\n      <td>7</td>\n      <td>12.820000</td>\n      <td>0</td>\n      <td>11.1</td>\n      <td>0.6</td>\n      <td>2.02</td>\n      <td>Enrolled</td>\n    </tr>\n    <tr>\n      <th>4</th>\n      <td>4</td>\n      <td>1</td>\n      <td>1</td>\n      <td>2</td>\n      <td>9500</td>\n      <td>1</td>\n      <td>1</td>\n      <td>132.0</td>\n      <td>1</td>\n      <td>19</td>\n      <td>...</td>\n      <td>0</td>\n      <td>7</td>\n      <td>12</td>\n      <td>6</td>\n      <td>12.933333</td>\n      <td>0</td>\n      <td>7.6</td>\n      <td>2.6</td>\n      <td>0.32</td>\n      <td>Graduate</td>\n    </tr>\n  </tbody>\n</table>\n<p>5 rows × 38 columns</p>\n</div>"
     },
     "execution_count": 3,
     "metadata": {},
     "output_type": "execute_result"
    }
   ],
   "source": [
    "train_df.head(5)"
   ],
   "metadata": {
    "collapsed": false,
    "ExecuteTime": {
     "end_time": "2024-06-02T08:55:41.695458100Z",
     "start_time": "2024-06-02T08:55:41.639999200Z"
    }
   }
  },
  {
   "cell_type": "code",
   "execution_count": 4,
   "outputs": [
    {
     "data": {
      "text/plain": "      id  Marital status  Application mode  Application order  Course  \\\n0  76518               1                 1                  1    9500   \n1  76519               1                 1                  1    9238   \n2  76520               1                 1                  1    9238   \n3  76521               1                44                  1    9147   \n4  76522               1                39                  1    9670   \n\n   Daytime/evening attendance  Previous qualification  \\\n0                           1                       1   \n1                           1                       1   \n2                           1                       1   \n3                           1                      39   \n4                           1                       1   \n\n   Previous qualification (grade)  Nacionality  Mother's qualification  ...  \\\n0                           141.0            1                       3  ...   \n1                           128.0            1                       1  ...   \n2                           118.0            1                       1  ...   \n3                           130.0            1                       1  ...   \n4                           110.0            1                       1  ...   \n\n   Curricular units 1st sem (without evaluations)  \\\n0                                               0   \n1                                               0   \n2                                               0   \n3                                               0   \n4                                               0   \n\n   Curricular units 2nd sem (credited)  Curricular units 2nd sem (enrolled)  \\\n0                                    0                                    8   \n1                                    0                                    6   \n2                                    0                                    6   \n3                                    3                                    8   \n4                                    0                                    6   \n\n   Curricular units 2nd sem (evaluations)  \\\n0                                       0   \n1                                       6   \n2                                      11   \n3                                      14   \n4                                       9   \n\n   Curricular units 2nd sem (approved)  Curricular units 2nd sem (grade)  \\\n0                                    0                          0.000000   \n1                                    6                         13.500000   \n2                                    5                         11.000000   \n3                                    5                         11.000000   \n4                                    4                         10.666667   \n\n   Curricular units 2nd sem (without evaluations)  Unemployment rate  \\\n0                                               0               13.9   \n1                                               0               11.1   \n2                                               0               15.5   \n3                                               0                8.9   \n4                                               2                7.6   \n\n   Inflation rate   GDP  \n0            -0.3  0.79  \n1             0.6  2.02  \n2             2.8 -4.06  \n3             1.4  3.51  \n4             2.6  0.32  \n\n[5 rows x 37 columns]",
      "text/html": "<div>\n<style scoped>\n    .dataframe tbody tr th:only-of-type {\n        vertical-align: middle;\n    }\n\n    .dataframe tbody tr th {\n        vertical-align: top;\n    }\n\n    .dataframe thead th {\n        text-align: right;\n    }\n</style>\n<table border=\"1\" class=\"dataframe\">\n  <thead>\n    <tr style=\"text-align: right;\">\n      <th></th>\n      <th>id</th>\n      <th>Marital status</th>\n      <th>Application mode</th>\n      <th>Application order</th>\n      <th>Course</th>\n      <th>Daytime/evening attendance</th>\n      <th>Previous qualification</th>\n      <th>Previous qualification (grade)</th>\n      <th>Nacionality</th>\n      <th>Mother's qualification</th>\n      <th>...</th>\n      <th>Curricular units 1st sem (without evaluations)</th>\n      <th>Curricular units 2nd sem (credited)</th>\n      <th>Curricular units 2nd sem (enrolled)</th>\n      <th>Curricular units 2nd sem (evaluations)</th>\n      <th>Curricular units 2nd sem (approved)</th>\n      <th>Curricular units 2nd sem (grade)</th>\n      <th>Curricular units 2nd sem (without evaluations)</th>\n      <th>Unemployment rate</th>\n      <th>Inflation rate</th>\n      <th>GDP</th>\n    </tr>\n  </thead>\n  <tbody>\n    <tr>\n      <th>0</th>\n      <td>76518</td>\n      <td>1</td>\n      <td>1</td>\n      <td>1</td>\n      <td>9500</td>\n      <td>1</td>\n      <td>1</td>\n      <td>141.0</td>\n      <td>1</td>\n      <td>3</td>\n      <td>...</td>\n      <td>0</td>\n      <td>0</td>\n      <td>8</td>\n      <td>0</td>\n      <td>0</td>\n      <td>0.000000</td>\n      <td>0</td>\n      <td>13.9</td>\n      <td>-0.3</td>\n      <td>0.79</td>\n    </tr>\n    <tr>\n      <th>1</th>\n      <td>76519</td>\n      <td>1</td>\n      <td>1</td>\n      <td>1</td>\n      <td>9238</td>\n      <td>1</td>\n      <td>1</td>\n      <td>128.0</td>\n      <td>1</td>\n      <td>1</td>\n      <td>...</td>\n      <td>0</td>\n      <td>0</td>\n      <td>6</td>\n      <td>6</td>\n      <td>6</td>\n      <td>13.500000</td>\n      <td>0</td>\n      <td>11.1</td>\n      <td>0.6</td>\n      <td>2.02</td>\n    </tr>\n    <tr>\n      <th>2</th>\n      <td>76520</td>\n      <td>1</td>\n      <td>1</td>\n      <td>1</td>\n      <td>9238</td>\n      <td>1</td>\n      <td>1</td>\n      <td>118.0</td>\n      <td>1</td>\n      <td>1</td>\n      <td>...</td>\n      <td>0</td>\n      <td>0</td>\n      <td>6</td>\n      <td>11</td>\n      <td>5</td>\n      <td>11.000000</td>\n      <td>0</td>\n      <td>15.5</td>\n      <td>2.8</td>\n      <td>-4.06</td>\n    </tr>\n    <tr>\n      <th>3</th>\n      <td>76521</td>\n      <td>1</td>\n      <td>44</td>\n      <td>1</td>\n      <td>9147</td>\n      <td>1</td>\n      <td>39</td>\n      <td>130.0</td>\n      <td>1</td>\n      <td>1</td>\n      <td>...</td>\n      <td>0</td>\n      <td>3</td>\n      <td>8</td>\n      <td>14</td>\n      <td>5</td>\n      <td>11.000000</td>\n      <td>0</td>\n      <td>8.9</td>\n      <td>1.4</td>\n      <td>3.51</td>\n    </tr>\n    <tr>\n      <th>4</th>\n      <td>76522</td>\n      <td>1</td>\n      <td>39</td>\n      <td>1</td>\n      <td>9670</td>\n      <td>1</td>\n      <td>1</td>\n      <td>110.0</td>\n      <td>1</td>\n      <td>1</td>\n      <td>...</td>\n      <td>0</td>\n      <td>0</td>\n      <td>6</td>\n      <td>9</td>\n      <td>4</td>\n      <td>10.666667</td>\n      <td>2</td>\n      <td>7.6</td>\n      <td>2.6</td>\n      <td>0.32</td>\n    </tr>\n  </tbody>\n</table>\n<p>5 rows × 37 columns</p>\n</div>"
     },
     "execution_count": 4,
     "metadata": {},
     "output_type": "execute_result"
    }
   ],
   "source": [
    "test_df.head(5)"
   ],
   "metadata": {
    "collapsed": false,
    "ExecuteTime": {
     "end_time": "2024-06-02T08:55:41.724048300Z",
     "start_time": "2024-06-02T08:55:41.680997700Z"
    }
   }
  },
  {
   "cell_type": "code",
   "execution_count": 5,
   "outputs": [
    {
     "name": "stdout",
     "output_type": "stream",
     "text": [
      "<class 'pandas.core.frame.DataFrame'>\n",
      "RangeIndex: 76518 entries, 0 to 76517\n",
      "Data columns (total 38 columns):\n",
      " #   Column                                          Non-Null Count  Dtype  \n",
      "---  ------                                          --------------  -----  \n",
      " 0   id                                              76518 non-null  int64  \n",
      " 1   Marital status                                  76518 non-null  int64  \n",
      " 2   Application mode                                76518 non-null  int64  \n",
      " 3   Application order                               76518 non-null  int64  \n",
      " 4   Course                                          76518 non-null  int64  \n",
      " 5   Daytime/evening attendance                      76518 non-null  int64  \n",
      " 6   Previous qualification                          76518 non-null  int64  \n",
      " 7   Previous qualification (grade)                  76518 non-null  float64\n",
      " 8   Nacionality                                     76518 non-null  int64  \n",
      " 9   Mother's qualification                          76518 non-null  int64  \n",
      " 10  Father's qualification                          76518 non-null  int64  \n",
      " 11  Mother's occupation                             76518 non-null  int64  \n",
      " 12  Father's occupation                             76518 non-null  int64  \n",
      " 13  Admission grade                                 76518 non-null  float64\n",
      " 14  Displaced                                       76518 non-null  int64  \n",
      " 15  Educational special needs                       76518 non-null  int64  \n",
      " 16  Debtor                                          76518 non-null  int64  \n",
      " 17  Tuition fees up to date                         76518 non-null  int64  \n",
      " 18  Gender                                          76518 non-null  int64  \n",
      " 19  Scholarship holder                              76518 non-null  int64  \n",
      " 20  Age at enrollment                               76518 non-null  int64  \n",
      " 21  International                                   76518 non-null  int64  \n",
      " 22  Curricular units 1st sem (credited)             76518 non-null  int64  \n",
      " 23  Curricular units 1st sem (enrolled)             76518 non-null  int64  \n",
      " 24  Curricular units 1st sem (evaluations)          76518 non-null  int64  \n",
      " 25  Curricular units 1st sem (approved)             76518 non-null  int64  \n",
      " 26  Curricular units 1st sem (grade)                76518 non-null  float64\n",
      " 27  Curricular units 1st sem (without evaluations)  76518 non-null  int64  \n",
      " 28  Curricular units 2nd sem (credited)             76518 non-null  int64  \n",
      " 29  Curricular units 2nd sem (enrolled)             76518 non-null  int64  \n",
      " 30  Curricular units 2nd sem (evaluations)          76518 non-null  int64  \n",
      " 31  Curricular units 2nd sem (approved)             76518 non-null  int64  \n",
      " 32  Curricular units 2nd sem (grade)                76518 non-null  float64\n",
      " 33  Curricular units 2nd sem (without evaluations)  76518 non-null  int64  \n",
      " 34  Unemployment rate                               76518 non-null  float64\n",
      " 35  Inflation rate                                  76518 non-null  float64\n",
      " 36  GDP                                             76518 non-null  float64\n",
      " 37  Target                                          76518 non-null  object \n",
      "dtypes: float64(7), int64(30), object(1)\n",
      "memory usage: 22.2+ MB\n"
     ]
    }
   ],
   "source": [
    "train_df.info()"
   ],
   "metadata": {
    "collapsed": false,
    "ExecuteTime": {
     "end_time": "2024-06-02T08:55:41.799623600Z",
     "start_time": "2024-06-02T08:55:41.702084200Z"
    }
   }
  },
  {
   "cell_type": "code",
   "execution_count": 6,
   "outputs": [
    {
     "data": {
      "text/plain": "Target\nGraduate    36282\nDropout     25296\nEnrolled    14940\nName: count, dtype: int64"
     },
     "execution_count": 6,
     "metadata": {},
     "output_type": "execute_result"
    }
   ],
   "source": [
    "train_df.Target.value_counts()"
   ],
   "metadata": {
    "collapsed": false,
    "ExecuteTime": {
     "end_time": "2024-06-02T08:55:41.799623600Z",
     "start_time": "2024-06-02T08:55:41.729557500Z"
    }
   }
  },
  {
   "cell_type": "code",
   "execution_count": 7,
   "outputs": [
    {
     "data": {
      "text/plain": "   id  Marital status  Application mode  Application order  Course  \\\n0   0               1                 1                  1    9238   \n1   1               1                17                  1    9238   \n2   2               1                17                  2    9254   \n\n   Daytime/evening attendance  Previous qualification  \\\n0                           1                       1   \n1                           1                       1   \n2                           1                       1   \n\n   Previous qualification (grade)  Nacionality  Mother's qualification  ...  \\\n0                           126.0            1                       1  ...   \n1                           125.0            1                      19  ...   \n2                           137.0            1                       3  ...   \n\n   Curricular units 2nd sem (credited)  Curricular units 2nd sem (enrolled)  \\\n0                                    0                                    6   \n1                                    0                                    6   \n2                                    0                                    6   \n\n   Curricular units 2nd sem (evaluations)  \\\n0                                       7   \n1                                       9   \n2                                       0   \n\n   Curricular units 2nd sem (approved)  Curricular units 2nd sem (grade)  \\\n0                                    6                         12.428571   \n1                                    0                          0.000000   \n2                                    0                          0.000000   \n\n   Curricular units 2nd sem (without evaluations)  Unemployment rate  \\\n0                                               0               11.1   \n1                                               0               11.1   \n2                                               0               16.2   \n\n   Inflation rate   GDP  Target  \n0             0.6  2.02       0  \n1             0.6  2.02       1  \n2             0.3 -0.92       1  \n\n[3 rows x 38 columns]",
      "text/html": "<div>\n<style scoped>\n    .dataframe tbody tr th:only-of-type {\n        vertical-align: middle;\n    }\n\n    .dataframe tbody tr th {\n        vertical-align: top;\n    }\n\n    .dataframe thead th {\n        text-align: right;\n    }\n</style>\n<table border=\"1\" class=\"dataframe\">\n  <thead>\n    <tr style=\"text-align: right;\">\n      <th></th>\n      <th>id</th>\n      <th>Marital status</th>\n      <th>Application mode</th>\n      <th>Application order</th>\n      <th>Course</th>\n      <th>Daytime/evening attendance</th>\n      <th>Previous qualification</th>\n      <th>Previous qualification (grade)</th>\n      <th>Nacionality</th>\n      <th>Mother's qualification</th>\n      <th>...</th>\n      <th>Curricular units 2nd sem (credited)</th>\n      <th>Curricular units 2nd sem (enrolled)</th>\n      <th>Curricular units 2nd sem (evaluations)</th>\n      <th>Curricular units 2nd sem (approved)</th>\n      <th>Curricular units 2nd sem (grade)</th>\n      <th>Curricular units 2nd sem (without evaluations)</th>\n      <th>Unemployment rate</th>\n      <th>Inflation rate</th>\n      <th>GDP</th>\n      <th>Target</th>\n    </tr>\n  </thead>\n  <tbody>\n    <tr>\n      <th>0</th>\n      <td>0</td>\n      <td>1</td>\n      <td>1</td>\n      <td>1</td>\n      <td>9238</td>\n      <td>1</td>\n      <td>1</td>\n      <td>126.0</td>\n      <td>1</td>\n      <td>1</td>\n      <td>...</td>\n      <td>0</td>\n      <td>6</td>\n      <td>7</td>\n      <td>6</td>\n      <td>12.428571</td>\n      <td>0</td>\n      <td>11.1</td>\n      <td>0.6</td>\n      <td>2.02</td>\n      <td>0</td>\n    </tr>\n    <tr>\n      <th>1</th>\n      <td>1</td>\n      <td>1</td>\n      <td>17</td>\n      <td>1</td>\n      <td>9238</td>\n      <td>1</td>\n      <td>1</td>\n      <td>125.0</td>\n      <td>1</td>\n      <td>19</td>\n      <td>...</td>\n      <td>0</td>\n      <td>6</td>\n      <td>9</td>\n      <td>0</td>\n      <td>0.000000</td>\n      <td>0</td>\n      <td>11.1</td>\n      <td>0.6</td>\n      <td>2.02</td>\n      <td>1</td>\n    </tr>\n    <tr>\n      <th>2</th>\n      <td>2</td>\n      <td>1</td>\n      <td>17</td>\n      <td>2</td>\n      <td>9254</td>\n      <td>1</td>\n      <td>1</td>\n      <td>137.0</td>\n      <td>1</td>\n      <td>3</td>\n      <td>...</td>\n      <td>0</td>\n      <td>6</td>\n      <td>0</td>\n      <td>0</td>\n      <td>0.000000</td>\n      <td>0</td>\n      <td>16.2</td>\n      <td>0.3</td>\n      <td>-0.92</td>\n      <td>1</td>\n    </tr>\n  </tbody>\n</table>\n<p>3 rows × 38 columns</p>\n</div>"
     },
     "execution_count": 7,
     "metadata": {},
     "output_type": "execute_result"
    }
   ],
   "source": [
    "target_mapping = {'Graduate': 0, 'Dropout': 1, 'Enrolled': 2}\n",
    "train_df.Target = train_df.Target.map(target_mapping)\n",
    "train_df.head(3)"
   ],
   "metadata": {
    "collapsed": false,
    "ExecuteTime": {
     "end_time": "2024-06-02T08:55:41.837417600Z",
     "start_time": "2024-06-02T08:55:41.743989900Z"
    }
   }
  },
  {
   "cell_type": "code",
   "execution_count": 8,
   "outputs": [],
   "source": [
    "X = train_df.drop(columns=['Target'])\n",
    "y = train_df.Target"
   ],
   "metadata": {
    "collapsed": false,
    "ExecuteTime": {
     "end_time": "2024-06-02T08:55:41.851851300Z",
     "start_time": "2024-06-02T08:55:41.769562400Z"
    }
   }
  },
  {
   "cell_type": "code",
   "execution_count": 9,
   "outputs": [
    {
     "name": "stdout",
     "output_type": "stream",
     "text": [
      "(76518, 38)\n",
      "(51012, 37)\n"
     ]
    }
   ],
   "source": [
    "print(train_df.shape)\n",
    "print(test_df.shape)"
   ],
   "metadata": {
    "collapsed": false,
    "ExecuteTime": {
     "end_time": "2024-06-02T08:55:41.851851300Z",
     "start_time": "2024-06-02T08:55:41.781053100Z"
    }
   }
  },
  {
   "cell_type": "code",
   "execution_count": 10,
   "outputs": [
    {
     "data": {
      "text/plain": "          id  Marital status  Application mode  Application order  Course  \\\n12065  12065               1                44                  1    9085   \n17210  17210               1                17                  2    9254   \n60954  60954               1                 1                  1    9773   \n\n       Daytime/evening attendance  Previous qualification  \\\n12065                           1                      39   \n17210                           1                       1   \n60954                           1                       1   \n\n       Previous qualification (grade)  Nacionality  Mother's qualification  \\\n12065                           150.0            1                      37   \n17210                           127.0            1                       1   \n60954                           140.0            1                      37   \n\n       ...  Curricular units 1st sem (without evaluations)  \\\n12065  ...                                               0   \n17210  ...                                               0   \n60954  ...                                               0   \n\n       Curricular units 2nd sem (credited)  \\\n12065                                    1   \n17210                                    0   \n60954                                    0   \n\n       Curricular units 2nd sem (enrolled)  \\\n12065                                    6   \n17210                                    6   \n60954                                    6   \n\n       Curricular units 2nd sem (evaluations)  \\\n12065                                      21   \n17210                                      12   \n60954                                       6   \n\n       Curricular units 2nd sem (approved)  Curricular units 2nd sem (grade)  \\\n12065                                    5                         12.777778   \n17210                                    3                         11.000000   \n60954                                    5                         12.200000   \n\n       Curricular units 2nd sem (without evaluations)  Unemployment rate  \\\n12065                                               0               16.2   \n17210                                               0               15.5   \n60954                                               0                7.6   \n\n       Inflation rate   GDP  \n12065             0.3 -0.92  \n17210             2.8 -4.06  \n60954             2.6  0.32  \n\n[3 rows x 37 columns]",
      "text/html": "<div>\n<style scoped>\n    .dataframe tbody tr th:only-of-type {\n        vertical-align: middle;\n    }\n\n    .dataframe tbody tr th {\n        vertical-align: top;\n    }\n\n    .dataframe thead th {\n        text-align: right;\n    }\n</style>\n<table border=\"1\" class=\"dataframe\">\n  <thead>\n    <tr style=\"text-align: right;\">\n      <th></th>\n      <th>id</th>\n      <th>Marital status</th>\n      <th>Application mode</th>\n      <th>Application order</th>\n      <th>Course</th>\n      <th>Daytime/evening attendance</th>\n      <th>Previous qualification</th>\n      <th>Previous qualification (grade)</th>\n      <th>Nacionality</th>\n      <th>Mother's qualification</th>\n      <th>...</th>\n      <th>Curricular units 1st sem (without evaluations)</th>\n      <th>Curricular units 2nd sem (credited)</th>\n      <th>Curricular units 2nd sem (enrolled)</th>\n      <th>Curricular units 2nd sem (evaluations)</th>\n      <th>Curricular units 2nd sem (approved)</th>\n      <th>Curricular units 2nd sem (grade)</th>\n      <th>Curricular units 2nd sem (without evaluations)</th>\n      <th>Unemployment rate</th>\n      <th>Inflation rate</th>\n      <th>GDP</th>\n    </tr>\n  </thead>\n  <tbody>\n    <tr>\n      <th>12065</th>\n      <td>12065</td>\n      <td>1</td>\n      <td>44</td>\n      <td>1</td>\n      <td>9085</td>\n      <td>1</td>\n      <td>39</td>\n      <td>150.0</td>\n      <td>1</td>\n      <td>37</td>\n      <td>...</td>\n      <td>0</td>\n      <td>1</td>\n      <td>6</td>\n      <td>21</td>\n      <td>5</td>\n      <td>12.777778</td>\n      <td>0</td>\n      <td>16.2</td>\n      <td>0.3</td>\n      <td>-0.92</td>\n    </tr>\n    <tr>\n      <th>17210</th>\n      <td>17210</td>\n      <td>1</td>\n      <td>17</td>\n      <td>2</td>\n      <td>9254</td>\n      <td>1</td>\n      <td>1</td>\n      <td>127.0</td>\n      <td>1</td>\n      <td>1</td>\n      <td>...</td>\n      <td>0</td>\n      <td>0</td>\n      <td>6</td>\n      <td>12</td>\n      <td>3</td>\n      <td>11.000000</td>\n      <td>0</td>\n      <td>15.5</td>\n      <td>2.8</td>\n      <td>-4.06</td>\n    </tr>\n    <tr>\n      <th>60954</th>\n      <td>60954</td>\n      <td>1</td>\n      <td>1</td>\n      <td>1</td>\n      <td>9773</td>\n      <td>1</td>\n      <td>1</td>\n      <td>140.0</td>\n      <td>1</td>\n      <td>37</td>\n      <td>...</td>\n      <td>0</td>\n      <td>0</td>\n      <td>6</td>\n      <td>6</td>\n      <td>5</td>\n      <td>12.200000</td>\n      <td>0</td>\n      <td>7.6</td>\n      <td>2.6</td>\n      <td>0.32</td>\n    </tr>\n  </tbody>\n</table>\n<p>3 rows × 37 columns</p>\n</div>"
     },
     "execution_count": 10,
     "metadata": {},
     "output_type": "execute_result"
    }
   ],
   "source": [
    "from sklearn.model_selection import train_test_split\n",
    "X_train, X_test, y_train, y_test = train_test_split(X, y, test_size=0.2, random_state=42)\n",
    "X_train.head(3)"
   ],
   "metadata": {
    "collapsed": false,
    "ExecuteTime": {
     "end_time": "2024-06-02T08:55:42.006995300Z",
     "start_time": "2024-06-02T08:55:41.794616700Z"
    }
   }
  },
  {
   "cell_type": "code",
   "execution_count": 11,
   "outputs": [
    {
     "data": {
      "text/plain": "Course\n2     12074\n5      8214\n0      7935\n8      7741\n1      5425\n4      5373\n9      4760\n12     4057\n6      3733\n15     3281\n7      3198\n11     3004\n3      2859\n10     2438\n13     1606\n14      746\n16       72\n17        1\n18        1\nName: count, dtype: int64"
     },
     "execution_count": 11,
     "metadata": {},
     "output_type": "execute_result"
    }
   ],
   "source": [
    "unique_courses = train_df['Course'].unique()\n",
    "\n",
    "# Create a dictionary mapping each unique course code to a unique integer\n",
    "course_mapping = {course: idx for idx, course in enumerate(unique_courses)}\n",
    "\n",
    "# Map the 'Course' column using the course_mapping dictionary\n",
    "train_df['Course'] = train_df['Course'].map(course_mapping)\n",
    "\n",
    "# Display the first three rows\n",
    "train_df['Course'].value_counts()"
   ],
   "metadata": {
    "collapsed": false,
    "ExecuteTime": {
     "end_time": "2024-06-02T08:55:42.009666500Z",
     "start_time": "2024-06-02T08:55:41.939968900Z"
    }
   }
  },
  {
   "cell_type": "code",
   "execution_count": 12,
   "outputs": [],
   "source": [
    "from sklearn.preprocessing import RobustScaler,PowerTransformer\n",
    "scaler = RobustScaler()\n",
    "pt = PowerTransformer(standardize=False)"
   ],
   "metadata": {
    "collapsed": false,
    "ExecuteTime": {
     "end_time": "2024-06-02T08:55:42.009666500Z",
     "start_time": "2024-06-02T08:55:41.949679200Z"
    }
   }
  },
  {
   "cell_type": "code",
   "execution_count": 13,
   "outputs": [],
   "source": [
    "X_test_final = test_df"
   ],
   "metadata": {
    "collapsed": false,
    "ExecuteTime": {
     "end_time": "2024-06-02T08:55:42.009666500Z",
     "start_time": "2024-06-02T08:55:41.965015400Z"
    }
   }
  },
  {
   "cell_type": "code",
   "execution_count": 14,
   "outputs": [],
   "source": [
    "X_train_s = scaler.fit_transform(X_train)\n",
    "X_test_s = scaler.transform(X_test)\n",
    "X_s = scaler.fit_transform(X)\n",
    "X_test_final_s = scaler.transform(X_test_final)\n",
    "X_train_tf = pt.fit_transform(X_train_s)\n",
    "X_test_tf = pt.transform(X_test_s)\n",
    "X_tfm = pt.fit_transform(X_s)\n",
    "X_test_tfm = pt.transform(X_test_final_s)"
   ],
   "metadata": {
    "collapsed": false,
    "ExecuteTime": {
     "end_time": "2024-06-02T08:55:46.241271900Z",
     "start_time": "2024-06-02T08:55:41.988551500Z"
    }
   }
  },
  {
   "cell_type": "code",
   "execution_count": 15,
   "outputs": [],
   "source": [
    "from sklearn.model_selection import train_test_split,StratifiedKFold\n",
    "from sklearn.metrics import  log_loss\n",
    "\n",
    "from sklearn.ensemble import VotingClassifier\n",
    "from sklearn.ensemble import RandomForestClassifier\n",
    "from xgboost import XGBClassifier\n",
    "from lightgbm import LGBMClassifier\n",
    "from sklearn.metrics import accuracy_score\n",
    "from sklearn.metrics import roc_auc_score\n",
    "from catboost import CatBoostClassifier\n",
    "from sklearn.model_selection import cross_val_score"
   ],
   "metadata": {
    "collapsed": false,
    "ExecuteTime": {
     "end_time": "2024-06-02T08:55:46.469860700Z",
     "start_time": "2024-06-02T08:55:46.241271900Z"
    }
   }
  },
  {
   "cell_type": "code",
   "execution_count": 16,
   "outputs": [
    {
     "name": "stdout",
     "output_type": "stream",
     "text": [
      "Final Accuracy: 0.832919498170413\n"
     ]
    }
   ],
   "source": [
    "xgb = XGBClassifier()\n",
    "xgb.fit(X_train_tf, y_train)\n",
    "\n",
    "# Evaluate the final model\n",
    "y_pred_xg = xgb.predict(X_test_tf)\n",
    "acc_xg = accuracy_score(y_test, y_pred_xg)\n",
    "print(\"Final Accuracy:\", acc_xg)"
   ],
   "metadata": {
    "collapsed": false,
    "ExecuteTime": {
     "end_time": "2024-06-02T08:56:15.802431Z",
     "start_time": "2024-06-02T08:56:14.552943300Z"
    }
   }
  },
  {
   "cell_type": "code",
   "execution_count": 17,
   "outputs": [
    {
     "name": "stdout",
     "output_type": "stream",
     "text": [
      "[LightGBM] [Info] Auto-choosing row-wise multi-threading, the overhead of testing was 0.002582 seconds.\n",
      "You can set `force_row_wise=true` to remove the overhead.\n",
      "And if memory is not enough, you can set `force_col_wise=true`.\n",
      "[LightGBM] [Info] Total Bins 1572\n",
      "[LightGBM] [Info] Number of data points in the train set: 61214, number of used features: 37\n",
      "[LightGBM] [Info] Start training from score -0.746287\n",
      "[LightGBM] [Info] Start training from score -1.105333\n",
      "[LightGBM] [Info] Start training from score -1.635907\n",
      "Final Accuracy: 0.8320700470465238\n"
     ]
    }
   ],
   "source": [
    "lgbm = LGBMClassifier()\n",
    "lgbm.fit(X_train_tf, y_train)\n",
    "\n",
    "# Evaluate the final model\n",
    "y_pred_lg = lgbm.predict(X_test_tf)\n",
    "acc_lg = accuracy_score(y_test, y_pred_lg)\n",
    "print(\"Final Accuracy:\", acc_lg)"
   ],
   "metadata": {
    "collapsed": false,
    "ExecuteTime": {
     "end_time": "2024-06-02T08:56:33.329487400Z",
     "start_time": "2024-06-02T08:56:32.389687400Z"
    }
   }
  },
  {
   "cell_type": "code",
   "execution_count": 18,
   "outputs": [
    {
     "name": "stdout",
     "output_type": "stream",
     "text": [
      "Final Accuracy: 0.8240329325666492\n"
     ]
    }
   ],
   "source": [
    "rf = RandomForestClassifier()\n",
    "rf.fit(X_train_tf, y_train)\n",
    "\n",
    "# Evaluate the final model\n",
    "y_pred_rf = rf.predict(X_test_tf)\n",
    "acc_rf = accuracy_score(y_test, y_pred_rf)\n",
    "print(\"Final Accuracy:\", acc_rf)"
   ],
   "metadata": {
    "collapsed": false,
    "ExecuteTime": {
     "end_time": "2024-06-02T08:57:17.551480700Z",
     "start_time": "2024-06-02T08:57:04.818712400Z"
    }
   }
  },
  {
   "cell_type": "code",
   "execution_count": 19,
   "outputs": [
    {
     "name": "stdout",
     "output_type": "stream",
     "text": [
      "[LightGBM] [Info] Auto-choosing row-wise multi-threading, the overhead of testing was 0.003840 seconds.\n",
      "You can set `force_row_wise=true` to remove the overhead.\n",
      "And if memory is not enough, you can set `force_col_wise=true`.\n",
      "[LightGBM] [Info] Total Bins 1583\n",
      "[LightGBM] [Info] Number of data points in the train set: 76518, number of used features: 37\n",
      "[LightGBM] [Info] Start training from score -0.746204\n",
      "[LightGBM] [Info] Start training from score -1.106880\n",
      "[LightGBM] [Info] Start training from score -1.633484\n"
     ]
    },
    {
     "data": {
      "text/plain": "VotingClassifier(estimators=[('RF', RandomForestClassifier()),\n                             ('XGB',\n                              XGBClassifier(base_score=None, booster=None,\n                                            callbacks=None,\n                                            colsample_bylevel=None,\n                                            colsample_bynode=None,\n                                            colsample_bytree=None, device=None,\n                                            early_stopping_rounds=None,\n                                            enable_categorical=False,\n                                            eval_metric=None,\n                                            feature_types=None, gamma=None,\n                                            grow_policy=None,\n                                            importance_type=None,\n                                            interaction_constraints=None,\n                                            learning_rate=None, max_bin=None,\n                                            max_cat_threshold=None,\n                                            max_cat_to_onehot=None,\n                                            max_delta_step=None, max_depth=None,\n                                            max_leaves=None,\n                                            min_child_weight=None, missing=nan,\n                                            monotone_constraints=None,\n                                            multi_strategy=None,\n                                            n_estimators=None, n_jobs=None,\n                                            num_parallel_tree=None,\n                                            objective='multi:softprob', ...)),\n                             ('LGBM', LGBMClassifier())])",
      "text/html": "<style>#sk-container-id-1 {color: black;}#sk-container-id-1 pre{padding: 0;}#sk-container-id-1 div.sk-toggleable {background-color: white;}#sk-container-id-1 label.sk-toggleable__label {cursor: pointer;display: block;width: 100%;margin-bottom: 0;padding: 0.3em;box-sizing: border-box;text-align: center;}#sk-container-id-1 label.sk-toggleable__label-arrow:before {content: \"▸\";float: left;margin-right: 0.25em;color: #696969;}#sk-container-id-1 label.sk-toggleable__label-arrow:hover:before {color: black;}#sk-container-id-1 div.sk-estimator:hover label.sk-toggleable__label-arrow:before {color: black;}#sk-container-id-1 div.sk-toggleable__content {max-height: 0;max-width: 0;overflow: hidden;text-align: left;background-color: #f0f8ff;}#sk-container-id-1 div.sk-toggleable__content pre {margin: 0.2em;color: black;border-radius: 0.25em;background-color: #f0f8ff;}#sk-container-id-1 input.sk-toggleable__control:checked~div.sk-toggleable__content {max-height: 200px;max-width: 100%;overflow: auto;}#sk-container-id-1 input.sk-toggleable__control:checked~label.sk-toggleable__label-arrow:before {content: \"▾\";}#sk-container-id-1 div.sk-estimator input.sk-toggleable__control:checked~label.sk-toggleable__label {background-color: #d4ebff;}#sk-container-id-1 div.sk-label input.sk-toggleable__control:checked~label.sk-toggleable__label {background-color: #d4ebff;}#sk-container-id-1 input.sk-hidden--visually {border: 0;clip: rect(1px 1px 1px 1px);clip: rect(1px, 1px, 1px, 1px);height: 1px;margin: -1px;overflow: hidden;padding: 0;position: absolute;width: 1px;}#sk-container-id-1 div.sk-estimator {font-family: monospace;background-color: #f0f8ff;border: 1px dotted black;border-radius: 0.25em;box-sizing: border-box;margin-bottom: 0.5em;}#sk-container-id-1 div.sk-estimator:hover {background-color: #d4ebff;}#sk-container-id-1 div.sk-parallel-item::after {content: \"\";width: 100%;border-bottom: 1px solid gray;flex-grow: 1;}#sk-container-id-1 div.sk-label:hover label.sk-toggleable__label {background-color: #d4ebff;}#sk-container-id-1 div.sk-serial::before {content: \"\";position: absolute;border-left: 1px solid gray;box-sizing: border-box;top: 0;bottom: 0;left: 50%;z-index: 0;}#sk-container-id-1 div.sk-serial {display: flex;flex-direction: column;align-items: center;background-color: white;padding-right: 0.2em;padding-left: 0.2em;position: relative;}#sk-container-id-1 div.sk-item {position: relative;z-index: 1;}#sk-container-id-1 div.sk-parallel {display: flex;align-items: stretch;justify-content: center;background-color: white;position: relative;}#sk-container-id-1 div.sk-item::before, #sk-container-id-1 div.sk-parallel-item::before {content: \"\";position: absolute;border-left: 1px solid gray;box-sizing: border-box;top: 0;bottom: 0;left: 50%;z-index: -1;}#sk-container-id-1 div.sk-parallel-item {display: flex;flex-direction: column;z-index: 1;position: relative;background-color: white;}#sk-container-id-1 div.sk-parallel-item:first-child::after {align-self: flex-end;width: 50%;}#sk-container-id-1 div.sk-parallel-item:last-child::after {align-self: flex-start;width: 50%;}#sk-container-id-1 div.sk-parallel-item:only-child::after {width: 0;}#sk-container-id-1 div.sk-dashed-wrapped {border: 1px dashed gray;margin: 0 0.4em 0.5em 0.4em;box-sizing: border-box;padding-bottom: 0.4em;background-color: white;}#sk-container-id-1 div.sk-label label {font-family: monospace;font-weight: bold;display: inline-block;line-height: 1.2em;}#sk-container-id-1 div.sk-label-container {text-align: center;}#sk-container-id-1 div.sk-container {/* jupyter's `normalize.less` sets `[hidden] { display: none; }` but bootstrap.min.css set `[hidden] { display: none !important; }` so we also need the `!important` here to be able to override the default hidden behavior on the sphinx rendered scikit-learn.org. See: https://github.com/scikit-learn/scikit-learn/issues/21755 */display: inline-block !important;position: relative;}#sk-container-id-1 div.sk-text-repr-fallback {display: none;}</style><div id=\"sk-container-id-1\" class=\"sk-top-container\"><div class=\"sk-text-repr-fallback\"><pre>VotingClassifier(estimators=[(&#x27;RF&#x27;, RandomForestClassifier()),\n                             (&#x27;XGB&#x27;,\n                              XGBClassifier(base_score=None, booster=None,\n                                            callbacks=None,\n                                            colsample_bylevel=None,\n                                            colsample_bynode=None,\n                                            colsample_bytree=None, device=None,\n                                            early_stopping_rounds=None,\n                                            enable_categorical=False,\n                                            eval_metric=None,\n                                            feature_types=None, gamma=None,\n                                            grow_policy=None,\n                                            importance_type=None,\n                                            interaction_constraints=None,\n                                            learning_rate=None, max_bin=None,\n                                            max_cat_threshold=None,\n                                            max_cat_to_onehot=None,\n                                            max_delta_step=None, max_depth=None,\n                                            max_leaves=None,\n                                            min_child_weight=None, missing=nan,\n                                            monotone_constraints=None,\n                                            multi_strategy=None,\n                                            n_estimators=None, n_jobs=None,\n                                            num_parallel_tree=None,\n                                            objective=&#x27;multi:softprob&#x27;, ...)),\n                             (&#x27;LGBM&#x27;, LGBMClassifier())])</pre><b>In a Jupyter environment, please rerun this cell to show the HTML representation or trust the notebook. <br />On GitHub, the HTML representation is unable to render, please try loading this page with nbviewer.org.</b></div><div class=\"sk-container\" hidden><div class=\"sk-item sk-dashed-wrapped\"><div class=\"sk-label-container\"><div class=\"sk-label sk-toggleable\"><input class=\"sk-toggleable__control sk-hidden--visually\" id=\"sk-estimator-id-1\" type=\"checkbox\" ><label for=\"sk-estimator-id-1\" class=\"sk-toggleable__label sk-toggleable__label-arrow\">VotingClassifier</label><div class=\"sk-toggleable__content\"><pre>VotingClassifier(estimators=[(&#x27;RF&#x27;, RandomForestClassifier()),\n                             (&#x27;XGB&#x27;,\n                              XGBClassifier(base_score=None, booster=None,\n                                            callbacks=None,\n                                            colsample_bylevel=None,\n                                            colsample_bynode=None,\n                                            colsample_bytree=None, device=None,\n                                            early_stopping_rounds=None,\n                                            enable_categorical=False,\n                                            eval_metric=None,\n                                            feature_types=None, gamma=None,\n                                            grow_policy=None,\n                                            importance_type=None,\n                                            interaction_constraints=None,\n                                            learning_rate=None, max_bin=None,\n                                            max_cat_threshold=None,\n                                            max_cat_to_onehot=None,\n                                            max_delta_step=None, max_depth=None,\n                                            max_leaves=None,\n                                            min_child_weight=None, missing=nan,\n                                            monotone_constraints=None,\n                                            multi_strategy=None,\n                                            n_estimators=None, n_jobs=None,\n                                            num_parallel_tree=None,\n                                            objective=&#x27;multi:softprob&#x27;, ...)),\n                             (&#x27;LGBM&#x27;, LGBMClassifier())])</pre></div></div></div><div class=\"sk-parallel\"><div class=\"sk-parallel-item\"><div class=\"sk-item\"><div class=\"sk-label-container\"><div class=\"sk-label sk-toggleable\"><label>RF</label></div></div><div class=\"sk-serial\"><div class=\"sk-item\"><div class=\"sk-estimator sk-toggleable\"><input class=\"sk-toggleable__control sk-hidden--visually\" id=\"sk-estimator-id-2\" type=\"checkbox\" ><label for=\"sk-estimator-id-2\" class=\"sk-toggleable__label sk-toggleable__label-arrow\">RandomForestClassifier</label><div class=\"sk-toggleable__content\"><pre>RandomForestClassifier()</pre></div></div></div></div></div></div><div class=\"sk-parallel-item\"><div class=\"sk-item\"><div class=\"sk-label-container\"><div class=\"sk-label sk-toggleable\"><label>XGB</label></div></div><div class=\"sk-serial\"><div class=\"sk-item\"><div class=\"sk-estimator sk-toggleable\"><input class=\"sk-toggleable__control sk-hidden--visually\" id=\"sk-estimator-id-3\" type=\"checkbox\" ><label for=\"sk-estimator-id-3\" class=\"sk-toggleable__label sk-toggleable__label-arrow\">XGBClassifier</label><div class=\"sk-toggleable__content\"><pre>XGBClassifier(base_score=None, booster=None, callbacks=None,\n              colsample_bylevel=None, colsample_bynode=None,\n              colsample_bytree=None, device=None, early_stopping_rounds=None,\n              enable_categorical=False, eval_metric=None, feature_types=None,\n              gamma=None, grow_policy=None, importance_type=None,\n              interaction_constraints=None, learning_rate=None, max_bin=None,\n              max_cat_threshold=None, max_cat_to_onehot=None,\n              max_delta_step=None, max_depth=None, max_leaves=None,\n              min_child_weight=None, missing=nan, monotone_constraints=None,\n              multi_strategy=None, n_estimators=None, n_jobs=None,\n              num_parallel_tree=None, objective=&#x27;multi:softprob&#x27;, ...)</pre></div></div></div></div></div></div><div class=\"sk-parallel-item\"><div class=\"sk-item\"><div class=\"sk-label-container\"><div class=\"sk-label sk-toggleable\"><label>LGBM</label></div></div><div class=\"sk-serial\"><div class=\"sk-item\"><div class=\"sk-estimator sk-toggleable\"><input class=\"sk-toggleable__control sk-hidden--visually\" id=\"sk-estimator-id-4\" type=\"checkbox\" ><label for=\"sk-estimator-id-4\" class=\"sk-toggleable__label sk-toggleable__label-arrow\">LGBMClassifier</label><div class=\"sk-toggleable__content\"><pre>LGBMClassifier()</pre></div></div></div></div></div></div></div></div></div></div>"
     },
     "execution_count": 19,
     "metadata": {},
     "output_type": "execute_result"
    }
   ],
   "source": [
    "from sklearn.ensemble import StackingClassifier\n",
    "estimators = [\n",
    "    ('RF',rf),\n",
    "    ('XGB',xgb),\n",
    "    ('LGBM',lgbm)\n",
    "]\n",
    "\n",
    "vote_model = VotingClassifier(estimators=estimators)\n",
    "vote_model.fit(X_tfm,y)"
   ],
   "metadata": {
    "collapsed": false,
    "ExecuteTime": {
     "end_time": "2024-06-02T08:59:06.348041400Z",
     "start_time": "2024-06-02T08:58:48.027158200Z"
    }
   }
  },
  {
   "cell_type": "code",
   "execution_count": 20,
   "outputs": [
    {
     "data": {
      "text/plain": "array([1, 0, 0, ..., 1, 1, 1], dtype=int64)"
     },
     "execution_count": 20,
     "metadata": {},
     "output_type": "execute_result"
    }
   ],
   "source": [
    "y_pred = vote_model.predict(X_test_tfm)\n",
    "y_pred"
   ],
   "metadata": {
    "collapsed": false,
    "ExecuteTime": {
     "end_time": "2024-06-02T09:02:04.268994800Z",
     "start_time": "2024-06-02T09:02:01.986213700Z"
    }
   }
  },
  {
   "cell_type": "code",
   "execution_count": 21,
   "outputs": [
    {
     "name": "stdout",
     "output_type": "stream",
     "text": [
      "['Dropout' 'Graduate' 'Graduate' ... 'Dropout' 'Dropout' 'Dropout']\n"
     ]
    }
   ],
   "source": [
    "# Reverse mapping dictionary\n",
    "reverse_mapping = {0: 'Graduate', 1: 'Dropout', 2: 'Enrolled'}\n",
    "\n",
    "# Transform the y_pred array\n",
    "y_pred_transformed = np.vectorize(reverse_mapping.get)(y_pred)\n",
    "\n",
    "# Display the transformed predictions\n",
    "print(y_pred_transformed)"
   ],
   "metadata": {
    "collapsed": false,
    "ExecuteTime": {
     "end_time": "2024-06-02T09:09:54.881986900Z",
     "start_time": "2024-06-02T09:09:54.871768600Z"
    }
   }
  },
  {
   "cell_type": "code",
   "execution_count": 23,
   "outputs": [
    {
     "data": {
      "text/plain": "           id    Target\n0       76518   Dropout\n1       76519  Graduate\n2       76520  Graduate\n3       76521  Enrolled\n4       76522  Enrolled\n...       ...       ...\n51007  127525   Dropout\n51008  127526   Dropout\n51009  127527   Dropout\n51010  127528   Dropout\n51011  127529   Dropout\n\n[51012 rows x 2 columns]",
      "text/html": "<div>\n<style scoped>\n    .dataframe tbody tr th:only-of-type {\n        vertical-align: middle;\n    }\n\n    .dataframe tbody tr th {\n        vertical-align: top;\n    }\n\n    .dataframe thead th {\n        text-align: right;\n    }\n</style>\n<table border=\"1\" class=\"dataframe\">\n  <thead>\n    <tr style=\"text-align: right;\">\n      <th></th>\n      <th>id</th>\n      <th>Target</th>\n    </tr>\n  </thead>\n  <tbody>\n    <tr>\n      <th>0</th>\n      <td>76518</td>\n      <td>Dropout</td>\n    </tr>\n    <tr>\n      <th>1</th>\n      <td>76519</td>\n      <td>Graduate</td>\n    </tr>\n    <tr>\n      <th>2</th>\n      <td>76520</td>\n      <td>Graduate</td>\n    </tr>\n    <tr>\n      <th>3</th>\n      <td>76521</td>\n      <td>Enrolled</td>\n    </tr>\n    <tr>\n      <th>4</th>\n      <td>76522</td>\n      <td>Enrolled</td>\n    </tr>\n    <tr>\n      <th>...</th>\n      <td>...</td>\n      <td>...</td>\n    </tr>\n    <tr>\n      <th>51007</th>\n      <td>127525</td>\n      <td>Dropout</td>\n    </tr>\n    <tr>\n      <th>51008</th>\n      <td>127526</td>\n      <td>Dropout</td>\n    </tr>\n    <tr>\n      <th>51009</th>\n      <td>127527</td>\n      <td>Dropout</td>\n    </tr>\n    <tr>\n      <th>51010</th>\n      <td>127528</td>\n      <td>Dropout</td>\n    </tr>\n    <tr>\n      <th>51011</th>\n      <td>127529</td>\n      <td>Dropout</td>\n    </tr>\n  </tbody>\n</table>\n<p>51012 rows × 2 columns</p>\n</div>"
     },
     "execution_count": 23,
     "metadata": {},
     "output_type": "execute_result"
    }
   ],
   "source": [
    "sub = pd.DataFrame({'id': test_df['id'], 'Target': y_pred_transformed})\n",
    "sub"
   ],
   "metadata": {
    "collapsed": false,
    "ExecuteTime": {
     "end_time": "2024-06-02T09:10:13.826733400Z",
     "start_time": "2024-06-02T09:10:13.814179200Z"
    }
   }
  },
  {
   "cell_type": "code",
   "execution_count": 24,
   "outputs": [],
   "source": [
    "sub.to_csv(\"Prediction/baseline.csv\",index=False)"
   ],
   "metadata": {
    "collapsed": false,
    "ExecuteTime": {
     "end_time": "2024-06-02T09:10:37.510493900Z",
     "start_time": "2024-06-02T09:10:37.443801400Z"
    }
   }
  },
  {
   "cell_type": "code",
   "execution_count": null,
   "outputs": [],
   "source": [],
   "metadata": {
    "collapsed": false
   }
  }
 ],
 "metadata": {
  "kernelspec": {
   "display_name": "psycho",
   "language": "python",
   "name": "python3"
  },
  "language_info": {
   "codemirror_mode": {
    "name": "ipython",
    "version": 3
   },
   "file_extension": ".py",
   "mimetype": "text/x-python",
   "name": "python",
   "nbconvert_exporter": "python",
   "pygments_lexer": "ipython3",
   "version": "3.8.19"
  }
 },
 "nbformat": 4,
 "nbformat_minor": 2
}
