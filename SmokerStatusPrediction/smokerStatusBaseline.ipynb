{
 "cells": [
  {
   "cell_type": "code",
   "execution_count": 58,
   "id": "initial_id",
   "metadata": {
    "collapsed": true,
    "ExecuteTime": {
     "end_time": "2023-10-29T14:53:59.625718Z",
     "start_time": "2023-10-29T14:53:59.622246Z"
    }
   },
   "outputs": [],
   "source": [
    "import numpy as np\n",
    "import pandas as pd\n",
    "import matplotlib.pyplot as plt\n",
    "import seaborn as sns\n",
    "from xgboost import XGBClassifier\n",
    "from sklearn.metrics import roc_auc_score\n",
    "# Validation\n",
    "from sklearn.model_selection import RepeatedStratifiedKFold, cross_val_score\n",
    "import optuna"
   ]
  },
  {
   "cell_type": "code",
   "execution_count": 59,
   "outputs": [],
   "source": [
    "train_df = pd.read_csv('Dataset/SmokerStatusPrediction/train.csv', encoding='utf-8')\n",
    "test_df = pd.read_csv('Dataset/SmokerStatusPrediction/test.csv', encoding='utf-8')"
   ],
   "metadata": {
    "collapsed": false,
    "ExecuteTime": {
     "end_time": "2023-10-29T14:54:01.611057Z",
     "start_time": "2023-10-29T14:54:01.321683Z"
    }
   },
   "id": "8bf4ca5f1c249329"
  },
  {
   "cell_type": "code",
   "execution_count": 36,
   "outputs": [],
   "source": [
    "# EDA session will be done in another notebook\n",
    "# Training models\n",
    "seed = np.random.seed(42)\n",
    "X = train_df.drop([\"id\", \"smoking\"],axis=1)\n",
    "y = train_df[\"smoking\"]"
   ],
   "metadata": {
    "collapsed": false,
    "ExecuteTime": {
     "end_time": "2023-10-29T09:18:38.295866Z",
     "start_time": "2023-10-29T09:18:38.285551Z"
    }
   },
   "id": "5a1277295558a34b"
  },
  {
   "cell_type": "code",
   "execution_count": 40,
   "outputs": [],
   "source": [
    "test_cv = test_df.drop(columns = ['id'], axis = 1)"
   ],
   "metadata": {
    "collapsed": false,
    "ExecuteTime": {
     "end_time": "2023-10-29T10:53:37.622448Z",
     "start_time": "2023-10-29T10:53:37.602151Z"
    }
   },
   "id": "98f7b66c0d672f3f"
  },
  {
   "cell_type": "code",
   "execution_count": 39,
   "outputs": [
    {
     "name": "stdout",
     "output_type": "stream",
     "text": [
      "CV score of LGBM is  0.8645777542659799\n"
     ]
    }
   ],
   "source": [
    "# Baseline xgboost model\n",
    "xgbmodel = XGBClassifier(random_state=seed, tree_method='exact')\n",
    "print(\"CV score of XGB is \",cross_val_score(xgbmodel, X, y, cv=4, scoring = 'roc_auc').mean())"
   ],
   "metadata": {
    "collapsed": false,
    "ExecuteTime": {
     "end_time": "2023-10-29T10:41:42.858612Z",
     "start_time": "2023-10-29T10:41:11.152714Z"
    }
   },
   "id": "32704df90ef5e529"
  },
  {
   "cell_type": "code",
   "execution_count": 50,
   "outputs": [
    {
     "name": "stdout",
     "output_type": "stream",
     "text": [
      "CV score of XGB is  0.8645777542659799\n"
     ]
    }
   ],
   "source": [
    "# Baseline xgboost model\n",
    "xgbmodel_md = XGBClassifier(random_state=seed, tree_method='exact').fit(X, y)\n",
    "print(\"CV score of XGB is \",cross_val_score(xgbmodel_md, X, y, cv=4, scoring = 'roc_auc').mean())"
   ],
   "metadata": {
    "collapsed": false,
    "ExecuteTime": {
     "end_time": "2023-10-29T13:55:53.608327Z",
     "start_time": "2023-10-29T13:55:18.682345Z"
    }
   },
   "id": "8125a5eeb171cd74"
  },
  {
   "cell_type": "code",
   "execution_count": 52,
   "outputs": [
    {
     "data": {
      "text/plain": "array([0.65870994, 0.10153673, 0.6664567 , ..., 0.49006492, 0.0941251 ,\n       0.03032043], dtype=float32)"
     },
     "execution_count": 52,
     "metadata": {},
     "output_type": "execute_result"
    }
   ],
   "source": [
    "# Prediction\n",
    "XGB_pred_test = xgbmodel_md.predict_proba(test_cv)[:, 1]\n",
    "XGB_pred_test"
   ],
   "metadata": {
    "collapsed": false,
    "ExecuteTime": {
     "end_time": "2023-10-29T13:56:12.895806Z",
     "start_time": "2023-10-29T13:56:12.849172Z"
    }
   },
   "id": "59a8b23fdbbf62e6"
  },
  {
   "cell_type": "code",
   "execution_count": 53,
   "outputs": [
    {
     "data": {
      "text/plain": "            id   smoking\n0       159256  0.658710\n1       159257  0.101537\n2       159258  0.666457\n3       159259  0.014916\n4       159260  0.631548\n...        ...       ...\n106166  265422  0.514796\n106167  265423  0.571328\n106168  265424  0.490065\n106169  265425  0.094125\n106170  265426  0.030320\n\n[106171 rows x 2 columns]",
      "text/html": "<div>\n<style scoped>\n    .dataframe tbody tr th:only-of-type {\n        vertical-align: middle;\n    }\n\n    .dataframe tbody tr th {\n        vertical-align: top;\n    }\n\n    .dataframe thead th {\n        text-align: right;\n    }\n</style>\n<table border=\"1\" class=\"dataframe\">\n  <thead>\n    <tr style=\"text-align: right;\">\n      <th></th>\n      <th>id</th>\n      <th>smoking</th>\n    </tr>\n  </thead>\n  <tbody>\n    <tr>\n      <th>0</th>\n      <td>159256</td>\n      <td>0.658710</td>\n    </tr>\n    <tr>\n      <th>1</th>\n      <td>159257</td>\n      <td>0.101537</td>\n    </tr>\n    <tr>\n      <th>2</th>\n      <td>159258</td>\n      <td>0.666457</td>\n    </tr>\n    <tr>\n      <th>3</th>\n      <td>159259</td>\n      <td>0.014916</td>\n    </tr>\n    <tr>\n      <th>4</th>\n      <td>159260</td>\n      <td>0.631548</td>\n    </tr>\n    <tr>\n      <th>...</th>\n      <td>...</td>\n      <td>...</td>\n    </tr>\n    <tr>\n      <th>106166</th>\n      <td>265422</td>\n      <td>0.514796</td>\n    </tr>\n    <tr>\n      <th>106167</th>\n      <td>265423</td>\n      <td>0.571328</td>\n    </tr>\n    <tr>\n      <th>106168</th>\n      <td>265424</td>\n      <td>0.490065</td>\n    </tr>\n    <tr>\n      <th>106169</th>\n      <td>265425</td>\n      <td>0.094125</td>\n    </tr>\n    <tr>\n      <th>106170</th>\n      <td>265426</td>\n      <td>0.030320</td>\n    </tr>\n  </tbody>\n</table>\n<p>106171 rows × 2 columns</p>\n</div>"
     },
     "execution_count": 53,
     "metadata": {},
     "output_type": "execute_result"
    }
   ],
   "source": [
    "# Generate submission file\n",
    "submission_df = pd.read_csv(r\"Dataset/SmokerStatusPrediction/sample_submission.csv\", encoding=\"utf8\")\n",
    "submission_df['smoking'] = XGB_pred_test\n",
    "submission_df"
   ],
   "metadata": {
    "collapsed": false,
    "ExecuteTime": {
     "end_time": "2023-10-29T13:56:33.045683Z",
     "start_time": "2023-10-29T13:56:33.021595Z"
    }
   },
   "id": "50d116c0269f77de"
  },
  {
   "cell_type": "code",
   "execution_count": 54,
   "outputs": [],
   "source": [
    "# 0.86840\n",
    "submission_df.to_csv('Dataset/SmokerStatusPrediction/submissionBaselineXGB.csv', index=False)"
   ],
   "metadata": {
    "collapsed": false,
    "ExecuteTime": {
     "end_time": "2023-10-29T13:56:50.695902Z",
     "start_time": "2023-10-29T13:56:50.560403Z"
    }
   },
   "id": "4d8855b3640b1537"
  },
  {
   "cell_type": "code",
   "execution_count": null,
   "outputs": [],
   "source": [],
   "metadata": {
    "collapsed": false
   },
   "id": "f569a0ffe66b72d"
  },
  {
   "cell_type": "code",
   "execution_count": 60,
   "outputs": [],
   "source": [
    "# Training models\n",
    "seed = np.random.seed(42)\n",
    "X = train_df.drop([\"id\", \"smoking\"],axis=1)\n",
    "y = train_df[\"smoking\"]"
   ],
   "metadata": {
    "collapsed": false,
    "ExecuteTime": {
     "end_time": "2023-10-29T14:54:04.997204Z",
     "start_time": "2023-10-29T14:54:04.991279Z"
    }
   },
   "id": "51f8e1813b7487e9"
  },
  {
   "cell_type": "code",
   "execution_count": 61,
   "outputs": [
    {
     "name": "stderr",
     "output_type": "stream",
     "text": [
      "[I 2023-10-29 22:54:14,212] A new study created in memory with name: no-name-56aae036-0632-441c-993d-8ac38bf3b7ba\n",
      "[I 2023-10-29 22:57:20,487] Trial 0 finished with value: 0.8527717945783985 and parameters: {'n_estimators': 505, 'max_depth': 22, 'min_child_weight': 45.03590733733973, 'learning_rate': 0.00042618605850378965, 'subsample': 0.37744087558820755, 'gamma': 0.32329841312787294, 'colsample_bytree': 0.8781314599968304, 'colsample_bylevel': 0.5962752960158647, 'colsample_bynode': 0.7961141384180592}. Best is trial 0 with value: 0.8527717945783985.\n",
      "[I 2023-10-29 23:00:34,830] Trial 1 finished with value: 0.8635866511980441 and parameters: {'n_estimators': 649, 'max_depth': 11, 'min_child_weight': 6.578852380488485, 'learning_rate': 0.08672802923020059, 'subsample': 0.48357297501931706, 'gamma': 0.8843420026918414, 'colsample_bytree': 0.5816684448668059, 'colsample_bylevel': 0.4833370938341621, 'colsample_bynode': 0.8630403160153373}. Best is trial 1 with value: 0.8635866511980441.\n",
      "[I 2023-10-29 23:01:45,478] Trial 2 finished with value: 0.8548991816840521 and parameters: {'n_estimators': 585, 'max_depth': 7, 'min_child_weight': 34.03509174291498, 'learning_rate': 0.012708239982351464, 'subsample': 0.37124969362125704, 'gamma': 0.4263280517533509, 'colsample_bytree': 0.6126505549627438, 'colsample_bylevel': 0.3371831503439975, 'colsample_bynode': 0.2778935323828023}. Best is trial 1 with value: 0.8635866511980441.\n",
      "[I 2023-10-29 23:02:52,908] Trial 3 finished with value: 0.8281719665596707 and parameters: {'n_estimators': 591, 'max_depth': 5, 'min_child_weight': 27.27259080616104, 'learning_rate': 0.0002929841513893181, 'subsample': 0.6321748531331508, 'gamma': 0.4105639515923974, 'colsample_bytree': 0.9348872475973657, 'colsample_bylevel': 0.4601543936011919, 'colsample_bynode': 0.2889387238755797}. Best is trial 1 with value: 0.8635866511980441.\n",
      "[I 2023-10-29 23:05:24,297] Trial 4 finished with value: 0.8462349889166636 and parameters: {'n_estimators': 721, 'max_depth': 27, 'min_child_weight': 10.216241908747296, 'learning_rate': 0.0060937474855546, 'subsample': 0.6842885037616756, 'gamma': 0.11550658714549471, 'colsample_bytree': 0.22067571323281207, 'colsample_bylevel': 0.6147160103603659, 'colsample_bynode': 0.9526425508975425}. Best is trial 1 with value: 0.8635866511980441.\n",
      "[I 2023-10-29 23:11:07,507] Trial 5 finished with value: 0.8616455138320236 and parameters: {'n_estimators': 715, 'max_depth': 26, 'min_child_weight': 43.936601076239825, 'learning_rate': 0.003984309793848837, 'subsample': 0.3715801733195586, 'gamma': 0.4470920119215456, 'colsample_bytree': 0.7590233436066489, 'colsample_bylevel': 0.5792978210198272, 'colsample_bynode': 0.9154791076536906}. Best is trial 1 with value: 0.8635866511980441.\n",
      "[I 2023-10-29 23:16:16,086] Trial 6 finished with value: 0.8654841817294618 and parameters: {'n_estimators': 556, 'max_depth': 15, 'min_child_weight': 49.60560212108925, 'learning_rate': 0.008185210432340101, 'subsample': 0.7981555763728014, 'gamma': 0.6198633188163575, 'colsample_bytree': 0.7132843353046061, 'colsample_bylevel': 0.941830598134082, 'colsample_bynode': 0.5875904416418474}. Best is trial 6 with value: 0.8654841817294618.\n",
      "[I 2023-10-29 23:19:45,561] Trial 7 finished with value: 0.8486882132233442 and parameters: {'n_estimators': 696, 'max_depth': 16, 'min_child_weight': 38.292487060380026, 'learning_rate': 0.00022572135870184095, 'subsample': 0.4311007648817078, 'gamma': 0.5306937087178453, 'colsample_bytree': 0.5542275166679484, 'colsample_bylevel': 0.6284345799765565, 'colsample_bynode': 0.6770564166734212}. Best is trial 6 with value: 0.8654841817294618.\n",
      "[I 2023-10-29 23:21:24,060] Trial 8 finished with value: 0.8554751081643178 and parameters: {'n_estimators': 560, 'max_depth': 33, 'min_child_weight': 45.60658057350665, 'learning_rate': 0.01373554271695194, 'subsample': 0.689554711735614, 'gamma': 0.8770489780001525, 'colsample_bytree': 0.24402778097172587, 'colsample_bylevel': 0.21520879713769547, 'colsample_bynode': 0.513406348514333}. Best is trial 6 with value: 0.8654841817294618.\n",
      "[I 2023-10-29 23:22:41,348] Trial 9 finished with value: 0.8663775899958686 and parameters: {'n_estimators': 606, 'max_depth': 7, 'min_child_weight': 49.360575838186286, 'learning_rate': 0.09464030097320673, 'subsample': 0.4710034817784323, 'gamma': 0.7535144166680636, 'colsample_bytree': 0.870168238085111, 'colsample_bylevel': 0.3930563028538496, 'colsample_bynode': 0.27431327069524036}. Best is trial 9 with value: 0.8663775899958686.\n",
      "[I 2023-10-29 23:24:22,793] Trial 10 finished with value: 0.8517876122009289 and parameters: {'n_estimators': 653, 'max_depth': 47, 'min_child_weight': 18.526698130176243, 'learning_rate': 0.1796434164028943, 'subsample': 0.21018057873132012, 'gamma': 0.7102658389987337, 'colsample_bytree': 0.9661193571787982, 'colsample_bylevel': 0.23743785704773682, 'colsample_bynode': 0.21539592984638853}. Best is trial 9 with value: 0.8663775899958686.\n",
      "[I 2023-10-29 23:28:36,835] Trial 11 finished with value: 0.8700024574726637 and parameters: {'n_estimators': 553, 'max_depth': 16, 'min_child_weight': 47.44673637184282, 'learning_rate': 0.03883301257541447, 'subsample': 0.8993755573796521, 'gamma': 0.6944142084387277, 'colsample_bytree': 0.7822242559226483, 'colsample_bylevel': 0.9631298110659394, 'colsample_bynode': 0.4570157037502143}. Best is trial 11 with value: 0.8700024574726637.\n",
      "[I 2023-10-29 23:29:22,238] Trial 12 finished with value: 0.8628214581248492 and parameters: {'n_estimators': 513, 'max_depth': 3, 'min_child_weight': 36.507828931278425, 'learning_rate': 0.039535841150017625, 'subsample': 0.9735730792779584, 'gamma': 0.7441216648250901, 'colsample_bytree': 0.8346539247913477, 'colsample_bylevel': 0.9818594171117969, 'colsample_bynode': 0.4511066002728947}. Best is trial 11 with value: 0.8700024574726637.\n",
      "[I 2023-10-29 23:33:59,122] Trial 13 finished with value: 0.8695687197403015 and parameters: {'n_estimators': 609, 'max_depth': 18, 'min_child_weight': 47.78081923989885, 'learning_rate': 0.051103976215433576, 'subsample': 0.9883742611410341, 'gamma': 0.9137747160294711, 'colsample_bytree': 0.8204393359497939, 'colsample_bylevel': 0.7935033251325727, 'colsample_bynode': 0.3882818040291012}. Best is trial 11 with value: 0.8700024574726637.\n",
      "[I 2023-10-29 23:39:14,304] Trial 14 finished with value: 0.8695760217724363 and parameters: {'n_estimators': 542, 'max_depth': 37, 'min_child_weight': 40.890737485344836, 'learning_rate': 0.034644895158017386, 'subsample': 0.9701557470315233, 'gamma': 0.9914521767683023, 'colsample_bytree': 0.7705206287407481, 'colsample_bylevel': 0.8601405032324321, 'colsample_bynode': 0.3840773109518407}. Best is trial 11 with value: 0.8700024574726637.\n",
      "[I 2023-10-29 23:45:45,849] Trial 15 finished with value: 0.8689683162797364 and parameters: {'n_estimators': 540, 'max_depth': 36, 'min_child_weight': 40.33615525134791, 'learning_rate': 0.031219065774237012, 'subsample': 0.8743876764951948, 'gamma': 0.9457598698609798, 'colsample_bytree': 0.9913365356536236, 'colsample_bylevel': 0.8627670269698595, 'colsample_bynode': 0.39670603147246614}. Best is trial 11 with value: 0.8700024574726637.\n",
      "[I 2023-10-29 23:51:07,686] Trial 16 finished with value: 0.8558687612383864 and parameters: {'n_estimators': 531, 'max_depth': 45, 'min_child_weight': 32.16736259387625, 'learning_rate': 0.18527556122119224, 'subsample': 0.8637182882253204, 'gamma': 0.8174248030885674, 'colsample_bytree': 0.6814971476945753, 'colsample_bylevel': 0.7900673322368574, 'colsample_bynode': 0.5178536652497341}. Best is trial 11 with value: 0.8700024574726637.\n",
      "[I 2023-10-29 23:56:47,448] Trial 17 finished with value: 0.8607722005187197 and parameters: {'n_estimators': 575, 'max_depth': 38, 'min_child_weight': 41.110168956708385, 'learning_rate': 0.0027735341942364154, 'subsample': 0.7902322832178608, 'gamma': 0.9747065237427605, 'colsample_bytree': 0.7646995985567233, 'colsample_bylevel': 0.9948139060212262, 'colsample_bynode': 0.668058590581352}. Best is trial 11 with value: 0.8700024574726637.\n",
      "[I 2023-10-30 00:03:07,479] Trial 18 finished with value: 0.8699369907703798 and parameters: {'n_estimators': 631, 'max_depth': 41, 'min_child_weight': 32.10918452749786, 'learning_rate': 0.022216533587611106, 'subsample': 0.9984008716314884, 'gamma': 0.9996580707646491, 'colsample_bytree': 0.6671641104176771, 'colsample_bylevel': 0.905586261170299, 'colsample_bynode': 0.37040961308938536}. Best is trial 11 with value: 0.8700024574726637.\n",
      "[I 2023-10-30 00:08:57,465] Trial 19 finished with value: 0.8699139340062497 and parameters: {'n_estimators': 642, 'max_depth': 42, 'min_child_weight': 29.66565866749154, 'learning_rate': 0.017663202562103818, 'subsample': 0.8977542729196887, 'gamma': 0.6550831046593926, 'colsample_bytree': 0.4857100194282972, 'colsample_bylevel': 0.7227088406818672, 'colsample_bynode': 0.4757552259769599}. Best is trial 11 with value: 0.8700024574726637.\n",
      "[I 2023-10-30 00:13:49,765] Trial 20 finished with value: 0.8599946472324097 and parameters: {'n_estimators': 680, 'max_depth': 30, 'min_child_weight': 20.646822067462093, 'learning_rate': 0.002127281418903217, 'subsample': 0.7769719591231024, 'gamma': 0.8291014832109993, 'colsample_bytree': 0.6712973197500814, 'colsample_bylevel': 0.9014491175376909, 'colsample_bynode': 0.3476918551563892}. Best is trial 11 with value: 0.8700024574726637.\n",
      "[I 2023-10-30 00:18:21,068] Trial 21 finished with value: 0.8700532756990391 and parameters: {'n_estimators': 636, 'max_depth': 43, 'min_child_weight': 30.644998538115118, 'learning_rate': 0.018116523135118634, 'subsample': 0.9026427111624884, 'gamma': 0.6384381222977351, 'colsample_bytree': 0.48192772659999944, 'colsample_bylevel': 0.8068169345075475, 'colsample_bynode': 0.45375884437473546}. Best is trial 21 with value: 0.8700532756990391.\n"
     ]
    }
   ],
   "source": [
    "# Optuna finetuning XGBoost\n",
    "def objective(trial):\n",
    "    params = {\n",
    "        'n_estimators' : trial.suggest_int('n_estimators',500,750),\n",
    "        'max_depth':  trial.suggest_int('max_depth',3,50),\n",
    "        'min_child_weight': trial.suggest_float('min_child_weight', 2,50),\n",
    "        \"learning_rate\" : trial.suggest_float('learning_rate',1e-4, 0.2,log=True),\n",
    "        'subsample': trial.suggest_float('subsample', 0.2, 1),\n",
    "        'gamma': trial.suggest_float(\"gamma\", 1e-4, 1.0),\n",
    "        \"colsample_bytree\" : trial.suggest_float('colsample_bytree',0.2,1),\n",
    "        \"colsample_bylevel\" : trial.suggest_float('colsample_bylevel',0.2,1),\n",
    "        \"colsample_bynode\" : trial.suggest_float('colsample_bynode',0.2,1),\n",
    "    }\n",
    "    xgbmodel_optuna = XGBClassifier(**params, random_state=seed, tree_method = \"exact\", eval_metric= \"auc\")\n",
    "    cv = cross_val_score(xgbmodel_optuna, X, y, cv = 4,scoring='roc_auc').mean()\n",
    "    return cv\n",
    "\n",
    "study = optuna.create_study(direction='maximize')\n",
    "study.optimize(objective, n_trials=100,timeout=5000)"
   ],
   "metadata": {
    "collapsed": false,
    "ExecuteTime": {
     "end_time": "2023-10-29T16:18:21.081540Z",
     "start_time": "2023-10-29T14:54:14.231602Z"
    }
   },
   "id": "60307b1213d4be2b"
  },
  {
   "cell_type": "code",
   "execution_count": 62,
   "outputs": [
    {
     "data": {
      "text/plain": "{'n_estimators': 636,\n 'max_depth': 43,\n 'min_child_weight': 30.644998538115118,\n 'learning_rate': 0.018116523135118634,\n 'subsample': 0.9026427111624884,\n 'gamma': 0.6384381222977351,\n 'colsample_bytree': 0.48192772659999944,\n 'colsample_bylevel': 0.8068169345075475,\n 'colsample_bynode': 0.45375884437473546}"
     },
     "execution_count": 62,
     "metadata": {},
     "output_type": "execute_result"
    }
   ],
   "source": [
    "study.best_params"
   ],
   "metadata": {
    "collapsed": false,
    "ExecuteTime": {
     "end_time": "2023-10-29T16:36:28.283116Z",
     "start_time": "2023-10-29T16:36:28.279386Z"
    }
   },
   "id": "4ec7aab723308787"
  },
  {
   "cell_type": "code",
   "execution_count": 64,
   "outputs": [
    {
     "name": "stdout",
     "output_type": "stream",
     "text": [
      "CV score of XGB is  0.8700532756990391\n"
     ]
    }
   ],
   "source": [
    "# Use the hyperparameter found by optuna to train the model\n",
    "xgbmodel_bestParams = study.best_params\n",
    "xgb_opt = XGBClassifier(**xgbmodel_bestParams, random_state=seed, tree_method = \"exact\",eval_metric= \"auc\").fit(X, y)\n",
    "print(\"CV score of XGB is \",cross_val_score(xgb_opt, X, y, cv=4, scoring = 'roc_auc').mean())"
   ],
   "metadata": {
    "collapsed": false,
    "ExecuteTime": {
     "end_time": "2023-10-29T16:42:09.214797Z",
     "start_time": "2023-10-29T16:38:19.622021Z"
    }
   },
   "id": "c56d56c2df5bb0c5"
  },
  {
   "cell_type": "code",
   "execution_count": 65,
   "outputs": [
    {
     "data": {
      "text/plain": "array([0.67422473, 0.2562991 , 0.45875537, ..., 0.45729458, 0.07917994,\n       0.02491962], dtype=float32)"
     },
     "execution_count": 65,
     "metadata": {},
     "output_type": "execute_result"
    }
   ],
   "source": [
    "# Prediction\n",
    "XGB_pred_test = xgb_opt.predict_proba(test_cv)[:, 1]\n",
    "XGB_pred_test"
   ],
   "metadata": {
    "collapsed": false,
    "ExecuteTime": {
     "end_time": "2023-10-29T16:42:49.625474Z",
     "start_time": "2023-10-29T16:42:48.094913Z"
    }
   },
   "id": "8ab10736cc7bb09e"
  },
  {
   "cell_type": "code",
   "execution_count": 66,
   "outputs": [
    {
     "data": {
      "text/plain": "            id   smoking\n0       159256  0.674225\n1       159257  0.256299\n2       159258  0.458755\n3       159259  0.020538\n4       159260  0.605822\n...        ...       ...\n106166  265422  0.609186\n106167  265423  0.518093\n106168  265424  0.457295\n106169  265425  0.079180\n106170  265426  0.024920\n\n[106171 rows x 2 columns]",
      "text/html": "<div>\n<style scoped>\n    .dataframe tbody tr th:only-of-type {\n        vertical-align: middle;\n    }\n\n    .dataframe tbody tr th {\n        vertical-align: top;\n    }\n\n    .dataframe thead th {\n        text-align: right;\n    }\n</style>\n<table border=\"1\" class=\"dataframe\">\n  <thead>\n    <tr style=\"text-align: right;\">\n      <th></th>\n      <th>id</th>\n      <th>smoking</th>\n    </tr>\n  </thead>\n  <tbody>\n    <tr>\n      <th>0</th>\n      <td>159256</td>\n      <td>0.674225</td>\n    </tr>\n    <tr>\n      <th>1</th>\n      <td>159257</td>\n      <td>0.256299</td>\n    </tr>\n    <tr>\n      <th>2</th>\n      <td>159258</td>\n      <td>0.458755</td>\n    </tr>\n    <tr>\n      <th>3</th>\n      <td>159259</td>\n      <td>0.020538</td>\n    </tr>\n    <tr>\n      <th>4</th>\n      <td>159260</td>\n      <td>0.605822</td>\n    </tr>\n    <tr>\n      <th>...</th>\n      <td>...</td>\n      <td>...</td>\n    </tr>\n    <tr>\n      <th>106166</th>\n      <td>265422</td>\n      <td>0.609186</td>\n    </tr>\n    <tr>\n      <th>106167</th>\n      <td>265423</td>\n      <td>0.518093</td>\n    </tr>\n    <tr>\n      <th>106168</th>\n      <td>265424</td>\n      <td>0.457295</td>\n    </tr>\n    <tr>\n      <th>106169</th>\n      <td>265425</td>\n      <td>0.079180</td>\n    </tr>\n    <tr>\n      <th>106170</th>\n      <td>265426</td>\n      <td>0.024920</td>\n    </tr>\n  </tbody>\n</table>\n<p>106171 rows × 2 columns</p>\n</div>"
     },
     "execution_count": 66,
     "metadata": {},
     "output_type": "execute_result"
    }
   ],
   "source": [
    "# Generate submission file\n",
    "submission_df = pd.read_csv(r\"Dataset/SmokerStatusPrediction/sample_submission.csv\", encoding=\"utf8\")\n",
    "submission_df['smoking'] = XGB_pred_test\n",
    "submission_df"
   ],
   "metadata": {
    "collapsed": false,
    "ExecuteTime": {
     "end_time": "2023-10-29T16:43:05.310521Z",
     "start_time": "2023-10-29T16:43:05.281363Z"
    }
   },
   "id": "644c93cb209be7fc"
  },
  {
   "cell_type": "code",
   "execution_count": 67,
   "outputs": [],
   "source": [
    "# 0.87000 (0.87223 in Kaggle)\n",
    "submission_df.to_csv('Dataset/SmokerStatusPrediction/submissionBaselineXGB_Finetuned.csv', index=False)"
   ],
   "metadata": {
    "collapsed": false,
    "ExecuteTime": {
     "end_time": "2023-10-29T16:43:34.235139Z",
     "start_time": "2023-10-29T16:43:34.133754Z"
    }
   },
   "id": "fbe9c2108342557f"
  },
  {
   "cell_type": "code",
   "execution_count": null,
   "outputs": [],
   "source": [],
   "metadata": {
    "collapsed": false
   },
   "id": "6cd9aad28efdfe65"
  }
 ],
 "metadata": {
  "kernelspec": {
   "display_name": "Python 3",
   "language": "python",
   "name": "python3"
  },
  "language_info": {
   "codemirror_mode": {
    "name": "ipython",
    "version": 2
   },
   "file_extension": ".py",
   "mimetype": "text/x-python",
   "name": "python",
   "nbconvert_exporter": "python",
   "pygments_lexer": "ipython2",
   "version": "2.7.6"
  }
 },
 "nbformat": 4,
 "nbformat_minor": 5
}
