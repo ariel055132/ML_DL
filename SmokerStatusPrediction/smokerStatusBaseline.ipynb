{
 "cells": [
  {
   "cell_type": "code",
   "execution_count": 47,
   "id": "initial_id",
   "metadata": {
    "collapsed": true,
    "ExecuteTime": {
     "end_time": "2023-10-29T13:52:46.530987Z",
     "start_time": "2023-10-29T13:52:46.523293Z"
    }
   },
   "outputs": [],
   "source": [
    "import numpy as np\n",
    "import pandas as pd\n",
    "import matplotlib.pyplot as plt\n",
    "import seaborn as sns\n",
    "from xgboost import XGBClassifier\n",
    "from sklearn.metrics import roc_auc_score\n",
    "# Validation\n",
    "from sklearn.model_selection import RepeatedStratifiedKFold, cross_val_score"
   ]
  },
  {
   "cell_type": "code",
   "execution_count": 35,
   "outputs": [],
   "source": [
    "train_df = pd.read_csv('Dataset/SmokerStatusPrediction/train.csv', encoding='utf-8')\n",
    "test_df = pd.read_csv('Dataset/SmokerStatusPrediction/test.csv', encoding='utf-8')"
   ],
   "metadata": {
    "collapsed": false,
    "ExecuteTime": {
     "end_time": "2023-10-29T09:16:58.367149Z",
     "start_time": "2023-10-29T09:16:58.094618Z"
    }
   },
   "id": "8bf4ca5f1c249329"
  },
  {
   "cell_type": "code",
   "execution_count": 36,
   "outputs": [],
   "source": [
    "# EDA session will be done in another notebook\n",
    "# Training models\n",
    "seed = np.random.seed(42)\n",
    "X = train_df.drop([\"id\", \"smoking\"],axis=1)\n",
    "y = train_df[\"smoking\"]"
   ],
   "metadata": {
    "collapsed": false,
    "ExecuteTime": {
     "end_time": "2023-10-29T09:18:38.295866Z",
     "start_time": "2023-10-29T09:18:38.285551Z"
    }
   },
   "id": "5a1277295558a34b"
  },
  {
   "cell_type": "code",
   "execution_count": 40,
   "outputs": [],
   "source": [
    "test_cv = test_df.drop(columns = ['id'], axis = 1)"
   ],
   "metadata": {
    "collapsed": false,
    "ExecuteTime": {
     "end_time": "2023-10-29T10:53:37.622448Z",
     "start_time": "2023-10-29T10:53:37.602151Z"
    }
   },
   "id": "98f7b66c0d672f3f"
  },
  {
   "cell_type": "code",
   "execution_count": 39,
   "outputs": [
    {
     "name": "stdout",
     "output_type": "stream",
     "text": [
      "CV score of LGBM is  0.8645777542659799\n"
     ]
    }
   ],
   "source": [
    "# Baseline xgboost model\n",
    "xgbmodel = XGBClassifier(random_state=seed, tree_method='exact')\n",
    "print(\"CV score of XGB is \",cross_val_score(xgbmodel, X, y, cv=4, scoring = 'roc_auc').mean())"
   ],
   "metadata": {
    "collapsed": false,
    "ExecuteTime": {
     "end_time": "2023-10-29T10:41:42.858612Z",
     "start_time": "2023-10-29T10:41:11.152714Z"
    }
   },
   "id": "32704df90ef5e529"
  },
  {
   "cell_type": "code",
   "execution_count": 50,
   "outputs": [
    {
     "name": "stdout",
     "output_type": "stream",
     "text": [
      "CV score of XGB is  0.8645777542659799\n"
     ]
    }
   ],
   "source": [
    "# Baseline xgboost model\n",
    "xgbmodel_md = XGBClassifier(random_state=seed, tree_method='exact').fit(X, y)\n",
    "print(\"CV score of XGB is \",cross_val_score(xgbmodel_md, X, y, cv=4, scoring = 'roc_auc').mean())"
   ],
   "metadata": {
    "collapsed": false,
    "ExecuteTime": {
     "end_time": "2023-10-29T13:55:53.608327Z",
     "start_time": "2023-10-29T13:55:18.682345Z"
    }
   },
   "id": "8125a5eeb171cd74"
  },
  {
   "cell_type": "code",
   "execution_count": 52,
   "outputs": [
    {
     "data": {
      "text/plain": "array([0.65870994, 0.10153673, 0.6664567 , ..., 0.49006492, 0.0941251 ,\n       0.03032043], dtype=float32)"
     },
     "execution_count": 52,
     "metadata": {},
     "output_type": "execute_result"
    }
   ],
   "source": [
    "# Prediction\n",
    "XGB_pred_test = xgbmodel_md.predict_proba(test_cv)[:, 1]\n",
    "XGB_pred_test"
   ],
   "metadata": {
    "collapsed": false,
    "ExecuteTime": {
     "end_time": "2023-10-29T13:56:12.895806Z",
     "start_time": "2023-10-29T13:56:12.849172Z"
    }
   },
   "id": "59a8b23fdbbf62e6"
  },
  {
   "cell_type": "code",
   "execution_count": 53,
   "outputs": [
    {
     "data": {
      "text/plain": "            id   smoking\n0       159256  0.658710\n1       159257  0.101537\n2       159258  0.666457\n3       159259  0.014916\n4       159260  0.631548\n...        ...       ...\n106166  265422  0.514796\n106167  265423  0.571328\n106168  265424  0.490065\n106169  265425  0.094125\n106170  265426  0.030320\n\n[106171 rows x 2 columns]",
      "text/html": "<div>\n<style scoped>\n    .dataframe tbody tr th:only-of-type {\n        vertical-align: middle;\n    }\n\n    .dataframe tbody tr th {\n        vertical-align: top;\n    }\n\n    .dataframe thead th {\n        text-align: right;\n    }\n</style>\n<table border=\"1\" class=\"dataframe\">\n  <thead>\n    <tr style=\"text-align: right;\">\n      <th></th>\n      <th>id</th>\n      <th>smoking</th>\n    </tr>\n  </thead>\n  <tbody>\n    <tr>\n      <th>0</th>\n      <td>159256</td>\n      <td>0.658710</td>\n    </tr>\n    <tr>\n      <th>1</th>\n      <td>159257</td>\n      <td>0.101537</td>\n    </tr>\n    <tr>\n      <th>2</th>\n      <td>159258</td>\n      <td>0.666457</td>\n    </tr>\n    <tr>\n      <th>3</th>\n      <td>159259</td>\n      <td>0.014916</td>\n    </tr>\n    <tr>\n      <th>4</th>\n      <td>159260</td>\n      <td>0.631548</td>\n    </tr>\n    <tr>\n      <th>...</th>\n      <td>...</td>\n      <td>...</td>\n    </tr>\n    <tr>\n      <th>106166</th>\n      <td>265422</td>\n      <td>0.514796</td>\n    </tr>\n    <tr>\n      <th>106167</th>\n      <td>265423</td>\n      <td>0.571328</td>\n    </tr>\n    <tr>\n      <th>106168</th>\n      <td>265424</td>\n      <td>0.490065</td>\n    </tr>\n    <tr>\n      <th>106169</th>\n      <td>265425</td>\n      <td>0.094125</td>\n    </tr>\n    <tr>\n      <th>106170</th>\n      <td>265426</td>\n      <td>0.030320</td>\n    </tr>\n  </tbody>\n</table>\n<p>106171 rows × 2 columns</p>\n</div>"
     },
     "execution_count": 53,
     "metadata": {},
     "output_type": "execute_result"
    }
   ],
   "source": [
    "# Generate submission file\n",
    "submission_df = pd.read_csv(r\"Dataset/SmokerStatusPrediction/sample_submission.csv\", encoding=\"utf8\")\n",
    "submission_df['smoking'] = XGB_pred_test\n",
    "submission_df"
   ],
   "metadata": {
    "collapsed": false,
    "ExecuteTime": {
     "end_time": "2023-10-29T13:56:33.045683Z",
     "start_time": "2023-10-29T13:56:33.021595Z"
    }
   },
   "id": "50d116c0269f77de"
  },
  {
   "cell_type": "code",
   "execution_count": 54,
   "outputs": [],
   "source": [
    "submission_df.to_csv('Dataset/SmokerStatusPrediction/submissionBaselineXGB.csv', index=False)"
   ],
   "metadata": {
    "collapsed": false,
    "ExecuteTime": {
     "end_time": "2023-10-29T13:56:50.695902Z",
     "start_time": "2023-10-29T13:56:50.560403Z"
    }
   },
   "id": "4d8855b3640b1537"
  }
 ],
 "metadata": {
  "kernelspec": {
   "display_name": "Python 3",
   "language": "python",
   "name": "python3"
  },
  "language_info": {
   "codemirror_mode": {
    "name": "ipython",
    "version": 2
   },
   "file_extension": ".py",
   "mimetype": "text/x-python",
   "name": "python",
   "nbconvert_exporter": "python",
   "pygments_lexer": "ipython2",
   "version": "2.7.6"
  }
 },
 "nbformat": 4,
 "nbformat_minor": 5
}
