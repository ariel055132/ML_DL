{
 "cells": [
  {
   "cell_type": "raw",
   "source": [
    "# Setup"
   ],
   "metadata": {
    "collapsed": false
   }
  },
  {
   "cell_type": "code",
   "execution_count": 13,
   "outputs": [],
   "source": [
    "import pandas as pd\n",
    "import numpy as np\n",
    "import matplotlib.pyplot as plt\n",
    "from catboost import Pool, CatBoostClassifier\n",
    "from sklearn.model_selection import StratifiedKFold\n",
    "from sklearn.metrics import accuracy_score, f1_score, roc_auc_score\n",
    "import optuna\n",
    "from optuna.samplers import TPESampler\n",
    "import warnings\n",
    "import shap"
   ],
   "metadata": {
    "collapsed": false,
    "ExecuteTime": {
     "end_time": "2024-11-20T15:58:30.672213900Z",
     "start_time": "2024-11-20T15:58:30.257405500Z"
    }
   }
  },
  {
   "cell_type": "code",
   "execution_count": 4,
   "outputs": [],
   "source": [
    "train_df = pd.read_csv('dataset/train.csv', encoding='utf-8', index_col='id')\n",
    "test_df = pd.read_csv('dataset/test.csv', encoding='utf-8', index_col='id')\n",
    "orginal_df = pd.read_csv('dataset/final_depression_dataset_1.csv', encoding='utf-8')"
   ],
   "metadata": {
    "collapsed": false,
    "ExecuteTime": {
     "end_time": "2024-11-20T15:38:15.343315Z",
     "start_time": "2024-11-20T15:38:15.022679400Z"
    }
   }
  },
  {
   "cell_type": "raw",
   "source": [
    "# EDA"
   ],
   "metadata": {
    "collapsed": false
   }
  },
  {
   "cell_type": "code",
   "execution_count": 5,
   "outputs": [
    {
     "data": {
      "text/plain": "        Name  Gender   Age           City Working Professional or Student  \\\nid                                                                          \n0   Aaradhya  Female  49.0       Ludhiana            Working Professional   \n1      Vivan    Male  26.0       Varanasi            Working Professional   \n2     Yuvraj    Male  33.0  Visakhapatnam                         Student   \n3     Yuvraj    Male  22.0         Mumbai            Working Professional   \n4       Rhea  Female  30.0         Kanpur            Working Professional   \n\n          Profession  Academic Pressure  Work Pressure  CGPA  \\\nid                                                             \n0               Chef                NaN            5.0   NaN   \n1            Teacher                NaN            4.0   NaN   \n2                NaN                5.0            NaN  8.97   \n3            Teacher                NaN            5.0   NaN   \n4   Business Analyst                NaN            1.0   NaN   \n\n    Study Satisfaction  Job Satisfaction     Sleep Duration Dietary Habits  \\\nid                                                                           \n0                  NaN               2.0  More than 8 hours        Healthy   \n1                  NaN               3.0  Less than 5 hours      Unhealthy   \n2                  2.0               NaN          5-6 hours        Healthy   \n3                  NaN               1.0  Less than 5 hours       Moderate   \n4                  NaN               1.0          5-6 hours      Unhealthy   \n\n     Degree Have you ever had suicidal thoughts ?  Work/Study Hours  \\\nid                                                                    \n0       BHM                                    No               1.0   \n1       LLB                                   Yes               7.0   \n2   B.Pharm                                   Yes               3.0   \n3       BBA                                   Yes              10.0   \n4       BBA                                   Yes               9.0   \n\n    Financial Stress Family History of Mental Illness  Depression  \nid                                                                 \n0                2.0                               No           0  \n1                3.0                               No           1  \n2                1.0                               No           1  \n3                1.0                              Yes           1  \n4                4.0                              Yes           0  ",
      "text/html": "<div>\n<style scoped>\n    .dataframe tbody tr th:only-of-type {\n        vertical-align: middle;\n    }\n\n    .dataframe tbody tr th {\n        vertical-align: top;\n    }\n\n    .dataframe thead th {\n        text-align: right;\n    }\n</style>\n<table border=\"1\" class=\"dataframe\">\n  <thead>\n    <tr style=\"text-align: right;\">\n      <th></th>\n      <th>Name</th>\n      <th>Gender</th>\n      <th>Age</th>\n      <th>City</th>\n      <th>Working Professional or Student</th>\n      <th>Profession</th>\n      <th>Academic Pressure</th>\n      <th>Work Pressure</th>\n      <th>CGPA</th>\n      <th>Study Satisfaction</th>\n      <th>Job Satisfaction</th>\n      <th>Sleep Duration</th>\n      <th>Dietary Habits</th>\n      <th>Degree</th>\n      <th>Have you ever had suicidal thoughts ?</th>\n      <th>Work/Study Hours</th>\n      <th>Financial Stress</th>\n      <th>Family History of Mental Illness</th>\n      <th>Depression</th>\n    </tr>\n    <tr>\n      <th>id</th>\n      <th></th>\n      <th></th>\n      <th></th>\n      <th></th>\n      <th></th>\n      <th></th>\n      <th></th>\n      <th></th>\n      <th></th>\n      <th></th>\n      <th></th>\n      <th></th>\n      <th></th>\n      <th></th>\n      <th></th>\n      <th></th>\n      <th></th>\n      <th></th>\n      <th></th>\n    </tr>\n  </thead>\n  <tbody>\n    <tr>\n      <th>0</th>\n      <td>Aaradhya</td>\n      <td>Female</td>\n      <td>49.0</td>\n      <td>Ludhiana</td>\n      <td>Working Professional</td>\n      <td>Chef</td>\n      <td>NaN</td>\n      <td>5.0</td>\n      <td>NaN</td>\n      <td>NaN</td>\n      <td>2.0</td>\n      <td>More than 8 hours</td>\n      <td>Healthy</td>\n      <td>BHM</td>\n      <td>No</td>\n      <td>1.0</td>\n      <td>2.0</td>\n      <td>No</td>\n      <td>0</td>\n    </tr>\n    <tr>\n      <th>1</th>\n      <td>Vivan</td>\n      <td>Male</td>\n      <td>26.0</td>\n      <td>Varanasi</td>\n      <td>Working Professional</td>\n      <td>Teacher</td>\n      <td>NaN</td>\n      <td>4.0</td>\n      <td>NaN</td>\n      <td>NaN</td>\n      <td>3.0</td>\n      <td>Less than 5 hours</td>\n      <td>Unhealthy</td>\n      <td>LLB</td>\n      <td>Yes</td>\n      <td>7.0</td>\n      <td>3.0</td>\n      <td>No</td>\n      <td>1</td>\n    </tr>\n    <tr>\n      <th>2</th>\n      <td>Yuvraj</td>\n      <td>Male</td>\n      <td>33.0</td>\n      <td>Visakhapatnam</td>\n      <td>Student</td>\n      <td>NaN</td>\n      <td>5.0</td>\n      <td>NaN</td>\n      <td>8.97</td>\n      <td>2.0</td>\n      <td>NaN</td>\n      <td>5-6 hours</td>\n      <td>Healthy</td>\n      <td>B.Pharm</td>\n      <td>Yes</td>\n      <td>3.0</td>\n      <td>1.0</td>\n      <td>No</td>\n      <td>1</td>\n    </tr>\n    <tr>\n      <th>3</th>\n      <td>Yuvraj</td>\n      <td>Male</td>\n      <td>22.0</td>\n      <td>Mumbai</td>\n      <td>Working Professional</td>\n      <td>Teacher</td>\n      <td>NaN</td>\n      <td>5.0</td>\n      <td>NaN</td>\n      <td>NaN</td>\n      <td>1.0</td>\n      <td>Less than 5 hours</td>\n      <td>Moderate</td>\n      <td>BBA</td>\n      <td>Yes</td>\n      <td>10.0</td>\n      <td>1.0</td>\n      <td>Yes</td>\n      <td>1</td>\n    </tr>\n    <tr>\n      <th>4</th>\n      <td>Rhea</td>\n      <td>Female</td>\n      <td>30.0</td>\n      <td>Kanpur</td>\n      <td>Working Professional</td>\n      <td>Business Analyst</td>\n      <td>NaN</td>\n      <td>1.0</td>\n      <td>NaN</td>\n      <td>NaN</td>\n      <td>1.0</td>\n      <td>5-6 hours</td>\n      <td>Unhealthy</td>\n      <td>BBA</td>\n      <td>Yes</td>\n      <td>9.0</td>\n      <td>4.0</td>\n      <td>Yes</td>\n      <td>0</td>\n    </tr>\n  </tbody>\n</table>\n</div>"
     },
     "execution_count": 5,
     "metadata": {},
     "output_type": "execute_result"
    }
   ],
   "source": [
    "train_df.head(5)"
   ],
   "metadata": {
    "collapsed": false,
    "ExecuteTime": {
     "end_time": "2024-11-20T15:38:59.449982100Z",
     "start_time": "2024-11-20T15:38:59.426070700Z"
    }
   }
  },
  {
   "cell_type": "code",
   "execution_count": 6,
   "outputs": [
    {
     "name": "stdout",
     "output_type": "stream",
     "text": [
      "<class 'pandas.core.frame.DataFrame'>\n",
      "Index: 140700 entries, 0 to 140699\n",
      "Data columns (total 19 columns):\n",
      " #   Column                                 Non-Null Count   Dtype  \n",
      "---  ------                                 --------------   -----  \n",
      " 0   Name                                   140700 non-null  object \n",
      " 1   Gender                                 140700 non-null  object \n",
      " 2   Age                                    140700 non-null  float64\n",
      " 3   City                                   140700 non-null  object \n",
      " 4   Working Professional or Student        140700 non-null  object \n",
      " 5   Profession                             104070 non-null  object \n",
      " 6   Academic Pressure                      27897 non-null   float64\n",
      " 7   Work Pressure                          112782 non-null  float64\n",
      " 8   CGPA                                   27898 non-null   float64\n",
      " 9   Study Satisfaction                     27897 non-null   float64\n",
      " 10  Job Satisfaction                       112790 non-null  float64\n",
      " 11  Sleep Duration                         140700 non-null  object \n",
      " 12  Dietary Habits                         140696 non-null  object \n",
      " 13  Degree                                 140698 non-null  object \n",
      " 14  Have you ever had suicidal thoughts ?  140700 non-null  object \n",
      " 15  Work/Study Hours                       140700 non-null  float64\n",
      " 16  Financial Stress                       140696 non-null  float64\n",
      " 17  Family History of Mental Illness       140700 non-null  object \n",
      " 18  Depression                             140700 non-null  int64  \n",
      "dtypes: float64(8), int64(1), object(10)\n",
      "memory usage: 21.5+ MB\n"
     ]
    }
   ],
   "source": [
    "# Show data types, non-null counts, memory usage\n",
    "train_df.info()"
   ],
   "metadata": {
    "collapsed": false,
    "ExecuteTime": {
     "end_time": "2024-11-20T15:39:33.520348100Z",
     "start_time": "2024-11-20T15:39:33.406775700Z"
    }
   }
  },
  {
   "cell_type": "code",
   "execution_count": 7,
   "outputs": [
    {
     "data": {
      "text/plain": "                 Age  Academic Pressure  Work Pressure          CGPA  \\\ncount  140700.000000       27897.000000  112782.000000  27898.000000   \nmean       40.388621           3.142273       2.998998      7.658636   \nstd        12.384099           1.380457       1.405771      1.464466   \nmin        18.000000           1.000000       1.000000      5.030000   \n25%        29.000000           2.000000       2.000000      6.290000   \n50%        42.000000           3.000000       3.000000      7.770000   \n75%        51.000000           4.000000       4.000000      8.920000   \nmax        60.000000           5.000000       5.000000     10.000000   \n\n       Study Satisfaction  Job Satisfaction  Work/Study Hours  \\\ncount        27897.000000     112790.000000     140700.000000   \nmean             2.944940          2.974404          6.252679   \nstd              1.360197          1.416078          3.853615   \nmin              1.000000          1.000000          0.000000   \n25%              2.000000          2.000000          3.000000   \n50%              3.000000          3.000000          6.000000   \n75%              4.000000          4.000000         10.000000   \nmax              5.000000          5.000000         12.000000   \n\n       Financial Stress     Depression  \ncount     140696.000000  140700.000000  \nmean           2.988983       0.181713  \nstd            1.413633       0.385609  \nmin            1.000000       0.000000  \n25%            2.000000       0.000000  \n50%            3.000000       0.000000  \n75%            4.000000       0.000000  \nmax            5.000000       1.000000  ",
      "text/html": "<div>\n<style scoped>\n    .dataframe tbody tr th:only-of-type {\n        vertical-align: middle;\n    }\n\n    .dataframe tbody tr th {\n        vertical-align: top;\n    }\n\n    .dataframe thead th {\n        text-align: right;\n    }\n</style>\n<table border=\"1\" class=\"dataframe\">\n  <thead>\n    <tr style=\"text-align: right;\">\n      <th></th>\n      <th>Age</th>\n      <th>Academic Pressure</th>\n      <th>Work Pressure</th>\n      <th>CGPA</th>\n      <th>Study Satisfaction</th>\n      <th>Job Satisfaction</th>\n      <th>Work/Study Hours</th>\n      <th>Financial Stress</th>\n      <th>Depression</th>\n    </tr>\n  </thead>\n  <tbody>\n    <tr>\n      <th>count</th>\n      <td>140700.000000</td>\n      <td>27897.000000</td>\n      <td>112782.000000</td>\n      <td>27898.000000</td>\n      <td>27897.000000</td>\n      <td>112790.000000</td>\n      <td>140700.000000</td>\n      <td>140696.000000</td>\n      <td>140700.000000</td>\n    </tr>\n    <tr>\n      <th>mean</th>\n      <td>40.388621</td>\n      <td>3.142273</td>\n      <td>2.998998</td>\n      <td>7.658636</td>\n      <td>2.944940</td>\n      <td>2.974404</td>\n      <td>6.252679</td>\n      <td>2.988983</td>\n      <td>0.181713</td>\n    </tr>\n    <tr>\n      <th>std</th>\n      <td>12.384099</td>\n      <td>1.380457</td>\n      <td>1.405771</td>\n      <td>1.464466</td>\n      <td>1.360197</td>\n      <td>1.416078</td>\n      <td>3.853615</td>\n      <td>1.413633</td>\n      <td>0.385609</td>\n    </tr>\n    <tr>\n      <th>min</th>\n      <td>18.000000</td>\n      <td>1.000000</td>\n      <td>1.000000</td>\n      <td>5.030000</td>\n      <td>1.000000</td>\n      <td>1.000000</td>\n      <td>0.000000</td>\n      <td>1.000000</td>\n      <td>0.000000</td>\n    </tr>\n    <tr>\n      <th>25%</th>\n      <td>29.000000</td>\n      <td>2.000000</td>\n      <td>2.000000</td>\n      <td>6.290000</td>\n      <td>2.000000</td>\n      <td>2.000000</td>\n      <td>3.000000</td>\n      <td>2.000000</td>\n      <td>0.000000</td>\n    </tr>\n    <tr>\n      <th>50%</th>\n      <td>42.000000</td>\n      <td>3.000000</td>\n      <td>3.000000</td>\n      <td>7.770000</td>\n      <td>3.000000</td>\n      <td>3.000000</td>\n      <td>6.000000</td>\n      <td>3.000000</td>\n      <td>0.000000</td>\n    </tr>\n    <tr>\n      <th>75%</th>\n      <td>51.000000</td>\n      <td>4.000000</td>\n      <td>4.000000</td>\n      <td>8.920000</td>\n      <td>4.000000</td>\n      <td>4.000000</td>\n      <td>10.000000</td>\n      <td>4.000000</td>\n      <td>0.000000</td>\n    </tr>\n    <tr>\n      <th>max</th>\n      <td>60.000000</td>\n      <td>5.000000</td>\n      <td>5.000000</td>\n      <td>10.000000</td>\n      <td>5.000000</td>\n      <td>5.000000</td>\n      <td>12.000000</td>\n      <td>5.000000</td>\n      <td>1.000000</td>\n    </tr>\n  </tbody>\n</table>\n</div>"
     },
     "execution_count": 7,
     "metadata": {},
     "output_type": "execute_result"
    }
   ],
   "source": [
    "# Summarizes statistics of numeric columns\n",
    "train_df.describe()"
   ],
   "metadata": {
    "collapsed": false,
    "ExecuteTime": {
     "end_time": "2024-11-20T15:40:13.654028300Z",
     "start_time": "2024-11-20T15:40:13.581639500Z"
    }
   }
  },
  {
   "cell_type": "code",
   "execution_count": 8,
   "outputs": [
    {
     "data": {
      "text/plain": "Name                                          0\nGender                                        0\nAge                                           0\nCity                                          0\nWorking Professional or Student               0\nProfession                                36630\nAcademic Pressure                        112803\nWork Pressure                             27918\nCGPA                                     112802\nStudy Satisfaction                       112803\nJob Satisfaction                          27910\nSleep Duration                                0\nDietary Habits                                4\nDegree                                        2\nHave you ever had suicidal thoughts ?         0\nWork/Study Hours                              0\nFinancial Stress                              4\nFamily History of Mental Illness              0\nDepression                                    0\ndtype: int64"
     },
     "execution_count": 8,
     "metadata": {},
     "output_type": "execute_result"
    }
   ],
   "source": [
    "# Check for missing values\n",
    "train_df.isnull().sum()"
   ],
   "metadata": {
    "collapsed": false,
    "ExecuteTime": {
     "end_time": "2024-11-20T15:40:32.096072500Z",
     "start_time": "2024-11-20T15:40:32.051899800Z"
    }
   }
  },
  {
   "cell_type": "code",
   "execution_count": 9,
   "outputs": [
    {
     "data": {
      "text/plain": "0"
     },
     "execution_count": 9,
     "metadata": {},
     "output_type": "execute_result"
    }
   ],
   "source": [
    "# Check for duplicates\n",
    "train_df.duplicated().sum()"
   ],
   "metadata": {
    "collapsed": false,
    "ExecuteTime": {
     "end_time": "2024-11-20T15:43:28.490140100Z",
     "start_time": "2024-11-20T15:43:28.375932100Z"
    }
   }
  },
  {
   "cell_type": "code",
   "execution_count": 11,
   "outputs": [],
   "source": [
    "# Replace all Nan (Not a Number) values in the dataframes, with string 'None', then convert all columns to string\n",
    "train_df = train_df.fillna('None').astype('string')\n",
    "test_df = test_df.fillna('None').astype('string')"
   ],
   "metadata": {
    "collapsed": false,
    "ExecuteTime": {
     "end_time": "2024-11-20T15:46:06.847554200Z",
     "start_time": "2024-11-20T15:46:06.248729Z"
    }
   }
  },
  {
   "cell_type": "code",
   "execution_count": 12,
   "outputs": [],
   "source": [
    "# Extract the target column (Depression) from the training dataframe (y)\n",
    "# and drop it from the training dataframes (x)\n",
    "y = train_df['Depression']\n",
    "x = train_df.drop(columns=['Depression'], axis=1)"
   ],
   "metadata": {
    "collapsed": false,
    "ExecuteTime": {
     "end_time": "2024-11-20T15:49:22.860135800Z",
     "start_time": "2024-11-20T15:49:22.808552400Z"
    }
   }
  },
  {
   "cell_type": "code",
   "execution_count": 14,
   "outputs": [],
   "source": [
    "catboost_params = {\n",
    "    'loss_function': 'Logloss',\n",
    "    'eval_metric': 'AUC',\n",
    "    'learning_rate': 0.08114394459649094,\n",
    "    'iterations': 1000,\n",
    "    'depth': 6,\n",
    "    'random_strength':0,\n",
    "    'l2_leaf_reg': 0.7047064221215757,\n",
    "    'random_seed':42,\n",
    "    'verbose':False,\n",
    "    'task_type': 'CPU'\n",
    "}"
   ],
   "metadata": {
    "collapsed": false,
    "ExecuteTime": {
     "end_time": "2024-11-20T15:58:44.890185300Z",
     "start_time": "2024-11-20T15:58:44.883678400Z"
    }
   }
  },
  {
   "cell_type": "code",
   "execution_count": 15,
   "outputs": [
    {
     "name": "stdout",
     "output_type": "stream",
     "text": [
      "Fold 1 accuracy_score: 0.9405828002842929\n",
      "Fold 2 accuracy_score: 0.9380597014925374\n",
      "Fold 3 accuracy_score: 0.9408315565031983\n",
      "Fold 4 accuracy_score: 0.9410092395167022\n",
      "Fold 5 accuracy_score: 0.9393745557924662\n",
      "Cross-validated accuracy_score: 0.940 +/- 0.001\n"
     ]
    }
   ],
   "source": [
    "cv = StratifiedKFold(5, shuffle=True, random_state=0)\n",
    "cv_splits = cv.split(x, y)\n",
    "scores = []\n",
    "test_preds = []\n",
    "X_test_pool = Pool(test_df, cat_features=x.columns.values)\n",
    "for i, (train_idx, val_idx) in enumerate(cv_splits):\n",
    "    model = CatBoostClassifier(**catboost_params)\n",
    "    X_train_fold, X_val_fold = x.loc[train_idx], x.loc[val_idx]\n",
    "    y_train_fold, y_val_fold = y.loc[train_idx], y.loc[val_idx]\n",
    "    X_train_pool = Pool(X_train_fold, y_train_fold, cat_features=x.columns.values)\n",
    "    X_valid_pool = Pool(X_val_fold, y_val_fold, cat_features=x.columns.values)\n",
    "    model.fit(X=X_train_pool, eval_set=X_valid_pool, verbose=False, early_stopping_rounds=200)\n",
    "    val_pred = model.predict(X_valid_pool)\n",
    "    score = accuracy_score(y_val_fold, val_pred)\n",
    "    scores.append(score)\n",
    "    test_pred = model.predict_proba(X_test_pool)[:, 1]\n",
    "    test_preds.append(test_pred)\n",
    "    print(f'Fold {i + 1} accuracy_score: {score}')\n",
    "print(f'Cross-validated accuracy_score: {np.mean(scores):.3f} +/- {np.std(scores):.3f}')"
   ],
   "metadata": {
    "collapsed": false,
    "ExecuteTime": {
     "end_time": "2024-11-20T16:10:48.179919400Z",
     "start_time": "2024-11-20T15:59:45.448488200Z"
    }
   }
  },
  {
   "cell_type": "code",
   "execution_count": 16,
   "outputs": [
    {
     "name": "stdout",
     "output_type": "stream",
     "text": [
      "Max accuracy_score score: 0.941\n",
      "Min accuracy_score score: 0.938\n"
     ]
    }
   ],
   "source": [
    "print(f'Max accuracy_score score: {np.max(scores):.3f}')\n",
    "print(f'Min accuracy_score score: {np.min(scores):.3f}')"
   ],
   "metadata": {
    "collapsed": false,
    "ExecuteTime": {
     "end_time": "2024-11-20T16:16:23.612016900Z",
     "start_time": "2024-11-20T16:16:23.583464700Z"
    }
   }
  },
  {
   "cell_type": "code",
   "execution_count": 17,
   "outputs": [
    {
     "data": {
      "text/plain": "           id  Depression\n0      140700         0.0\n1      140701         0.0\n2      140702         0.0\n3      140703         1.0\n4      140704         0.0\n...       ...         ...\n93795  234495         0.0\n93796  234496         1.0\n93797  234497         0.0\n93798  234498         1.0\n93799  234499         0.0\n\n[93800 rows x 2 columns]",
      "text/html": "<div>\n<style scoped>\n    .dataframe tbody tr th:only-of-type {\n        vertical-align: middle;\n    }\n\n    .dataframe tbody tr th {\n        vertical-align: top;\n    }\n\n    .dataframe thead th {\n        text-align: right;\n    }\n</style>\n<table border=\"1\" class=\"dataframe\">\n  <thead>\n    <tr style=\"text-align: right;\">\n      <th></th>\n      <th>id</th>\n      <th>Depression</th>\n    </tr>\n  </thead>\n  <tbody>\n    <tr>\n      <th>0</th>\n      <td>140700</td>\n      <td>0.0</td>\n    </tr>\n    <tr>\n      <th>1</th>\n      <td>140701</td>\n      <td>0.0</td>\n    </tr>\n    <tr>\n      <th>2</th>\n      <td>140702</td>\n      <td>0.0</td>\n    </tr>\n    <tr>\n      <th>3</th>\n      <td>140703</td>\n      <td>1.0</td>\n    </tr>\n    <tr>\n      <th>4</th>\n      <td>140704</td>\n      <td>0.0</td>\n    </tr>\n    <tr>\n      <th>...</th>\n      <td>...</td>\n      <td>...</td>\n    </tr>\n    <tr>\n      <th>93795</th>\n      <td>234495</td>\n      <td>0.0</td>\n    </tr>\n    <tr>\n      <th>93796</th>\n      <td>234496</td>\n      <td>1.0</td>\n    </tr>\n    <tr>\n      <th>93797</th>\n      <td>234497</td>\n      <td>0.0</td>\n    </tr>\n    <tr>\n      <th>93798</th>\n      <td>234498</td>\n      <td>1.0</td>\n    </tr>\n    <tr>\n      <th>93799</th>\n      <td>234499</td>\n      <td>0.0</td>\n    </tr>\n  </tbody>\n</table>\n<p>93800 rows × 2 columns</p>\n</div>"
     },
     "execution_count": 17,
     "metadata": {},
     "output_type": "execute_result"
    }
   ],
   "source": [
    "sample_submission = pd.read_csv('dataset/sample_submission.csv', encoding='utf-8')\n",
    "sample_submission['Depression'] = np.round(np.mean(test_preds, axis=0))\n",
    "sample_submission"
   ],
   "metadata": {
    "collapsed": false,
    "ExecuteTime": {
     "end_time": "2024-11-20T16:17:14.361397500Z",
     "start_time": "2024-11-20T16:17:14.317299500Z"
    }
   }
  },
  {
   "cell_type": "code",
   "execution_count": 18,
   "outputs": [],
   "source": [
    "sample_submission.to_csv('prediction/20241121_Submission.csv', index=False)"
   ],
   "metadata": {
    "collapsed": false,
    "ExecuteTime": {
     "end_time": "2024-11-20T16:17:37.851887200Z",
     "start_time": "2024-11-20T16:17:37.748631600Z"
    }
   }
  },
  {
   "cell_type": "code",
   "execution_count": null,
   "outputs": [],
   "source": [],
   "metadata": {
    "collapsed": false
   }
  }
 ],
 "metadata": {
  "kernelspec": {
   "display_name": "Python 3",
   "language": "python",
   "name": "python3"
  },
  "language_info": {
   "codemirror_mode": {
    "name": "ipython",
    "version": 2
   },
   "file_extension": ".py",
   "mimetype": "text/x-python",
   "name": "python",
   "nbconvert_exporter": "python",
   "pygments_lexer": "ipython2",
   "version": "2.7.6"
  }
 },
 "nbformat": 4,
 "nbformat_minor": 0
}
