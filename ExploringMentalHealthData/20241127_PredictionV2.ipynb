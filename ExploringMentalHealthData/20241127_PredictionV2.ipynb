{
 "cells": [
  {
   "cell_type": "code",
   "execution_count": 129,
   "metadata": {
    "collapsed": true,
    "ExecuteTime": {
     "end_time": "2024-11-28T15:09:35.759225600Z",
     "start_time": "2024-11-28T15:09:35.748461200Z"
    }
   },
   "outputs": [],
   "source": [
    "import pandas as pd\n",
    "import numpy as np\n",
    "import matplotlib.pyplot as plt\n",
    "import seaborn as sns\n",
    "from catboost import Pool, CatBoostClassifier\n",
    "from sklearn.model_selection import StratifiedKFold\n",
    "from sklearn.metrics import accuracy_score, f1_score, roc_auc_score\n",
    "import optuna\n",
    "from optuna.samplers import TPESampler\n",
    "import warnings\n",
    "import shap\n",
    "warnings.filterwarnings(\"ignore\")"
   ]
  },
  {
   "cell_type": "code",
   "execution_count": 130,
   "outputs": [],
   "source": [
    "train_df = pd.read_csv('dataset/train.csv', index_col='id', encoding='utf-8')\n",
    "test_df = pd.read_csv('dataset/test.csv', index_col='id', encoding='utf-8')\n",
    "original_df = pd.read_csv('dataset/final_depression_dataset_1.csv', encoding='utf-8')"
   ],
   "metadata": {
    "collapsed": false,
    "ExecuteTime": {
     "end_time": "2024-11-28T15:09:38.588198900Z",
     "start_time": "2024-11-28T15:09:38.291147300Z"
    }
   }
  },
  {
   "cell_type": "code",
   "execution_count": 131,
   "outputs": [],
   "source": [
    "original_df['Depression'] = original_df['Depression'].map({\"Yes\": 1, \"No\": 0})"
   ],
   "metadata": {
    "collapsed": false,
    "ExecuteTime": {
     "end_time": "2024-11-28T15:09:39.061218100Z",
     "start_time": "2024-11-28T15:09:39.047877800Z"
    }
   }
  },
  {
   "cell_type": "code",
   "execution_count": 132,
   "outputs": [],
   "source": [
    "train_df = pd.concat([train_df, original_df], ignore_index=True)\n",
    "\n",
    "train_df = train_df.fillna('None').astype('string')\n",
    "test_df = test_df.fillna('None').astype('string')"
   ],
   "metadata": {
    "collapsed": false,
    "ExecuteTime": {
     "end_time": "2024-11-28T15:09:40.654808700Z",
     "start_time": "2024-11-28T15:09:39.730892200Z"
    }
   }
  },
  {
   "cell_type": "code",
   "execution_count": 133,
   "outputs": [],
   "source": [
    "train_workingprofessional = train_df[train_df['Working Professional or Student'] != 'Student']\n",
    "test_workingprofessional = test_df[test_df['Working Professional or Student'] != 'Student'].copy()\n",
    "y = train_workingprofessional['Depression']\n",
    "X = train_workingprofessional.drop(['Depression'], axis=1)\n",
    "\n",
    "X.reset_index(drop=True, inplace=True)\n",
    "y.reset_index(drop=True, inplace=True)"
   ],
   "metadata": {
    "collapsed": false,
    "ExecuteTime": {
     "end_time": "2024-11-28T15:09:41.253318200Z",
     "start_time": "2024-11-28T15:09:41.108029Z"
    }
   }
  },
  {
   "cell_type": "code",
   "execution_count": 134,
   "outputs": [],
   "source": [
    "catboost_params1 = {\n",
    "        'loss_function': 'Logloss',\n",
    "        'eval_metric': 'AUC',\n",
    "        'learning_rate': 0.08,\n",
    "        'iterations': 1000,\n",
    "        'depth': 4,\n",
    "        'random_strength':1,\n",
    "        'l2_leaf_reg': 0.5,\n",
    "        'min_data_in_leaf' : 2,\n",
    "        'random_seed':42,\n",
    "        'verbose':False,\n",
    "        'task_type': 'CPU'\n",
    "    }"
   ],
   "metadata": {
    "collapsed": false,
    "ExecuteTime": {
     "end_time": "2024-11-28T15:09:41.877302600Z",
     "start_time": "2024-11-28T15:09:41.856668700Z"
    }
   }
  },
  {
   "cell_type": "code",
   "execution_count": 135,
   "outputs": [
    {
     "name": "stdout",
     "output_type": "stream",
     "text": [
      "0:\ttest: 0.9260975\tbest: 0.9260975 (0)\ttotal: 230ms\tremaining: 3m 49s\n",
      "500:\ttest: 0.9719919\tbest: 0.9719924 (496)\ttotal: 1m 4s\tremaining: 1m 3s\n",
      "999:\ttest: 0.9723871\tbest: 0.9723871 (999)\ttotal: 2m 8s\tremaining: 0us\n",
      "\n",
      "bestTest = 0.9723871084\n",
      "bestIteration = 999\n",
      "\n",
      "0:\ttest: 0.9389861\tbest: 0.9389861 (0)\ttotal: 115ms\tremaining: 1m 55s\n",
      "500:\ttest: 0.9712558\tbest: 0.9712636 (494)\ttotal: 1m 1s\tremaining: 1m\n",
      "999:\ttest: 0.9718514\tbest: 0.9718519 (998)\ttotal: 2m 7s\tremaining: 0us\n",
      "\n",
      "bestTest = 0.9718519144\n",
      "bestIteration = 998\n",
      "\n",
      "Shrink model to first 999 iterations.\n",
      "0:\ttest: 0.9184922\tbest: 0.9184922 (0)\ttotal: 98.9ms\tremaining: 1m 38s\n",
      "500:\ttest: 0.9693865\tbest: 0.9693865 (500)\ttotal: 1m 1s\tremaining: 1m\n",
      "999:\ttest: 0.9699581\tbest: 0.9699581 (998)\ttotal: 2m 5s\tremaining: 0us\n",
      "\n",
      "bestTest = 0.9699581372\n",
      "bestIteration = 998\n",
      "\n",
      "Shrink model to first 999 iterations.\n",
      "workingprofessional:0.9623;\n"
     ]
    }
   ],
   "source": [
    "cv = StratifiedKFold(3, shuffle=True, random_state=0)\n",
    "cv_splits = cv.split(X, y)\n",
    "scores1 = []\n",
    "test_preds1 = []\n",
    "X_test_pool = Pool(test_workingprofessional, cat_features=X.columns.values)\n",
    "for i, (train_idx, val_idx) in enumerate(cv_splits):\n",
    "    model = CatBoostClassifier(**catboost_params1)\n",
    "    X_train_fold, X_val_fold = X.loc[train_idx], X.loc[val_idx]\n",
    "    y_train_fold, y_val_fold = y.loc[train_idx], y.loc[val_idx]\n",
    "    X_train_pool = Pool(X_train_fold, y_train_fold, cat_features=X.columns.values)\n",
    "    X_valid_pool = Pool(X_val_fold, y_val_fold, cat_features=X.columns.values)\n",
    "    model.fit(X=X_train_pool, eval_set=X_valid_pool, verbose=500, early_stopping_rounds=200)\n",
    "    val_pred = model.predict(X_valid_pool)\n",
    "    score = accuracy_score(y_val_fold, val_pred)\n",
    "    scores1.append(score)\n",
    "    test_pred1 = model.predict_proba(X_test_pool)[:, 1]\n",
    "    test_preds1.append(test_pred1)\n",
    "    #print(f'Fold {i + 1} accuracy_score: {score}')\n",
    "print(f'workingprofessional:{np.mean(scores1):.4f};')"
   ],
   "metadata": {
    "collapsed": false,
    "ExecuteTime": {
     "end_time": "2024-11-28T15:16:10.249594500Z",
     "start_time": "2024-11-28T15:09:43.601894500Z"
    }
   }
  },
  {
   "cell_type": "code",
   "execution_count": 136,
   "outputs": [],
   "source": [
    "train_student = train_df[train_df['Working Professional or Student'] == 'Student']\n",
    "test_student = test_df[test_df['Working Professional or Student'] == 'Student'].copy()\n",
    "\n",
    "y = train_student['Depression']\n",
    "X = train_student.drop(['Depression'], axis=1)\n",
    "\n",
    "X.reset_index(drop=True, inplace=True)\n",
    "y.reset_index(drop=True, inplace=True)"
   ],
   "metadata": {
    "collapsed": false,
    "ExecuteTime": {
     "end_time": "2024-11-28T15:16:23.046504500Z",
     "start_time": "2024-11-28T15:16:22.965379600Z"
    }
   }
  },
  {
   "cell_type": "code",
   "execution_count": 137,
   "outputs": [],
   "source": [
    "catboost_params2 = {\n",
    "        'loss_function': 'Logloss',\n",
    "        'eval_metric': 'AUC',\n",
    "        'learning_rate': 0.08,\n",
    "        'iterations': 1000,\n",
    "        'depth': 4,\n",
    "        'random_strength':1,\n",
    "        'l2_leaf_reg': 0.5,\n",
    "        'min_data_in_leaf' : 2,\n",
    "        'random_seed':42,\n",
    "        'verbose':False,\n",
    "        'task_type': 'CPU'\n",
    "    }"
   ],
   "metadata": {
    "collapsed": false,
    "ExecuteTime": {
     "end_time": "2024-11-28T15:16:23.768638300Z",
     "start_time": "2024-11-28T15:16:23.754628400Z"
    }
   }
  },
  {
   "cell_type": "code",
   "execution_count": 138,
   "outputs": [
    {
     "name": "stdout",
     "output_type": "stream",
     "text": [
      "0:\ttest: 0.8783904\tbest: 0.8783904 (0)\ttotal: 152ms\tremaining: 2m 31s\n",
      "500:\ttest: 0.9226983\tbest: 0.9227856 (357)\ttotal: 29.4s\tremaining: 29.3s\n",
      "Stopped by overfitting detector  (200 iterations wait)\n",
      "\n",
      "bestTest = 0.9227855908\n",
      "bestIteration = 357\n",
      "\n",
      "Shrink model to first 358 iterations.\n",
      "0:\ttest: 0.8846805\tbest: 0.8846805 (0)\ttotal: 64.4ms\tremaining: 1m 4s\n",
      "500:\ttest: 0.9240055\tbest: 0.9240714 (438)\ttotal: 25.7s\tremaining: 25.5s\n",
      "Stopped by overfitting detector  (200 iterations wait)\n",
      "\n",
      "bestTest = 0.9242246024\n",
      "bestIteration = 628\n",
      "\n",
      "Shrink model to first 629 iterations.\n",
      "0:\ttest: 0.8790044\tbest: 0.8790044 (0)\ttotal: 75.9ms\tremaining: 1m 15s\n",
      "500:\ttest: 0.9216078\tbest: 0.9217410 (386)\ttotal: 26.2s\tremaining: 26.1s\n",
      "Stopped by overfitting detector  (200 iterations wait)\n",
      "\n",
      "bestTest = 0.9217410466\n",
      "bestIteration = 386\n",
      "\n",
      "Shrink model to first 387 iterations.\n",
      "student:0.8502;\n"
     ]
    }
   ],
   "source": [
    "cv = StratifiedKFold(3, shuffle=True, random_state=0)\n",
    "cv_splits = cv.split(X, y)\n",
    "scores2 = []\n",
    "test_preds2 = []\n",
    "X_test_pool = Pool(test_student, cat_features=X.columns.values)\n",
    "for i, (train_idx, val_idx) in enumerate(cv_splits):\n",
    "    model = CatBoostClassifier(**catboost_params2)\n",
    "    X_train_fold, X_val_fold = X.loc[train_idx], X.loc[val_idx]\n",
    "    y_train_fold, y_val_fold = y.loc[train_idx], y.loc[val_idx]\n",
    "    X_train_pool = Pool(X_train_fold, y_train_fold, cat_features=X.columns.values)\n",
    "    X_valid_pool = Pool(X_val_fold, y_val_fold, cat_features=X.columns.values)\n",
    "    model.fit(X=X_train_pool, eval_set=X_valid_pool, verbose=500, early_stopping_rounds=200)\n",
    "    val_pred = model.predict(X_valid_pool)\n",
    "    score = accuracy_score(y_val_fold, val_pred)\n",
    "    scores2.append(score)\n",
    "    test_pred2 = model.predict_proba(X_test_pool)[:, 1]\n",
    "    test_preds2.append(test_pred2)\n",
    "    #print(f'Fold {i + 1} accuracy_score: {score}')\n",
    "print(f'student:{np.mean(scores2):.4f};')"
   ],
   "metadata": {
    "collapsed": false,
    "ExecuteTime": {
     "end_time": "2024-11-28T15:18:14.561208600Z",
     "start_time": "2024-11-28T15:16:26.881398400Z"
    }
   }
  },
  {
   "cell_type": "code",
   "execution_count": 139,
   "outputs": [],
   "source": [
    "test_workingprofessional = test_workingprofessional.reset_index()\n",
    "test_student = test_student.reset_index()\n",
    "\n",
    "preds_workingprofessional = np.round(np.mean(test_preds1, axis=0))\n",
    "preds_student = np.round(np.mean(test_preds2, axis=0))\n",
    "\n",
    "submission_workingprofessional = pd.DataFrame({'id': test_workingprofessional['id'], 'Depression': preds_workingprofessional})\n",
    "submission_student = pd.DataFrame({'id': test_student['id'], 'Depression': preds_student})\n",
    "\n",
    "submission = pd.concat([submission_student, submission_workingprofessional], axis=0)\n",
    "submission_s94344 = submission.sort_values(by='id', ascending=True)"
   ],
   "metadata": {
    "collapsed": false,
    "ExecuteTime": {
     "end_time": "2024-11-28T15:19:19.355888300Z",
     "start_time": "2024-11-28T15:19:19.298584300Z"
    }
   }
  },
  {
   "cell_type": "code",
   "execution_count": 140,
   "outputs": [
    {
     "data": {
      "text/plain": "           id  Depression\n0      140700         0.0\n1      140701         0.0\n2      140702         0.0\n0      140703         1.0\n3      140704         0.0\n...       ...         ...\n75024  234495         0.0\n75025  234496         1.0\n18771  234497         0.0\n75026  234498         1.0\n75027  234499         0.0\n\n[93800 rows x 2 columns]",
      "text/html": "<div>\n<style scoped>\n    .dataframe tbody tr th:only-of-type {\n        vertical-align: middle;\n    }\n\n    .dataframe tbody tr th {\n        vertical-align: top;\n    }\n\n    .dataframe thead th {\n        text-align: right;\n    }\n</style>\n<table border=\"1\" class=\"dataframe\">\n  <thead>\n    <tr style=\"text-align: right;\">\n      <th></th>\n      <th>id</th>\n      <th>Depression</th>\n    </tr>\n  </thead>\n  <tbody>\n    <tr>\n      <th>0</th>\n      <td>140700</td>\n      <td>0.0</td>\n    </tr>\n    <tr>\n      <th>1</th>\n      <td>140701</td>\n      <td>0.0</td>\n    </tr>\n    <tr>\n      <th>2</th>\n      <td>140702</td>\n      <td>0.0</td>\n    </tr>\n    <tr>\n      <th>0</th>\n      <td>140703</td>\n      <td>1.0</td>\n    </tr>\n    <tr>\n      <th>3</th>\n      <td>140704</td>\n      <td>0.0</td>\n    </tr>\n    <tr>\n      <th>...</th>\n      <td>...</td>\n      <td>...</td>\n    </tr>\n    <tr>\n      <th>75024</th>\n      <td>234495</td>\n      <td>0.0</td>\n    </tr>\n    <tr>\n      <th>75025</th>\n      <td>234496</td>\n      <td>1.0</td>\n    </tr>\n    <tr>\n      <th>18771</th>\n      <td>234497</td>\n      <td>0.0</td>\n    </tr>\n    <tr>\n      <th>75026</th>\n      <td>234498</td>\n      <td>1.0</td>\n    </tr>\n    <tr>\n      <th>75027</th>\n      <td>234499</td>\n      <td>0.0</td>\n    </tr>\n  </tbody>\n</table>\n<p>93800 rows × 2 columns</p>\n</div>"
     },
     "execution_count": 140,
     "metadata": {},
     "output_type": "execute_result"
    }
   ],
   "source": [
    "submission_s94344"
   ],
   "metadata": {
    "collapsed": false,
    "ExecuteTime": {
     "end_time": "2024-11-28T15:19:20.266740900Z",
     "start_time": "2024-11-28T15:19:20.235204100Z"
    }
   }
  },
  {
   "cell_type": "code",
   "execution_count": 141,
   "outputs": [],
   "source": [
    "submission_s94344.to_csv('20241127_submission_model1.csv', index=False)"
   ],
   "metadata": {
    "collapsed": false,
    "ExecuteTime": {
     "end_time": "2024-11-28T15:19:22.529389900Z",
     "start_time": "2024-11-28T15:19:22.300674300Z"
    }
   }
  },
  {
   "cell_type": "code",
   "execution_count": null,
   "outputs": [],
   "source": [],
   "metadata": {
    "collapsed": false
   }
  },
  {
   "cell_type": "raw",
   "source": [
    "Second Model"
   ],
   "metadata": {
    "collapsed": false
   }
  },
  {
   "cell_type": "code",
   "execution_count": 142,
   "outputs": [],
   "source": [
    "train_df = pd.read_csv('dataset/train.csv', encoding='utf-8')\n",
    "test_df = pd.read_csv('dataset/test.csv', encoding='utf-8')\n",
    "submission_df = pd.read_csv('dataset/sample_submission.csv', encoding='utf-8')"
   ],
   "metadata": {
    "collapsed": false,
    "ExecuteTime": {
     "end_time": "2024-11-28T15:19:28.619522300Z",
     "start_time": "2024-11-28T15:19:28.301703100Z"
    }
   }
  },
  {
   "cell_type": "code",
   "execution_count": 143,
   "outputs": [],
   "source": [
    "train_df.columns = [col.replace(' ', '_') for col in train_df.columns]\n",
    "test_df.columns = [col.replace(' ', '_') for col in test_df.columns]"
   ],
   "metadata": {
    "collapsed": false,
    "ExecuteTime": {
     "end_time": "2024-11-28T15:19:30.675613700Z",
     "start_time": "2024-11-28T15:19:30.647727500Z"
    }
   }
  },
  {
   "cell_type": "code",
   "execution_count": 144,
   "outputs": [],
   "source": [
    "sleep={\n",
    "        \"More than 8 hours\":9,\n",
    "        'Less than 5 hours':4,\n",
    "        '5-6 hours':5.5,\n",
    "        '7-8 hours':7.5,\n",
    "        '1-2 hours':1.5,\n",
    "        '6-8 hours':7,\n",
    "        '4-6 hours':5,\n",
    "        '6-7 hours':6.5,\n",
    "        '10-11 hours':10.5,\n",
    "        '8-9 hours':8.5,\n",
    "        '9-11 hours':10,\n",
    "        '2-3 hours':2.5,\n",
    "        '3-4 hours':3.5,\n",
    "        'Moderate':6,\n",
    "        '4-5 hours':4.5,\n",
    "        '9-6 hours':7.5,\n",
    "        '1-3 hours':2,\n",
    "        '1-6 hours':4,\n",
    "        '8 hours':8,\n",
    "        '10-6 hours':8,\n",
    "        'Unhealthy':3,\n",
    "        'Work_Study_Hours':6,\n",
    "        '3-6 hours':3.5,\n",
    "        '9-5':7,\n",
    "        '9-5 hours':7,\n",
    "}\n",
    "\n",
    "train_df['Sleep_Duration'] = train_df['Sleep_Duration'].map(sleep)\n",
    "test_df['Sleep_Duration'] = test_df['Sleep_Duration'].map(sleep)\n",
    "sleep_med = train_df['Sleep_Duration'].median()\n",
    "train_df.fillna({'Sleep_Duration':sleep_med}, inplace=True)\n",
    "test_df.fillna({'Sleep_Duration':sleep_med}, inplace=True)"
   ],
   "metadata": {
    "collapsed": false,
    "ExecuteTime": {
     "end_time": "2024-11-28T15:19:31.904807300Z",
     "start_time": "2024-11-28T15:19:31.871856200Z"
    }
   }
  },
  {
   "cell_type": "code",
   "execution_count": 145,
   "outputs": [],
   "source": [
    "gender={\n",
    "    'Male':0,\n",
    "    'Female':1,\n",
    "}\n",
    "\n",
    "work={\n",
    "    'Working Professional':1,\n",
    "    'Student':0,\n",
    "}\n",
    "\n",
    "Thoughts={\n",
    "    'No':0,\n",
    "    'Yes':1,\n",
    "}\n",
    "\n",
    "History={\n",
    "    'No':0,\n",
    "    'Yes':1,\n",
    "}\n",
    "\n",
    "train_df['Working_Professional_or_Student'] = train_df['Working_Professional_or_Student'].map(work)\n",
    "test_df['Working_Professional_or_Student'] = test_df['Working_Professional_or_Student'].map(work)\n",
    "\n",
    "train_df['Gender'] = train_df['Gender'].map(gender)\n",
    "test_df['Gender'] = test_df['Gender'].map(gender)\n",
    "\n",
    "train_df['Have_you_ever_had_suicidal_thoughts_?'] = train_df['Have_you_ever_had_suicidal_thoughts_?'].map(Thoughts)\n",
    "test_df['Have_you_ever_had_suicidal_thoughts_?'] = test_df['Have_you_ever_had_suicidal_thoughts_?'].map(Thoughts)\n",
    "\n",
    "train_df['Family_History_of_Mental_Illness'] = train_df['Family_History_of_Mental_Illness'].map(History)\n",
    "test_df['Family_History_of_Mental_Illness'] = test_df['Family_History_of_Mental_Illness'].map(History)"
   ],
   "metadata": {
    "collapsed": false,
    "ExecuteTime": {
     "end_time": "2024-11-28T15:19:37.739232600Z",
     "start_time": "2024-11-28T15:19:37.695025600Z"
    }
   }
  },
  {
   "cell_type": "code",
   "execution_count": 146,
   "outputs": [],
   "source": [
    "train_df['Work_Hours'] = train_df.apply(\n",
    "    lambda row: np.nan if pd.isna(row['Work/Study_Hours'])\n",
    "    else row['Work/Study_Hours'] if row['Working_Professional_or_Student'] == 1\n",
    "    else 0,\n",
    "    axis=1\n",
    ")\n",
    "\n",
    "train_df['Study_Hours'] = train_df.apply(\n",
    "    lambda row: np.nan if pd.isna(row['Work/Study_Hours'])\n",
    "    else row['Work/Study_Hours'] if row['Working_Professional_or_Student'] == 0\n",
    "    else 0,\n",
    "    axis=1\n",
    ")\n",
    "\n",
    "\n",
    "test_df['Work_Hours'] = test_df.apply(\n",
    "    lambda row: np.nan if pd.isna(row['Work/Study_Hours'])\n",
    "    else row['Work/Study_Hours'] if row['Working_Professional_or_Student'] == 1\n",
    "    else 0,\n",
    "    axis=1\n",
    ")\n",
    "\n",
    "test_df['Study_Hours'] = test_df.apply(\n",
    "    lambda row: np.nan if pd.isna(row['Work/Study_Hours'])\n",
    "    else row['Work/Study_Hours'] if row['Working_Professional_or_Student'] == 0\n",
    "    else 0,\n",
    "    axis=1\n",
    ")\n",
    "\n",
    "\n",
    "train_df.drop(['Work/Study_Hours'], axis=1, inplace=True)\n",
    "test_df.drop(['Work/Study_Hours'], axis=1, inplace=True)"
   ],
   "metadata": {
    "collapsed": false,
    "ExecuteTime": {
     "end_time": "2024-11-28T15:19:45.625796400Z",
     "start_time": "2024-11-28T15:19:39.546584700Z"
    }
   }
  },
  {
   "cell_type": "code",
   "execution_count": 147,
   "outputs": [],
   "source": [
    "train_df['Academic_Pressure'] = train_df.apply(\n",
    "    lambda row: 0 if row['Working_Professional_or_Student'] == 1\n",
    "    else (np.nan if pd.isna(row['Academic_Pressure']) else row['Academic_Pressure']),\n",
    "    axis=1\n",
    ")\n",
    "\n",
    "test_df['Academic_Pressure'] = test_df.apply(\n",
    "    lambda row: 0 if row['Working_Professional_or_Student'] == 1\n",
    "    else (np.nan if pd.isna(row['Academic_Pressure']) else row['Academic_Pressure']),\n",
    "    axis=1\n",
    ")\n",
    "\n",
    "\n",
    "train_df['Work_Pressure'] = train_df.apply(\n",
    "    lambda row: 0 if row['Working_Professional_or_Student'] == 0\n",
    "    else (np.nan if pd.isna(row['Work_Pressure']) else row['Work_Pressure']),\n",
    "    axis=1\n",
    ")\n",
    "\n",
    "test_df['Work_Pressure'] = test_df.apply(\n",
    "    lambda row: 0 if row['Working_Professional_or_Student'] == 0\n",
    "    else (np.nan if pd.isna(row['Work_Pressure']) else row['Work_Pressure']),\n",
    "    axis=1\n",
    ")"
   ],
   "metadata": {
    "collapsed": false,
    "ExecuteTime": {
     "end_time": "2024-11-28T15:20:28.005765500Z",
     "start_time": "2024-11-28T15:20:22.820300300Z"
    }
   }
  },
  {
   "cell_type": "code",
   "execution_count": 148,
   "outputs": [],
   "source": [
    "diet={\n",
    "    'More Healty':0,\n",
    "    'Healthy':1,\n",
    "    'Less than Healthy':2,\n",
    "    'Less Healthy':2,\n",
    "    'Moderate':3,\n",
    "    'Unhealthy':4,\n",
    "    'No Healthy':4,\n",
    "}\n",
    "\n",
    "train_df['Dietary_Habits'] = train_df['Dietary_Habits'].map(diet)\n",
    "test_df['Dietary_Habits'] = test_df['Dietary_Habits'].map(diet)"
   ],
   "metadata": {
    "collapsed": false,
    "ExecuteTime": {
     "end_time": "2024-11-28T15:22:10.535454100Z",
     "start_time": "2024-11-28T15:22:10.513286500Z"
    }
   }
  },
  {
   "cell_type": "code",
   "execution_count": 149,
   "outputs": [],
   "source": [
    "degree = {\n",
    "    \"BCom\": \"B.Com\", \"B.Com\": \"B.Com\", \"B.Comm\": \"B.Com\",\n",
    "    \"B.Tech\": \"B.Tech\", \"BTech\": \"B.Tech\", \"B.T\": \"B.Tech\",\n",
    "    \"BSc\": \"B.Sc\", \"B.Sc\": \"B.Sc\", \"Bachelor of Science\": \"B.Sc\",\n",
    "    \"BArch\": \"B.Arch\", \"B.Arch\": \"B.Arch\",\n",
    "    \"BA\": \"B.A\", \"B.A\": \"B.A\",\n",
    "    \"BBA\": \"BBA\", \"BB\": \"BBA\",\n",
    "    \"BCA\": \"BCA\",\n",
    "    \"BE\": \"BE\",\n",
    "    \"BEd\": \"B.Ed\", \"B.Ed\": \"B.Ed\",\n",
    "    \"BPharm\": \"B.Pharm\", \"B.Pharm\": \"B.Pharm\",\n",
    "    \"BHM\": \"BHM\",\n",
    "    \"LLB\": \"LLB\", \"LL B\": \"LLB\", \"LL BA\": \"LLB\", \"LL.Com\": \"LLB\", \"LLCom\": \"LLB\",\n",
    "    \"MCom\": \"M.Com\", \"M.Com\": \"M.Com\",\n",
    "    \"M.Tech\": \"M.Tech\", \"MTech\": \"M.Tech\", \"M.T\": \"M.Tech\",\n",
    "    \"MSc\": \"M.Sc\", \"M.Sc\": \"M.Sc\", \"Master of Science\": \"M.Sc\",\n",
    "    \"MBA\": \"MBA\",\n",
    "    \"MCA\": \"MCA\",\n",
    "    \"MD\": \"MD\",\n",
    "    \"ME\": \"ME\",\n",
    "    \"MEd\": \"M.Ed\", \"M.Ed\": \"M.Ed\",\n",
    "    \"MArch\": \"M.Arch\", \"M.Arch\": \"M.Arch\",\n",
    "    \"MPharm\": \"M.Pharm\", \"M.Pharm\": \"M.Pharm\",\n",
    "    \"MA\": \"MA\", \"M.A\": \"MA\",\n",
    "    \"MPA\": \"MPA\",\n",
    "    \"LLM\": \"LLM\",\n",
    "    \"PhD\": \"PhD\",\n",
    "    \"MBBS\": \"MBBS\",\n",
    "    \"CA\": \"CA\",\n",
    "    \"Class 12\": \"Class 12\", \"12th\": \"Class 12\",\n",
    "    \"Class 11\": \"Class 11\", \"11th\": \"Class 11\"\n",
    "}\n",
    "\n",
    "train_df['Degree'] = train_df['Degree'].map(degree)\n",
    "test_df['Degree'] = test_df['Degree'].map(degree)"
   ],
   "metadata": {
    "collapsed": false,
    "ExecuteTime": {
     "end_time": "2024-11-28T15:22:12.509256200Z",
     "start_time": "2024-11-28T15:22:12.491781300Z"
    }
   }
  },
  {
   "cell_type": "code",
   "execution_count": 150,
   "outputs": [],
   "source": [
    "nanlist=['Work_Hours','Study_Hours','Profession','Academic_Pressure','Work_Pressure','CGPA','Study_Satisfaction','Job_Satisfaction','Dietary_Habits','Degree','Financial_Stress']"
   ],
   "metadata": {
    "collapsed": false,
    "ExecuteTime": {
     "end_time": "2024-11-28T15:22:16.999249500Z",
     "start_time": "2024-11-28T15:22:16.986780100Z"
    }
   }
  },
  {
   "cell_type": "code",
   "execution_count": 151,
   "outputs": [],
   "source": [
    "train_df['Work_Stress'] = train_df.apply(\n",
    "    lambda row:(row['Financial_Stress'] + row['Work_Pressure'] - row['Job_Satisfaction'])if row['Working_Professional_or_Student'] == 1\n",
    "    else 0,\n",
    "    axis=1\n",
    ")\n",
    "\n",
    "train_df['Academic_Stress'] = train_df.apply(\n",
    "    lambda row:(row['Financial_Stress'] + row['Academic_Pressure'] - row['Study_Satisfaction'])if row['Working_Professional_or_Student'] == 0\n",
    "    else 0,\n",
    "    axis=1\n",
    ")\n",
    "\n",
    "test_df['Work_Stress'] = test_df.apply(\n",
    "    lambda row:(row['Financial_Stress'] + row['Work_Pressure'] - row['Job_Satisfaction'])if row['Working_Professional_or_Student'] == 1\n",
    "    else 0,\n",
    "    axis=1\n",
    ")\n",
    "\n",
    "test_df['Academic_Stress'] = test_df.apply(\n",
    "    lambda row:(row['Financial_Stress'] + row['Academic_Pressure'] - row['Study_Satisfaction'])if row['Working_Professional_or_Student'] == 0\n",
    "    else 0,\n",
    "    axis=1\n",
    ")"
   ],
   "metadata": {
    "collapsed": false,
    "ExecuteTime": {
     "end_time": "2024-11-28T15:22:24.901603800Z",
     "start_time": "2024-11-28T15:22:18.853628600Z"
    }
   }
  },
  {
   "cell_type": "code",
   "execution_count": 152,
   "outputs": [],
   "source": [
    "nanlist=['Work_Stress','Academic_Stress','Work_Hours','Study_Hours','Profession','Academic_Pressure','Work_Pressure','CGPA','Study_Satisfaction','Job_Satisfaction','Dietary_Habits','Degree','Financial_Stress']"
   ],
   "metadata": {
    "collapsed": false,
    "ExecuteTime": {
     "end_time": "2024-11-28T15:22:35.825974300Z",
     "start_time": "2024-11-28T15:22:35.804685400Z"
    }
   }
  },
  {
   "cell_type": "code",
   "execution_count": 153,
   "outputs": [],
   "source": [
    "train_df.fillna({'Degree': 'Unknown', 'Profession': 'Unknown'}, inplace=True)\n",
    "test_df.fillna({'Degree': 'Unknown', 'Profession': 'Unknown'}, inplace=True)"
   ],
   "metadata": {
    "collapsed": false,
    "ExecuteTime": {
     "end_time": "2024-11-28T15:22:40.068681600Z",
     "start_time": "2024-11-28T15:22:40.027487400Z"
    }
   }
  },
  {
   "cell_type": "code",
   "execution_count": 154,
   "outputs": [],
   "source": [
    "from category_encoders import TargetEncoder\n",
    "n_splits = 5\n",
    "kf = StratifiedKFold(n_splits=n_splits, shuffle=True, random_state=42)\n",
    "\n",
    "\n",
    "target_encoder = TargetEncoder(cols=['Profession', 'Degree'])\n",
    "\n",
    "\n",
    "for train_index, val_index in kf.split(train_df, train_df['Depression']):\n",
    "    train_fold = train_df.iloc[train_index]\n",
    "    val_fold = train_df.iloc[val_index]\n",
    "\n",
    "\n",
    "    train_fold_encoded = target_encoder.fit_transform(train_fold[['Profession', 'Degree']], train_fold['Depression'])\n",
    "    val_fold_encoded = target_encoder.transform(val_fold[['Profession', 'Degree']])\n",
    "\n",
    "\n",
    "    train_df.loc[val_index, ['Profession', 'Degree']] = val_fold_encoded\n",
    "\n",
    "test_encoded = target_encoder.transform(test_df[['Profession', 'Degree']])\n",
    "test_df[['Profession', 'Degree']] = test_encoded"
   ],
   "metadata": {
    "collapsed": false,
    "ExecuteTime": {
     "end_time": "2024-11-28T15:22:42.211564400Z",
     "start_time": "2024-11-28T15:22:40.791977100Z"
    }
   }
  },
  {
   "cell_type": "code",
   "execution_count": 155,
   "outputs": [],
   "source": [
    "mean_n = train_df.groupby('Name')['Depression'].mean()\n",
    "train_df['Name'] = train_df['Name'].map(mean_n)\n",
    "test_df['Name'] = test_df['Name'].map(mean_n)\n",
    "\n",
    "mean_n = train_df.groupby('City')['Depression'].mean()\n",
    "train_df['City'] = train_df['City'].map(mean_n)\n",
    "test_df['City'] = test_df['City'].map(mean_n)"
   ],
   "metadata": {
    "collapsed": false,
    "ExecuteTime": {
     "end_time": "2024-11-28T15:24:45.311093400Z",
     "start_time": "2024-11-28T15:24:45.265049800Z"
    }
   }
  },
  {
   "cell_type": "code",
   "execution_count": 156,
   "outputs": [],
   "source": [
    "for col in nanlist:\n",
    "    med=train_df[col].median()\n",
    "    train_df.fillna({col:med}, inplace=True)\n",
    "    test_df.fillna({col:med}, inplace=True)"
   ],
   "metadata": {
    "collapsed": false,
    "ExecuteTime": {
     "end_time": "2024-11-28T15:24:46.033506Z",
     "start_time": "2024-11-28T15:24:45.955041Z"
    }
   }
  },
  {
   "cell_type": "code",
   "execution_count": 157,
   "outputs": [],
   "source": [
    "newnan=[\"Name\",\"City\"]\n",
    "\n",
    "for col in newnan:\n",
    "    med=train_df[col].median()\n",
    "    test_df.fillna({col:med}, inplace=True)"
   ],
   "metadata": {
    "collapsed": false,
    "ExecuteTime": {
     "end_time": "2024-11-28T15:24:46.655088500Z",
     "start_time": "2024-11-28T15:24:46.625664500Z"
    }
   }
  },
  {
   "cell_type": "code",
   "execution_count": 158,
   "outputs": [],
   "source": [
    "id_col_tra= train_df['id']\n",
    "train_df.drop(['id'],axis = 1,inplace = True)\n",
    "id_col_test= test_df['id']\n",
    "test_df.drop(['id'],axis = 1,inplace = True)"
   ],
   "metadata": {
    "collapsed": false,
    "ExecuteTime": {
     "end_time": "2024-11-28T15:24:48.819963100Z",
     "start_time": "2024-11-28T15:24:48.812962100Z"
    }
   }
  },
  {
   "cell_type": "code",
   "execution_count": 159,
   "outputs": [],
   "source": [
    "y = train_df['Depression']\n",
    "train = train_df.drop(['Depression'],axis=1)\n",
    "X = train"
   ],
   "metadata": {
    "collapsed": false,
    "ExecuteTime": {
     "end_time": "2024-11-28T15:24:49.390817800Z",
     "start_time": "2024-11-28T15:24:49.336289400Z"
    }
   }
  },
  {
   "cell_type": "code",
   "execution_count": 160,
   "outputs": [],
   "source": [
    "from sklearn.model_selection import train_test_split\n",
    "from xgboost import XGBClassifier\n",
    "\n",
    "X_train, X_test, y_train, y_test = train_test_split(X, y, test_size=0.2, random_state=607)\n",
    "\n",
    "def objective(trial):\n",
    "    colsample_bytree= trial.suggest_float('colsample_bytree',0,1)\n",
    "    n_estimators = trial.suggest_int('n_estimators', 400,1000)\n",
    "    learning_rate = trial.suggest_float('learning_rate', 0.01,0.1)\n",
    "    reg_lambda = trial.suggest_float('reg_lambda', 0,4)\n",
    "    reg_alpha = trial.suggest_float('reg_alpha', 0,4)\n",
    "    max_depth = trial.suggest_int('max_depth', 2,10)\n",
    "    gamma = trial.suggest_float('gamma', 0,0.5)\n",
    "    eval_metric='auc'\n",
    "\n",
    "    model = XGBClassifier(\n",
    "    colsample_bytree = colsample_bytree,\n",
    "    n_estimators=n_estimators,\n",
    "    learning_rate=learning_rate,\n",
    "    max_depth=max_depth,\n",
    "    reg_alpha=reg_alpha,\n",
    "    reg_lambda=reg_lambda,\n",
    "    gamma=gamma,\n",
    "    eval_metric='auc',\n",
    "    random_state=607\n",
    ")\n",
    "    model.fit(X_train, y_train)\n",
    "    score = roc_auc_score(y_test, model.predict_proba(X_test)[:, 1])\n",
    "\n",
    "    return score"
   ],
   "metadata": {
    "collapsed": false,
    "ExecuteTime": {
     "end_time": "2024-11-28T15:24:50.899779800Z",
     "start_time": "2024-11-28T15:24:50.869601100Z"
    }
   }
  },
  {
   "cell_type": "code",
   "execution_count": 161,
   "outputs": [
    {
     "name": "stdout",
     "output_type": "stream",
     "text": [
      "New best trial: 0 with value: 0.9737262650324346 and params: {'colsample_bytree': 0.9241441149445456, 'n_estimators': 480, 'learning_rate': 0.01934695515938726, 'reg_lambda': 0.995746986500277, 'reg_alpha': 0.7922495581786353, 'max_depth': 3, 'gamma': 0.00960148482380424}\n",
      "New best trial: 1 with value: 0.9747485543853113 and params: {'colsample_bytree': 0.1621141939217663, 'n_estimators': 866, 'learning_rate': 0.01830911692556304, 'reg_lambda': 2.9106714720433975, 'reg_alpha': 2.3081746881941307, 'max_depth': 8, 'gamma': 0.2014396057468147}\n",
      "New best trial: 2 with value: 0.9752102590611635 and params: {'colsample_bytree': 0.8807953818921426, 'n_estimators': 412, 'learning_rate': 0.0758420999774204, 'reg_lambda': 0.7061383279618365, 'reg_alpha': 2.210813909235981, 'max_depth': 3, 'gamma': 0.36577013322844903}\n",
      "New best trial: 3 with value: 0.975361279127712 and params: {'colsample_bytree': 0.14492566230028125, 'n_estimators': 714, 'learning_rate': 0.0638419910172031, 'reg_lambda': 0.799541013102012, 'reg_alpha': 2.5068192947954713, 'max_depth': 8, 'gamma': 0.2743399323353837}\n",
      "New best trial: 6 with value: 0.9754808503763771 and params: {'colsample_bytree': 0.1644800532756021, 'n_estimators': 654, 'learning_rate': 0.06302637503740172, 'reg_lambda': 0.8524760019100182, 'reg_alpha': 3.754808385795471, 'max_depth': 5, 'gamma': 0.2215562152216386}\n"
     ]
    }
   ],
   "source": [
    "study = optuna.create_study(direction='maximize',sampler=optuna.samplers.RandomSampler(seed=607))\n",
    "optuna.logging.set_verbosity(optuna.logging.WARNING)\n",
    "\n",
    "def log_best_trial(study, trial):\n",
    "    if study.best_trial == trial:\n",
    "        print(f\"New best trial: {trial.number} with value: {trial.value} and params: {trial.params}\")\n",
    "\n",
    "\n",
    "study.optimize(objective, n_trials=100,callbacks=[log_best_trial])"
   ],
   "metadata": {
    "collapsed": false,
    "ExecuteTime": {
     "end_time": "2024-11-28T15:27:30.326889600Z",
     "start_time": "2024-11-28T15:24:54.556166Z"
    }
   }
  },
  {
   "cell_type": "code",
   "execution_count": 162,
   "outputs": [
    {
     "name": "stdout",
     "output_type": "stream",
     "text": [
      "Best Hyperparameters: {'colsample_bytree': 0.1644800532756021, 'n_estimators': 654, 'learning_rate': 0.06302637503740172, 'reg_lambda': 0.8524760019100182, 'reg_alpha': 3.754808385795471, 'max_depth': 5, 'gamma': 0.2215562152216386}\n",
      "Best Accuracy: 0.975481\n"
     ]
    }
   ],
   "source": [
    "best_params = study.best_params\n",
    "best_score = study.best_value\n",
    "print(f\"Best Hyperparameters: {best_params}\")\n",
    "print(f\"Best Accuracy: {best_score:.6f}\")"
   ],
   "metadata": {
    "collapsed": false,
    "ExecuteTime": {
     "end_time": "2024-11-28T15:27:49.215833900Z",
     "start_time": "2024-11-28T15:27:49.204383600Z"
    }
   }
  },
  {
   "cell_type": "code",
   "execution_count": 163,
   "outputs": [],
   "source": [
    "n_estimators = best_params['n_estimators']\n",
    "reg_alpha = best_params['reg_alpha']\n",
    "learning_rate = best_params['learning_rate']\n",
    "reg_lambda = best_params['reg_lambda']\n",
    "max_depth = best_params['max_depth']\n",
    "colsample_bytree = best_params['colsample_bytree']\n",
    "gamma = best_params['gamma']"
   ],
   "metadata": {
    "collapsed": false,
    "ExecuteTime": {
     "end_time": "2024-11-28T15:27:50.024510500Z",
     "start_time": "2024-11-28T15:27:50.008678100Z"
    }
   }
  },
  {
   "cell_type": "code",
   "execution_count": 164,
   "outputs": [
    {
     "name": "stdout",
     "output_type": "stream",
     "text": [
      "accuracy: 0.9392\n",
      "0.9754808503763771\n"
     ]
    }
   ],
   "source": [
    "best_xgb=XGBClassifier(\n",
    "    colsample_bytree = colsample_bytree,\n",
    "    n_estimators = n_estimators,\n",
    "    learning_rate = learning_rate,\n",
    "    reg_alpha = reg_alpha,\n",
    "    reg_lambda = reg_lambda,\n",
    "    max_depth = max_depth,\n",
    "    gamma=gamma,\n",
    "    eval_metric='auc',\n",
    "    random_state=607\n",
    ")\n",
    "\n",
    "eval_set = [(X_train, y_train), (X_test, y_test)]\n",
    "\n",
    "best_xgb.fit(X_train,y_train,eval_set=eval_set,verbose=False)\n",
    "\n",
    "y_pred = best_xgb.predict(X_test)\n",
    "\n",
    "accuracy = accuracy_score(y_test, y_pred)\n",
    "print(f'accuracy: {accuracy:.4f}')\n",
    "roc_auc = roc_auc_score(y_test, best_xgb.predict_proba(X_test)[:, 1])\n",
    "print(roc_auc)"
   ],
   "metadata": {
    "collapsed": false,
    "ExecuteTime": {
     "end_time": "2024-11-28T15:28:09.439794700Z",
     "start_time": "2024-11-28T15:27:52.396262300Z"
    }
   }
  },
  {
   "cell_type": "code",
   "execution_count": 165,
   "outputs": [],
   "source": [
    "x_test_df = test_df[X_train.columns]\n",
    "y_test_pred = best_xgb.predict(x_test_df)\n",
    "test_df['predicted'] = y_test_pred"
   ],
   "metadata": {
    "collapsed": false,
    "ExecuteTime": {
     "end_time": "2024-11-28T15:28:17.483444Z",
     "start_time": "2024-11-28T15:28:17.327675500Z"
    }
   }
  },
  {
   "cell_type": "code",
   "execution_count": 166,
   "outputs": [
    {
     "data": {
      "text/plain": "0        0\n1        0\n2        0\n3        1\n4        0\n        ..\n93795    0\n93796    1\n93797    0\n93798    1\n93799    0\nName: predicted, Length: 93800, dtype: int32"
     },
     "execution_count": 166,
     "metadata": {},
     "output_type": "execute_result"
    }
   ],
   "source": [
    "test_df['predicted']"
   ],
   "metadata": {
    "collapsed": false,
    "ExecuteTime": {
     "end_time": "2024-11-28T15:28:18.110731300Z",
     "start_time": "2024-11-28T15:28:18.095710200Z"
    }
   }
  },
  {
   "cell_type": "code",
   "execution_count": 167,
   "outputs": [
    {
     "data": {
      "text/plain": "Index(['Name', 'Gender', 'Age', 'City', 'Working_Professional_or_Student',\n       'Profession', 'Academic_Pressure', 'Work_Pressure', 'CGPA',\n       'Study_Satisfaction', 'Job_Satisfaction', 'Sleep_Duration',\n       'Dietary_Habits', 'Degree', 'Have_you_ever_had_suicidal_thoughts_?',\n       'Financial_Stress', 'Family_History_of_Mental_Illness', 'Work_Hours',\n       'Study_Hours', 'Work_Stress', 'Academic_Stress', 'predicted'],\n      dtype='object')"
     },
     "execution_count": 167,
     "metadata": {},
     "output_type": "execute_result"
    }
   ],
   "source": [
    "test_df.columns"
   ],
   "metadata": {
    "collapsed": false,
    "ExecuteTime": {
     "end_time": "2024-11-28T15:28:19.506298100Z",
     "start_time": "2024-11-28T15:28:19.457602800Z"
    }
   }
  },
  {
   "cell_type": "code",
   "execution_count": 168,
   "outputs": [
    {
     "data": {
      "text/plain": "           id  Depression\n0      140700           0\n1      140701           0\n2      140702           0\n3      140703           1\n4      140704           0\n...       ...         ...\n93795  234495           0\n93796  234496           1\n93797  234497           0\n93798  234498           1\n93799  234499           0\n\n[93800 rows x 2 columns]",
      "text/html": "<div>\n<style scoped>\n    .dataframe tbody tr th:only-of-type {\n        vertical-align: middle;\n    }\n\n    .dataframe tbody tr th {\n        vertical-align: top;\n    }\n\n    .dataframe thead th {\n        text-align: right;\n    }\n</style>\n<table border=\"1\" class=\"dataframe\">\n  <thead>\n    <tr style=\"text-align: right;\">\n      <th></th>\n      <th>id</th>\n      <th>Depression</th>\n    </tr>\n  </thead>\n  <tbody>\n    <tr>\n      <th>0</th>\n      <td>140700</td>\n      <td>0</td>\n    </tr>\n    <tr>\n      <th>1</th>\n      <td>140701</td>\n      <td>0</td>\n    </tr>\n    <tr>\n      <th>2</th>\n      <td>140702</td>\n      <td>0</td>\n    </tr>\n    <tr>\n      <th>3</th>\n      <td>140703</td>\n      <td>1</td>\n    </tr>\n    <tr>\n      <th>4</th>\n      <td>140704</td>\n      <td>0</td>\n    </tr>\n    <tr>\n      <th>...</th>\n      <td>...</td>\n      <td>...</td>\n    </tr>\n    <tr>\n      <th>93795</th>\n      <td>234495</td>\n      <td>0</td>\n    </tr>\n    <tr>\n      <th>93796</th>\n      <td>234496</td>\n      <td>1</td>\n    </tr>\n    <tr>\n      <th>93797</th>\n      <td>234497</td>\n      <td>0</td>\n    </tr>\n    <tr>\n      <th>93798</th>\n      <td>234498</td>\n      <td>1</td>\n    </tr>\n    <tr>\n      <th>93799</th>\n      <td>234499</td>\n      <td>0</td>\n    </tr>\n  </tbody>\n</table>\n<p>93800 rows × 2 columns</p>\n</div>"
     },
     "execution_count": 168,
     "metadata": {},
     "output_type": "execute_result"
    }
   ],
   "source": [
    "submission_df[\"id\"] = id_col_test\n",
    "submission_df[\"Depression\"] = test_df['predicted']\n",
    "submission_df"
   ],
   "metadata": {
    "collapsed": false,
    "ExecuteTime": {
     "end_time": "2024-11-28T15:28:23.897706200Z",
     "start_time": "2024-11-28T15:28:23.871661700Z"
    }
   }
  },
  {
   "cell_type": "code",
   "execution_count": 169,
   "outputs": [],
   "source": [
    "submission_s94386 = submission_df"
   ],
   "metadata": {
    "collapsed": false,
    "ExecuteTime": {
     "end_time": "2024-11-28T15:28:26.254348800Z",
     "start_time": "2024-11-28T15:28:26.207433Z"
    }
   }
  },
  {
   "cell_type": "code",
   "execution_count": 170,
   "outputs": [],
   "source": [
    "submission_s94386.to_csv('20241127_submission_model2.csv', index=False)"
   ],
   "metadata": {
    "collapsed": false,
    "ExecuteTime": {
     "end_time": "2024-11-28T15:28:28.118743500Z",
     "start_time": "2024-11-28T15:28:28.041535400Z"
    }
   }
  },
  {
   "cell_type": "code",
   "execution_count": null,
   "outputs": [],
   "source": [],
   "metadata": {
    "collapsed": false
   }
  },
  {
   "cell_type": "markdown",
   "source": [
    "third model"
   ],
   "metadata": {
    "collapsed": false
   }
  },
  {
   "cell_type": "code",
   "execution_count": 171,
   "outputs": [],
   "source": [
    "train_df = pd.read_csv('dataset/train.csv', index_col='id' ,encoding='utf-8')\n",
    "original_df = pd.read_csv('dataset/final_depression_dataset_1.csv', encoding='utf-8')\n"
   ],
   "metadata": {
    "collapsed": false,
    "ExecuteTime": {
     "end_time": "2024-11-28T15:28:30.988142800Z",
     "start_time": "2024-11-28T15:28:30.806877800Z"
    }
   }
  },
  {
   "cell_type": "code",
   "execution_count": 172,
   "outputs": [],
   "source": [
    "original_df['Depression'] = original_df['Depression'].map({\"Yes\": 1, \"No\": 0})"
   ],
   "metadata": {
    "collapsed": false,
    "ExecuteTime": {
     "end_time": "2024-11-28T15:28:32.108747700Z",
     "start_time": "2024-11-28T15:28:32.090274500Z"
    }
   }
  },
  {
   "cell_type": "code",
   "execution_count": 173,
   "outputs": [],
   "source": [
    "train_df = pd.concat([train_df, original_df])"
   ],
   "metadata": {
    "collapsed": false,
    "ExecuteTime": {
     "end_time": "2024-11-28T15:28:32.715309800Z",
     "start_time": "2024-11-28T15:28:32.689356100Z"
    }
   }
  },
  {
   "cell_type": "code",
   "execution_count": 174,
   "outputs": [],
   "source": [
    "test_df = pd.read_csv('dataset/test.csv', index_col='id')\n",
    "train_df = train_df.fillna('None').astype('string')\n",
    "test_df = test_df.fillna('None').astype('string')\n",
    "\n",
    "y = train_df['Depression']\n",
    "X = train_df.drop(['Depression'], axis=1)"
   ],
   "metadata": {
    "collapsed": false,
    "ExecuteTime": {
     "end_time": "2024-11-28T15:28:34.682878700Z",
     "start_time": "2024-11-28T15:28:33.365474500Z"
    }
   }
  },
  {
   "cell_type": "code",
   "execution_count": 175,
   "outputs": [],
   "source": [
    "catboost_params = {\n",
    "    'loss_function': 'Logloss',\n",
    "    'eval_metric': 'AUC',\n",
    "    'learning_rate': 0.08114394459649094,\n",
    "    'iterations': 1000,\n",
    "    'depth': 6,\n",
    "    'random_strength':0,\n",
    "    'l2_leaf_reg': 0.7047064221215757,\n",
    "    'task_type':'CPU',\n",
    "    'random_seed':42,\n",
    "    'verbose':False\n",
    "}"
   ],
   "metadata": {
    "collapsed": false,
    "ExecuteTime": {
     "end_time": "2024-11-28T15:28:35.894496500Z",
     "start_time": "2024-11-28T15:28:35.883944500Z"
    }
   }
  },
  {
   "cell_type": "code",
   "execution_count": 176,
   "outputs": [
    {
     "name": "stdout",
     "output_type": "stream",
     "text": [
      "Fold 1 accuracy_score: 0.9399343850342036\n",
      "Fold 2 accuracy_score: 0.9403511221248823\n",
      "Fold 3 accuracy_score: 0.9405954416948797\n",
      "Fold 4 accuracy_score: 0.9406652472863076\n",
      "Fold 5 accuracy_score: 0.9394436494363199\n",
      "Cross-validated accuracy_score: 0.940 +/- 0.000\n",
      "Max accuracy_score score: 0.941\n",
      "Min accuracy_score score: 0.939\n"
     ]
    }
   ],
   "source": [
    "cv = StratifiedKFold(5, shuffle=True, random_state=0)\n",
    "cv_splits = cv.split(X, y)\n",
    "scores = []\n",
    "test_preds = []\n",
    "X_test_pool = Pool(test_df, cat_features=X.columns.values)\n",
    "for i, (train_idx, val_idx) in enumerate(cv_splits):\n",
    "    model = CatBoostClassifier(**catboost_params)\n",
    "    X_train_fold, X_val_fold = X.iloc[train_idx], X.iloc[val_idx]\n",
    "    y_train_fold, y_val_fold = y.iloc[train_idx], y.iloc[val_idx]\n",
    "    X_train_pool = Pool(X_train_fold, y_train_fold, cat_features=X.columns.values)\n",
    "    X_valid_pool = Pool(X_val_fold, y_val_fold, cat_features=X.columns.values)\n",
    "    model.fit(X=X_train_pool, eval_set=X_valid_pool, verbose=False, early_stopping_rounds=200)\n",
    "    val_pred = model.predict(X_valid_pool)\n",
    "    score = accuracy_score(y_val_fold, val_pred)\n",
    "    scores.append(score)\n",
    "    test_pred = model.predict_proba(X_test_pool)[:, 1]\n",
    "    test_preds.append(test_pred)\n",
    "    print(f'Fold {i + 1} accuracy_score: {score}')\n",
    "print(f'Cross-validated accuracy_score: {np.mean(scores):.3f} +/- {np.std(scores):.3f}')\n",
    "print(f'Max accuracy_score score: {np.max(scores):.3f}')\n",
    "print(f'Min accuracy_score score: {np.min(scores):.3f}')"
   ],
   "metadata": {
    "collapsed": false,
    "ExecuteTime": {
     "end_time": "2024-11-28T15:47:12.919287Z",
     "start_time": "2024-11-28T15:28:37.653041300Z"
    }
   }
  },
  {
   "cell_type": "code",
   "execution_count": 177,
   "outputs": [
    {
     "data": {
      "text/plain": "[array([1.59394854e-03, 8.27576178e-04, 4.86417755e-02, ...,\n        1.41943231e-02, 8.50972673e-01, 3.29674088e-03]),\n array([0.00157183, 0.00085092, 0.0509946 , ..., 0.01503546, 0.8366185 ,\n        0.00308253]),\n array([0.00172695, 0.00093815, 0.07028456, ..., 0.01111122, 0.86087326,\n        0.00406093]),\n array([8.10513014e-04, 1.18586900e-03, 4.53400011e-02, ...,\n        1.25700844e-02, 8.55835776e-01, 3.33472908e-03]),\n array([1.16653818e-03, 7.78850499e-04, 6.11381305e-02, ...,\n        8.16399620e-03, 9.01972666e-01, 2.55002296e-03])]"
     },
     "execution_count": 177,
     "metadata": {},
     "output_type": "execute_result"
    }
   ],
   "source": [
    "test_preds"
   ],
   "metadata": {
    "collapsed": false,
    "ExecuteTime": {
     "end_time": "2024-11-28T15:47:16.047258100Z",
     "start_time": "2024-11-28T15:47:16.034499400Z"
    }
   }
  },
  {
   "cell_type": "code",
   "execution_count": 178,
   "outputs": [],
   "source": [
    "submission_s94349 = pd.read_csv('dataset/sample_submission.csv')\n",
    "submission_s94349['Depression'] = np.round(np.mean(test_preds, axis=0))"
   ],
   "metadata": {
    "collapsed": false,
    "ExecuteTime": {
     "end_time": "2024-11-28T15:47:19.338307100Z",
     "start_time": "2024-11-28T15:47:19.312405500Z"
    }
   }
  },
  {
   "cell_type": "code",
   "execution_count": 179,
   "outputs": [],
   "source": [
    "submission_s94344.columns = ['id', 'Depression_s94344']\n",
    "submission_s94386.columns = ['id', 'Depression_s94386']\n",
    "submission_s94349.columns = ['id', 'Depression_s94349']"
   ],
   "metadata": {
    "collapsed": false,
    "ExecuteTime": {
     "end_time": "2024-11-28T15:47:31.117179800Z",
     "start_time": "2024-11-28T15:47:31.099563300Z"
    }
   }
  },
  {
   "cell_type": "code",
   "execution_count": 180,
   "outputs": [],
   "source": [
    "merged_df = pd.merge(submission_s94344, submission_s94386, on='id', how='left')\n",
    "merged_df = pd.merge(merged_df, submission_s94349, on='id', how='left')\n",
    "merged_df['Depression'] = merged_df[['Depression_s94344', 'Depression_s94386', 'Depression_s94349']].mean(axis=1).round().astype(int)\n",
    "sub=merged_df.drop(columns=['Depression_s94344', 'Depression_s94386', 'Depression_s94349'])"
   ],
   "metadata": {
    "collapsed": false,
    "ExecuteTime": {
     "end_time": "2024-11-28T15:47:40.336141800Z",
     "start_time": "2024-11-28T15:47:40.287349500Z"
    }
   }
  },
  {
   "cell_type": "code",
   "execution_count": 181,
   "outputs": [
    {
     "data": {
      "text/plain": "           id  Depression\n0      140700           0\n1      140701           0\n2      140702           0\n3      140703           1\n4      140704           0\n...       ...         ...\n93795  234495           0\n93796  234496           1\n93797  234497           0\n93798  234498           1\n93799  234499           0\n\n[93800 rows x 2 columns]",
      "text/html": "<div>\n<style scoped>\n    .dataframe tbody tr th:only-of-type {\n        vertical-align: middle;\n    }\n\n    .dataframe tbody tr th {\n        vertical-align: top;\n    }\n\n    .dataframe thead th {\n        text-align: right;\n    }\n</style>\n<table border=\"1\" class=\"dataframe\">\n  <thead>\n    <tr style=\"text-align: right;\">\n      <th></th>\n      <th>id</th>\n      <th>Depression</th>\n    </tr>\n  </thead>\n  <tbody>\n    <tr>\n      <th>0</th>\n      <td>140700</td>\n      <td>0</td>\n    </tr>\n    <tr>\n      <th>1</th>\n      <td>140701</td>\n      <td>0</td>\n    </tr>\n    <tr>\n      <th>2</th>\n      <td>140702</td>\n      <td>0</td>\n    </tr>\n    <tr>\n      <th>3</th>\n      <td>140703</td>\n      <td>1</td>\n    </tr>\n    <tr>\n      <th>4</th>\n      <td>140704</td>\n      <td>0</td>\n    </tr>\n    <tr>\n      <th>...</th>\n      <td>...</td>\n      <td>...</td>\n    </tr>\n    <tr>\n      <th>93795</th>\n      <td>234495</td>\n      <td>0</td>\n    </tr>\n    <tr>\n      <th>93796</th>\n      <td>234496</td>\n      <td>1</td>\n    </tr>\n    <tr>\n      <th>93797</th>\n      <td>234497</td>\n      <td>0</td>\n    </tr>\n    <tr>\n      <th>93798</th>\n      <td>234498</td>\n      <td>1</td>\n    </tr>\n    <tr>\n      <th>93799</th>\n      <td>234499</td>\n      <td>0</td>\n    </tr>\n  </tbody>\n</table>\n<p>93800 rows × 2 columns</p>\n</div>"
     },
     "execution_count": 181,
     "metadata": {},
     "output_type": "execute_result"
    }
   ],
   "source": [
    "sub"
   ],
   "metadata": {
    "collapsed": false,
    "ExecuteTime": {
     "end_time": "2024-11-28T15:47:44.632571200Z",
     "start_time": "2024-11-28T15:47:44.593256900Z"
    }
   }
  },
  {
   "cell_type": "code",
   "execution_count": 182,
   "outputs": [],
   "source": [
    "sub.to_csv('prediction/20241127_submission.csv', index=False)"
   ],
   "metadata": {
    "collapsed": false,
    "ExecuteTime": {
     "end_time": "2024-11-28T15:48:08.034243500Z",
     "start_time": "2024-11-28T15:48:07.944465500Z"
    }
   }
  },
  {
   "cell_type": "code",
   "execution_count": null,
   "outputs": [],
   "source": [],
   "metadata": {
    "collapsed": false
   }
  }
 ],
 "metadata": {
  "kernelspec": {
   "display_name": "Python 3",
   "language": "python",
   "name": "python3"
  },
  "language_info": {
   "codemirror_mode": {
    "name": "ipython",
    "version": 2
   },
   "file_extension": ".py",
   "mimetype": "text/x-python",
   "name": "python",
   "nbconvert_exporter": "python",
   "pygments_lexer": "ipython2",
   "version": "2.7.6"
  }
 },
 "nbformat": 4,
 "nbformat_minor": 0
}
